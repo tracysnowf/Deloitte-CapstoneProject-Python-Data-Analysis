{
 "cells": [
  {
   "cell_type": "markdown",
   "id": "b1580e5e",
   "metadata": {},
   "source": [
    "# Fairness Analysis"
   ]
  },
  {
   "cell_type": "code",
   "execution_count": null,
   "id": "80ff376a",
   "metadata": {},
   "outputs": [],
   "source": [
    "import numpy as np\n",
    "import pandas as pd\n",
    "import matplotlib.pyplot as plt\n",
    "import seaborn as sns\n",
    "import math\n",
    "import xgboost as xgb\n",
    "from sklearn.metrics import accuracy_score,confusion_matrix\n",
    "from sklearn.metrics import classification_report\n",
    "from sklearn.feature_selection import mutual_info_classif\n",
    "from sklearn.preprocessing import OneHotEncoder\n",
    "from sklearn.preprocessing import OrdinalEncoder\n",
    "from sklearn.preprocessing import StandardScaler\n",
    "from tabulate import tabulate"
   ]
  },
  {
   "cell_type": "code",
   "execution_count": 26,
   "id": "dd8cccd1",
   "metadata": {},
   "outputs": [],
   "source": [
    "df_cr_X_train = 'https://raw.githubusercontent.com/tracysnowf/Deloitte-CapstoneProject/main/data/X_train.csv'\n",
    "df_cr_X_train = pd.read_csv(df_cr_X_train, sep = ',')\n",
    "\n",
    "df_cr_y_train = 'https://raw.githubusercontent.com/tracysnowf/Deloitte-CapstoneProject/main/data/y_train.csv'\n",
    "df_cr_y_train = pd.read_csv(df_cr_y_train, sep = ',')\n",
    "\n",
    "df_cr_X_test = 'https://raw.githubusercontent.com/tracysnowf/Deloitte-CapstoneProject/main/data/X_test.csv'\n",
    "df_cr_X_test = pd.read_csv(df_cr_X_test, sep = ',')\n",
    "\n",
    "df_cr_y_test = 'https://raw.githubusercontent.com/tracysnowf/Deloitte-CapstoneProject/main/data/y_test.csv'\n",
    "df_cr_y_test = pd.read_csv(df_cr_y_test, sep = ',')"
   ]
  },
  {
   "cell_type": "code",
   "execution_count": 27,
   "id": "df301b27",
   "metadata": {},
   "outputs": [
    {
     "name": "stdout",
     "output_type": "stream",
     "text": [
      "<class 'pandas.core.frame.DataFrame'>\n",
      "RangeIndex: 8361 entries, 0 to 8360\n",
      "Data columns (total 16 columns):\n",
      " #   Column                    Non-Null Count  Dtype  \n",
      "---  ------                    --------------  -----  \n",
      " 0   is_not_hispanic           8361 non-null   object \n",
      " 1   derived_race              8361 non-null   object \n",
      " 2   is_male                   8361 non-null   object \n",
      " 3   preapproval_requested     8361 non-null   object \n",
      " 4   loan_type                 8361 non-null   object \n",
      " 5   loan_purpose              8361 non-null   object \n",
      " 6   loan_amount               8361 non-null   float64\n",
      " 7   loan_to_value_ratio       8361 non-null   float64\n",
      " 8   interest_only_payment     8361 non-null   int64  \n",
      " 9   balloon_payment           8361 non-null   int64  \n",
      " 10  income                    8361 non-null   float64\n",
      " 11  debt_to_income_ratio      8361 non-null   object \n",
      " 12  applicant_age             8361 non-null   object \n",
      " 13  log_loan_to_value_ratio   8361 non-null   float64\n",
      " 14  mid_debt_to_income_ratio  8361 non-null   float64\n",
      " 15  debt                      8361 non-null   float64\n",
      "dtypes: float64(6), int64(2), object(8)\n",
      "memory usage: 1.0+ MB\n"
     ]
    }
   ],
   "source": [
    "df_cr_X_train.info()"
   ]
  },
  {
   "cell_type": "code",
   "execution_count": 28,
   "id": "1aee3d17",
   "metadata": {
    "scrolled": true
   },
   "outputs": [
    {
     "name": "stdout",
     "output_type": "stream",
     "text": [
      "<class 'pandas.core.frame.DataFrame'>\n",
      "RangeIndex: 8361 entries, 0 to 8360\n",
      "Data columns (total 1 columns):\n",
      " #   Column        Non-Null Count  Dtype\n",
      "---  ------        --------------  -----\n",
      " 0   action_taken  8361 non-null   int64\n",
      "dtypes: int64(1)\n",
      "memory usage: 65.4 KB\n"
     ]
    }
   ],
   "source": [
    "df_cr_y_train.info()"
   ]
  },
  {
   "cell_type": "code",
   "execution_count": 29,
   "id": "9e72d254",
   "metadata": {
    "scrolled": true
   },
   "outputs": [
    {
     "name": "stdout",
     "output_type": "stream",
     "text": [
      "<class 'pandas.core.frame.DataFrame'>\n",
      "RangeIndex: 8361 entries, 0 to 8360\n",
      "Data columns (total 5 columns):\n",
      " #   Column           Non-Null Count  Dtype  \n",
      "---  ------           --------------  -----  \n",
      " 0   is_not_hispanic  8361 non-null   object \n",
      " 1   derived_race     8361 non-null   object \n",
      " 2   is_male          8361 non-null   object \n",
      " 3   income           8361 non-null   float64\n",
      " 4   applicant_age    8361 non-null   object \n",
      "dtypes: float64(1), object(4)\n",
      "memory usage: 326.7+ KB\n"
     ]
    }
   ],
   "source": [
    "# get sensitive attributes\n",
    "X_train_sensitive = df_cr_X_train[['ethnicity', 'derived_race', 'gender', 'income', 'applicant_age']]\n",
    "X_train_sensitive.info()"
   ]
  },
  {
   "cell_type": "code",
   "execution_count": 30,
   "id": "957780e7",
   "metadata": {
    "scrolled": false
   },
   "outputs": [
    {
     "name": "stdout",
     "output_type": "stream",
     "text": [
      "<class 'pandas.core.frame.DataFrame'>\n",
      "RangeIndex: 2787 entries, 0 to 2786\n",
      "Data columns (total 5 columns):\n",
      " #   Column           Non-Null Count  Dtype  \n",
      "---  ------           --------------  -----  \n",
      " 0   is_not_hispanic  2787 non-null   object \n",
      " 1   derived_race     2787 non-null   object \n",
      " 2   is_male          2787 non-null   object \n",
      " 3   income           2787 non-null   float64\n",
      " 4   applicant_age    2787 non-null   object \n",
      "dtypes: float64(1), object(4)\n",
      "memory usage: 109.0+ KB\n"
     ]
    }
   ],
   "source": [
    "X_test_sensitive = df_cr_X_test[['ethnicity', 'derived_race', 'gender', 'income', 'applicant_age']]\n",
    "X_test_sensitive.info()"
   ]
  },
  {
   "cell_type": "code",
   "execution_count": 31,
   "id": "d43e29da",
   "metadata": {},
   "outputs": [],
   "source": [
    "# One hot encoding (for categorical features with more than two categories itself (i.e. not 0 and 1))\n",
    "\n",
    "def OneHotEncoding(df, enc, categories):  \n",
    "  transformed = pd.DataFrame(enc.transform(df[categories]).toarray(), columns=enc.get_feature_names(categories))\n",
    "  return pd.concat([df.reset_index(drop=True), transformed], axis=1).drop(categories, axis=1)\n",
    "\n",
    "categories = ['derived_race', 'applicant_age']\n",
    "enc_ohe = OneHotEncoder()\n",
    "enc_ohe.fit(X_train_sensitive[categories])\n",
    "\n",
    "X_train_sensitive = OneHotEncoding(X_train_sensitive, enc_ohe, categories)\n",
    "X_test_sensitive = OneHotEncoding(X_test_sensitive, enc_ohe, categories)"
   ]
  },
  {
   "cell_type": "code",
   "execution_count": 32,
   "id": "04132fed",
   "metadata": {},
   "outputs": [
    {
     "data": {
      "text/html": [
       "<div>\n",
       "<style scoped>\n",
       "    .dataframe tbody tr th:only-of-type {\n",
       "        vertical-align: middle;\n",
       "    }\n",
       "\n",
       "    .dataframe tbody tr th {\n",
       "        vertical-align: top;\n",
       "    }\n",
       "\n",
       "    .dataframe thead th {\n",
       "        text-align: right;\n",
       "    }\n",
       "</style>\n",
       "<table border=\"1\" class=\"dataframe\">\n",
       "  <thead>\n",
       "    <tr style=\"text-align: right;\">\n",
       "      <th></th>\n",
       "      <th>is_not_hispanic</th>\n",
       "      <th>is_male</th>\n",
       "      <th>income</th>\n",
       "      <th>derived_race_Asian</th>\n",
       "      <th>derived_race_Black or African American</th>\n",
       "      <th>derived_race_Minority Races</th>\n",
       "      <th>derived_race_White</th>\n",
       "      <th>applicant_age_25-34</th>\n",
       "      <th>applicant_age_35-44</th>\n",
       "      <th>applicant_age_45-54</th>\n",
       "      <th>applicant_age_55-64</th>\n",
       "      <th>applicant_age_65-74</th>\n",
       "      <th>applicant_age_&lt;25</th>\n",
       "      <th>applicant_age_&gt;74</th>\n",
       "    </tr>\n",
       "  </thead>\n",
       "  <tbody>\n",
       "    <tr>\n",
       "      <th>0</th>\n",
       "      <td>Not Hispanic or Latino</td>\n",
       "      <td>Female</td>\n",
       "      <td>76.0</td>\n",
       "      <td>0.0</td>\n",
       "      <td>0.0</td>\n",
       "      <td>0.0</td>\n",
       "      <td>1.0</td>\n",
       "      <td>0.0</td>\n",
       "      <td>1.0</td>\n",
       "      <td>0.0</td>\n",
       "      <td>0.0</td>\n",
       "      <td>0.0</td>\n",
       "      <td>0.0</td>\n",
       "      <td>0.0</td>\n",
       "    </tr>\n",
       "    <tr>\n",
       "      <th>1</th>\n",
       "      <td>Not Hispanic or Latino</td>\n",
       "      <td>Female</td>\n",
       "      <td>102.0</td>\n",
       "      <td>0.0</td>\n",
       "      <td>1.0</td>\n",
       "      <td>0.0</td>\n",
       "      <td>0.0</td>\n",
       "      <td>0.0</td>\n",
       "      <td>0.0</td>\n",
       "      <td>1.0</td>\n",
       "      <td>0.0</td>\n",
       "      <td>0.0</td>\n",
       "      <td>0.0</td>\n",
       "      <td>0.0</td>\n",
       "    </tr>\n",
       "    <tr>\n",
       "      <th>2</th>\n",
       "      <td>Not Hispanic or Latino</td>\n",
       "      <td>Female</td>\n",
       "      <td>115.0</td>\n",
       "      <td>0.0</td>\n",
       "      <td>1.0</td>\n",
       "      <td>0.0</td>\n",
       "      <td>0.0</td>\n",
       "      <td>1.0</td>\n",
       "      <td>0.0</td>\n",
       "      <td>0.0</td>\n",
       "      <td>0.0</td>\n",
       "      <td>0.0</td>\n",
       "      <td>0.0</td>\n",
       "      <td>0.0</td>\n",
       "    </tr>\n",
       "    <tr>\n",
       "      <th>3</th>\n",
       "      <td>Not Hispanic or Latino</td>\n",
       "      <td>Female</td>\n",
       "      <td>26.0</td>\n",
       "      <td>0.0</td>\n",
       "      <td>1.0</td>\n",
       "      <td>0.0</td>\n",
       "      <td>0.0</td>\n",
       "      <td>0.0</td>\n",
       "      <td>0.0</td>\n",
       "      <td>0.0</td>\n",
       "      <td>1.0</td>\n",
       "      <td>0.0</td>\n",
       "      <td>0.0</td>\n",
       "      <td>0.0</td>\n",
       "    </tr>\n",
       "    <tr>\n",
       "      <th>4</th>\n",
       "      <td>Not Hispanic or Latino</td>\n",
       "      <td>Female</td>\n",
       "      <td>94.0</td>\n",
       "      <td>0.0</td>\n",
       "      <td>0.0</td>\n",
       "      <td>0.0</td>\n",
       "      <td>1.0</td>\n",
       "      <td>1.0</td>\n",
       "      <td>0.0</td>\n",
       "      <td>0.0</td>\n",
       "      <td>0.0</td>\n",
       "      <td>0.0</td>\n",
       "      <td>0.0</td>\n",
       "      <td>0.0</td>\n",
       "    </tr>\n",
       "  </tbody>\n",
       "</table>\n",
       "</div>"
      ],
      "text/plain": [
       "          is_not_hispanic is_male  income  derived_race_Asian  \\\n",
       "0  Not Hispanic or Latino  Female    76.0                 0.0   \n",
       "1  Not Hispanic or Latino  Female   102.0                 0.0   \n",
       "2  Not Hispanic or Latino  Female   115.0                 0.0   \n",
       "3  Not Hispanic or Latino  Female    26.0                 0.0   \n",
       "4  Not Hispanic or Latino  Female    94.0                 0.0   \n",
       "\n",
       "   derived_race_Black or African American  derived_race_Minority Races  \\\n",
       "0                                     0.0                          0.0   \n",
       "1                                     1.0                          0.0   \n",
       "2                                     1.0                          0.0   \n",
       "3                                     1.0                          0.0   \n",
       "4                                     0.0                          0.0   \n",
       "\n",
       "   derived_race_White  applicant_age_25-34  applicant_age_35-44  \\\n",
       "0                 1.0                  0.0                  1.0   \n",
       "1                 0.0                  0.0                  0.0   \n",
       "2                 0.0                  1.0                  0.0   \n",
       "3                 0.0                  0.0                  0.0   \n",
       "4                 1.0                  1.0                  0.0   \n",
       "\n",
       "   applicant_age_45-54  applicant_age_55-64  applicant_age_65-74  \\\n",
       "0                  0.0                  0.0                  0.0   \n",
       "1                  1.0                  0.0                  0.0   \n",
       "2                  0.0                  0.0                  0.0   \n",
       "3                  0.0                  1.0                  0.0   \n",
       "4                  0.0                  0.0                  0.0   \n",
       "\n",
       "   applicant_age_<25  applicant_age_>74  \n",
       "0                0.0                0.0  \n",
       "1                0.0                0.0  \n",
       "2                0.0                0.0  \n",
       "3                0.0                0.0  \n",
       "4                0.0                0.0  "
      ]
     },
     "execution_count": 32,
     "metadata": {},
     "output_type": "execute_result"
    }
   ],
   "source": [
    "X_train_sensitive.head()"
   ]
  },
  {
   "cell_type": "code",
   "execution_count": 33,
   "id": "47ea7514",
   "metadata": {},
   "outputs": [],
   "source": [
    "# Ordinal Encoding (for categorical variables only have values 0 and 1)\n",
    "categories = ['ethnicity', 'gender']\n",
    "enc_oe = OrdinalEncoder()\n",
    "enc_oe.fit(X_train_sensitive[categories])\n",
    "\n",
    "X_train_sensitive[categories] = enc_oe.transform(X_train_sensitive[categories])\n",
    "X_test_sensitive[categories] = enc_oe.transform(X_test_sensitive[categories])"
   ]
  },
  {
   "cell_type": "code",
   "execution_count": 34,
   "id": "ce316713",
   "metadata": {},
   "outputs": [
    {
     "data": {
      "text/html": [
       "<div>\n",
       "<style scoped>\n",
       "    .dataframe tbody tr th:only-of-type {\n",
       "        vertical-align: middle;\n",
       "    }\n",
       "\n",
       "    .dataframe tbody tr th {\n",
       "        vertical-align: top;\n",
       "    }\n",
       "\n",
       "    .dataframe thead th {\n",
       "        text-align: right;\n",
       "    }\n",
       "</style>\n",
       "<table border=\"1\" class=\"dataframe\">\n",
       "  <thead>\n",
       "    <tr style=\"text-align: right;\">\n",
       "      <th></th>\n",
       "      <th>is_not_hispanic</th>\n",
       "      <th>is_male</th>\n",
       "      <th>income</th>\n",
       "      <th>derived_race_Asian</th>\n",
       "      <th>derived_race_Black or African American</th>\n",
       "      <th>derived_race_Minority Races</th>\n",
       "      <th>derived_race_White</th>\n",
       "      <th>applicant_age_25-34</th>\n",
       "      <th>applicant_age_35-44</th>\n",
       "      <th>applicant_age_45-54</th>\n",
       "      <th>applicant_age_55-64</th>\n",
       "      <th>applicant_age_65-74</th>\n",
       "      <th>applicant_age_&lt;25</th>\n",
       "      <th>applicant_age_&gt;74</th>\n",
       "    </tr>\n",
       "  </thead>\n",
       "  <tbody>\n",
       "    <tr>\n",
       "      <th>0</th>\n",
       "      <td>1.0</td>\n",
       "      <td>0.0</td>\n",
       "      <td>76.0</td>\n",
       "      <td>0.0</td>\n",
       "      <td>0.0</td>\n",
       "      <td>0.0</td>\n",
       "      <td>1.0</td>\n",
       "      <td>0.0</td>\n",
       "      <td>1.0</td>\n",
       "      <td>0.0</td>\n",
       "      <td>0.0</td>\n",
       "      <td>0.0</td>\n",
       "      <td>0.0</td>\n",
       "      <td>0.0</td>\n",
       "    </tr>\n",
       "    <tr>\n",
       "      <th>1</th>\n",
       "      <td>1.0</td>\n",
       "      <td>0.0</td>\n",
       "      <td>102.0</td>\n",
       "      <td>0.0</td>\n",
       "      <td>1.0</td>\n",
       "      <td>0.0</td>\n",
       "      <td>0.0</td>\n",
       "      <td>0.0</td>\n",
       "      <td>0.0</td>\n",
       "      <td>1.0</td>\n",
       "      <td>0.0</td>\n",
       "      <td>0.0</td>\n",
       "      <td>0.0</td>\n",
       "      <td>0.0</td>\n",
       "    </tr>\n",
       "    <tr>\n",
       "      <th>2</th>\n",
       "      <td>1.0</td>\n",
       "      <td>0.0</td>\n",
       "      <td>115.0</td>\n",
       "      <td>0.0</td>\n",
       "      <td>1.0</td>\n",
       "      <td>0.0</td>\n",
       "      <td>0.0</td>\n",
       "      <td>1.0</td>\n",
       "      <td>0.0</td>\n",
       "      <td>0.0</td>\n",
       "      <td>0.0</td>\n",
       "      <td>0.0</td>\n",
       "      <td>0.0</td>\n",
       "      <td>0.0</td>\n",
       "    </tr>\n",
       "    <tr>\n",
       "      <th>3</th>\n",
       "      <td>1.0</td>\n",
       "      <td>0.0</td>\n",
       "      <td>26.0</td>\n",
       "      <td>0.0</td>\n",
       "      <td>1.0</td>\n",
       "      <td>0.0</td>\n",
       "      <td>0.0</td>\n",
       "      <td>0.0</td>\n",
       "      <td>0.0</td>\n",
       "      <td>0.0</td>\n",
       "      <td>1.0</td>\n",
       "      <td>0.0</td>\n",
       "      <td>0.0</td>\n",
       "      <td>0.0</td>\n",
       "    </tr>\n",
       "    <tr>\n",
       "      <th>4</th>\n",
       "      <td>1.0</td>\n",
       "      <td>0.0</td>\n",
       "      <td>94.0</td>\n",
       "      <td>0.0</td>\n",
       "      <td>0.0</td>\n",
       "      <td>0.0</td>\n",
       "      <td>1.0</td>\n",
       "      <td>1.0</td>\n",
       "      <td>0.0</td>\n",
       "      <td>0.0</td>\n",
       "      <td>0.0</td>\n",
       "      <td>0.0</td>\n",
       "      <td>0.0</td>\n",
       "      <td>0.0</td>\n",
       "    </tr>\n",
       "  </tbody>\n",
       "</table>\n",
       "</div>"
      ],
      "text/plain": [
       "   is_not_hispanic  is_male  income  derived_race_Asian  \\\n",
       "0              1.0      0.0    76.0                 0.0   \n",
       "1              1.0      0.0   102.0                 0.0   \n",
       "2              1.0      0.0   115.0                 0.0   \n",
       "3              1.0      0.0    26.0                 0.0   \n",
       "4              1.0      0.0    94.0                 0.0   \n",
       "\n",
       "   derived_race_Black or African American  derived_race_Minority Races  \\\n",
       "0                                     0.0                          0.0   \n",
       "1                                     1.0                          0.0   \n",
       "2                                     1.0                          0.0   \n",
       "3                                     1.0                          0.0   \n",
       "4                                     0.0                          0.0   \n",
       "\n",
       "   derived_race_White  applicant_age_25-34  applicant_age_35-44  \\\n",
       "0                 1.0                  0.0                  1.0   \n",
       "1                 0.0                  0.0                  0.0   \n",
       "2                 0.0                  1.0                  0.0   \n",
       "3                 0.0                  0.0                  0.0   \n",
       "4                 1.0                  1.0                  0.0   \n",
       "\n",
       "   applicant_age_45-54  applicant_age_55-64  applicant_age_65-74  \\\n",
       "0                  0.0                  0.0                  0.0   \n",
       "1                  1.0                  0.0                  0.0   \n",
       "2                  0.0                  0.0                  0.0   \n",
       "3                  0.0                  1.0                  0.0   \n",
       "4                  0.0                  0.0                  0.0   \n",
       "\n",
       "   applicant_age_<25  applicant_age_>74  \n",
       "0                0.0                0.0  \n",
       "1                0.0                0.0  \n",
       "2                0.0                0.0  \n",
       "3                0.0                0.0  \n",
       "4                0.0                0.0  "
      ]
     },
     "execution_count": 34,
     "metadata": {},
     "output_type": "execute_result"
    }
   ],
   "source": [
    "X_train_sensitive.head()"
   ]
  },
  {
   "cell_type": "code",
   "execution_count": 35,
   "id": "7f764eba",
   "metadata": {},
   "outputs": [],
   "source": [
    "# Standarization (for numeric variables)\n",
    "# scalar.fit -> mean:1, std:100\n",
    "# scalar.transform -> apply mean:1, std:100 to X_train\n",
    "# scalar.transform -> apply mean:1, std:100 to X_test\n",
    "categories = ['income']\n",
    "scaler = StandardScaler()\n",
    "scaler.fit(X_train_sensitive[categories])\n",
    "X_train_sensitive[categories] = scaler.transform(X_train_sensitive[categories])\n",
    "X_test_sensitive[categories] = scaler.transform(X_test_sensitive[categories])"
   ]
  },
  {
   "cell_type": "code",
   "execution_count": 36,
   "id": "c6d50be4",
   "metadata": {
    "scrolled": true
   },
   "outputs": [
    {
     "data": {
      "text/html": [
       "<div>\n",
       "<style scoped>\n",
       "    .dataframe tbody tr th:only-of-type {\n",
       "        vertical-align: middle;\n",
       "    }\n",
       "\n",
       "    .dataframe tbody tr th {\n",
       "        vertical-align: top;\n",
       "    }\n",
       "\n",
       "    .dataframe thead th {\n",
       "        text-align: right;\n",
       "    }\n",
       "</style>\n",
       "<table border=\"1\" class=\"dataframe\">\n",
       "  <thead>\n",
       "    <tr style=\"text-align: right;\">\n",
       "      <th></th>\n",
       "      <th>is_not_hispanic</th>\n",
       "      <th>is_male</th>\n",
       "      <th>income</th>\n",
       "      <th>derived_race_Asian</th>\n",
       "      <th>derived_race_Black or African American</th>\n",
       "      <th>derived_race_Minority Races</th>\n",
       "      <th>derived_race_White</th>\n",
       "      <th>applicant_age_25-34</th>\n",
       "      <th>applicant_age_35-44</th>\n",
       "      <th>applicant_age_45-54</th>\n",
       "      <th>applicant_age_55-64</th>\n",
       "      <th>applicant_age_65-74</th>\n",
       "      <th>applicant_age_&lt;25</th>\n",
       "      <th>applicant_age_&gt;74</th>\n",
       "    </tr>\n",
       "  </thead>\n",
       "  <tbody>\n",
       "    <tr>\n",
       "      <th>0</th>\n",
       "      <td>1.0</td>\n",
       "      <td>0.0</td>\n",
       "      <td>-0.278194</td>\n",
       "      <td>0.0</td>\n",
       "      <td>0.0</td>\n",
       "      <td>0.0</td>\n",
       "      <td>1.0</td>\n",
       "      <td>0.0</td>\n",
       "      <td>1.0</td>\n",
       "      <td>0.0</td>\n",
       "      <td>0.0</td>\n",
       "      <td>0.0</td>\n",
       "      <td>0.0</td>\n",
       "      <td>0.0</td>\n",
       "    </tr>\n",
       "    <tr>\n",
       "      <th>1</th>\n",
       "      <td>1.0</td>\n",
       "      <td>0.0</td>\n",
       "      <td>-0.194786</td>\n",
       "      <td>0.0</td>\n",
       "      <td>1.0</td>\n",
       "      <td>0.0</td>\n",
       "      <td>0.0</td>\n",
       "      <td>0.0</td>\n",
       "      <td>0.0</td>\n",
       "      <td>1.0</td>\n",
       "      <td>0.0</td>\n",
       "      <td>0.0</td>\n",
       "      <td>0.0</td>\n",
       "      <td>0.0</td>\n",
       "    </tr>\n",
       "    <tr>\n",
       "      <th>2</th>\n",
       "      <td>1.0</td>\n",
       "      <td>0.0</td>\n",
       "      <td>-0.153082</td>\n",
       "      <td>0.0</td>\n",
       "      <td>1.0</td>\n",
       "      <td>0.0</td>\n",
       "      <td>0.0</td>\n",
       "      <td>1.0</td>\n",
       "      <td>0.0</td>\n",
       "      <td>0.0</td>\n",
       "      <td>0.0</td>\n",
       "      <td>0.0</td>\n",
       "      <td>0.0</td>\n",
       "      <td>0.0</td>\n",
       "    </tr>\n",
       "    <tr>\n",
       "      <th>3</th>\n",
       "      <td>1.0</td>\n",
       "      <td>0.0</td>\n",
       "      <td>-0.438594</td>\n",
       "      <td>0.0</td>\n",
       "      <td>1.0</td>\n",
       "      <td>0.0</td>\n",
       "      <td>0.0</td>\n",
       "      <td>0.0</td>\n",
       "      <td>0.0</td>\n",
       "      <td>0.0</td>\n",
       "      <td>1.0</td>\n",
       "      <td>0.0</td>\n",
       "      <td>0.0</td>\n",
       "      <td>0.0</td>\n",
       "    </tr>\n",
       "    <tr>\n",
       "      <th>4</th>\n",
       "      <td>1.0</td>\n",
       "      <td>0.0</td>\n",
       "      <td>-0.220450</td>\n",
       "      <td>0.0</td>\n",
       "      <td>0.0</td>\n",
       "      <td>0.0</td>\n",
       "      <td>1.0</td>\n",
       "      <td>1.0</td>\n",
       "      <td>0.0</td>\n",
       "      <td>0.0</td>\n",
       "      <td>0.0</td>\n",
       "      <td>0.0</td>\n",
       "      <td>0.0</td>\n",
       "      <td>0.0</td>\n",
       "    </tr>\n",
       "  </tbody>\n",
       "</table>\n",
       "</div>"
      ],
      "text/plain": [
       "   is_not_hispanic  is_male    income  derived_race_Asian  \\\n",
       "0              1.0      0.0 -0.278194                 0.0   \n",
       "1              1.0      0.0 -0.194786                 0.0   \n",
       "2              1.0      0.0 -0.153082                 0.0   \n",
       "3              1.0      0.0 -0.438594                 0.0   \n",
       "4              1.0      0.0 -0.220450                 0.0   \n",
       "\n",
       "   derived_race_Black or African American  derived_race_Minority Races  \\\n",
       "0                                     0.0                          0.0   \n",
       "1                                     1.0                          0.0   \n",
       "2                                     1.0                          0.0   \n",
       "3                                     1.0                          0.0   \n",
       "4                                     0.0                          0.0   \n",
       "\n",
       "   derived_race_White  applicant_age_25-34  applicant_age_35-44  \\\n",
       "0                 1.0                  0.0                  1.0   \n",
       "1                 0.0                  0.0                  0.0   \n",
       "2                 0.0                  1.0                  0.0   \n",
       "3                 0.0                  0.0                  0.0   \n",
       "4                 1.0                  1.0                  0.0   \n",
       "\n",
       "   applicant_age_45-54  applicant_age_55-64  applicant_age_65-74  \\\n",
       "0                  0.0                  0.0                  0.0   \n",
       "1                  1.0                  0.0                  0.0   \n",
       "2                  0.0                  0.0                  0.0   \n",
       "3                  0.0                  1.0                  0.0   \n",
       "4                  0.0                  0.0                  0.0   \n",
       "\n",
       "   applicant_age_<25  applicant_age_>74  \n",
       "0                0.0                0.0  \n",
       "1                0.0                0.0  \n",
       "2                0.0                0.0  \n",
       "3                0.0                0.0  \n",
       "4                0.0                0.0  "
      ]
     },
     "execution_count": 36,
     "metadata": {},
     "output_type": "execute_result"
    }
   ],
   "source": [
    "X_train_sensitive.head()"
   ]
  },
  {
   "cell_type": "code",
   "execution_count": 37,
   "id": "51360439",
   "metadata": {
    "scrolled": true
   },
   "outputs": [],
   "source": [
    "X_train_sensitive.rename(columns = {'applicant_age_<25':'applicant_age_less_25', 'applicant_age_>74':'applicant_age_greater_74'}, inplace = True)\n",
    "X_test_sensitive.rename(columns = {'applicant_age_<25':'applicant_age_less_25', 'applicant_age_>74':'applicant_age_greater_74'}, inplace = True)"
   ]
  },
  {
   "cell_type": "code",
   "execution_count": 38,
   "id": "07b03af3",
   "metadata": {},
   "outputs": [
    {
     "name": "stderr",
     "output_type": "stream",
     "text": [
      "C:\\Users\\Xue Feng\\anaconda3\\lib\\site-packages\\xgboost\\sklearn.py:1224: UserWarning: The use of label encoder in XGBClassifier is deprecated and will be removed in a future release. To remove this warning, do the following: 1) Pass option use_label_encoder=False when constructing XGBClassifier object; and 2) Encode your labels (y) as integers starting with 0, i.e. 0, 1, 2, ..., [num_class - 1].\n",
      "  warnings.warn(label_encoder_deprecation_msg, UserWarning)\n",
      "C:\\Users\\Xue Feng\\anaconda3\\lib\\site-packages\\sklearn\\utils\\validation.py:63: DataConversionWarning: A column-vector y was passed when a 1d array was expected. Please change the shape of y to (n_samples, ), for example using ravel().\n",
      "  return f(*args, **kwargs)\n"
     ]
    },
    {
     "name": "stdout",
     "output_type": "stream",
     "text": [
      "[16:36:29] WARNING: D:\\bld\\xgboost-split_1645118015404\\work\\src\\learner.cc:1115: Starting in XGBoost 1.3.0, the default evaluation metric used with the objective 'binary:logistic' was changed from 'error' to 'logloss'. Explicitly set eval_metric if you'd like to restore the old behavior.\n"
     ]
    }
   ],
   "source": [
    "#Train model \n",
    "model = xgb.XGBClassifier(objective=\"binary:logistic\")\n",
    "model.fit(X_train_sensitive, df_cr_y_train)\n",
    "\n",
    "#Get predictions\n",
    "y_pred = model.predict(X_test_sensitive)\n",
    "df_cr_y_test['y_pred'] = y_pred"
   ]
  },
  {
   "cell_type": "code",
   "execution_count": 39,
   "id": "b964effc",
   "metadata": {},
   "outputs": [
    {
     "name": "stdout",
     "output_type": "stream",
     "text": [
      "[[ 149  516]\n",
      " [ 132 1990]]\n",
      "0.767491926803014\n",
      "              precision    recall  f1-score   support\n",
      "\n",
      "           0       0.53      0.22      0.32       665\n",
      "           1       0.79      0.94      0.86      2122\n",
      "\n",
      "    accuracy                           0.77      2787\n",
      "   macro avg       0.66      0.58      0.59      2787\n",
      "weighted avg       0.73      0.77      0.73      2787\n",
      "\n"
     ]
    }
   ],
   "source": [
    "print(confusion_matrix(df_cr_y_test['action_taken'], y_pred))\n",
    "print(accuracy_score(df_cr_y_test['action_taken'], y_pred))\n",
    "print(classification_report(df_cr_y_test['action_taken'], y_pred))"
   ]
  },
  {
   "cell_type": "code",
   "execution_count": 40,
   "id": "6ad09c1a",
   "metadata": {},
   "outputs": [],
   "source": [
    "def fairness_metrics(df):\n",
    "    \"\"\"Calculate fairness for subgroup of population\"\"\"\n",
    "    \n",
    "    #Confusion Matrix\n",
    "    cm=confusion_matrix(df['action_taken'],df['y_pred'])\n",
    "    TN, FP, FN, TP = cm.ravel()\n",
    "    \n",
    "    N = TP+FP+FN+TN\n",
    "    \n",
    "    # Overall accuracy\n",
    "    ACC = (TP+TN)/N\n",
    "    \n",
    "    # True positive rate\n",
    "    TPR = TP/(TP+FN)\n",
    "    \n",
    "    # False positive rate\n",
    "    FPR = FP/(FP+TN)\n",
    "    \n",
    "    # False negative rate\n",
    "    FNR = FN/(TP+FN)\n",
    "    \n",
    "    # Percentage predicted as positive\n",
    "    PPP = (TP + FP)/N\n",
    "    \n",
    "    return np.array([ACC, TPR, FPR, FNR, PPP])  \n",
    "    "
   ]
  },
  {
   "cell_type": "code",
   "execution_count": 41,
   "id": "e5a69189",
   "metadata": {
    "scrolled": true
   },
   "outputs": [
    {
     "name": "stdout",
     "output_type": "stream",
     "text": [
      "[0.77043545 0.94197099 0.78352181 0.05802901 0.90450726]\n",
      "[0.72189349 0.8699187  0.67391304 0.1300813  0.81656805]\n",
      "[0.93699413 0.92350902 0.86010758 2.24165966 0.90277667]\n"
     ]
    }
   ],
   "source": [
    "# Calculate fairness metrics for ethnicity(is_not_hispanic)\n",
    "fm_ethnicity_1 = fairness_metrics(df_cr_y_test[X_test_sensitive['is_not_hispanic']==1])\n",
    "fm_ethnicity_0 = fairness_metrics(df_cr_y_test[X_test_sensitive['is_not_hispanic']==0])\n",
    "\n",
    "#Get ratio of fairness metrics\n",
    "fm_ethnicity = fm_ethnicity_0/fm_ethnicity_1\n",
    "\n",
    "print(fm_ethnicity_1)\n",
    "print(fm_ethnicity_0)\n",
    "print(fm_ethnicity)"
   ]
  },
  {
   "cell_type": "code",
   "execution_count": 42,
   "id": "8709eb18",
   "metadata": {
    "scrolled": true
   },
   "outputs": [
    {
     "name": "stdout",
     "output_type": "stream",
     "text": [
      "╒════════════╤═════════════════╤══════════════════╤══════════════════╤═══════════════════════════╕\n",
      "│   Accuracy │   True Positive │   False Positive │   False Negative │   % Predicted as Positive │\n",
      "╞════════════╪═════════════════╪══════════════════╪══════════════════╪═══════════════════════════╡\n",
      "│   0.770435 │        0.941971 │         0.783522 │         0.058029 │                  0.904507 │\n",
      "├────────────┼─────────────────┼──────────────────┼──────────────────┼───────────────────────────┤\n",
      "│   0.721893 │        0.869919 │         0.673913 │         0.130081 │                  0.816568 │\n",
      "╘════════════╧═════════════════╧══════════════════╧══════════════════╧═══════════════════════════╛\n"
     ]
    }
   ],
   "source": [
    "col_names = ['Accuracy','True Positive', 'False Positive','False Negative', '% Predicted as Positive']\n",
    "  \n",
    "#display table\n",
    "print(tabulate([fm_ethnicity_1, fm_ethnicity_0], headers=col_names, tablefmt=\"fancy_grid\"))"
   ]
  },
  {
   "cell_type": "code",
   "execution_count": 43,
   "id": "b8db25c8",
   "metadata": {},
   "outputs": [
    {
     "name": "stdout",
     "output_type": "stream",
     "text": [
      "[0.77492669 0.92722117 0.75163399 0.07277883 0.88782991]\n",
      "[0.76036543 0.94830827 0.79665738 0.05169173 0.91004919]\n",
      "[0.9812095  1.02274225 1.05990069 0.71025779 1.02502651]\n"
     ]
    }
   ],
   "source": [
    "# Calculate fairness metrics for sex (is_male)\n",
    "\n",
    "fm_sex_1 = fairness_metrics(df_cr_y_test[X_test_sensitive['is_male']==1])\n",
    "fm_sex_0 = fairness_metrics(df_cr_y_test[X_test_sensitive['is_male']==0])\n",
    "\n",
    "#Get ratio of fairness metrics\n",
    "fm_sex = fm_sex_0/fm_sex_1\n",
    "\n",
    "print(fm_sex_1)\n",
    "print(fm_sex_0)\n",
    "print(fm_sex)"
   ]
  },
  {
   "cell_type": "code",
   "execution_count": 44,
   "id": "da46ee15",
   "metadata": {},
   "outputs": [
    {
     "name": "stdout",
     "output_type": "stream",
     "text": [
      "[0.85380117 0.97241379 0.80769231 0.02758621 0.94736842]\n",
      "[0.76185015 0.93525544 0.77464789 0.06474456 0.89602446]\n",
      "[0.89230395 0.96178751 0.95908786 2.34699039 0.9458036 ]\n"
     ]
    }
   ],
   "source": [
    "# Calculate fairness metrics for race (derived_race) \n",
    "# this is not a binary column, cannot compare within 2 races\n",
    "# but can compare by is or is not a specific race\n",
    "# for example, I am interest in the fairness metrics between is/ is not Asian (derived_race_Asian)\n",
    "fm_asian_1 = fairness_metrics(df_cr_y_test[X_test_sensitive['derived_race_Asian']==1])\n",
    "fm_asian_0 = fairness_metrics(df_cr_y_test[X_test_sensitive['derived_race_Asian']==0])\n",
    "\n",
    "#Get ratio of fairness metrics\n",
    "fm_asian = fm_asian_0/fm_asian_1\n",
    "\n",
    "print(fm_asian_1)\n",
    "print(fm_asian_0)\n",
    "print(fm_asian)"
   ]
  },
  {
   "cell_type": "code",
   "execution_count": 45,
   "id": "279b42ae",
   "metadata": {},
   "outputs": [
    {
     "name": "stdout",
     "output_type": "stream",
     "text": [
      "[0.75       0.87096774 0.53846154 0.12903226 0.77272727]\n",
      "[0.76777251 0.93878527 0.78067485 0.06121473 0.90120306]\n",
      "[1.02369668 1.07786457 1.44982472 0.47441416 1.16626279]\n"
     ]
    }
   ],
   "source": [
    "# I am also interest in the fairness metrics between is/ is not Minority Races (derived_race_Minority Races)\n",
    "fm_minority_1 = fairness_metrics(df_cr_y_test[X_test_sensitive['derived_race_Minority Races']==1])\n",
    "fm_minority_0 = fairness_metrics(df_cr_y_test[X_test_sensitive['derived_race_Minority Races']==0])\n",
    "\n",
    "#Get ratio of fairness metrics\n",
    "fm_minority = fm_minority_0/fm_minority_1\n",
    "\n",
    "print(fm_minority_1)\n",
    "print(fm_minority_0)\n",
    "print(fm_minority)"
   ]
  },
  {
   "cell_type": "code",
   "execution_count": 46,
   "id": "efa1ce38",
   "metadata": {},
   "outputs": [],
   "source": [
    "# income is not categorical, have not found a way to build a fairness metrics"
   ]
  },
  {
   "cell_type": "code",
   "execution_count": 47,
   "id": "545ef87f",
   "metadata": {},
   "outputs": [
    {
     "name": "stdout",
     "output_type": "stream",
     "text": [
      "[0.81315789 0.96758509 0.85314685 0.03241491 0.94605263]\n",
      "[0.75037    0.9255814  0.75478927 0.0744186  0.88159842]\n",
      "[0.92278512 0.95658915 0.88471202 2.29581395 0.93187038]\n"
     ]
    }
   ],
   "source": [
    "# Calculate fairness metrics for age (applicant_age) \n",
    "# I'm interest in comparing people with and without age 35-44 (applicant_age_35-44)\n",
    "fm_35_44_1 = fairness_metrics(df_cr_y_test[X_test_sensitive['applicant_age_35-44']==1])\n",
    "fm_35_44_0 = fairness_metrics(df_cr_y_test[X_test_sensitive['applicant_age_35-44']==0])\n",
    "\n",
    "#Get ratio of fairness metrics\n",
    "fm_35_44 = fm_35_44_0/fm_35_44_1\n",
    "\n",
    "print(fm_35_44_1)\n",
    "print(fm_35_44_0)\n",
    "print(fm_35_44)"
   ]
  },
  {
   "cell_type": "code",
   "execution_count": 48,
   "id": "2e6bd8ec",
   "metadata": {},
   "outputs": [
    {
     "name": "stdout",
     "output_type": "stream",
     "text": [
      "[0.64081633 0.81756757 0.62886598 0.18243243 0.74285714]\n",
      "[0.77970102 0.94680851 0.80105634 0.05319149 0.91424076]\n",
      "[1.2167309  1.15807983 1.2738109  0.29156816 1.23070871]\n"
     ]
    }
   ],
   "source": [
    "# I'm also interest in comparing people with and without age 65-74 (applicant_age_65-74)\n",
    "# Calculate fairness metrics for age (applicant_age) \n",
    "# I'm interest in comparing people with and without age 35-44 (applicant_age_35-44)\n",
    "fm_65_74_1 = fairness_metrics(df_cr_y_test[X_test_sensitive['applicant_age_65-74']==1])\n",
    "fm_65_74_0 = fairness_metrics(df_cr_y_test[X_test_sensitive['applicant_age_65-74']==0])\n",
    "\n",
    "#Get ratio of fairness metrics\n",
    "fm_65_74 = fm_65_74_0/fm_65_74_1\n",
    "\n",
    "print(fm_65_74_1)\n",
    "print(fm_65_74_0)\n",
    "print(fm_65_74)"
   ]
  },
  {
   "cell_type": "code",
   "execution_count": null,
   "id": "fdecbd4d",
   "metadata": {},
   "outputs": [],
   "source": []
  }
 ],
 "metadata": {
  "kernelspec": {
   "display_name": "Python 3",
   "language": "python",
   "name": "python3"
  },
  "language_info": {
   "codemirror_mode": {
    "name": "ipython",
    "version": 3
   },
   "file_extension": ".py",
   "mimetype": "text/x-python",
   "name": "python",
   "nbconvert_exporter": "python",
   "pygments_lexer": "ipython3",
   "version": "3.8.8"
  }
 },
 "nbformat": 4,
 "nbformat_minor": 5
}
