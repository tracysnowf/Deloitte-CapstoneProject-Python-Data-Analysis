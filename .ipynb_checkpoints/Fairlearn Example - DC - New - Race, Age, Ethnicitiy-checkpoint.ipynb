{
 "cells": [
  {
   "cell_type": "markdown",
   "id": "6cedc37c",
   "metadata": {},
   "source": [
    "# Load Packages"
   ]
  },
  {
   "cell_type": "code",
   "execution_count": 1,
   "id": "639928ac",
   "metadata": {},
   "outputs": [],
   "source": [
    "# General imports\n",
    "import numpy as np\n",
    "import pandas as pd\n",
    "import matplotlib.pyplot as plt\n",
    "%matplotlib inline\n",
    "\n",
    "# Data processing\n",
    "from sklearn.model_selection import train_test_split\n",
    "\n",
    "# Models\n",
    "# LightGBM is a gradient boosting framework that uses tree based learning algorithms\n",
    "import lightgbm as lgb\n",
    "from sklearn.calibration import CalibratedClassifierCV\n",
    "\n",
    "# Fairlearn algorithms and utils\n",
    "from fairlearn.postprocessing import ThresholdOptimizer\n",
    "from fairlearn.reductions import GridSearch, EqualizedOdds\n",
    "\n",
    "# Metrics\n",
    "from fairlearn.metrics import (\n",
    "    MetricFrame,\n",
    "    selection_rate, demographic_parity_difference, demographic_parity_ratio,\n",
    "    true_positive_rate, false_positive_rate, false_negative_rate,\n",
    "    false_positive_rate_difference, false_negative_rate_difference,\n",
    "    equalized_odds_difference)\n",
    "from sklearn.metrics import balanced_accuracy_score, roc_auc_score\n",
    "import warnings\n",
    "warnings.filterwarnings('ignore')"
   ]
  },
  {
   "cell_type": "markdown",
   "id": "e87c324a",
   "metadata": {},
   "source": [
    "# Helper Functions"
   ]
  },
  {
   "cell_type": "code",
   "execution_count": 2,
   "id": "9b8798c2",
   "metadata": {},
   "outputs": [],
   "source": [
    "def split(sensitive_feature, str_sensitive_feature):\n",
    "    # Train-test split\n",
    "    df_train, df_test, Y_train, Y_test, A_train, A_test, A_str_train, A_str_test = train_test_split(\n",
    "    d.drop(columns=['race', 'action_taken', 'ethnicity', 'gender', 'age']), \n",
    "    Y, \n",
    "    sensitive_feature, \n",
    "    str_sensitive_feature,\n",
    "    test_size = 0.3, \n",
    "    random_state=12345,\n",
    "    stratify=Y)\n",
    "    return df_train, df_test, Y_train, Y_test, A_train, A_test, A_str_train, A_str_test\n",
    "\n",
    "\n",
    "def get_fairness_unaware_model(df_train, df_test, Y_train, Y_test, A_train, A_test, A_str_train, A_str_test):\n",
    "    global unmitigated_model, test_scores, test_preds\n",
    "    # unmitigated_model = test_scores = test_preds = None\n",
    "    lgb_params = {\n",
    "    'objective' : 'binary',\n",
    "    'metric' : 'auc',\n",
    "    'learning_rate': 0.03,\n",
    "    'num_leaves' : 10,\n",
    "    'max_depth' : 3\n",
    "    }\n",
    "    model = lgb.LGBMClassifier(**lgb_params)\n",
    "    model.fit(df_train, Y_train)\n",
    "    print(model)\n",
    "    unmitigated_model = model\n",
    "    # Scores on test set\n",
    "    test_scores = model.predict_proba(df_test)[:, 1]\n",
    "    test_scores = test_scores\n",
    "    print(\"Test Scores: \", test_scores)\n",
    "    # Train AUC\n",
    "    print( \"AUC: \", roc_auc_score(Y_train, model.predict_proba(df_train)[:, 1]))\n",
    "    # Predictions (0 or 1) on test set\n",
    "    test_preds = (test_scores >= np.mean(Y_train)) * 1\n",
    "    # LightGBM feature importance \n",
    "    lgb.plot_importance(model, height=0.6, title=\"Features importance (LightGBM)\", importance_type=\"gain\", max_num_features=15) \n",
    "    plt.show()\n",
    "    # We next use Fairlearn's `MetricFrame` to examine the the two different kinds of errors (false positives and false negatives) on the test data.\n",
    "    mf = MetricFrame({\n",
    "    'FPR': false_positive_rate,\n",
    "    'FNR': false_negative_rate},\n",
    "    Y_test, test_preds, sensitive_features=A_str_test)\n",
    "    print(mf.by_group)\n",
    "    # We calculate several performance and fairness metrics below:\n",
    "    # Metrics\n",
    "    models_dict = {\"Unmitigated\": (test_preds, test_scores)}\n",
    "    print()\n",
    "    print(get_metrics_df(models_dict, Y_test, A_str_test))\n",
    "    \n",
    "def get_metrics_df(models_dict, y_true, group):\n",
    "    metrics_dict = {\n",
    "        \"Overall selection rate\": (\n",
    "            lambda x: selection_rate(y_true, x), True),\n",
    "        \"Demographic parity difference\": (\n",
    "            lambda x: demographic_parity_difference(y_true, x, sensitive_features=group), True),\n",
    "        \"Demographic parity ratio\": (\n",
    "            lambda x: demographic_parity_ratio(y_true, x, sensitive_features=group), True),\n",
    "        \"------\": (lambda x: \"\", True),\n",
    "        \"Overall balanced error rate\": (\n",
    "            lambda x: balanced_accuracy_score(y_true, x), True),\n",
    "        \"Balanced error rate difference\": (\n",
    "            lambda x: MetricFrame(metrics=balanced_accuracy_score, y_true=y_true, y_pred=x, sensitive_features=group).difference(method='between_groups'), True),\n",
    "        \" ------\": (lambda x: \"\", True),\n",
    "        # defined by team6 - equal opportunity - the percentage of people that have rightfully benefitted from the loan model\n",
    "        \"True positive rate\": (\n",
    "            lambda x: true_positive_rate(y_true, x), True),\n",
    "        # defined by team6 - equalized odds - the percentage of people that have wrongfully benefitted from the loan model\n",
    "        \"False positive rate difference\": (\n",
    "            lambda x: false_positive_rate_difference(y_true, x, sensitive_features=group), True),\n",
    "        \"False negative rate difference\": (\n",
    "            lambda x: false_negative_rate_difference(y_true, x, sensitive_features=group), True),\n",
    "        # defined by UCI Ex - 0 means that all groups have the same true positive, true negative, false positive, and false negative rates.)\n",
    "        \"Equalized odds difference\": (\n",
    "            lambda x: equalized_odds_difference(y_true, x, sensitive_features=group), True),\n",
    "        \"  ------\": (lambda x: \"\", True),\n",
    "        \"Overall AUC\": (\n",
    "            lambda x: roc_auc_score(y_true, x), False),\n",
    "        \"AUC difference\": (\n",
    "            lambda x: MetricFrame(metrics=roc_auc_score, y_true=y_true, y_pred=x, sensitive_features=group).difference(method='between_groups'), False),\n",
    "    }\n",
    "    df_dict = {}\n",
    "    for metric_name, (metric_func, use_preds) in metrics_dict.items():\n",
    "        df_dict[metric_name] = [metric_func(preds) if use_preds else metric_func(scores) \n",
    "                                for model_name, (preds, scores) in models_dict.items()]\n",
    "    return pd.DataFrame.from_dict(df_dict, orient=\"index\", columns=models_dict.keys())\n",
    "\n",
    "def get_thresholdOptimizer_model(model, test_preds_, test_scores_, A_train, A_test, A_str_test):\n",
    "    # global TO, postprocess_est, postprocess_preds, df_train_balanced, Y_train_balanced, A_train_balanced, test_scores, test_preds, models_dict\n",
    "    global TO, postprocess_est, postprocess_preds, test_scores, test_preds, models_dict\n",
    "\n",
    "    # TO = postprocess_est = postprocess_preds = df_train_balanced = Y_train_balanced = A_train_balanced= test_scores = test_preds = None\n",
    "\n",
    "    test_scores_ = test_scores\n",
    "    test_preds_ = test_preds\n",
    "    postprocess_est = ThresholdOptimizer(\n",
    "    estimator=model,\n",
    "    constraints=\"equalized_odds\",\n",
    "    prefit=True)\n",
    "    # Balanced data set is obtained by sampling the same number of points from the majority class (Y=0)\n",
    "    # as there are points in the minority class (Y=1)\n",
    "    balanced_idx1 = df_train[Y_train==1].index\n",
    "    pp_train_idx = balanced_idx1.union(Y_train[Y_train==0].sample(n=balanced_idx1.size, random_state=1234, replace=True).index)\n",
    "    df_train_balanced = df_train.loc[pp_train_idx, :]\n",
    "    Y_train_balanced = Y_train.loc[pp_train_idx]\n",
    "    A_train_balanced = A_train.loc[pp_train_idx]\n",
    "    # save the parameters\n",
    "    postprocess_est.fit(df_train_balanced, Y_train_balanced, sensitive_features=A_train_balanced)\n",
    "    TO = postprocess_est\n",
    "    postprocess_preds = postprocess_est.predict(df_test, sensitive_features=A_test)\n",
    "    \n",
    "    postprocess_preds = postprocess_preds\n",
    "    models_dict = {\"Unmitigated\": (test_preds, test_scores),\n",
    "              \"ThresholdOptimizer\": (postprocess_preds, postprocess_preds)}\n",
    "    models_dict = models_dict\n",
    "    print(get_metrics_df(models_dict, Y_test, A_str_test))\n",
    "    return df_train_balanced, Y_train_balanced, A_train_balanced\n",
    "    \n",
    "def get_gridSearch_model(model, postprocess_preds, test_scores, test_preds, models_dict, A_str_test, df_train_balanced, Y_train_balanced, A_train_balanced):\n",
    "    global GS_models, GS_metrics\n",
    "    # GS_models = GS_metrics = None\n",
    "    # Train GridSearch\n",
    "    sweep = GridSearch(model,\n",
    "                   constraints=EqualizedOdds(),\n",
    "                   grid_size=3,\n",
    "                   grid_limit=10)\n",
    "\n",
    "    sweep.fit(df_train_balanced, Y_train_balanced, sensitive_features=A_train_balanced)\n",
    "    sweep_preds = [predictor.predict(df_test) for predictor in sweep.predictors_] \n",
    "    sweep_scores = [predictor.predict_proba(df_test)[:, 1] for predictor in sweep.predictors_]\n",
    "    equalized_odds_sweep = [\n",
    "    equalized_odds_difference(Y_test, preds, sensitive_features=A_str_test)\n",
    "    for preds in sweep_preds\n",
    "    ]\n",
    "    balanced_accuracy_sweep = [balanced_accuracy_score(Y_test, preds) for preds in sweep_preds]\n",
    "    auc_sweep = [roc_auc_score(Y_test, scores) for scores in sweep_scores]\n",
    "    # Select only non-dominated models (with respect to balanced accuracy and equalized odds difference)\n",
    "    all_results = pd.DataFrame(\n",
    "        {\"predictor\": sweep.predictors_, \"accuracy\": balanced_accuracy_sweep, \"disparity\": equalized_odds_sweep}\n",
    "    ) \n",
    "    non_dominated = []\n",
    "    models = []\n",
    "    for row in all_results.itertuples(): \n",
    "        accuracy_for_lower_or_eq_disparity = all_results[\"accuracy\"][all_results[\"disparity\"] <= row.disparity] \n",
    "        if row.accuracy >= accuracy_for_lower_or_eq_disparity.max(): \n",
    "            models.append(row)\n",
    "            non_dominated.append(True)\n",
    "        else:\n",
    "            non_dominated.append(False)\n",
    "    GS_models = models\n",
    "    equalized_odds_sweep_non_dominated = np.asarray(equalized_odds_sweep)[non_dominated]\n",
    "    balanced_accuracy_non_dominated = np.asarray(balanced_accuracy_sweep)[non_dominated]\n",
    "    auc_non_dominated = np.asarray(auc_sweep)[non_dominated]\n",
    "    # Plot equalized odds difference vs balanced accuracy\n",
    "    plt.scatter(balanced_accuracy_non_dominated, equalized_odds_sweep_non_dominated, label=\"GridSearch Models\")\n",
    "    plt.scatter(balanced_accuracy_score(Y_test, test_preds),\n",
    "                equalized_odds_difference(Y_test, test_preds, sensitive_features=A_str_test), \n",
    "                label=\"Unmitigated Model\")\n",
    "    plt.scatter(balanced_accuracy_score(Y_test, postprocess_preds), \n",
    "                equalized_odds_difference(Y_test, postprocess_preds, sensitive_features=A_str_test),\n",
    "                label=\"ThresholdOptimizer Model\")\n",
    "    plt.xlabel(\"Balanced Accuracy\")\n",
    "    plt.ylabel(\"Equalized Odds Difference\")\n",
    "    plt.legend(bbox_to_anchor=(1.55, 1))\n",
    "    plt.show()\n",
    "    # As intended, GridSearch models appear along the trade-off curve between the large balanced accuracy (but also large disparity), and low disparity (but worse balanced accuracy). This gives the data scientist a flexibility to select a model that fits the application context best.\n",
    "    # Plot equalized odds difference vs AUC\n",
    "    plt.scatter(auc_non_dominated, equalized_odds_sweep_non_dominated, label=\"GridSearch Models\")\n",
    "    plt.scatter(roc_auc_score(Y_test, test_scores),\n",
    "                equalized_odds_difference(Y_test, test_preds, sensitive_features=A_str_test), \n",
    "                label=\"Unmitigated Model\")\n",
    "    plt.scatter(roc_auc_score(Y_test, postprocess_preds), \n",
    "                equalized_odds_difference(Y_test, postprocess_preds, sensitive_features=A_str_test),\n",
    "                label=\"ThresholdOptimizer Model\")\n",
    "    plt.xlabel(\"AUC\")\n",
    "    plt.ylabel(\"Equalized Odds Difference\")\n",
    "    plt.legend(bbox_to_anchor=(1.55, 1))\n",
    "    plt.show()\n",
    "    # Similarly, GridSearch models appear along the trade-off curve between AUC and equalized odds difference.\n",
    "    # Compare GridSearch models with low values of equalized odds difference with the previously constructed models\n",
    "    grid_search_dict = {\"GridSearch_{}\".format(i): (sweep_preds[i], sweep_scores[i])\n",
    "                        for i in range(len(sweep_preds))\n",
    "                        if non_dominated[i] and equalized_odds_sweep[i]<0.1}\n",
    "    models_dict.update(grid_search_dict)\n",
    "    GS_metrics = models_dict\n",
    "    print(get_metrics_df(models_dict, Y_test, A_str_test))\n"
   ]
  },
  {
   "cell_type": "markdown",
   "id": "2c7d4d4d",
   "metadata": {},
   "source": [
    "# Race - DC"
   ]
  },
  {
   "cell_type": "code",
   "execution_count": 3,
   "id": "26eda5d2",
   "metadata": {
    "scrolled": false
   },
   "outputs": [
    {
     "data": {
      "text/html": [
       "<div>\n",
       "<style scoped>\n",
       "    .dataframe tbody tr th:only-of-type {\n",
       "        vertical-align: middle;\n",
       "    }\n",
       "\n",
       "    .dataframe tbody tr th {\n",
       "        vertical-align: top;\n",
       "    }\n",
       "\n",
       "    .dataframe thead th {\n",
       "        text-align: right;\n",
       "    }\n",
       "</style>\n",
       "<table border=\"1\" class=\"dataframe\">\n",
       "  <thead>\n",
       "    <tr style=\"text-align: right;\">\n",
       "      <th></th>\n",
       "      <th>ethnicity</th>\n",
       "      <th>race</th>\n",
       "      <th>gender</th>\n",
       "      <th>action_taken</th>\n",
       "      <th>preapproval_requested</th>\n",
       "      <th>loan_type</th>\n",
       "      <th>loan_purpose</th>\n",
       "      <th>interest_only_payment</th>\n",
       "      <th>balloon_payment</th>\n",
       "      <th>debt_to_income_ratio</th>\n",
       "      <th>age</th>\n",
       "      <th>income</th>\n",
       "      <th>loan_to_value_ratio</th>\n",
       "    </tr>\n",
       "  </thead>\n",
       "  <tbody>\n",
       "    <tr>\n",
       "      <th>0</th>\n",
       "      <td>0</td>\n",
       "      <td>1</td>\n",
       "      <td>0</td>\n",
       "      <td>1</td>\n",
       "      <td>0</td>\n",
       "      <td>1</td>\n",
       "      <td>1</td>\n",
       "      <td>2</td>\n",
       "      <td>2</td>\n",
       "      <td>3</td>\n",
       "      <td>3</td>\n",
       "      <td>1</td>\n",
       "      <td>1</td>\n",
       "    </tr>\n",
       "    <tr>\n",
       "      <th>1</th>\n",
       "      <td>0</td>\n",
       "      <td>1</td>\n",
       "      <td>1</td>\n",
       "      <td>1</td>\n",
       "      <td>0</td>\n",
       "      <td>3</td>\n",
       "      <td>3</td>\n",
       "      <td>2</td>\n",
       "      <td>2</td>\n",
       "      <td>4</td>\n",
       "      <td>3</td>\n",
       "      <td>3</td>\n",
       "      <td>1</td>\n",
       "    </tr>\n",
       "    <tr>\n",
       "      <th>2</th>\n",
       "      <td>0</td>\n",
       "      <td>2</td>\n",
       "      <td>0</td>\n",
       "      <td>1</td>\n",
       "      <td>0</td>\n",
       "      <td>1</td>\n",
       "      <td>3</td>\n",
       "      <td>2</td>\n",
       "      <td>2</td>\n",
       "      <td>4</td>\n",
       "      <td>2</td>\n",
       "      <td>3</td>\n",
       "      <td>3</td>\n",
       "    </tr>\n",
       "    <tr>\n",
       "      <th>3</th>\n",
       "      <td>0</td>\n",
       "      <td>1</td>\n",
       "      <td>0</td>\n",
       "      <td>1</td>\n",
       "      <td>0</td>\n",
       "      <td>1</td>\n",
       "      <td>3</td>\n",
       "      <td>2</td>\n",
       "      <td>2</td>\n",
       "      <td>2</td>\n",
       "      <td>3</td>\n",
       "      <td>5</td>\n",
       "      <td>1</td>\n",
       "    </tr>\n",
       "    <tr>\n",
       "      <th>4</th>\n",
       "      <td>0</td>\n",
       "      <td>3</td>\n",
       "      <td>0</td>\n",
       "      <td>1</td>\n",
       "      <td>0</td>\n",
       "      <td>1</td>\n",
       "      <td>1</td>\n",
       "      <td>2</td>\n",
       "      <td>2</td>\n",
       "      <td>4</td>\n",
       "      <td>3</td>\n",
       "      <td>2</td>\n",
       "      <td>1</td>\n",
       "    </tr>\n",
       "  </tbody>\n",
       "</table>\n",
       "</div>"
      ],
      "text/plain": [
       "   ethnicity  race  gender  action_taken  preapproval_requested  loan_type  \\\n",
       "0          0     1       0             1                      0          1   \n",
       "1          0     1       1             1                      0          3   \n",
       "2          0     2       0             1                      0          1   \n",
       "3          0     1       0             1                      0          1   \n",
       "4          0     3       0             1                      0          1   \n",
       "\n",
       "   loan_purpose  interest_only_payment  balloon_payment  debt_to_income_ratio  \\\n",
       "0             1                      2                2                     3   \n",
       "1             3                      2                2                     4   \n",
       "2             3                      2                2                     4   \n",
       "3             3                      2                2                     2   \n",
       "4             1                      2                2                     4   \n",
       "\n",
       "   age  income  loan_to_value_ratio  \n",
       "0    3       1                    1  \n",
       "1    3       3                    1  \n",
       "2    2       3                    3  \n",
       "3    3       5                    1  \n",
       "4    3       2                    1  "
      ]
     },
     "execution_count": 3,
     "metadata": {},
     "output_type": "execute_result"
    }
   ],
   "source": [
    "# load the clean data\n",
    "d = 'data/Fairlearn_DC.csv'\n",
    "d = pd.read_csv(d, sep = ',')\n",
    "d.head()"
   ]
  },
  {
   "cell_type": "code",
   "execution_count": 4,
   "id": "2e19f9a5",
   "metadata": {
    "scrolled": false
   },
   "outputs": [
    {
     "data": {
      "text/plain": [
       "0            White\n",
       "1            White\n",
       "2        Non-White\n",
       "3            White\n",
       "4        Non-White\n",
       "           ...    \n",
       "89150    Non-White\n",
       "89151        White\n",
       "89152        White\n",
       "89153    Non-White\n",
       "89154        White\n",
       "Name: race, Length: 89155, dtype: object"
      ]
     },
     "execution_count": 4,
     "metadata": {},
     "output_type": "execute_result"
    }
   ],
   "source": [
    "# Extract the sensitive feature - example: race\n",
    "A = d[\"race\"].apply(lambda x:1 if x == 1 else 0)\n",
    "A_str = A.map({ 1:\"White\", 0:\"Non-White\"})\n",
    "A_str"
   ]
  },
  {
   "cell_type": "code",
   "execution_count": 5,
   "id": "d996aa14",
   "metadata": {
    "scrolled": false
   },
   "outputs": [
    {
     "name": "stdout",
     "output_type": "stream",
     "text": [
      "<class 'pandas.core.frame.DataFrame'>\n",
      "RangeIndex: 89155 entries, 0 to 89154\n",
      "Data columns (total 13 columns):\n",
      " #   Column                 Non-Null Count  Dtype   \n",
      "---  ------                 --------------  -----   \n",
      " 0   ethnicity              89155 non-null  int64   \n",
      " 1   race                   89155 non-null  int64   \n",
      " 2   gender                 89155 non-null  int64   \n",
      " 3   action_taken           89155 non-null  int64   \n",
      " 4   preapproval_requested  89155 non-null  category\n",
      " 5   loan_type              89155 non-null  category\n",
      " 6   loan_purpose           89155 non-null  category\n",
      " 7   interest_only_payment  89155 non-null  category\n",
      " 8   balloon_payment        89155 non-null  category\n",
      " 9   debt_to_income_ratio   89155 non-null  category\n",
      " 10  age                    89155 non-null  int64   \n",
      " 11  income                 89155 non-null  category\n",
      " 12  loan_to_value_ratio    89155 non-null  int64   \n",
      "dtypes: category(7), int64(6)\n",
      "memory usage: 4.7 MB\n"
     ]
    }
   ],
   "source": [
    "# Extract the target\n",
    "Y = d[\"action_taken\"]\n",
    "categorical_features = ['preapproval_requested', 'loan_type','loan_purpose', 'interest_only_payment', 'balloon_payment', 'debt_to_income_ratio', 'income']\n",
    "for col in categorical_features:\n",
    "    d[col] = d[col].astype('category')\n",
    "d.info()"
   ]
  },
  {
   "cell_type": "code",
   "execution_count": 6,
   "id": "d1670cc3",
   "metadata": {},
   "outputs": [],
   "source": [
    "df_train, df_test, Y_train, Y_test, A_train, A_test, A_str_train, A_str_test = split(A, A_str)"
   ]
  },
  {
   "cell_type": "markdown",
   "id": "0ec8c5cb",
   "metadata": {},
   "source": [
    "## Using a Fairness Unaware Model"
   ]
  },
  {
   "cell_type": "code",
   "execution_count": 7,
   "id": "cd490824",
   "metadata": {
    "scrolled": true
   },
   "outputs": [
    {
     "name": "stdout",
     "output_type": "stream",
     "text": [
      "LGBMClassifier(learning_rate=0.03, max_depth=3, metric='auc', num_leaves=10,\n",
      "               objective='binary')\n",
      "Test Scores:  [0.93011649 0.83824133 0.92549781 ... 0.9124246  0.93011649 0.83824133]\n",
      "AUC:  0.8444153179566672\n"
     ]
    },
    {
     "data": {
      "image/png": "[encoded data removed]",
      "text/plain": [
       "<Figure size 432x288 with 1 Axes>"
      ]
     },
     "metadata": {
      "needs_background": "light"
     },
     "output_type": "display_data"
    },
    {
     "name": "stdout",
     "output_type": "stream",
     "text": [
      "                FPR       FNR\n",
      "race                         \n",
      "Non-White   0.33186  0.146432\n",
      "White      0.317308  0.139082\n",
      "\n",
      "                               Unmitigated\n",
      "Overall selection rate            0.732082\n",
      "Demographic parity difference     0.065589\n",
      "Demographic parity ratio          0.913861\n",
      "------                                    \n",
      "Overall balanced error rate       0.766138\n",
      "Balanced error rate difference    0.010951\n",
      " ------                                   \n",
      "True positive rate                0.857912\n",
      "False positive rate difference    0.014552\n",
      "False negative rate difference     0.00735\n",
      "Equalized odds difference         0.014552\n",
      "  ------                                  \n",
      "Overall AUC                       0.840792\n",
      "AUC difference                    0.007402\n"
     ]
    }
   ],
   "source": [
    "get_fairness_unaware_model(df_train, df_test, Y_train, Y_test, A_train, A_test, A_str_train, A_str_test)"
   ]
  },
  {
   "cell_type": "code",
   "execution_count": 8,
   "id": "cf38af3a",
   "metadata": {},
   "outputs": [
    {
     "name": "stdout",
     "output_type": "stream",
     "text": [
      "LGBMClassifier(learning_rate=0.03, max_depth=3, metric='auc', num_leaves=10,\n",
      "               objective='binary')\n"
     ]
    }
   ],
   "source": [
    "unmitigated_DC_race = unmitigated_model\n",
    "print(unmitigated_DC_race)"
   ]
  },
  {
   "cell_type": "markdown",
   "id": "8dd60941",
   "metadata": {},
   "source": [
    "## Mitigating Equalized Odds Difference with Postprocessing"
   ]
  },
  {
   "cell_type": "markdown",
   "id": "b266ba5b",
   "metadata": {},
   "source": [
    "We attempt to mitigate the disparities in the `lightgbm` predictions using the Fairlearn postprocessing algorithm `ThresholdOptimizer`. This algorithm finds a suitable threshold for the scores (class probabilities) produced by the `lightgbm` model by optimizing the accuracy rate under the constraint that the equalized odds difference (on training data) is zero. Since our goal is to optimize balanced accuracy, we resample the training data to have the same number of positive and negative examples. This means that `ThresholdOptimizer` is effectively optimizing balanced accuracy on the original data."
   ]
  },
  {
   "cell_type": "code",
   "execution_count": 9,
   "id": "8e843a4f",
   "metadata": {
    "scrolled": true
   },
   "outputs": [
    {
     "name": "stdout",
     "output_type": "stream",
     "text": [
      "                               Unmitigated ThresholdOptimizer\n",
      "Overall selection rate            0.732082           0.877407\n",
      "Demographic parity difference     0.065589           0.050873\n",
      "Demographic parity ratio          0.913861           0.943485\n",
      "------                                                       \n",
      "Overall balanced error rate       0.766138           0.707099\n",
      "Balanced error rate difference    0.010951           0.001027\n",
      " ------                                                      \n",
      "True positive rate                0.857912           0.975323\n",
      "False positive rate difference    0.014552           0.003047\n",
      "False negative rate difference     0.00735           0.000992\n",
      "Equalized odds difference         0.014552           0.003047\n",
      "  ------                                                     \n",
      "Overall AUC                       0.840792           0.707099\n",
      "AUC difference                    0.007402           0.001027\n"
     ]
    }
   ],
   "source": [
    "df_train_balanced_race_DC, Y_train_balanced_race_DC, A_train_balanced_race_DC = get_thresholdOptimizer_model(unmitigated_DC_race, test_preds, test_scores, A_train, A_test, A_str_test)"
   ]
  },
  {
   "cell_type": "code",
   "execution_count": 10,
   "id": "50d10779",
   "metadata": {},
   "outputs": [
    {
     "name": "stdout",
     "output_type": "stream",
     "text": [
      "ThresholdOptimizer(constraints='equalized_odds',\n",
      "                   estimator=LGBMClassifier(learning_rate=0.03, max_depth=3,\n",
      "                                            metric='auc', num_leaves=10,\n",
      "                                            objective='binary'),\n",
      "                   prefit=True)\n"
     ]
    }
   ],
   "source": [
    "ThresholdOptimizer_DC_race = TO\n",
    "print(ThresholdOptimizer_DC_race)"
   ]
  },
  {
   "cell_type": "markdown",
   "id": "919f1698",
   "metadata": {},
   "source": [
    "The `ThresholdOptimizer` algorithm significantly reduces the disparity according to multiple metrics. However, the performance metrics (balanced error rate as well as AUC) get worse. Before deploying such a model in practice, it would be important to examine in more detail why we observe such a sharp trade-off. In our case it is because the available features are much less informative for one of the demographic groups than for the other.\n",
    "\n",
    "Note that unlike the unmitigated model, `ThresholdOptimizer` produces 0/1 predictions, so its balanced error rate difference is equal to the AUC difference, and its overall balanced error rate is equal to 1 - overall AUC."
   ]
  },
  {
   "cell_type": "markdown",
   "id": "6712f85a",
   "metadata": {},
   "source": [
    "## Mitigating Equalized Odds Difference with GridSearch"
   ]
  },
  {
   "cell_type": "markdown",
   "id": "22996117",
   "metadata": {},
   "source": [
    "We now attempt to mitigate disparities using the `GridSearch` algorithm. Unlike `ThresholdOptimizer`, the predictors produced by `GridSearch` do not access the sensitive feature at test time. Also, rather than training a single model, we train multiple models corresponding to different trade-off points between the performance metric (balanced accuracy) and fairness metric (equalized odds difference)."
   ]
  },
  {
   "cell_type": "code",
   "execution_count": 11,
   "id": "cac3e24d",
   "metadata": {
    "scrolled": true
   },
   "outputs": [
    {
     "name": "stderr",
     "output_type": "stream",
     "text": [
      "Generating a grid with 3 grid points. It is recommended to use at least 4 grid points. Please consider increasing grid_size.\n"
     ]
    },
    {
     "name": "stdout",
     "output_type": "stream",
     "text": [
      "Finished loading model, total used 100 iterations\n",
      "Finished loading model, total used 100 iterations\n",
      "Finished loading model, total used 100 iterations\n"
     ]
    },
    {
     "data": {
      "image/png": "[encoded data removed]",
      "text/plain": [
       "<Figure size 432x288 with 1 Axes>"
      ]
     },
     "metadata": {
      "needs_background": "light"
     },
     "output_type": "display_data"
    },
    {
     "data": {
      "image/png": "[encoded data removed]",
      "text/plain": [
       "<Figure size 432x288 with 1 Axes>"
      ]
     },
     "metadata": {
      "needs_background": "light"
     },
     "output_type": "display_data"
    },
    {
     "name": "stdout",
     "output_type": "stream",
     "text": [
      "                               Unmitigated ThresholdOptimizer GridSearch_2\n",
      "Overall selection rate            0.732082           0.877407     0.733129\n",
      "Demographic parity difference     0.065589           0.050873     0.066426\n",
      "Demographic parity ratio          0.913861           0.943485     0.912925\n",
      "------                                                                    \n",
      "Overall balanced error rate       0.766138           0.707099     0.765581\n",
      "Balanced error rate difference    0.010951           0.001027     0.010807\n",
      " ------                                                                   \n",
      "True positive rate                0.857912           0.975323     0.858696\n",
      "False positive rate difference    0.014552           0.003047     0.013345\n",
      "False negative rate difference     0.00735           0.000992      0.00827\n",
      "Equalized odds difference         0.014552           0.003047     0.013345\n",
      "  ------                                                                  \n",
      "Overall AUC                       0.840792           0.707099     0.841088\n",
      "AUC difference                    0.007402           0.001027     0.007382\n"
     ]
    }
   ],
   "source": [
    "get_gridSearch_model(unmitigated_DC_race, postprocess_preds, test_scores, test_preds, models_dict, A_str_test, df_train_balanced_race_DC, Y_train_balanced_race_DC, A_train_balanced_race_DC)"
   ]
  },
  {
   "cell_type": "code",
   "execution_count": 12,
   "id": "b67b263a",
   "metadata": {},
   "outputs": [
    {
     "name": "stdout",
     "output_type": "stream",
     "text": [
      "[Pandas(Index=2, predictor=LGBMClassifier(learning_rate=0.03, max_depth=3, metric='auc', num_leaves=10,\n",
      "               objective='binary'), accuracy=0.7655806269726121, disparity=0.013344777154106147)]\n",
      "\n",
      "{'Unmitigated': (array([1, 1, 1, ..., 1, 1, 1]), array([0.93011649, 0.83824133, 0.92549781, ..., 0.9124246 , 0.93011649,\n",
      "       0.83824133])), 'ThresholdOptimizer': (array([1, 1, 1, ..., 1, 1, 1]), array([1, 1, 1, ..., 1, 1, 1])), 'GridSearch_2': (array([1, 1, 1, ..., 1, 1, 1]), array([0.80825107, 0.62596504, 0.80399846, ..., 0.75534981, 0.80825107,\n",
      "       0.62596504]))}\n"
     ]
    }
   ],
   "source": [
    "GS_race_DC_models = GS_models\n",
    "print(GS_race_DC_models)\n",
    "print()\n",
    "GS_race_DC_metrics = GS_metrics\n",
    "print(GS_race_DC_metrics)"
   ]
  },
  {
   "cell_type": "markdown",
   "id": "77965c56",
   "metadata": {},
   "source": [
    "## Conclusion"
   ]
  },
  {
   "cell_type": "markdown",
   "id": "88127abe",
   "metadata": {},
   "source": [
    "In this notebook, we explored how a fairness-unaware gradient boosted trees model performed on the classification task in contrast to the postprocessed `ThresholdOptimizer` model and the `GridSearch` model. The `ThresholdOptimizer` greatly reduced the disparity in performance across multiple fairness metrics. However the overall error rate and AUC for the `ThresholdOptimizer` model were worse compared to the fairness-unaware model. \n",
    "\n",
    "With the `GridSearch` algorithm, we trained multiple models that balance the trade-off between the balanced accuracy and the equalized odds fairness metric. After engaging with relevant stakeholders, the data scientist can deploy the model that balances the performance-fairness trade-off that meets the needs of the business."
   ]
  },
  {
   "cell_type": "markdown",
   "id": "6db63ce7",
   "metadata": {},
   "source": [
    "# Age - DC"
   ]
  },
  {
   "cell_type": "code",
   "execution_count": 13,
   "id": "02f0a14e",
   "metadata": {},
   "outputs": [
    {
     "data": {
      "text/html": [
       "<div>\n",
       "<style scoped>\n",
       "    .dataframe tbody tr th:only-of-type {\n",
       "        vertical-align: middle;\n",
       "    }\n",
       "\n",
       "    .dataframe tbody tr th {\n",
       "        vertical-align: top;\n",
       "    }\n",
       "\n",
       "    .dataframe thead th {\n",
       "        text-align: right;\n",
       "    }\n",
       "</style>\n",
       "<table border=\"1\" class=\"dataframe\">\n",
       "  <thead>\n",
       "    <tr style=\"text-align: right;\">\n",
       "      <th></th>\n",
       "      <th>ethnicity</th>\n",
       "      <th>race</th>\n",
       "      <th>gender</th>\n",
       "      <th>action_taken</th>\n",
       "      <th>preapproval_requested</th>\n",
       "      <th>loan_type</th>\n",
       "      <th>loan_purpose</th>\n",
       "      <th>interest_only_payment</th>\n",
       "      <th>balloon_payment</th>\n",
       "      <th>debt_to_income_ratio</th>\n",
       "      <th>age</th>\n",
       "      <th>income</th>\n",
       "      <th>loan_to_value_ratio</th>\n",
       "    </tr>\n",
       "  </thead>\n",
       "  <tbody>\n",
       "    <tr>\n",
       "      <th>0</th>\n",
       "      <td>0</td>\n",
       "      <td>1</td>\n",
       "      <td>0</td>\n",
       "      <td>1</td>\n",
       "      <td>0</td>\n",
       "      <td>1</td>\n",
       "      <td>1</td>\n",
       "      <td>2</td>\n",
       "      <td>2</td>\n",
       "      <td>3</td>\n",
       "      <td>3</td>\n",
       "      <td>1</td>\n",
       "      <td>1</td>\n",
       "    </tr>\n",
       "    <tr>\n",
       "      <th>1</th>\n",
       "      <td>0</td>\n",
       "      <td>1</td>\n",
       "      <td>1</td>\n",
       "      <td>1</td>\n",
       "      <td>0</td>\n",
       "      <td>3</td>\n",
       "      <td>3</td>\n",
       "      <td>2</td>\n",
       "      <td>2</td>\n",
       "      <td>4</td>\n",
       "      <td>3</td>\n",
       "      <td>3</td>\n",
       "      <td>1</td>\n",
       "    </tr>\n",
       "    <tr>\n",
       "      <th>2</th>\n",
       "      <td>0</td>\n",
       "      <td>2</td>\n",
       "      <td>0</td>\n",
       "      <td>1</td>\n",
       "      <td>0</td>\n",
       "      <td>1</td>\n",
       "      <td>3</td>\n",
       "      <td>2</td>\n",
       "      <td>2</td>\n",
       "      <td>4</td>\n",
       "      <td>2</td>\n",
       "      <td>3</td>\n",
       "      <td>3</td>\n",
       "    </tr>\n",
       "    <tr>\n",
       "      <th>3</th>\n",
       "      <td>0</td>\n",
       "      <td>1</td>\n",
       "      <td>0</td>\n",
       "      <td>1</td>\n",
       "      <td>0</td>\n",
       "      <td>1</td>\n",
       "      <td>3</td>\n",
       "      <td>2</td>\n",
       "      <td>2</td>\n",
       "      <td>2</td>\n",
       "      <td>3</td>\n",
       "      <td>5</td>\n",
       "      <td>1</td>\n",
       "    </tr>\n",
       "    <tr>\n",
       "      <th>4</th>\n",
       "      <td>0</td>\n",
       "      <td>3</td>\n",
       "      <td>0</td>\n",
       "      <td>1</td>\n",
       "      <td>0</td>\n",
       "      <td>1</td>\n",
       "      <td>1</td>\n",
       "      <td>2</td>\n",
       "      <td>2</td>\n",
       "      <td>4</td>\n",
       "      <td>3</td>\n",
       "      <td>2</td>\n",
       "      <td>1</td>\n",
       "    </tr>\n",
       "  </tbody>\n",
       "</table>\n",
       "</div>"
      ],
      "text/plain": [
       "   ethnicity  race  gender  action_taken  preapproval_requested  loan_type  \\\n",
       "0          0     1       0             1                      0          1   \n",
       "1          0     1       1             1                      0          3   \n",
       "2          0     2       0             1                      0          1   \n",
       "3          0     1       0             1                      0          1   \n",
       "4          0     3       0             1                      0          1   \n",
       "\n",
       "   loan_purpose  interest_only_payment  balloon_payment  debt_to_income_ratio  \\\n",
       "0             1                      2                2                     3   \n",
       "1             3                      2                2                     4   \n",
       "2             3                      2                2                     4   \n",
       "3             3                      2                2                     2   \n",
       "4             1                      2                2                     4   \n",
       "\n",
       "   age  income  loan_to_value_ratio  \n",
       "0    3       1                    1  \n",
       "1    3       3                    1  \n",
       "2    2       3                    3  \n",
       "3    3       5                    1  \n",
       "4    3       2                    1  "
      ]
     },
     "execution_count": 13,
     "metadata": {},
     "output_type": "execute_result"
    }
   ],
   "source": [
    "# load the clean data\n",
    "d = 'data/Fairlearn_DC.csv'\n",
    "d = pd.read_csv(d, sep = ',')\n",
    "d.head()"
   ]
  },
  {
   "cell_type": "code",
   "execution_count": 14,
   "id": "6a945c01",
   "metadata": {},
   "outputs": [
    {
     "data": {
      "text/plain": [
       "0        Non-Middle-Aged\n",
       "1        Non-Middle-Aged\n",
       "2            Middle-Aged\n",
       "3        Non-Middle-Aged\n",
       "4        Non-Middle-Aged\n",
       "              ...       \n",
       "89150    Non-Middle-Aged\n",
       "89151    Non-Middle-Aged\n",
       "89152        Middle-Aged\n",
       "89153    Non-Middle-Aged\n",
       "89154    Non-Middle-Aged\n",
       "Name: age, Length: 89155, dtype: object"
      ]
     },
     "execution_count": 14,
     "metadata": {},
     "output_type": "execute_result"
    }
   ],
   "source": [
    "# Extract the sensitive feature - example: age - middle-aged vs non m-a\n",
    "B = d[\"age\"].apply(lambda x:1 if x == 2 else 0)\n",
    "B_str = B.map({ 1:\"Middle-Aged\", 0:\"Non-Middle-Aged\"})\n",
    "B_str"
   ]
  },
  {
   "cell_type": "code",
   "execution_count": 15,
   "id": "245ec698",
   "metadata": {},
   "outputs": [
    {
     "name": "stdout",
     "output_type": "stream",
     "text": [
      "<class 'pandas.core.frame.DataFrame'>\n",
      "RangeIndex: 89155 entries, 0 to 89154\n",
      "Data columns (total 13 columns):\n",
      " #   Column                 Non-Null Count  Dtype   \n",
      "---  ------                 --------------  -----   \n",
      " 0   ethnicity              89155 non-null  int64   \n",
      " 1   race                   89155 non-null  int64   \n",
      " 2   gender                 89155 non-null  int64   \n",
      " 3   action_taken           89155 non-null  int64   \n",
      " 4   preapproval_requested  89155 non-null  category\n",
      " 5   loan_type              89155 non-null  category\n",
      " 6   loan_purpose           89155 non-null  category\n",
      " 7   interest_only_payment  89155 non-null  category\n",
      " 8   balloon_payment        89155 non-null  category\n",
      " 9   debt_to_income_ratio   89155 non-null  category\n",
      " 10  age                    89155 non-null  int64   \n",
      " 11  income                 89155 non-null  category\n",
      " 12  loan_to_value_ratio    89155 non-null  int64   \n",
      "dtypes: category(7), int64(6)\n",
      "memory usage: 4.7 MB\n"
     ]
    }
   ],
   "source": [
    "# Extract the target\n",
    "Y = d[\"action_taken\"]\n",
    "categorical_features = ['preapproval_requested', 'loan_type','loan_purpose', 'interest_only_payment', 'balloon_payment', 'debt_to_income_ratio', 'income']\n",
    "for col in categorical_features:\n",
    "    d[col] = d[col].astype('category')\n",
    "d.info()"
   ]
  },
  {
   "cell_type": "code",
   "execution_count": 16,
   "id": "e626f332",
   "metadata": {},
   "outputs": [],
   "source": [
    "df_train, df_test, Y_train, Y_test, B_train, B_test, B_str_train, B_str_test = split(B, B_str)"
   ]
  },
  {
   "cell_type": "markdown",
   "id": "5ba9f9bd",
   "metadata": {},
   "source": [
    "## Using a Fairness Unaware Model"
   ]
  },
  {
   "cell_type": "code",
   "execution_count": 17,
   "id": "bb0309b8",
   "metadata": {
    "scrolled": true
   },
   "outputs": [
    {
     "name": "stdout",
     "output_type": "stream",
     "text": [
      "LGBMClassifier(learning_rate=0.03, max_depth=3, metric='auc', num_leaves=10,\n",
      "               objective='binary')\n",
      "Test Scores:  [0.93011649 0.83824133 0.92549781 ... 0.9124246  0.93011649 0.83824133]\n",
      "AUC:  0.8444153179566672\n"
     ]
    },
    {
     "data": {
      "image/png": "[encoded data removed]",
      "text/plain": [
       "<Figure size 432x288 with 1 Axes>"
      ]
     },
     "metadata": {
      "needs_background": "light"
     },
     "output_type": "display_data"
    },
    {
     "name": "stdout",
     "output_type": "stream",
     "text": [
      "                      FPR       FNR\n",
      "age                                \n",
      "Middle-Aged      0.335514  0.143542\n",
      "Non-Middle-Aged  0.315451  0.140507\n",
      "\n",
      "                               Unmitigated\n",
      "Overall selection rate            0.732082\n",
      "Demographic parity difference     0.007506\n",
      "Demographic parity ratio          0.989798\n",
      "------                                    \n",
      "Overall balanced error rate       0.766138\n",
      "Balanced error rate difference    0.011549\n",
      " ------                                   \n",
      "True positive rate                0.857912\n",
      "False positive rate difference    0.020063\n",
      "False negative rate difference    0.003035\n",
      "Equalized odds difference         0.020063\n",
      "  ------                                  \n",
      "Overall AUC                       0.840792\n",
      "AUC difference                    0.019052\n"
     ]
    }
   ],
   "source": [
    "get_fairness_unaware_model(df_train, df_test, Y_train, Y_test, B_train, B_test, B_str_train, B_str_test)"
   ]
  },
  {
   "cell_type": "code",
   "execution_count": 18,
   "id": "cc1fb8f5",
   "metadata": {
    "scrolled": true
   },
   "outputs": [
    {
     "name": "stdout",
     "output_type": "stream",
     "text": [
      "LGBMClassifier(learning_rate=0.03, max_depth=3, metric='auc', num_leaves=10,\n",
      "               objective='binary')\n"
     ]
    }
   ],
   "source": [
    "unmitigated_DC_age = unmitigated_model\n",
    "print(unmitigated_DC_age)"
   ]
  },
  {
   "cell_type": "markdown",
   "id": "19fedae2",
   "metadata": {},
   "source": [
    "## Mitigating Equalized Odds Difference with Postprocessing\n",
    "We attempt to mitigate the disparities in the `lightgbm` predictions using the Fairlearn postprocessing algorithm `ThresholdOptimizer`. This algorithm finds a suitable threshold for the scores (class probabilities) produced by the `lightgbm` model by optimizing the accuracy rate under the constraint that the equalized odds difference (on training data) is zero. Since our goal is to optimize balanced accuracy, we resample the training data to have the same number of positive and negative examples. This means that `ThresholdOptimizer` is effectively optimizing balanced accuracy on the original data."
   ]
  },
  {
   "cell_type": "code",
   "execution_count": 19,
   "id": "ec173f6d",
   "metadata": {
    "scrolled": true
   },
   "outputs": [
    {
     "name": "stdout",
     "output_type": "stream",
     "text": [
      "                               Unmitigated ThresholdOptimizer\n",
      "Overall selection rate            0.732082           0.888249\n",
      "Demographic parity difference     0.007506           0.001277\n",
      "Demographic parity ratio          0.989798           0.998564\n",
      "------                                                       \n",
      "Overall balanced error rate       0.766138            0.69214\n",
      "Balanced error rate difference    0.011549           0.011844\n",
      " ------                                                      \n",
      "True positive rate                0.857912           0.979093\n",
      "False positive rate difference    0.020063           0.020469\n",
      "False negative rate difference    0.003035           0.003219\n",
      "Equalized odds difference         0.020063           0.020469\n",
      "  ------                                                     \n",
      "Overall AUC                       0.840792            0.69214\n",
      "AUC difference                    0.019052           0.011844\n",
      "\n",
      "ThresholdOptimizer(constraints='equalized_odds',\n",
      "                   estimator=LGBMClassifier(learning_rate=0.03, max_depth=3,\n",
      "                                            metric='auc', num_leaves=10,\n",
      "                                            objective='binary'),\n",
      "                   prefit=True)\n"
     ]
    }
   ],
   "source": [
    "#get_thresholdOptimizer_model(unmitigated_DC_age, test_preds, test_scores, B_train, B_test, B_str_test)\n",
    "df_train_balanced_age_DC, Y_train_balanced_age_DC, A_train_balanced_age_DC = get_thresholdOptimizer_model(unmitigated_DC_age, test_preds, test_scores, B_train, B_test, B_str_test)\n",
    "\n",
    "print()\n",
    "ThresholdOptimizer_DC_age = TO\n",
    "print(ThresholdOptimizer_DC_age)"
   ]
  },
  {
   "cell_type": "markdown",
   "id": "6a7e6d14",
   "metadata": {},
   "source": [
    "The `ThresholdOptimizer` algorithm significantly reduces the disparity according to multiple metrics. However, the performance metrics (balanced error rate as well as AUC) get worse. Before deploying such a model in practice, it would be important to examine in more detail why we observe such a sharp trade-off. In our case it is because the available features are much less informative for one of the demographic groups than for the other.\n",
    "\n",
    "Note that unlike the unmitigated model, `ThresholdOptimizer` produces 0/1 predictions, so its balanced error rate difference is equal to the AUC difference, and its overall balanced error rate is equal to 1 - overall AUC.\n",
    "\n",
    "## Mitigating Equalized Odds Difference with GridSearch\n",
    "\n",
    "We now attempt to mitigate disparities using the `GridSearch` algorithm. Unlike `ThresholdOptimizer`, the predictors produced by `GridSearch` do not access the sensitive feature at test time. Also, rather than training a single model, we train multiple models corresponding to different trade-off points between the performance metric (balanced accuracy) and fairness metric (equalized odds difference)."
   ]
  },
  {
   "cell_type": "code",
   "execution_count": 20,
   "id": "ee5b0844",
   "metadata": {},
   "outputs": [
    {
     "name": "stderr",
     "output_type": "stream",
     "text": [
      "Generating a grid with 3 grid points. It is recommended to use at least 4 grid points. Please consider increasing grid_size.\n"
     ]
    },
    {
     "name": "stdout",
     "output_type": "stream",
     "text": [
      "Finished loading model, total used 100 iterations\n",
      "Finished loading model, total used 100 iterations\n",
      "Finished loading model, total used 100 iterations\n"
     ]
    },
    {
     "data": {
      "image/png": "[encoded data removed]",
      "text/plain": [
       "<Figure size 432x288 with 1 Axes>"
      ]
     },
     "metadata": {
      "needs_background": "light"
     },
     "output_type": "display_data"
    },
    {
     "data": {
      "image/png": "[encoded data removed]",
      "text/plain": [
       "<Figure size 432x288 with 1 Axes>"
      ]
     },
     "metadata": {
      "needs_background": "light"
     },
     "output_type": "display_data"
    },
    {
     "name": "stdout",
     "output_type": "stream",
     "text": [
      "                               Unmitigated ThresholdOptimizer GridSearch_2\n",
      "Overall selection rate            0.732082           0.888249     0.733129\n",
      "Demographic parity difference     0.007506           0.001277     0.006833\n",
      "Demographic parity ratio          0.989798           0.998564     0.990722\n",
      "------                                                                    \n",
      "Overall balanced error rate       0.766138            0.69214     0.765581\n",
      "Balanced error rate difference    0.011549           0.011844     0.012359\n",
      " ------                                                                   \n",
      "True positive rate                0.857912           0.979093     0.858696\n",
      "False positive rate difference    0.020063           0.020469     0.020637\n",
      "False negative rate difference    0.003035           0.003219     0.004082\n",
      "Equalized odds difference         0.020063           0.020469     0.020637\n",
      "  ------                                                                  \n",
      "Overall AUC                       0.840792            0.69214     0.841088\n",
      "AUC difference                    0.019052           0.011844     0.019149\n",
      "\n",
      "[Pandas(Index=2, predictor=LGBMClassifier(learning_rate=0.03, max_depth=3, metric='auc', num_leaves=10,\n",
      "               objective='binary'), accuracy=0.7655806269726121, disparity=0.020637203246760383)]\n",
      "\n",
      "{'Unmitigated': (array([1, 1, 1, ..., 1, 1, 1]), array([0.93011649, 0.83824133, 0.92549781, ..., 0.9124246 , 0.93011649,\n",
      "       0.83824133])), 'ThresholdOptimizer': (array([1, 1, 1, ..., 1, 1, 1]), array([1, 1, 1, ..., 1, 1, 1])), 'GridSearch_2': (array([1, 1, 1, ..., 1, 1, 1]), array([0.80825107, 0.62596504, 0.80399846, ..., 0.75534981, 0.80825107,\n",
      "       0.62596504]))}\n"
     ]
    }
   ],
   "source": [
    "# df_train_balanced_race_DC, Y_train_balanced_race_DC, A_train_balanced_race_DC = get_thresholdOptimizer_model(unmitigated_DC_age, test_preds, test_scores, B_train, B_test, B_str_test)\n",
    "get_gridSearch_model(unmitigated_DC_age, postprocess_preds, test_scores, test_preds, models_dict, B_str_test, df_train_balanced_age_DC, Y_train_balanced_age_DC, A_train_balanced_age_DC)\n",
    "print()\n",
    "GS_age_DC_models = GS_models\n",
    "print(GS_age_DC_models)\n",
    "print()\n",
    "GS_age_DC_metrics = GS_metrics\n",
    "print(GS_age_DC_metrics)"
   ]
  },
  {
   "cell_type": "markdown",
   "id": "ed0ca245",
   "metadata": {},
   "source": [
    "## Conclusion\n",
    "In this notebook, we explored how a fairness-unaware gradient boosted trees model performed on the classification task in contrast to the postprocessed `ThresholdOptimizer` model and the `GridSearch` model. The `ThresholdOptimizer` greatly reduced the disparity in performance across multiple fairness metrics. However the overall error rate and AUC for the `ThresholdOptimizer` model were worse compared to the fairness-unaware model. \n",
    "\n",
    "With the `GridSearch` algorithm, we trained multiple models that balance the trade-off between the balanced accuracy and the equalized odds fairness metric. After engaging with relevant stakeholders, the data scientist can deploy the model that balances the performance-fairness trade-off that meets the needs of the business."
   ]
  },
  {
   "cell_type": "markdown",
   "id": "fc97804d",
   "metadata": {},
   "source": [
    "# Ethinicity - DC"
   ]
  },
  {
   "cell_type": "code",
   "execution_count": 21,
   "id": "1f0e0095",
   "metadata": {},
   "outputs": [
    {
     "data": {
      "text/html": [
       "<div>\n",
       "<style scoped>\n",
       "    .dataframe tbody tr th:only-of-type {\n",
       "        vertical-align: middle;\n",
       "    }\n",
       "\n",
       "    .dataframe tbody tr th {\n",
       "        vertical-align: top;\n",
       "    }\n",
       "\n",
       "    .dataframe thead th {\n",
       "        text-align: right;\n",
       "    }\n",
       "</style>\n",
       "<table border=\"1\" class=\"dataframe\">\n",
       "  <thead>\n",
       "    <tr style=\"text-align: right;\">\n",
       "      <th></th>\n",
       "      <th>ethnicity</th>\n",
       "      <th>race</th>\n",
       "      <th>gender</th>\n",
       "      <th>action_taken</th>\n",
       "      <th>preapproval_requested</th>\n",
       "      <th>loan_type</th>\n",
       "      <th>loan_purpose</th>\n",
       "      <th>interest_only_payment</th>\n",
       "      <th>balloon_payment</th>\n",
       "      <th>debt_to_income_ratio</th>\n",
       "      <th>age</th>\n",
       "      <th>income</th>\n",
       "      <th>loan_to_value_ratio</th>\n",
       "    </tr>\n",
       "  </thead>\n",
       "  <tbody>\n",
       "    <tr>\n",
       "      <th>0</th>\n",
       "      <td>0</td>\n",
       "      <td>1</td>\n",
       "      <td>0</td>\n",
       "      <td>1</td>\n",
       "      <td>0</td>\n",
       "      <td>1</td>\n",
       "      <td>1</td>\n",
       "      <td>2</td>\n",
       "      <td>2</td>\n",
       "      <td>3</td>\n",
       "      <td>3</td>\n",
       "      <td>1</td>\n",
       "      <td>1</td>\n",
       "    </tr>\n",
       "    <tr>\n",
       "      <th>1</th>\n",
       "      <td>0</td>\n",
       "      <td>1</td>\n",
       "      <td>1</td>\n",
       "      <td>1</td>\n",
       "      <td>0</td>\n",
       "      <td>3</td>\n",
       "      <td>3</td>\n",
       "      <td>2</td>\n",
       "      <td>2</td>\n",
       "      <td>4</td>\n",
       "      <td>3</td>\n",
       "      <td>3</td>\n",
       "      <td>1</td>\n",
       "    </tr>\n",
       "    <tr>\n",
       "      <th>2</th>\n",
       "      <td>0</td>\n",
       "      <td>2</td>\n",
       "      <td>0</td>\n",
       "      <td>1</td>\n",
       "      <td>0</td>\n",
       "      <td>1</td>\n",
       "      <td>3</td>\n",
       "      <td>2</td>\n",
       "      <td>2</td>\n",
       "      <td>4</td>\n",
       "      <td>2</td>\n",
       "      <td>3</td>\n",
       "      <td>3</td>\n",
       "    </tr>\n",
       "    <tr>\n",
       "      <th>3</th>\n",
       "      <td>0</td>\n",
       "      <td>1</td>\n",
       "      <td>0</td>\n",
       "      <td>1</td>\n",
       "      <td>0</td>\n",
       "      <td>1</td>\n",
       "      <td>3</td>\n",
       "      <td>2</td>\n",
       "      <td>2</td>\n",
       "      <td>2</td>\n",
       "      <td>3</td>\n",
       "      <td>5</td>\n",
       "      <td>1</td>\n",
       "    </tr>\n",
       "    <tr>\n",
       "      <th>4</th>\n",
       "      <td>0</td>\n",
       "      <td>3</td>\n",
       "      <td>0</td>\n",
       "      <td>1</td>\n",
       "      <td>0</td>\n",
       "      <td>1</td>\n",
       "      <td>1</td>\n",
       "      <td>2</td>\n",
       "      <td>2</td>\n",
       "      <td>4</td>\n",
       "      <td>3</td>\n",
       "      <td>2</td>\n",
       "      <td>1</td>\n",
       "    </tr>\n",
       "  </tbody>\n",
       "</table>\n",
       "</div>"
      ],
      "text/plain": [
       "   ethnicity  race  gender  action_taken  preapproval_requested  loan_type  \\\n",
       "0          0     1       0             1                      0          1   \n",
       "1          0     1       1             1                      0          3   \n",
       "2          0     2       0             1                      0          1   \n",
       "3          0     1       0             1                      0          1   \n",
       "4          0     3       0             1                      0          1   \n",
       "\n",
       "   loan_purpose  interest_only_payment  balloon_payment  debt_to_income_ratio  \\\n",
       "0             1                      2                2                     3   \n",
       "1             3                      2                2                     4   \n",
       "2             3                      2                2                     4   \n",
       "3             3                      2                2                     2   \n",
       "4             1                      2                2                     4   \n",
       "\n",
       "   age  income  loan_to_value_ratio  \n",
       "0    3       1                    1  \n",
       "1    3       3                    1  \n",
       "2    2       3                    3  \n",
       "3    3       5                    1  \n",
       "4    3       2                    1  "
      ]
     },
     "execution_count": 21,
     "metadata": {},
     "output_type": "execute_result"
    }
   ],
   "source": [
    "# load the clean data\n",
    "d = 'data/Fairlearn_DC.csv'\n",
    "d = pd.read_csv(d, sep = ',')\n",
    "d.head()"
   ]
  },
  {
   "cell_type": "code",
   "execution_count": 22,
   "id": "09ffade3",
   "metadata": {
    "scrolled": false
   },
   "outputs": [
    {
     "data": {
      "text/plain": [
       "0            Hispanic\n",
       "1            Hispanic\n",
       "2            Hispanic\n",
       "3            Hispanic\n",
       "4            Hispanic\n",
       "             ...     \n",
       "89150        Hispanic\n",
       "89151        Hispanic\n",
       "89152    Non-Hispanic\n",
       "89153        Hispanic\n",
       "89154        Hispanic\n",
       "Name: ethnicity, Length: 89155, dtype: object"
      ]
     },
     "execution_count": 22,
     "metadata": {},
     "output_type": "execute_result"
    }
   ],
   "source": [
    "# Extract the sensitive feature - example: ethnicity - hispanic vs non hispanic\n",
    "C = d[\"ethnicity\"].apply(lambda x:1 if x == 0 else 0)\n",
    "C_str = C.map({ 1:\"Hispanic\", 0:\"Non-Hispanic\"})\n",
    "C_str"
   ]
  },
  {
   "cell_type": "code",
   "execution_count": 23,
   "id": "0c59afdb",
   "metadata": {},
   "outputs": [
    {
     "name": "stdout",
     "output_type": "stream",
     "text": [
      "<class 'pandas.core.frame.DataFrame'>\n",
      "RangeIndex: 89155 entries, 0 to 89154\n",
      "Data columns (total 13 columns):\n",
      " #   Column                 Non-Null Count  Dtype   \n",
      "---  ------                 --------------  -----   \n",
      " 0   ethnicity              89155 non-null  int64   \n",
      " 1   race                   89155 non-null  int64   \n",
      " 2   gender                 89155 non-null  int64   \n",
      " 3   action_taken           89155 non-null  int64   \n",
      " 4   preapproval_requested  89155 non-null  category\n",
      " 5   loan_type              89155 non-null  category\n",
      " 6   loan_purpose           89155 non-null  category\n",
      " 7   interest_only_payment  89155 non-null  category\n",
      " 8   balloon_payment        89155 non-null  category\n",
      " 9   debt_to_income_ratio   89155 non-null  category\n",
      " 10  age                    89155 non-null  int64   \n",
      " 11  income                 89155 non-null  category\n",
      " 12  loan_to_value_ratio    89155 non-null  int64   \n",
      "dtypes: category(7), int64(6)\n",
      "memory usage: 4.7 MB\n"
     ]
    }
   ],
   "source": [
    "# Extract the target\n",
    "Y = d[\"action_taken\"]\n",
    "categorical_features = ['preapproval_requested', 'loan_type','loan_purpose', 'interest_only_payment', 'balloon_payment', 'debt_to_income_ratio', 'income']\n",
    "for col in categorical_features:\n",
    "    d[col] = d[col].astype('category')\n",
    "d.info()"
   ]
  },
  {
   "cell_type": "code",
   "execution_count": 24,
   "id": "4b799b1f",
   "metadata": {},
   "outputs": [],
   "source": [
    "df_train, df_test, Y_train, Y_test, C_train, C_test, C_str_train, C_str_test = split(C, C_str)"
   ]
  },
  {
   "cell_type": "markdown",
   "id": "aef1cc31",
   "metadata": {},
   "source": [
    "## Using a Fairness Unaware Model"
   ]
  },
  {
   "cell_type": "code",
   "execution_count": 25,
   "id": "82e451c3",
   "metadata": {},
   "outputs": [
    {
     "name": "stdout",
     "output_type": "stream",
     "text": [
      "LGBMClassifier(learning_rate=0.03, max_depth=3, metric='auc', num_leaves=10,\n",
      "               objective='binary')\n",
      "Test Scores:  [0.93011649 0.83824133 0.92549781 ... 0.9124246  0.93011649 0.83824133]\n",
      "AUC:  0.8444153179566672\n"
     ]
    },
    {
     "data": {
      "image/png": "[encoded data removed]",
      "text/plain": [
       "<Figure size 432x288 with 1 Axes>"
      ]
     },
     "metadata": {
      "needs_background": "light"
     },
     "output_type": "display_data"
    },
    {
     "name": "stdout",
     "output_type": "stream",
     "text": [
      "                   FPR       FNR\n",
      "ethnicity                       \n",
      "Hispanic      0.329435  0.145786\n",
      "Non-Hispanic  0.298039  0.113353\n",
      "\n",
      "                               Unmitigated\n",
      "Overall selection rate            0.732082\n",
      "Demographic parity difference     0.010211\n",
      "Demographic parity ratio          0.986222\n",
      "------                                    \n",
      "Overall balanced error rate       0.766138\n",
      "Balanced error rate difference    0.031914\n",
      " ------                                   \n",
      "True positive rate                0.857912\n",
      "False positive rate difference    0.031396\n",
      "False negative rate difference    0.032433\n",
      "Equalized odds difference         0.032433\n",
      "  ------                                  \n",
      "Overall AUC                       0.840792\n",
      "AUC difference                      0.0269\n"
     ]
    }
   ],
   "source": [
    "get_fairness_unaware_model(df_train, df_test, Y_train, Y_test, C_train, C_test, C_str_train, C_str_test)"
   ]
  },
  {
   "cell_type": "code",
   "execution_count": 26,
   "id": "ec791b38",
   "metadata": {},
   "outputs": [
    {
     "name": "stdout",
     "output_type": "stream",
     "text": [
      "LGBMClassifier(learning_rate=0.03, max_depth=3, metric='auc', num_leaves=10,\n",
      "               objective='binary')\n"
     ]
    }
   ],
   "source": [
    "unmitigated_DC_ethinicity = unmitigated_model\n",
    "print(unmitigated_DC_ethinicity)"
   ]
  },
  {
   "cell_type": "markdown",
   "id": "be7b5e6e",
   "metadata": {},
   "source": [
    "## Mitigating Equalized Odds Difference with Postprocessing\n",
    "We attempt to mitigate the disparities in the `lightgbm` predictions using the Fairlearn postprocessing algorithm `ThresholdOptimizer`. This algorithm finds a suitable threshold for the scores (class probabilities) produced by the `lightgbm` model by optimizing the accuracy rate under the constraint that the equalized odds difference (on training data) is zero. Since our goal is to optimize balanced accuracy, we resample the training data to have the same number of positive and negative examples. This means that `ThresholdOptimizer` is effectively optimizing balanced accuracy on the original data."
   ]
  },
  {
   "cell_type": "code",
   "execution_count": 27,
   "id": "79e82d2f",
   "metadata": {},
   "outputs": [
    {
     "name": "stdout",
     "output_type": "stream",
     "text": [
      "                               Unmitigated ThresholdOptimizer\n",
      "Overall selection rate            0.732082           0.880099\n",
      "Demographic parity difference     0.010211           0.019745\n",
      "Demographic parity ratio          0.986222           0.977623\n",
      "------                                                       \n",
      "Overall balanced error rate       0.766138           0.706272\n",
      "Balanced error rate difference    0.031914           0.024067\n",
      " ------                                                      \n",
      "True positive rate                0.857912           0.977624\n",
      "False positive rate difference    0.031396           0.050987\n",
      "False negative rate difference    0.032433           0.002853\n",
      "Equalized odds difference         0.032433           0.050987\n",
      "  ------                                                     \n",
      "Overall AUC                       0.840792           0.706272\n",
      "AUC difference                      0.0269           0.024067\n",
      "\n",
      "ThresholdOptimizer(constraints='equalized_odds',\n",
      "                   estimator=LGBMClassifier(learning_rate=0.03, max_depth=3,\n",
      "                                            metric='auc', num_leaves=10,\n",
      "                                            objective='binary'),\n",
      "                   prefit=True)\n"
     ]
    }
   ],
   "source": [
    "df_train_balanced_ethnicity_DC, Y_train_balanced_ethnicity_DC, A_train_balanced_ethinicity_DC = get_thresholdOptimizer_model(unmitigated_DC_ethinicity, test_preds, test_scores, C_train, C_test, C_str_test)\n",
    "print()\n",
    "ThresholdOptimizer_DC_ethinicity = TO\n",
    "print(ThresholdOptimizer_DC_ethinicity)"
   ]
  },
  {
   "cell_type": "markdown",
   "id": "b7bb1703",
   "metadata": {},
   "source": [
    "The `ThresholdOptimizer` algorithm significantly reduces the disparity according to multiple metrics. However, the performance metrics (balanced error rate as well as AUC) get worse. Before deploying such a model in practice, it would be important to examine in more detail why we observe such a sharp trade-off. In our case it is because the available features are much less informative for one of the demographic groups than for the other.\n",
    "\n",
    "Note that unlike the unmitigated model, `ThresholdOptimizer` produces 0/1 predictions, so its balanced error rate difference is equal to the AUC difference, and its overall balanced error rate is equal to 1 - overall AUC.\n",
    "\n",
    "## Mitigating Equalized Odds Difference with GridSearch\n",
    "\n",
    "We now attempt to mitigate disparities using the `GridSearch` algorithm. Unlike `ThresholdOptimizer`, the predictors produced by `GridSearch` do not access the sensitive feature at test time. Also, rather than training a single model, we train multiple models corresponding to different trade-off points between the performance metric (balanced accuracy) and fairness metric (equalized odds difference)."
   ]
  },
  {
   "cell_type": "code",
   "execution_count": 28,
   "id": "9a718940",
   "metadata": {},
   "outputs": [
    {
     "name": "stderr",
     "output_type": "stream",
     "text": [
      "Generating a grid with 3 grid points. It is recommended to use at least 4 grid points. Please consider increasing grid_size.\n"
     ]
    },
    {
     "name": "stdout",
     "output_type": "stream",
     "text": [
      "Finished loading model, total used 100 iterations\n",
      "Finished loading model, total used 100 iterations\n",
      "Finished loading model, total used 100 iterations\n"
     ]
    },
    {
     "data": {
      "image/png": "[encoded data removed]",
      "text/plain": [
       "<Figure size 432x288 with 1 Axes>"
      ]
     },
     "metadata": {
      "needs_background": "light"
     },
     "output_type": "display_data"
    },
    {
     "data": {
      "image/png": "[encoded data removed]",
      "text/plain": [
       "<Figure size 432x288 with 1 Axes>"
      ]
     },
     "metadata": {
      "needs_background": "light"
     },
     "output_type": "display_data"
    },
    {
     "name": "stdout",
     "output_type": "stream",
     "text": [
      "                               Unmitigated ThresholdOptimizer GridSearch_2\n",
      "Overall selection rate            0.732082           0.880099     0.733129\n",
      "Demographic parity difference     0.010211           0.019745     0.010124\n",
      "Demographic parity ratio          0.986222           0.977623     0.986358\n",
      "------                                                                    \n",
      "Overall balanced error rate       0.766138           0.706272     0.765581\n",
      "Balanced error rate difference    0.031914           0.024067     0.033279\n",
      " ------                                                                   \n",
      "True positive rate                0.857912           0.977624     0.858696\n",
      "False positive rate difference    0.031396           0.050987     0.033555\n",
      "False negative rate difference    0.032433           0.002853     0.033002\n",
      "Equalized odds difference         0.032433           0.050987     0.033555\n",
      "  ------                                                                  \n",
      "Overall AUC                       0.840792           0.706272     0.841088\n",
      "AUC difference                      0.0269           0.024067     0.026749\n",
      "\n",
      "[Pandas(Index=2, predictor=LGBMClassifier(learning_rate=0.03, max_depth=3, metric='auc', num_leaves=10,\n",
      "               objective='binary'), accuracy=0.7655806269726121, disparity=0.033554882910342976)]\n",
      "\n",
      "{'Unmitigated': (array([1, 1, 1, ..., 1, 1, 1]), array([0.93011649, 0.83824133, 0.92549781, ..., 0.9124246 , 0.93011649,\n",
      "       0.83824133])), 'ThresholdOptimizer': (array([1, 1, 1, ..., 1, 1, 1]), array([1, 1, 1, ..., 1, 1, 1])), 'GridSearch_2': (array([1, 1, 1, ..., 1, 1, 1]), array([0.80825107, 0.62596504, 0.80399846, ..., 0.75534981, 0.80825107,\n",
      "       0.62596504]))}\n"
     ]
    }
   ],
   "source": [
    "get_gridSearch_model(unmitigated_DC_ethinicity, postprocess_preds, test_scores, test_preds, models_dict, C_str_test, df_train_balanced_ethnicity_DC, Y_train_balanced_ethnicity_DC, A_train_balanced_ethinicity_DC)\n",
    "print()\n",
    "GS_ethinicity_DC_models = GS_models\n",
    "print(GS_ethinicity_DC_models)\n",
    "print()\n",
    "GS_ethinicity_DC_metrics = GS_metrics\n",
    "print(GS_ethinicity_DC_metrics)"
   ]
  },
  {
   "cell_type": "markdown",
   "id": "f1b34c97",
   "metadata": {},
   "source": [
    "## Conclusion\n",
    "In this notebook, we explored how a fairness-unaware gradient boosted trees model performed on the classification task in contrast to the postprocessed `ThresholdOptimizer` model and the `GridSearch` model. The `ThresholdOptimizer` greatly reduced the disparity in performance across multiple fairness metrics. However the overall error rate and AUC for the `ThresholdOptimizer` model were worse compared to the fairness-unaware model. \n",
    "\n",
    "With the `GridSearch` algorithm, we trained multiple models that balance the trade-off between the balanced accuracy and the equalized odds fairness metric. After engaging with relevant stakeholders, the data scientist can deploy the model that balances the performance-fairness trade-off that meets the needs of the business."
   ]
  },
  {
   "cell_type": "code",
   "execution_count": null,
   "id": "56fb48b8",
   "metadata": {},
   "outputs": [],
   "source": []
  }
 ],
 "metadata": {
  "kernelspec": {
   "display_name": "Python 3 (ipykernel)",
   "language": "python",
   "name": "python3"
  },
  "language_info": {
   "codemirror_mode": {
    "name": "ipython",
    "version": 3
   },
   "file_extension": ".py",
   "mimetype": "text/x-python",
   "name": "python",
   "nbconvert_exporter": "python",
   "pygments_lexer": "ipython3",
   "version": "3.9.12"
  }
 },
 "nbformat": 4,
 "nbformat_minor": 5
}
