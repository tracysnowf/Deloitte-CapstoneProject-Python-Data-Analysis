{
 "cells": [
  {
   "cell_type": "markdown",
   "id": "f8d836ba",
   "metadata": {},
   "source": [
    "# Part 2: Feature Preprocessing"
   ]
  },
  {
   "cell_type": "code",
   "execution_count": null,
   "id": "55c9ff57",
   "metadata": {},
   "outputs": [],
   "source": []
  },
  {
   "cell_type": "code",
   "execution_count": 1,
   "id": "5e80ede2",
   "metadata": {},
   "outputs": [],
   "source": [
    "import numpy as np\n",
    "import pandas as pd"
   ]
  },
  {
   "cell_type": "code",
   "execution_count": 2,
   "id": "22d3f534",
   "metadata": {},
   "outputs": [],
   "source": [
    "# load clean data from part 1\n",
    "df_cr = 'data/Clean_Mortgage_Lending_IL_Chicago.csv'\n",
    "df_cr = pd.read_csv(df_cr, sep = ',')"
   ]
  },
  {
   "cell_type": "code",
   "execution_count": 3,
   "id": "3793f564",
   "metadata": {
    "scrolled": true
   },
   "outputs": [
    {
     "name": "stdout",
     "output_type": "stream",
     "text": [
      "<class 'pandas.core.frame.DataFrame'>\n",
      "RangeIndex: 110882 entries, 0 to 110881\n",
      "Data columns (total 13 columns):\n",
      " #   Column                 Non-Null Count   Dtype \n",
      "---  ------                 --------------   ----- \n",
      " 0   ethnicity              110882 non-null  object\n",
      " 1   race                   110882 non-null  object\n",
      " 2   gender                 110882 non-null  object\n",
      " 3   action_taken           110882 non-null  int64 \n",
      " 4   preapproval_requested  110882 non-null  object\n",
      " 5   loan_type              110882 non-null  object\n",
      " 6   loan_purpose           110882 non-null  object\n",
      " 7   interest_only_payment  110882 non-null  object\n",
      " 8   balloon_payment        110882 non-null  object\n",
      " 9   debt_to_income_ratio   110882 non-null  object\n",
      " 10  age                    110882 non-null  object\n",
      " 11  income                 110882 non-null  object\n",
      " 12  loan_to_value_ratio    110882 non-null  object\n",
      "dtypes: int64(1), object(12)\n",
      "memory usage: 11.0+ MB\n"
     ]
    }
   ],
   "source": [
    "df_cr.info()"
   ]
  },
  {
   "cell_type": "code",
   "execution_count": 4,
   "id": "cc0f673c",
   "metadata": {},
   "outputs": [],
   "source": [
    "from sklearn import model_selection\n",
    "from sklearn.preprocessing import OneHotEncoder\n",
    "from sklearn.preprocessing import OrdinalEncoder\n",
    "from sklearn.preprocessing import StandardScaler"
   ]
  },
  {
   "cell_type": "markdown",
   "id": "05d58f60",
   "metadata": {},
   "source": [
    "### Split Data"
   ]
  },
  {
   "cell_type": "code",
   "execution_count": 5,
   "id": "61321c4c",
   "metadata": {},
   "outputs": [],
   "source": [
    "to_drop = ['action_taken']\n",
    "X = df_cr.drop(to_drop, axis = 1)\n",
    "# target variable\n",
    "y = df_cr['action_taken']"
   ]
  },
  {
   "cell_type": "code",
   "execution_count": 6,
   "id": "c006f12f",
   "metadata": {},
   "outputs": [
    {
     "name": "stdout",
     "output_type": "stream",
     "text": [
      "training data has 83161 observation with 12 features\n",
      "test data has 27721 observation with 12 features\n"
     ]
    }
   ],
   "source": [
    "# Splite data into training and testing\n",
    "# 100 -> 75:y=1, 25:y=0\n",
    "# training(80): 60 y=1; 20 y=0 \n",
    "# testing(20):  15 y=1; 5 y=0\n",
    "\n",
    "# Reserve 25% for testing\n",
    "# stratify example:\n",
    "# 100 -> y: 80 '0', 20 '1' -> 4:1\n",
    "# 80% training 64: '0', 16:'1' -> 4:1\n",
    "# 20% testing  16:'0', 4: '1' -> 4:1\n",
    "X_train, X_test, y_train, y_test = model_selection.train_test_split(X, y, test_size=0.25, stratify = y, random_state=1) #stratified sampling\n",
    "\n",
    "print('training data has ' + str(X_train.shape[0]) + ' observation with ' + str(X_train.shape[1]) + ' features')\n",
    "print('test data has ' + str(X_test.shape[0]) + ' observation with ' + str(X_test.shape[1]) + ' features')"
   ]
  },
  {
   "cell_type": "code",
   "execution_count": 7,
   "id": "f6780480",
   "metadata": {},
   "outputs": [
    {
     "data": {
      "text/html": [
       "<div>\n",
       "<style scoped>\n",
       "    .dataframe tbody tr th:only-of-type {\n",
       "        vertical-align: middle;\n",
       "    }\n",
       "\n",
       "    .dataframe tbody tr th {\n",
       "        vertical-align: top;\n",
       "    }\n",
       "\n",
       "    .dataframe thead th {\n",
       "        text-align: right;\n",
       "    }\n",
       "</style>\n",
       "<table border=\"1\" class=\"dataframe\">\n",
       "  <thead>\n",
       "    <tr style=\"text-align: right;\">\n",
       "      <th></th>\n",
       "      <th>ethnicity</th>\n",
       "      <th>race</th>\n",
       "      <th>gender</th>\n",
       "      <th>preapproval_requested</th>\n",
       "      <th>loan_type</th>\n",
       "      <th>loan_purpose</th>\n",
       "      <th>interest_only_payment</th>\n",
       "      <th>balloon_payment</th>\n",
       "      <th>debt_to_income_ratio</th>\n",
       "      <th>age</th>\n",
       "      <th>income</th>\n",
       "      <th>loan_to_value_ratio</th>\n",
       "    </tr>\n",
       "  </thead>\n",
       "  <tbody>\n",
       "    <tr>\n",
       "      <th>63028</th>\n",
       "      <td>Not Hispanic or Latino</td>\n",
       "      <td>White</td>\n",
       "      <td>Male</td>\n",
       "      <td>No Preapproval Requested</td>\n",
       "      <td>Converntional</td>\n",
       "      <td>Refinancing</td>\n",
       "      <td>No Interest-only Payments</td>\n",
       "      <td>No Balloon Payment</td>\n",
       "      <td>20%-&lt;30%</td>\n",
       "      <td>Middle-Aged</td>\n",
       "      <td>Middle Class</td>\n",
       "      <td>&lt; Conventional Bar</td>\n",
       "    </tr>\n",
       "    <tr>\n",
       "      <th>46546</th>\n",
       "      <td>Not Hispanic or Latino</td>\n",
       "      <td>White</td>\n",
       "      <td>Male</td>\n",
       "      <td>No Preapproval Requested</td>\n",
       "      <td>Converntional</td>\n",
       "      <td>Refinancing</td>\n",
       "      <td>Interest-only Payments</td>\n",
       "      <td>No Balloon Payment</td>\n",
       "      <td>30%-&lt;36%</td>\n",
       "      <td>Middle-Aged</td>\n",
       "      <td>Upper-Middle Class</td>\n",
       "      <td>&gt; Conventional Bar and &lt; FHA Bar</td>\n",
       "    </tr>\n",
       "    <tr>\n",
       "      <th>104683</th>\n",
       "      <td>Not Hispanic or Latino</td>\n",
       "      <td>Black or African American</td>\n",
       "      <td>Male</td>\n",
       "      <td>No Preapproval Requested</td>\n",
       "      <td>Converntional</td>\n",
       "      <td>Other Purpose</td>\n",
       "      <td>No Interest-only Payments</td>\n",
       "      <td>No Balloon Payment</td>\n",
       "      <td>&gt;60%</td>\n",
       "      <td>Middle-Aged</td>\n",
       "      <td>Lower-Middle Class</td>\n",
       "      <td>&lt; Conventional Bar</td>\n",
       "    </tr>\n",
       "    <tr>\n",
       "      <th>107250</th>\n",
       "      <td>Not Hispanic or Latino</td>\n",
       "      <td>White</td>\n",
       "      <td>Male</td>\n",
       "      <td>No Preapproval Requested</td>\n",
       "      <td>Converntional</td>\n",
       "      <td>Refinancing</td>\n",
       "      <td>No Interest-only Payments</td>\n",
       "      <td>No Balloon Payment</td>\n",
       "      <td>36%-&lt;50%</td>\n",
       "      <td>Older</td>\n",
       "      <td>Upper-Middle Class</td>\n",
       "      <td>&gt; Conventional Bar and &lt; FHA Bar</td>\n",
       "    </tr>\n",
       "    <tr>\n",
       "      <th>32053</th>\n",
       "      <td>Not Hispanic or Latino</td>\n",
       "      <td>White</td>\n",
       "      <td>Male</td>\n",
       "      <td>No Preapproval Requested</td>\n",
       "      <td>Converntional</td>\n",
       "      <td>Home Purchase</td>\n",
       "      <td>No Interest-only Payments</td>\n",
       "      <td>No Balloon Payment</td>\n",
       "      <td>36%-&lt;50%</td>\n",
       "      <td>Young</td>\n",
       "      <td>Upper-Middle Class</td>\n",
       "      <td>&lt; Conventional Bar</td>\n",
       "    </tr>\n",
       "  </tbody>\n",
       "</table>\n",
       "</div>"
      ],
      "text/plain": [
       "                     ethnicity                       race gender  \\\n",
       "63028   Not Hispanic or Latino                      White   Male   \n",
       "46546   Not Hispanic or Latino                      White   Male   \n",
       "104683  Not Hispanic or Latino  Black or African American   Male   \n",
       "107250  Not Hispanic or Latino                      White   Male   \n",
       "32053   Not Hispanic or Latino                      White   Male   \n",
       "\n",
       "           preapproval_requested      loan_type   loan_purpose  \\\n",
       "63028   No Preapproval Requested  Converntional    Refinancing   \n",
       "46546   No Preapproval Requested  Converntional    Refinancing   \n",
       "104683  No Preapproval Requested  Converntional  Other Purpose   \n",
       "107250  No Preapproval Requested  Converntional    Refinancing   \n",
       "32053   No Preapproval Requested  Converntional  Home Purchase   \n",
       "\n",
       "            interest_only_payment     balloon_payment debt_to_income_ratio  \\\n",
       "63028   No Interest-only Payments  No Balloon Payment             20%-<30%   \n",
       "46546      Interest-only Payments  No Balloon Payment             30%-<36%   \n",
       "104683  No Interest-only Payments  No Balloon Payment                 >60%   \n",
       "107250  No Interest-only Payments  No Balloon Payment             36%-<50%   \n",
       "32053   No Interest-only Payments  No Balloon Payment             36%-<50%   \n",
       "\n",
       "                age              income               loan_to_value_ratio  \n",
       "63028   Middle-Aged        Middle Class                < Conventional Bar  \n",
       "46546   Middle-Aged  Upper-Middle Class  > Conventional Bar and < FHA Bar  \n",
       "104683  Middle-Aged  Lower-Middle Class                < Conventional Bar  \n",
       "107250        Older  Upper-Middle Class  > Conventional Bar and < FHA Bar  \n",
       "32053         Young  Upper-Middle Class                < Conventional Bar  "
      ]
     },
     "execution_count": 7,
     "metadata": {},
     "output_type": "execute_result"
    }
   ],
   "source": [
    "X_train.head()"
   ]
  },
  {
   "cell_type": "code",
   "execution_count": 8,
   "id": "f16d812e",
   "metadata": {},
   "outputs": [
    {
     "data": {
      "text/plain": [
       "ethnicity                object\n",
       "race                     object\n",
       "gender                   object\n",
       "preapproval_requested    object\n",
       "loan_type                object\n",
       "loan_purpose             object\n",
       "interest_only_payment    object\n",
       "balloon_payment          object\n",
       "debt_to_income_ratio     object\n",
       "age                      object\n",
       "income                   object\n",
       "loan_to_value_ratio      object\n",
       "dtype: object"
      ]
     },
     "execution_count": 8,
     "metadata": {},
     "output_type": "execute_result"
    }
   ],
   "source": [
    "X.dtypes"
   ]
  },
  {
   "cell_type": "code",
   "execution_count": 9,
   "id": "dab4baeb",
   "metadata": {},
   "outputs": [],
   "source": [
    "X_train.to_csv('data/X_train.csv', index = False)\n",
    "y_train.to_csv('data/y_train.csv', index = False)\n",
    "\n",
    "X_test.to_csv('data/X_test.csv', index = False)\n",
    "y_test.to_csv('data/y_test.csv', index = False)"
   ]
  },
  {
   "cell_type": "markdown",
   "id": "f3c740e2",
   "metadata": {},
   "source": [
    "### One Hot, Oridinary Encoding"
   ]
  },
  {
   "cell_type": "code",
   "execution_count": 10,
   "id": "d8bc8666",
   "metadata": {},
   "outputs": [
    {
     "name": "stderr",
     "output_type": "stream",
     "text": [
      "C:\\Users\\Xue Feng\\anaconda3\\lib\\site-packages\\sklearn\\utils\\deprecation.py:87: FutureWarning: Function get_feature_names is deprecated; get_feature_names is deprecated in 1.0 and will be removed in 1.2. Please use get_feature_names_out instead.\n",
      "  warnings.warn(msg, category=FutureWarning)\n",
      "C:\\Users\\Xue Feng\\anaconda3\\lib\\site-packages\\sklearn\\utils\\deprecation.py:87: FutureWarning: Function get_feature_names is deprecated; get_feature_names is deprecated in 1.0 and will be removed in 1.2. Please use get_feature_names_out instead.\n",
      "  warnings.warn(msg, category=FutureWarning)\n"
     ]
    }
   ],
   "source": [
    "# One hot encoding (for categorical features with more than two categories itself (i.e. not 0 and 1))\n",
    "def OneHotEncoding(df, enc, categories):  \n",
    "  transformed = pd.DataFrame(enc.transform(df[categories]).toarray(), columns=enc.get_feature_names(categories))\n",
    "  return pd.concat([df.reset_index(drop=True), transformed], axis=1).drop(categories, axis=1)\n",
    "\n",
    "categories = ['race', 'loan_type', 'loan_purpose', 'debt_to_income_ratio', 'age', 'income', 'loan_to_value_ratio']\n",
    "enc_ohe = OneHotEncoder()\n",
    "enc_ohe.fit(X_train[categories])\n",
    "\n",
    "X_train = OneHotEncoding(X_train, enc_ohe, categories)\n",
    "X_test = OneHotEncoding(X_test, enc_ohe, categories)"
   ]
  },
  {
   "cell_type": "code",
   "execution_count": 11,
   "id": "a150d60a",
   "metadata": {},
   "outputs": [
    {
     "data": {
      "text/html": [
       "<div>\n",
       "<style scoped>\n",
       "    .dataframe tbody tr th:only-of-type {\n",
       "        vertical-align: middle;\n",
       "    }\n",
       "\n",
       "    .dataframe tbody tr th {\n",
       "        vertical-align: top;\n",
       "    }\n",
       "\n",
       "    .dataframe thead th {\n",
       "        text-align: right;\n",
       "    }\n",
       "</style>\n",
       "<table border=\"1\" class=\"dataframe\">\n",
       "  <thead>\n",
       "    <tr style=\"text-align: right;\">\n",
       "      <th></th>\n",
       "      <th>ethnicity</th>\n",
       "      <th>gender</th>\n",
       "      <th>preapproval_requested</th>\n",
       "      <th>interest_only_payment</th>\n",
       "      <th>balloon_payment</th>\n",
       "      <th>race_Asian</th>\n",
       "      <th>race_Black or African American</th>\n",
       "      <th>race_Minority Races</th>\n",
       "      <th>race_White</th>\n",
       "      <th>loan_type_Converntional</th>\n",
       "      <th>...</th>\n",
       "      <th>age_Young</th>\n",
       "      <th>income_Lower-Middle Class</th>\n",
       "      <th>income_Middle Class</th>\n",
       "      <th>income_Poor and Near Poor</th>\n",
       "      <th>income_Rich</th>\n",
       "      <th>income_Upper-Middle Class</th>\n",
       "      <th>loan_to_value_ratio_&lt; Conventional Bar</th>\n",
       "      <th>loan_to_value_ratio_&gt; Conventional Bar and &lt; FHA Bar</th>\n",
       "      <th>loan_to_value_ratio_&gt; FHA Bar and &lt; VA Bar</th>\n",
       "      <th>loan_to_value_ratio_Not Eligible</th>\n",
       "    </tr>\n",
       "  </thead>\n",
       "  <tbody>\n",
       "    <tr>\n",
       "      <th>0</th>\n",
       "      <td>Not Hispanic or Latino</td>\n",
       "      <td>Male</td>\n",
       "      <td>No Preapproval Requested</td>\n",
       "      <td>No Interest-only Payments</td>\n",
       "      <td>No Balloon Payment</td>\n",
       "      <td>0.0</td>\n",
       "      <td>0.0</td>\n",
       "      <td>0.0</td>\n",
       "      <td>1.0</td>\n",
       "      <td>1.0</td>\n",
       "      <td>...</td>\n",
       "      <td>0.0</td>\n",
       "      <td>0.0</td>\n",
       "      <td>1.0</td>\n",
       "      <td>0.0</td>\n",
       "      <td>0.0</td>\n",
       "      <td>0.0</td>\n",
       "      <td>1.0</td>\n",
       "      <td>0.0</td>\n",
       "      <td>0.0</td>\n",
       "      <td>0.0</td>\n",
       "    </tr>\n",
       "    <tr>\n",
       "      <th>1</th>\n",
       "      <td>Not Hispanic or Latino</td>\n",
       "      <td>Male</td>\n",
       "      <td>No Preapproval Requested</td>\n",
       "      <td>Interest-only Payments</td>\n",
       "      <td>No Balloon Payment</td>\n",
       "      <td>0.0</td>\n",
       "      <td>0.0</td>\n",
       "      <td>0.0</td>\n",
       "      <td>1.0</td>\n",
       "      <td>1.0</td>\n",
       "      <td>...</td>\n",
       "      <td>0.0</td>\n",
       "      <td>0.0</td>\n",
       "      <td>0.0</td>\n",
       "      <td>0.0</td>\n",
       "      <td>0.0</td>\n",
       "      <td>1.0</td>\n",
       "      <td>0.0</td>\n",
       "      <td>1.0</td>\n",
       "      <td>0.0</td>\n",
       "      <td>0.0</td>\n",
       "    </tr>\n",
       "    <tr>\n",
       "      <th>2</th>\n",
       "      <td>Not Hispanic or Latino</td>\n",
       "      <td>Male</td>\n",
       "      <td>No Preapproval Requested</td>\n",
       "      <td>No Interest-only Payments</td>\n",
       "      <td>No Balloon Payment</td>\n",
       "      <td>0.0</td>\n",
       "      <td>1.0</td>\n",
       "      <td>0.0</td>\n",
       "      <td>0.0</td>\n",
       "      <td>1.0</td>\n",
       "      <td>...</td>\n",
       "      <td>0.0</td>\n",
       "      <td>1.0</td>\n",
       "      <td>0.0</td>\n",
       "      <td>0.0</td>\n",
       "      <td>0.0</td>\n",
       "      <td>0.0</td>\n",
       "      <td>1.0</td>\n",
       "      <td>0.0</td>\n",
       "      <td>0.0</td>\n",
       "      <td>0.0</td>\n",
       "    </tr>\n",
       "    <tr>\n",
       "      <th>3</th>\n",
       "      <td>Not Hispanic or Latino</td>\n",
       "      <td>Male</td>\n",
       "      <td>No Preapproval Requested</td>\n",
       "      <td>No Interest-only Payments</td>\n",
       "      <td>No Balloon Payment</td>\n",
       "      <td>0.0</td>\n",
       "      <td>0.0</td>\n",
       "      <td>0.0</td>\n",
       "      <td>1.0</td>\n",
       "      <td>1.0</td>\n",
       "      <td>...</td>\n",
       "      <td>0.0</td>\n",
       "      <td>0.0</td>\n",
       "      <td>0.0</td>\n",
       "      <td>0.0</td>\n",
       "      <td>0.0</td>\n",
       "      <td>1.0</td>\n",
       "      <td>0.0</td>\n",
       "      <td>1.0</td>\n",
       "      <td>0.0</td>\n",
       "      <td>0.0</td>\n",
       "    </tr>\n",
       "    <tr>\n",
       "      <th>4</th>\n",
       "      <td>Not Hispanic or Latino</td>\n",
       "      <td>Male</td>\n",
       "      <td>No Preapproval Requested</td>\n",
       "      <td>No Interest-only Payments</td>\n",
       "      <td>No Balloon Payment</td>\n",
       "      <td>0.0</td>\n",
       "      <td>0.0</td>\n",
       "      <td>0.0</td>\n",
       "      <td>1.0</td>\n",
       "      <td>1.0</td>\n",
       "      <td>...</td>\n",
       "      <td>1.0</td>\n",
       "      <td>0.0</td>\n",
       "      <td>0.0</td>\n",
       "      <td>0.0</td>\n",
       "      <td>0.0</td>\n",
       "      <td>1.0</td>\n",
       "      <td>1.0</td>\n",
       "      <td>0.0</td>\n",
       "      <td>0.0</td>\n",
       "      <td>0.0</td>\n",
       "    </tr>\n",
       "  </tbody>\n",
       "</table>\n",
       "<p>5 rows × 34 columns</p>\n",
       "</div>"
      ],
      "text/plain": [
       "                ethnicity gender     preapproval_requested  \\\n",
       "0  Not Hispanic or Latino   Male  No Preapproval Requested   \n",
       "1  Not Hispanic or Latino   Male  No Preapproval Requested   \n",
       "2  Not Hispanic or Latino   Male  No Preapproval Requested   \n",
       "3  Not Hispanic or Latino   Male  No Preapproval Requested   \n",
       "4  Not Hispanic or Latino   Male  No Preapproval Requested   \n",
       "\n",
       "       interest_only_payment     balloon_payment  race_Asian  \\\n",
       "0  No Interest-only Payments  No Balloon Payment         0.0   \n",
       "1     Interest-only Payments  No Balloon Payment         0.0   \n",
       "2  No Interest-only Payments  No Balloon Payment         0.0   \n",
       "3  No Interest-only Payments  No Balloon Payment         0.0   \n",
       "4  No Interest-only Payments  No Balloon Payment         0.0   \n",
       "\n",
       "   race_Black or African American  race_Minority Races  race_White  \\\n",
       "0                             0.0                  0.0         1.0   \n",
       "1                             0.0                  0.0         1.0   \n",
       "2                             1.0                  0.0         0.0   \n",
       "3                             0.0                  0.0         1.0   \n",
       "4                             0.0                  0.0         1.0   \n",
       "\n",
       "   loan_type_Converntional  ...  age_Young  income_Lower-Middle Class  \\\n",
       "0                      1.0  ...        0.0                        0.0   \n",
       "1                      1.0  ...        0.0                        0.0   \n",
       "2                      1.0  ...        0.0                        1.0   \n",
       "3                      1.0  ...        0.0                        0.0   \n",
       "4                      1.0  ...        1.0                        0.0   \n",
       "\n",
       "   income_Middle Class  income_Poor and Near Poor  income_Rich  \\\n",
       "0                  1.0                        0.0          0.0   \n",
       "1                  0.0                        0.0          0.0   \n",
       "2                  0.0                        0.0          0.0   \n",
       "3                  0.0                        0.0          0.0   \n",
       "4                  0.0                        0.0          0.0   \n",
       "\n",
       "   income_Upper-Middle Class  loan_to_value_ratio_< Conventional Bar  \\\n",
       "0                        0.0                                     1.0   \n",
       "1                        1.0                                     0.0   \n",
       "2                        0.0                                     1.0   \n",
       "3                        1.0                                     0.0   \n",
       "4                        1.0                                     1.0   \n",
       "\n",
       "   loan_to_value_ratio_> Conventional Bar and < FHA Bar  \\\n",
       "0                                                0.0      \n",
       "1                                                1.0      \n",
       "2                                                0.0      \n",
       "3                                                1.0      \n",
       "4                                                0.0      \n",
       "\n",
       "   loan_to_value_ratio_> FHA Bar and < VA Bar  \\\n",
       "0                                         0.0   \n",
       "1                                         0.0   \n",
       "2                                         0.0   \n",
       "3                                         0.0   \n",
       "4                                         0.0   \n",
       "\n",
       "   loan_to_value_ratio_Not Eligible  \n",
       "0                               0.0  \n",
       "1                               0.0  \n",
       "2                               0.0  \n",
       "3                               0.0  \n",
       "4                               0.0  \n",
       "\n",
       "[5 rows x 34 columns]"
      ]
     },
     "execution_count": 11,
     "metadata": {},
     "output_type": "execute_result"
    }
   ],
   "source": [
    "X_train.head()"
   ]
  },
  {
   "cell_type": "code",
   "execution_count": 12,
   "id": "2847dc22",
   "metadata": {},
   "outputs": [],
   "source": [
    "# Ordinal Encoding (for categorical variables only have values 0 and 1)\n",
    "categories = ['ethnicity', 'gender', 'preapproval_requested', 'interest_only_payment', 'balloon_payment']\n",
    "enc_oe = OrdinalEncoder()\n",
    "enc_oe.fit(X_train[categories])\n",
    "\n",
    "X_train[categories] = enc_oe.transform(X_train[categories])\n",
    "X_test[categories] = enc_oe.transform(X_test[categories])"
   ]
  },
  {
   "cell_type": "code",
   "execution_count": 13,
   "id": "410ba192",
   "metadata": {},
   "outputs": [
    {
     "data": {
      "text/html": [
       "<div>\n",
       "<style scoped>\n",
       "    .dataframe tbody tr th:only-of-type {\n",
       "        vertical-align: middle;\n",
       "    }\n",
       "\n",
       "    .dataframe tbody tr th {\n",
       "        vertical-align: top;\n",
       "    }\n",
       "\n",
       "    .dataframe thead th {\n",
       "        text-align: right;\n",
       "    }\n",
       "</style>\n",
       "<table border=\"1\" class=\"dataframe\">\n",
       "  <thead>\n",
       "    <tr style=\"text-align: right;\">\n",
       "      <th></th>\n",
       "      <th>ethnicity</th>\n",
       "      <th>gender</th>\n",
       "      <th>preapproval_requested</th>\n",
       "      <th>interest_only_payment</th>\n",
       "      <th>balloon_payment</th>\n",
       "      <th>race_Asian</th>\n",
       "      <th>race_Black or African American</th>\n",
       "      <th>race_Minority Races</th>\n",
       "      <th>race_White</th>\n",
       "      <th>loan_type_Converntional</th>\n",
       "      <th>...</th>\n",
       "      <th>age_Young</th>\n",
       "      <th>income_Lower-Middle Class</th>\n",
       "      <th>income_Middle Class</th>\n",
       "      <th>income_Poor and Near Poor</th>\n",
       "      <th>income_Rich</th>\n",
       "      <th>income_Upper-Middle Class</th>\n",
       "      <th>loan_to_value_ratio_&lt; Conventional Bar</th>\n",
       "      <th>loan_to_value_ratio_&gt; Conventional Bar and &lt; FHA Bar</th>\n",
       "      <th>loan_to_value_ratio_&gt; FHA Bar and &lt; VA Bar</th>\n",
       "      <th>loan_to_value_ratio_Not Eligible</th>\n",
       "    </tr>\n",
       "  </thead>\n",
       "  <tbody>\n",
       "    <tr>\n",
       "      <th>0</th>\n",
       "      <td>1.0</td>\n",
       "      <td>1.0</td>\n",
       "      <td>0.0</td>\n",
       "      <td>1.0</td>\n",
       "      <td>1.0</td>\n",
       "      <td>0.0</td>\n",
       "      <td>0.0</td>\n",
       "      <td>0.0</td>\n",
       "      <td>1.0</td>\n",
       "      <td>1.0</td>\n",
       "      <td>...</td>\n",
       "      <td>0.0</td>\n",
       "      <td>0.0</td>\n",
       "      <td>1.0</td>\n",
       "      <td>0.0</td>\n",
       "      <td>0.0</td>\n",
       "      <td>0.0</td>\n",
       "      <td>1.0</td>\n",
       "      <td>0.0</td>\n",
       "      <td>0.0</td>\n",
       "      <td>0.0</td>\n",
       "    </tr>\n",
       "    <tr>\n",
       "      <th>1</th>\n",
       "      <td>1.0</td>\n",
       "      <td>1.0</td>\n",
       "      <td>0.0</td>\n",
       "      <td>0.0</td>\n",
       "      <td>1.0</td>\n",
       "      <td>0.0</td>\n",
       "      <td>0.0</td>\n",
       "      <td>0.0</td>\n",
       "      <td>1.0</td>\n",
       "      <td>1.0</td>\n",
       "      <td>...</td>\n",
       "      <td>0.0</td>\n",
       "      <td>0.0</td>\n",
       "      <td>0.0</td>\n",
       "      <td>0.0</td>\n",
       "      <td>0.0</td>\n",
       "      <td>1.0</td>\n",
       "      <td>0.0</td>\n",
       "      <td>1.0</td>\n",
       "      <td>0.0</td>\n",
       "      <td>0.0</td>\n",
       "    </tr>\n",
       "    <tr>\n",
       "      <th>2</th>\n",
       "      <td>1.0</td>\n",
       "      <td>1.0</td>\n",
       "      <td>0.0</td>\n",
       "      <td>1.0</td>\n",
       "      <td>1.0</td>\n",
       "      <td>0.0</td>\n",
       "      <td>1.0</td>\n",
       "      <td>0.0</td>\n",
       "      <td>0.0</td>\n",
       "      <td>1.0</td>\n",
       "      <td>...</td>\n",
       "      <td>0.0</td>\n",
       "      <td>1.0</td>\n",
       "      <td>0.0</td>\n",
       "      <td>0.0</td>\n",
       "      <td>0.0</td>\n",
       "      <td>0.0</td>\n",
       "      <td>1.0</td>\n",
       "      <td>0.0</td>\n",
       "      <td>0.0</td>\n",
       "      <td>0.0</td>\n",
       "    </tr>\n",
       "    <tr>\n",
       "      <th>3</th>\n",
       "      <td>1.0</td>\n",
       "      <td>1.0</td>\n",
       "      <td>0.0</td>\n",
       "      <td>1.0</td>\n",
       "      <td>1.0</td>\n",
       "      <td>0.0</td>\n",
       "      <td>0.0</td>\n",
       "      <td>0.0</td>\n",
       "      <td>1.0</td>\n",
       "      <td>1.0</td>\n",
       "      <td>...</td>\n",
       "      <td>0.0</td>\n",
       "      <td>0.0</td>\n",
       "      <td>0.0</td>\n",
       "      <td>0.0</td>\n",
       "      <td>0.0</td>\n",
       "      <td>1.0</td>\n",
       "      <td>0.0</td>\n",
       "      <td>1.0</td>\n",
       "      <td>0.0</td>\n",
       "      <td>0.0</td>\n",
       "    </tr>\n",
       "    <tr>\n",
       "      <th>4</th>\n",
       "      <td>1.0</td>\n",
       "      <td>1.0</td>\n",
       "      <td>0.0</td>\n",
       "      <td>1.0</td>\n",
       "      <td>1.0</td>\n",
       "      <td>0.0</td>\n",
       "      <td>0.0</td>\n",
       "      <td>0.0</td>\n",
       "      <td>1.0</td>\n",
       "      <td>1.0</td>\n",
       "      <td>...</td>\n",
       "      <td>1.0</td>\n",
       "      <td>0.0</td>\n",
       "      <td>0.0</td>\n",
       "      <td>0.0</td>\n",
       "      <td>0.0</td>\n",
       "      <td>1.0</td>\n",
       "      <td>1.0</td>\n",
       "      <td>0.0</td>\n",
       "      <td>0.0</td>\n",
       "      <td>0.0</td>\n",
       "    </tr>\n",
       "  </tbody>\n",
       "</table>\n",
       "<p>5 rows × 34 columns</p>\n",
       "</div>"
      ],
      "text/plain": [
       "   ethnicity  gender  preapproval_requested  interest_only_payment  \\\n",
       "0        1.0     1.0                    0.0                    1.0   \n",
       "1        1.0     1.0                    0.0                    0.0   \n",
       "2        1.0     1.0                    0.0                    1.0   \n",
       "3        1.0     1.0                    0.0                    1.0   \n",
       "4        1.0     1.0                    0.0                    1.0   \n",
       "\n",
       "   balloon_payment  race_Asian  race_Black or African American  \\\n",
       "0              1.0         0.0                             0.0   \n",
       "1              1.0         0.0                             0.0   \n",
       "2              1.0         0.0                             1.0   \n",
       "3              1.0         0.0                             0.0   \n",
       "4              1.0         0.0                             0.0   \n",
       "\n",
       "   race_Minority Races  race_White  loan_type_Converntional  ...  age_Young  \\\n",
       "0                  0.0         1.0                      1.0  ...        0.0   \n",
       "1                  0.0         1.0                      1.0  ...        0.0   \n",
       "2                  0.0         0.0                      1.0  ...        0.0   \n",
       "3                  0.0         1.0                      1.0  ...        0.0   \n",
       "4                  0.0         1.0                      1.0  ...        1.0   \n",
       "\n",
       "   income_Lower-Middle Class  income_Middle Class  income_Poor and Near Poor  \\\n",
       "0                        0.0                  1.0                        0.0   \n",
       "1                        0.0                  0.0                        0.0   \n",
       "2                        1.0                  0.0                        0.0   \n",
       "3                        0.0                  0.0                        0.0   \n",
       "4                        0.0                  0.0                        0.0   \n",
       "\n",
       "   income_Rich  income_Upper-Middle Class  \\\n",
       "0          0.0                        0.0   \n",
       "1          0.0                        1.0   \n",
       "2          0.0                        0.0   \n",
       "3          0.0                        1.0   \n",
       "4          0.0                        1.0   \n",
       "\n",
       "   loan_to_value_ratio_< Conventional Bar  \\\n",
       "0                                     1.0   \n",
       "1                                     0.0   \n",
       "2                                     1.0   \n",
       "3                                     0.0   \n",
       "4                                     1.0   \n",
       "\n",
       "   loan_to_value_ratio_> Conventional Bar and < FHA Bar  \\\n",
       "0                                                0.0      \n",
       "1                                                1.0      \n",
       "2                                                0.0      \n",
       "3                                                1.0      \n",
       "4                                                0.0      \n",
       "\n",
       "   loan_to_value_ratio_> FHA Bar and < VA Bar  \\\n",
       "0                                         0.0   \n",
       "1                                         0.0   \n",
       "2                                         0.0   \n",
       "3                                         0.0   \n",
       "4                                         0.0   \n",
       "\n",
       "   loan_to_value_ratio_Not Eligible  \n",
       "0                               0.0  \n",
       "1                               0.0  \n",
       "2                               0.0  \n",
       "3                               0.0  \n",
       "4                               0.0  \n",
       "\n",
       "[5 rows x 34 columns]"
      ]
     },
     "execution_count": 13,
     "metadata": {},
     "output_type": "execute_result"
    }
   ],
   "source": [
    "X_train.head()"
   ]
  },
  {
   "cell_type": "code",
   "execution_count": 14,
   "id": "4e915016",
   "metadata": {},
   "outputs": [
    {
     "name": "stdout",
     "output_type": "stream",
     "text": [
      "<class 'pandas.core.frame.DataFrame'>\n",
      "RangeIndex: 83161 entries, 0 to 83160\n",
      "Data columns (total 34 columns):\n",
      " #   Column                                                Non-Null Count  Dtype  \n",
      "---  ------                                                --------------  -----  \n",
      " 0   ethnicity                                             83161 non-null  float64\n",
      " 1   gender                                                83161 non-null  float64\n",
      " 2   preapproval_requested                                 83161 non-null  float64\n",
      " 3   interest_only_payment                                 83161 non-null  float64\n",
      " 4   balloon_payment                                       83161 non-null  float64\n",
      " 5   race_Asian                                            83161 non-null  float64\n",
      " 6   race_Black or African American                        83161 non-null  float64\n",
      " 7   race_Minority Races                                   83161 non-null  float64\n",
      " 8   race_White                                            83161 non-null  float64\n",
      " 9   loan_type_Converntional                               83161 non-null  float64\n",
      " 10  loan_type_FHA-insured                                 83161 non-null  float64\n",
      " 11  loan_type_VA-guaranteed                               83161 non-null  float64\n",
      " 12  loan_purpose_Home Improvement                         83161 non-null  float64\n",
      " 13  loan_purpose_Home Purchase                            83161 non-null  float64\n",
      " 14  loan_purpose_Other Purpose                            83161 non-null  float64\n",
      " 15  loan_purpose_Refinancing                              83161 non-null  float64\n",
      " 16  debt_to_income_ratio_20%-<30%                         83161 non-null  float64\n",
      " 17  debt_to_income_ratio_30%-<36%                         83161 non-null  float64\n",
      " 18  debt_to_income_ratio_36%-<50%                         83161 non-null  float64\n",
      " 19  debt_to_income_ratio_50%-60%                          83161 non-null  float64\n",
      " 20  debt_to_income_ratio_<20%                             83161 non-null  float64\n",
      " 21  debt_to_income_ratio_>60%                             83161 non-null  float64\n",
      " 22  age_Middle-Aged                                       83161 non-null  float64\n",
      " 23  age_Older                                             83161 non-null  float64\n",
      " 24  age_Young                                             83161 non-null  float64\n",
      " 25  income_Lower-Middle Class                             83161 non-null  float64\n",
      " 26  income_Middle Class                                   83161 non-null  float64\n",
      " 27  income_Poor and Near Poor                             83161 non-null  float64\n",
      " 28  income_Rich                                           83161 non-null  float64\n",
      " 29  income_Upper-Middle Class                             83161 non-null  float64\n",
      " 30  loan_to_value_ratio_< Conventional Bar                83161 non-null  float64\n",
      " 31  loan_to_value_ratio_> Conventional Bar and < FHA Bar  83161 non-null  float64\n",
      " 32  loan_to_value_ratio_> FHA Bar and < VA Bar            83161 non-null  float64\n",
      " 33  loan_to_value_ratio_Not Eligible                      83161 non-null  float64\n",
      "dtypes: float64(34)\n",
      "memory usage: 21.6 MB\n"
     ]
    }
   ],
   "source": [
    "X_train.info()"
   ]
  },
  {
   "cell_type": "markdown",
   "id": "0975c67a",
   "metadata": {},
   "source": [
    "### Exploring Improtant Features"
   ]
  },
  {
   "cell_type": "code",
   "execution_count": 15,
   "id": "61bff017",
   "metadata": {},
   "outputs": [],
   "source": [
    "import statsmodels.api as sm\n",
    "from sklearn.linear_model import LogisticRegression\n",
    "from sklearn.ensemble import RandomForestClassifier"
   ]
  },
  {
   "cell_type": "markdown",
   "id": "1fd3a7b7",
   "metadata": {},
   "source": [
    "#### Logistic Regression Beta"
   ]
  },
  {
   "cell_type": "code",
   "execution_count": 16,
   "id": "a73a4ba1",
   "metadata": {},
   "outputs": [
    {
     "name": "stdout",
     "output_type": "stream",
     "text": [
      "Optimization terminated successfully.\n",
      "         Current function value: 0.361365\n",
      "         Iterations 7\n",
      "                                           Results: Logit\n",
      "=====================================================================================================\n",
      "Model:                          Logit                        Pseudo R-squared:             0.326     \n",
      "Dependent Variable:             y                            AIC:                          60154.9589\n",
      "Date:                           2022-10-02 16:20             BIC:                          60397.5007\n",
      "No. Observations:               83161                        Log-Likelihood:               -30051.   \n",
      "Df Model:                       25                           LL-Null:                      -44587.   \n",
      "Df Residuals:                   83135                        LLR p-value:                  0.0000    \n",
      "Converged:                      1.0000                       Scale:                        1.0000    \n",
      "No. Iterations:                 7.0000                                                               \n",
      "-----------------------------------------------------------------------------------------------------\n",
      "                                                      Coef.  Std.Err.    z     P>|z|   [0.025  0.975]\n",
      "-----------------------------------------------------------------------------------------------------\n",
      "ethnicity                                             0.5150   0.0283  18.1945 0.0000  0.4595  0.5705\n",
      "gender                                               -0.0862   0.0219  -3.9290 0.0001 -0.1292 -0.0432\n",
      "interest_only_payment                                -0.1244   0.0387  -3.2142 0.0013 -0.2002 -0.0485\n",
      "balloon_payment                                       0.4300   0.0733   5.8691 0.0000  0.2864  0.5736\n",
      "race_Asian                                           -0.2298   0.0382  -6.0113 0.0000 -0.3047 -0.1549\n",
      "race_Black or African American                       -0.9376   0.0297 -31.5557 0.0000 -0.9958 -0.8793\n",
      "race_Minority Races                                  -0.7957   0.0833  -9.5480 0.0000 -0.9591 -0.6324\n",
      "loan_type_FHA-insured                                 0.3461   0.0359   9.6378 0.0000  0.2757  0.4165\n",
      "loan_type_VA-guaranteed                               0.4956   0.0794   6.2403 0.0000  0.3399  0.6512\n",
      "loan_purpose_Home Purchase                            2.4176   0.0400  60.4940 0.0000  2.3392  2.4959\n",
      "loan_purpose_Other Purpose                           -0.1669   0.0412  -4.0505 0.0001 -0.2477 -0.0862\n",
      "loan_purpose_Refinancing                              1.2691   0.0344  36.8917 0.0000  1.2017  1.3365\n",
      "debt_to_income_ratio_30%-<36%                         0.1858   0.0386   4.8158 0.0000  0.1102  0.2614\n",
      "debt_to_income_ratio_36%-<50%                         0.0679   0.0311   2.1805 0.0292  0.0069  0.1289\n",
      "debt_to_income_ratio_50%-60%                         -1.5171   0.0413 -36.7094 0.0000 -1.5981 -1.4361\n",
      "debt_to_income_ratio_<20%                            -0.4912   0.0480 -10.2312 0.0000 -0.5853 -0.3971\n",
      "debt_to_income_ratio_>60%                            -4.4896   0.0775 -57.9680 0.0000 -4.6414 -4.3378\n",
      "age_Older                                            -0.1699   0.0252  -6.7412 0.0000 -0.2193 -0.1205\n",
      "age_Young                                             0.2773   0.0296   9.3644 0.0000  0.2193  0.3353\n",
      "income_Lower-Middle Class                            -0.1378   0.0649  -2.1231 0.0337 -0.2650 -0.0106\n",
      "income_Middle Class                                   0.0562   0.0613   0.9182 0.3585 -0.0638  0.1763\n",
      "income_Poor and Near Poor                            -0.5207   0.0726  -7.1762 0.0000 -0.6630 -0.3785\n",
      "income_Upper-Middle Class                             0.1659   0.0610   2.7217 0.0065  0.0464  0.2854\n",
      "loan_to_value_ratio_> Conventional Bar and < FHA Bar -0.4908   0.0265 -18.5408 0.0000 -0.5426 -0.4389\n",
      "loan_to_value_ratio_> FHA Bar and < VA Bar           -0.6674   0.0471 -14.1772 0.0000 -0.7597 -0.5751\n",
      "loan_to_value_ratio_Not Eligible                     -1.9644   0.0514 -38.2067 0.0000 -2.0651 -1.8636\n",
      "=====================================================================================================\n",
      "\n"
     ]
    }
   ],
   "source": [
    "# FIXED cov = 1 - removed 1 category from each columns that have more than 2 categories\n",
    "# now P values look good\n",
    "\n",
    "# used log_loan_to_value_ratio and dropped loan_to_value_ratio, income columns\n",
    "# used debt, dropped median_debt_to_income_ratio, debt_to_income_ratio\n",
    "\n",
    "category_log_reg = ['ethnicity',\n",
    " 'gender',\n",
    " # 'preapproval_requested',\n",
    " 'interest_only_payment',\n",
    " 'balloon_payment',\n",
    " 'race_Asian',\n",
    " 'race_Black or African American',\n",
    " 'race_Minority Races',\n",
    " 'loan_type_FHA-insured',\n",
    " 'loan_type_VA-guaranteed',\n",
    " 'loan_purpose_Home Purchase',\n",
    " 'loan_purpose_Other Purpose',\n",
    " 'loan_purpose_Refinancing',\n",
    " 'debt_to_income_ratio_30%-<36%',\n",
    " 'debt_to_income_ratio_36%-<50%',\n",
    " 'debt_to_income_ratio_50%-60%',\n",
    " 'debt_to_income_ratio_<20%',\n",
    " 'debt_to_income_ratio_>60%',\n",
    " 'age_Older',\n",
    " 'age_Young',\n",
    " 'income_Lower-Middle Class',\n",
    " 'income_Middle Class',\n",
    " 'income_Poor and Near Poor',\n",
    " 'income_Upper-Middle Class',\n",
    " 'loan_to_value_ratio_> Conventional Bar and < FHA Bar',\n",
    " 'loan_to_value_ratio_> FHA Bar and < VA Bar',\n",
    " 'loan_to_value_ratio_Not Eligible']\n",
    "logic = sm.Logit(list(y_train), X_train[category_log_reg])\n",
    "result = logic.fit()\n",
    "print(result.summary2())"
   ]
  },
  {
   "cell_type": "markdown",
   "id": "51b2a036",
   "metadata": {},
   "source": [
    "# Part 3: Initial Model Training and Initial Results"
   ]
  },
  {
   "cell_type": "code",
   "execution_count": 17,
   "id": "70c00917",
   "metadata": {},
   "outputs": [],
   "source": [
    "from sklearn.ensemble import RandomForestClassifier\n",
    "from sklearn.neighbors import KNeighborsClassifier \n",
    "from sklearn.linear_model import LogisticRegression\n",
    "from sklearn.model_selection import GridSearchCV\n",
    "from sklearn.metrics import confusion_matrix\n",
    "from sklearn.metrics import classification_report\n",
    "from sklearn.metrics import precision_score\n",
    "from sklearn.metrics import recall_score"
   ]
  },
  {
   "cell_type": "code",
   "execution_count": 18,
   "id": "d3c12e8b",
   "metadata": {},
   "outputs": [],
   "source": [
    "# build models\n",
    "# Logistic Regression\n",
    "classifier_logistic = LogisticRegression()\n",
    "\n",
    "# Random Forest\n",
    "classifier_RF = RandomForestClassifier()"
   ]
  },
  {
   "cell_type": "code",
   "execution_count": 19,
   "id": "948601ba",
   "metadata": {},
   "outputs": [],
   "source": [
    "# helper function for printing out grid search results \n",
    "def print_grid_search_metrics(gs):\n",
    "    print (\"Best score: \" + str(gs.best_score_))\n",
    "    print (\"Best parameters set:\")\n",
    "    best_parameters = gs.best_params_\n",
    "    for param_name in sorted(best_parameters.keys()):\n",
    "        print(param_name + ':' + str(best_parameters[param_name]))"
   ]
  },
  {
   "cell_type": "markdown",
   "id": "84c7900e",
   "metadata": {},
   "source": [
    "### Logistic Regression"
   ]
  },
  {
   "cell_type": "code",
   "execution_count": 20,
   "id": "7c6bd112",
   "metadata": {},
   "outputs": [
    {
     "data": {
      "text/plain": [
       "LogisticRegression()"
      ]
     },
     "execution_count": 20,
     "metadata": {},
     "output_type": "execute_result"
    }
   ],
   "source": [
    "# Train the model\n",
    "classifier_logistic.fit(X_train, y_train)"
   ]
  },
  {
   "cell_type": "code",
   "execution_count": 21,
   "id": "96225c6c",
   "metadata": {},
   "outputs": [
    {
     "data": {
      "text/plain": [
       "array([1, 1, 1, ..., 1, 0, 1], dtype=int64)"
      ]
     },
     "execution_count": 21,
     "metadata": {},
     "output_type": "execute_result"
    }
   ],
   "source": [
    "# Prediction of test data\n",
    "classifier_logistic.predict(X_test)"
   ]
  },
  {
   "cell_type": "code",
   "execution_count": 22,
   "id": "1427c6ac",
   "metadata": {},
   "outputs": [
    {
     "data": {
      "text/plain": [
       "0.8588074023303632"
      ]
     },
     "execution_count": 22,
     "metadata": {},
     "output_type": "execute_result"
    }
   ],
   "source": [
    "# Accuracy of test data\n",
    "classifier_logistic.score(X_test, y_test)"
   ]
  },
  {
   "cell_type": "markdown",
   "id": "e18f03a7",
   "metadata": {},
   "source": [
    "### Random Forest"
   ]
  },
  {
   "cell_type": "code",
   "execution_count": 23,
   "id": "f886a8b8",
   "metadata": {},
   "outputs": [
    {
     "data": {
      "text/plain": [
       "GridSearchCV(cv=5, estimator=RandomForestClassifier(),\n",
       "             param_grid={'max_depth': [1, 5, 10],\n",
       "                         'n_estimators': [60, 80, 100]})"
      ]
     },
     "execution_count": 23,
     "metadata": {},
     "output_type": "execute_result"
    }
   ],
   "source": [
    "# Possible hyperparamter options for Random Forest\n",
    "# Choose the number of trees\n",
    "parameters = {\n",
    "    'n_estimators' : [60,80,100],\n",
    "    'max_depth': [1,5,10]\n",
    "}\n",
    "Grid_RF = GridSearchCV(RandomForestClassifier(),parameters, cv=5)\n",
    "Grid_RF.fit(X_train, y_train)"
   ]
  },
  {
   "cell_type": "code",
   "execution_count": 24,
   "id": "1830818b",
   "metadata": {},
   "outputs": [
    {
     "name": "stdout",
     "output_type": "stream",
     "text": [
      "Best score: 0.8649246940580435\n",
      "Best parameters set:\n",
      "max_depth:10\n",
      "n_estimators:100\n"
     ]
    }
   ],
   "source": [
    "# best number of tress\n",
    "print_grid_search_metrics(Grid_RF)"
   ]
  },
  {
   "cell_type": "code",
   "execution_count": 25,
   "id": "67a411a3",
   "metadata": {},
   "outputs": [],
   "source": [
    "# best random forest\n",
    "best_RF_model = Grid_RF.best_estimator_"
   ]
  },
  {
   "cell_type": "code",
   "execution_count": 26,
   "id": "9ede53dd",
   "metadata": {},
   "outputs": [
    {
     "data": {
      "text/plain": [
       "RandomForestClassifier(max_depth=10)"
      ]
     },
     "execution_count": 26,
     "metadata": {},
     "output_type": "execute_result"
    }
   ],
   "source": [
    "best_RF_model"
   ]
  }
 ],
 "metadata": {
  "kernelspec": {
   "display_name": "Python 3 (ipykernel)",
   "language": "python",
   "name": "python3"
  },
  "language_info": {
   "codemirror_mode": {
    "name": "ipython",
    "version": 3
   },
   "file_extension": ".py",
   "mimetype": "text/x-python",
   "name": "python",
   "nbconvert_exporter": "python",
   "pygments_lexer": "ipython3",
   "version": "3.9.12"
  }
 },
 "nbformat": 4,
 "nbformat_minor": 5
}
