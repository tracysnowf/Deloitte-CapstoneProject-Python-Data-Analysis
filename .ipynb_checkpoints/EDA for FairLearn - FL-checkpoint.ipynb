{
 "cells": [
  {
   "cell_type": "code",
   "execution_count": 100,
   "id": "f4ffa70a",
   "metadata": {},
   "outputs": [],
   "source": [
    "import numpy as np\n",
    "import pandas as pd\n",
    "import matplotlib.pyplot as plt\n",
    "import seaborn as sns\n",
    "import math\n",
    "import io"
   ]
  },
  {
   "cell_type": "code",
   "execution_count": 101,
   "id": "4cb3fa65",
   "metadata": {},
   "outputs": [],
   "source": [
    "df_cr = pd.read_csv('data/Clean_Mortgage_Lending_FL_PortSL.csv')"
   ]
  },
  {
   "cell_type": "code",
   "execution_count": 102,
   "id": "22b56d6c",
   "metadata": {},
   "outputs": [
    {
     "data": {
      "text/html": [
       "<div>\n",
       "<style scoped>\n",
       "    .dataframe tbody tr th:only-of-type {\n",
       "        vertical-align: middle;\n",
       "    }\n",
       "\n",
       "    .dataframe tbody tr th {\n",
       "        vertical-align: top;\n",
       "    }\n",
       "\n",
       "    .dataframe thead th {\n",
       "        text-align: right;\n",
       "    }\n",
       "</style>\n",
       "<table border=\"1\" class=\"dataframe\">\n",
       "  <thead>\n",
       "    <tr style=\"text-align: right;\">\n",
       "      <th></th>\n",
       "      <th>ethnicity</th>\n",
       "      <th>race</th>\n",
       "      <th>gender</th>\n",
       "      <th>action_taken</th>\n",
       "      <th>preapproval_requested</th>\n",
       "      <th>loan_type</th>\n",
       "      <th>loan_purpose</th>\n",
       "      <th>interest_only_payment</th>\n",
       "      <th>balloon_payment</th>\n",
       "      <th>debt_to_income_ratio</th>\n",
       "      <th>age</th>\n",
       "      <th>income</th>\n",
       "      <th>loan_to_value_ratio</th>\n",
       "    </tr>\n",
       "  </thead>\n",
       "  <tbody>\n",
       "    <tr>\n",
       "      <th>0</th>\n",
       "      <td>Not Hispanic or Latino</td>\n",
       "      <td>White</td>\n",
       "      <td>Male</td>\n",
       "      <td>1</td>\n",
       "      <td>No Preapproval Requested</td>\n",
       "      <td>Converntional</td>\n",
       "      <td>Home Purchase</td>\n",
       "      <td>No Interest-only Payments</td>\n",
       "      <td>No Balloon Payment</td>\n",
       "      <td>30%-&lt;36%</td>\n",
       "      <td>Older</td>\n",
       "      <td>Rich</td>\n",
       "      <td>&lt; Conventional Bar</td>\n",
       "    </tr>\n",
       "    <tr>\n",
       "      <th>1</th>\n",
       "      <td>Not Hispanic or Latino</td>\n",
       "      <td>White</td>\n",
       "      <td>Male</td>\n",
       "      <td>1</td>\n",
       "      <td>No Preapproval Requested</td>\n",
       "      <td>Converntional</td>\n",
       "      <td>Home Purchase</td>\n",
       "      <td>No Interest-only Payments</td>\n",
       "      <td>No Balloon Payment</td>\n",
       "      <td>36%-&lt;50%</td>\n",
       "      <td>Middle-Aged</td>\n",
       "      <td>Upper-Middle Class</td>\n",
       "      <td>&gt; Conventional Bar and &lt; FHA Bar</td>\n",
       "    </tr>\n",
       "    <tr>\n",
       "      <th>2</th>\n",
       "      <td>Not Hispanic or Latino</td>\n",
       "      <td>White</td>\n",
       "      <td>Female</td>\n",
       "      <td>1</td>\n",
       "      <td>No Preapproval Requested</td>\n",
       "      <td>Converntional</td>\n",
       "      <td>Home Purchase</td>\n",
       "      <td>No Interest-only Payments</td>\n",
       "      <td>No Balloon Payment</td>\n",
       "      <td>36%-&lt;50%</td>\n",
       "      <td>Middle-Aged</td>\n",
       "      <td>Middle Class</td>\n",
       "      <td>&lt; Conventional Bar</td>\n",
       "    </tr>\n",
       "    <tr>\n",
       "      <th>3</th>\n",
       "      <td>Not Hispanic or Latino</td>\n",
       "      <td>White</td>\n",
       "      <td>Female</td>\n",
       "      <td>1</td>\n",
       "      <td>No Preapproval Requested</td>\n",
       "      <td>Converntional</td>\n",
       "      <td>Refinancing</td>\n",
       "      <td>No Interest-only Payments</td>\n",
       "      <td>No Balloon Payment</td>\n",
       "      <td>20%-&lt;30%</td>\n",
       "      <td>Middle-Aged</td>\n",
       "      <td>Middle Class</td>\n",
       "      <td>&lt; Conventional Bar</td>\n",
       "    </tr>\n",
       "    <tr>\n",
       "      <th>4</th>\n",
       "      <td>Not Hispanic or Latino</td>\n",
       "      <td>White</td>\n",
       "      <td>Female</td>\n",
       "      <td>1</td>\n",
       "      <td>No Preapproval Requested</td>\n",
       "      <td>Converntional</td>\n",
       "      <td>Home Purchase</td>\n",
       "      <td>No Interest-only Payments</td>\n",
       "      <td>No Balloon Payment</td>\n",
       "      <td>20%-&lt;30%</td>\n",
       "      <td>Older</td>\n",
       "      <td>Upper-Middle Class</td>\n",
       "      <td>&lt; Conventional Bar</td>\n",
       "    </tr>\n",
       "  </tbody>\n",
       "</table>\n",
       "</div>"
      ],
      "text/plain": [
       "                ethnicity   race  gender  action_taken  \\\n",
       "0  Not Hispanic or Latino  White    Male             1   \n",
       "1  Not Hispanic or Latino  White    Male             1   \n",
       "2  Not Hispanic or Latino  White  Female             1   \n",
       "3  Not Hispanic or Latino  White  Female             1   \n",
       "4  Not Hispanic or Latino  White  Female             1   \n",
       "\n",
       "      preapproval_requested      loan_type   loan_purpose  \\\n",
       "0  No Preapproval Requested  Converntional  Home Purchase   \n",
       "1  No Preapproval Requested  Converntional  Home Purchase   \n",
       "2  No Preapproval Requested  Converntional  Home Purchase   \n",
       "3  No Preapproval Requested  Converntional    Refinancing   \n",
       "4  No Preapproval Requested  Converntional  Home Purchase   \n",
       "\n",
       "       interest_only_payment     balloon_payment debt_to_income_ratio  \\\n",
       "0  No Interest-only Payments  No Balloon Payment             30%-<36%   \n",
       "1  No Interest-only Payments  No Balloon Payment             36%-<50%   \n",
       "2  No Interest-only Payments  No Balloon Payment             36%-<50%   \n",
       "3  No Interest-only Payments  No Balloon Payment             20%-<30%   \n",
       "4  No Interest-only Payments  No Balloon Payment             20%-<30%   \n",
       "\n",
       "           age              income               loan_to_value_ratio  \n",
       "0        Older                Rich                < Conventional Bar  \n",
       "1  Middle-Aged  Upper-Middle Class  > Conventional Bar and < FHA Bar  \n",
       "2  Middle-Aged        Middle Class                < Conventional Bar  \n",
       "3  Middle-Aged        Middle Class                < Conventional Bar  \n",
       "4        Older  Upper-Middle Class                < Conventional Bar  "
      ]
     },
     "execution_count": 102,
     "metadata": {},
     "output_type": "execute_result"
    }
   ],
   "source": [
    "df_cr.head()"
   ]
  },
  {
   "cell_type": "code",
   "execution_count": 103,
   "id": "2f3f1b3d",
   "metadata": {},
   "outputs": [
    {
     "data": {
      "text/html": [
       "<div>\n",
       "<style scoped>\n",
       "    .dataframe tbody tr th:only-of-type {\n",
       "        vertical-align: middle;\n",
       "    }\n",
       "\n",
       "    .dataframe tbody tr th {\n",
       "        vertical-align: top;\n",
       "    }\n",
       "\n",
       "    .dataframe thead th {\n",
       "        text-align: right;\n",
       "    }\n",
       "</style>\n",
       "<table border=\"1\" class=\"dataframe\">\n",
       "  <thead>\n",
       "    <tr style=\"text-align: right;\">\n",
       "      <th></th>\n",
       "      <th>ethnicity</th>\n",
       "      <th>race</th>\n",
       "      <th>gender</th>\n",
       "      <th>action_taken</th>\n",
       "      <th>preapproval_requested</th>\n",
       "      <th>loan_type</th>\n",
       "      <th>loan_purpose</th>\n",
       "      <th>interest_only_payment</th>\n",
       "      <th>balloon_payment</th>\n",
       "      <th>debt_to_income_ratio</th>\n",
       "      <th>age</th>\n",
       "      <th>income</th>\n",
       "      <th>loan_to_value_ratio</th>\n",
       "    </tr>\n",
       "  </thead>\n",
       "  <tbody>\n",
       "    <tr>\n",
       "      <th>10601</th>\n",
       "      <td>Not Hispanic or Latino</td>\n",
       "      <td>Asian</td>\n",
       "      <td>Male</td>\n",
       "      <td>0</td>\n",
       "      <td>No Preapproval Requested</td>\n",
       "      <td>Converntional</td>\n",
       "      <td>Home Purchase</td>\n",
       "      <td>No Interest-only Payments</td>\n",
       "      <td>No Balloon Payment</td>\n",
       "      <td>50%-60%</td>\n",
       "      <td>Middle-Aged</td>\n",
       "      <td>Upper-Middle Class</td>\n",
       "      <td>&gt; Conventional Bar and &lt; FHA Bar</td>\n",
       "    </tr>\n",
       "    <tr>\n",
       "      <th>10602</th>\n",
       "      <td>Not Hispanic or Latino</td>\n",
       "      <td>White</td>\n",
       "      <td>Male</td>\n",
       "      <td>1</td>\n",
       "      <td>No Preapproval Requested</td>\n",
       "      <td>Converntional</td>\n",
       "      <td>Home Purchase</td>\n",
       "      <td>No Interest-only Payments</td>\n",
       "      <td>No Balloon Payment</td>\n",
       "      <td>20%-&lt;30%</td>\n",
       "      <td>Middle-Aged</td>\n",
       "      <td>Upper-Middle Class</td>\n",
       "      <td>&lt; Conventional Bar</td>\n",
       "    </tr>\n",
       "    <tr>\n",
       "      <th>10603</th>\n",
       "      <td>Not Hispanic or Latino</td>\n",
       "      <td>White</td>\n",
       "      <td>Male</td>\n",
       "      <td>0</td>\n",
       "      <td>No Preapproval Requested</td>\n",
       "      <td>VA-guaranteed</td>\n",
       "      <td>Home Purchase</td>\n",
       "      <td>No Interest-only Payments</td>\n",
       "      <td>No Balloon Payment</td>\n",
       "      <td>&gt;60%</td>\n",
       "      <td>Middle-Aged</td>\n",
       "      <td>Middle Class</td>\n",
       "      <td>Not Eligible</td>\n",
       "    </tr>\n",
       "    <tr>\n",
       "      <th>10604</th>\n",
       "      <td>Not Hispanic or Latino</td>\n",
       "      <td>White</td>\n",
       "      <td>Female</td>\n",
       "      <td>1</td>\n",
       "      <td>No Preapproval Requested</td>\n",
       "      <td>Converntional</td>\n",
       "      <td>Refinancing</td>\n",
       "      <td>No Interest-only Payments</td>\n",
       "      <td>No Balloon Payment</td>\n",
       "      <td>20%-&lt;30%</td>\n",
       "      <td>Middle-Aged</td>\n",
       "      <td>Middle Class</td>\n",
       "      <td>&lt; Conventional Bar</td>\n",
       "    </tr>\n",
       "    <tr>\n",
       "      <th>10605</th>\n",
       "      <td>Not Hispanic or Latino</td>\n",
       "      <td>White</td>\n",
       "      <td>Male</td>\n",
       "      <td>1</td>\n",
       "      <td>No Preapproval Requested</td>\n",
       "      <td>Converntional</td>\n",
       "      <td>Refinancing</td>\n",
       "      <td>No Interest-only Payments</td>\n",
       "      <td>No Balloon Payment</td>\n",
       "      <td>20%-&lt;30%</td>\n",
       "      <td>Older</td>\n",
       "      <td>Upper-Middle Class</td>\n",
       "      <td>&gt; Conventional Bar and &lt; FHA Bar</td>\n",
       "    </tr>\n",
       "  </tbody>\n",
       "</table>\n",
       "</div>"
      ],
      "text/plain": [
       "                    ethnicity   race  gender  action_taken  \\\n",
       "10601  Not Hispanic or Latino  Asian    Male             0   \n",
       "10602  Not Hispanic or Latino  White    Male             1   \n",
       "10603  Not Hispanic or Latino  White    Male             0   \n",
       "10604  Not Hispanic or Latino  White  Female             1   \n",
       "10605  Not Hispanic or Latino  White    Male             1   \n",
       "\n",
       "          preapproval_requested      loan_type   loan_purpose  \\\n",
       "10601  No Preapproval Requested  Converntional  Home Purchase   \n",
       "10602  No Preapproval Requested  Converntional  Home Purchase   \n",
       "10603  No Preapproval Requested  VA-guaranteed  Home Purchase   \n",
       "10604  No Preapproval Requested  Converntional    Refinancing   \n",
       "10605  No Preapproval Requested  Converntional    Refinancing   \n",
       "\n",
       "           interest_only_payment     balloon_payment debt_to_income_ratio  \\\n",
       "10601  No Interest-only Payments  No Balloon Payment              50%-60%   \n",
       "10602  No Interest-only Payments  No Balloon Payment             20%-<30%   \n",
       "10603  No Interest-only Payments  No Balloon Payment                 >60%   \n",
       "10604  No Interest-only Payments  No Balloon Payment             20%-<30%   \n",
       "10605  No Interest-only Payments  No Balloon Payment             20%-<30%   \n",
       "\n",
       "               age              income               loan_to_value_ratio  \n",
       "10601  Middle-Aged  Upper-Middle Class  > Conventional Bar and < FHA Bar  \n",
       "10602  Middle-Aged  Upper-Middle Class                < Conventional Bar  \n",
       "10603  Middle-Aged        Middle Class                      Not Eligible  \n",
       "10604  Middle-Aged        Middle Class                < Conventional Bar  \n",
       "10605        Older  Upper-Middle Class  > Conventional Bar and < FHA Bar  "
      ]
     },
     "execution_count": 103,
     "metadata": {},
     "output_type": "execute_result"
    }
   ],
   "source": [
    "df_cr.tail()"
   ]
  },
  {
   "cell_type": "markdown",
   "id": "3bc8db27",
   "metadata": {},
   "source": [
    "# Categorical Features Data Cleaning"
   ]
  },
  {
   "cell_type": "markdown",
   "id": "d1b58715",
   "metadata": {},
   "source": [
    "### ethnicity "
   ]
  },
  {
   "cell_type": "code",
   "execution_count": 104,
   "id": "37093b8a",
   "metadata": {},
   "outputs": [
    {
     "data": {
      "text/plain": [
       "array(['Not Hispanic or Latino', 'Hispanic or Latino'], dtype=object)"
      ]
     },
     "execution_count": 104,
     "metadata": {},
     "output_type": "execute_result"
    }
   ],
   "source": [
    "pd.unique(df_cr['ethnicity'])"
   ]
  },
  {
   "cell_type": "code",
   "execution_count": 105,
   "id": "a8e3e8e6",
   "metadata": {},
   "outputs": [],
   "source": [
    "df_cr['ethnicity'].mask((df_cr['ethnicity'] == \"Hispanic or Latino\"), 1, inplace=True)\n",
    "df_cr['ethnicity'].mask((df_cr['ethnicity'] == \"Not Hispanic or Latino\"), 0, inplace=True)"
   ]
  },
  {
   "cell_type": "code",
   "execution_count": 106,
   "id": "5dd995c4",
   "metadata": {},
   "outputs": [],
   "source": [
    "# reset index\n",
    "df_cr = df_cr.reset_index(drop = True)"
   ]
  },
  {
   "cell_type": "code",
   "execution_count": 107,
   "id": "c2862146",
   "metadata": {},
   "outputs": [
    {
     "data": {
      "text/plain": [
       "<AxesSubplot:>"
      ]
     },
     "execution_count": 107,
     "metadata": {},
     "output_type": "execute_result"
    },
    {
     "data": {
      "image/png": "[encoded data removed]",
      "text/plain": [
       "<Figure size 432x288 with 1 Axes>"
      ]
     },
     "metadata": {
      "needs_background": "light"
     },
     "output_type": "display_data"
    }
   ],
   "source": [
    "# explore is_not_hispanic category\n",
    "df_cr[\"ethnicity\"].value_counts().plot(kind='barh')"
   ]
  },
  {
   "cell_type": "markdown",
   "id": "340fbdc1",
   "metadata": {},
   "source": [
    "### race"
   ]
  },
  {
   "cell_type": "code",
   "execution_count": 108,
   "id": "b43c8c72",
   "metadata": {},
   "outputs": [
    {
     "data": {
      "text/plain": [
       "array(['White', 'Black or African American', 'Asian', 'Minority Races'],\n",
       "      dtype=object)"
      ]
     },
     "execution_count": 108,
     "metadata": {},
     "output_type": "execute_result"
    }
   ],
   "source": [
    "pd.unique(df_cr['race'])"
   ]
  },
  {
   "cell_type": "code",
   "execution_count": 109,
   "id": "2befacd6",
   "metadata": {},
   "outputs": [],
   "source": [
    "df_cr['race'].mask((df_cr['race'] == \"White\"), 1, inplace=True)\n",
    "df_cr['race'].mask((df_cr['race'] == \"Asian\"), 2, inplace=True)\n",
    "df_cr['race'].mask((df_cr['race'] == \"Black or African American\"), 3, inplace=True)\n",
    "df_cr['race'].mask((df_cr['race'] == \"Minority Races\"), 4, inplace=True)"
   ]
  },
  {
   "cell_type": "code",
   "execution_count": 110,
   "id": "271dd7c7",
   "metadata": {},
   "outputs": [],
   "source": [
    "# reset index\n",
    "df_cr = df_cr.reset_index(drop = True)"
   ]
  },
  {
   "cell_type": "code",
   "execution_count": 111,
   "id": "7f89ecf7",
   "metadata": {},
   "outputs": [
    {
     "data": {
      "text/plain": [
       "<AxesSubplot:>"
      ]
     },
     "execution_count": 111,
     "metadata": {},
     "output_type": "execute_result"
    },
    {
     "data": {
      "image/png": "[encoded data removed]",
      "text/plain": [
       "<Figure size 432x288 with 1 Axes>"
      ]
     },
     "metadata": {
      "needs_background": "light"
     },
     "output_type": "display_data"
    }
   ],
   "source": [
    "# explore derived_race category\n",
    "df_cr[\"race\"].value_counts().plot(kind='barh')"
   ]
  },
  {
   "cell_type": "markdown",
   "id": "e76d50e7",
   "metadata": {},
   "source": [
    "### gender\n"
   ]
  },
  {
   "cell_type": "code",
   "execution_count": 112,
   "id": "3f193089",
   "metadata": {},
   "outputs": [
    {
     "data": {
      "text/plain": [
       "array(['Male', 'Female'], dtype=object)"
      ]
     },
     "execution_count": 112,
     "metadata": {},
     "output_type": "execute_result"
    }
   ],
   "source": [
    "pd.unique(df_cr['gender'])"
   ]
  },
  {
   "cell_type": "code",
   "execution_count": 113,
   "id": "6f7dddb6",
   "metadata": {},
   "outputs": [],
   "source": [
    "df_cr['gender'].mask((df_cr['gender'] == \"Male\"), 1, inplace=True)\n",
    "df_cr['gender'].mask((df_cr['gender'] == \"Female\"), 0, inplace=True)"
   ]
  },
  {
   "cell_type": "code",
   "execution_count": 114,
   "id": "fc692da0",
   "metadata": {},
   "outputs": [
    {
     "data": {
      "text/plain": [
       "<AxesSubplot:>"
      ]
     },
     "execution_count": 114,
     "metadata": {},
     "output_type": "execute_result"
    },
    {
     "data": {
      "image/png": "[encoded data removed]",
      "text/plain": [
       "<Figure size 432x288 with 1 Axes>"
      ]
     },
     "metadata": {
      "needs_background": "light"
     },
     "output_type": "display_data"
    }
   ],
   "source": [
    "# explore is_male category\n",
    "df_cr[\"gender\"].value_counts().plot(kind='barh')"
   ]
  },
  {
   "cell_type": "markdown",
   "id": "0a1f419e",
   "metadata": {},
   "source": [
    "### age"
   ]
  },
  {
   "cell_type": "code",
   "execution_count": 115,
   "id": "12d7b703",
   "metadata": {},
   "outputs": [
    {
     "data": {
      "text/plain": [
       "array(['Older', 'Middle-Aged', 'Young'], dtype=object)"
      ]
     },
     "execution_count": 115,
     "metadata": {},
     "output_type": "execute_result"
    }
   ],
   "source": [
    "pd.unique(df_cr['age'])"
   ]
  },
  {
   "cell_type": "code",
   "execution_count": 116,
   "id": "15a4bb3d",
   "metadata": {},
   "outputs": [],
   "source": [
    "df_cr['age'].mask((df_cr['age'] == \"Young\"), 1, inplace=True)\n",
    "df_cr['age'].mask((df_cr['age'] == \"Middle-Aged\"), 2, inplace=True)\n",
    "df_cr['age'].mask((df_cr['age'] == \"Older\"),3, inplace=True)"
   ]
  },
  {
   "cell_type": "code",
   "execution_count": 117,
   "id": "0e14d9da",
   "metadata": {},
   "outputs": [
    {
     "data": {
      "text/plain": [
       "<AxesSubplot:>"
      ]
     },
     "execution_count": 117,
     "metadata": {},
     "output_type": "execute_result"
    },
    {
     "data": {
      "image/png": "[encoded data removed]",
      "text/plain": [
       "<Figure size 432x288 with 1 Axes>"
      ]
     },
     "metadata": {
      "needs_background": "light"
     },
     "output_type": "display_data"
    }
   ],
   "source": [
    "# explore applicant_age category\n",
    "df_cr[\"age\"].value_counts().plot(kind='barh')"
   ]
  },
  {
   "cell_type": "markdown",
   "id": "1c70a7e9",
   "metadata": {},
   "source": [
    "### preapproval_requested"
   ]
  },
  {
   "cell_type": "code",
   "execution_count": 118,
   "id": "e0d937a0",
   "metadata": {},
   "outputs": [
    {
     "data": {
      "text/plain": [
       "array(['No Preapproval Requested', 'Preapproval Requested'], dtype=object)"
      ]
     },
     "execution_count": 118,
     "metadata": {},
     "output_type": "execute_result"
    }
   ],
   "source": [
    "pd.unique(df_cr[\"preapproval_requested\"])"
   ]
  },
  {
   "cell_type": "code",
   "execution_count": 119,
   "id": "07356735",
   "metadata": {},
   "outputs": [],
   "source": [
    "df_cr['preapproval_requested'].mask((df_cr['preapproval_requested'] == \"Preapproval Requested\"), 1, inplace=True)\n",
    "df_cr['preapproval_requested'].mask((df_cr['preapproval_requested'] == \"No Preapproval Requested\"), 0, inplace=True)"
   ]
  },
  {
   "cell_type": "code",
   "execution_count": 120,
   "id": "34ab89f5",
   "metadata": {},
   "outputs": [
    {
     "data": {
      "text/plain": [
       "<AxesSubplot:>"
      ]
     },
     "execution_count": 120,
     "metadata": {},
     "output_type": "execute_result"
    },
    {
     "data": {
      "image/png": "[encoded data removed]",
      "text/plain": [
       "<Figure size 432x288 with 1 Axes>"
      ]
     },
     "metadata": {
      "needs_background": "light"
     },
     "output_type": "display_data"
    }
   ],
   "source": [
    "# explore preapproval_requested category\n",
    "df_cr[\"preapproval_requested\"].value_counts().plot(kind='barh')"
   ]
  },
  {
   "cell_type": "markdown",
   "id": "d05236a2",
   "metadata": {},
   "source": [
    "### loan_type \n",
    "\n",
    "1. Conventional \n",
    "2. FHA-insured \n",
    "3. VA-guaranteed"
   ]
  },
  {
   "cell_type": "code",
   "execution_count": 121,
   "id": "a22c8522",
   "metadata": {},
   "outputs": [
    {
     "data": {
      "text/plain": [
       "array(['Converntional', 'VA-guaranteed', 'FHA-insured'], dtype=object)"
      ]
     },
     "execution_count": 121,
     "metadata": {},
     "output_type": "execute_result"
    }
   ],
   "source": [
    "pd.unique(df_cr['loan_type'])"
   ]
  },
  {
   "cell_type": "code",
   "execution_count": 122,
   "id": "bc79fa5d",
   "metadata": {},
   "outputs": [],
   "source": [
    "df_cr['loan_type'].mask((df_cr['loan_type'] == \"Converntional\"), 1, inplace=True)\n",
    "df_cr['loan_type'].mask((df_cr['loan_type'] == \"FHA-insured\"), 2, inplace=True)\n",
    "df_cr['loan_type'].mask((df_cr['loan_type'] == \"VA-guaranteed\"), 3, inplace=True)"
   ]
  },
  {
   "cell_type": "code",
   "execution_count": 123,
   "id": "60e57384",
   "metadata": {},
   "outputs": [
    {
     "data": {
      "text/plain": [
       "<AxesSubplot:>"
      ]
     },
     "execution_count": 123,
     "metadata": {},
     "output_type": "execute_result"
    },
    {
     "data": {
      "image/png": "[encoded data removed]",
      "text/plain": [
       "<Figure size 432x288 with 1 Axes>"
      ]
     },
     "metadata": {
      "needs_background": "light"
     },
     "output_type": "display_data"
    }
   ],
   "source": [
    "# explore loan_type category\n",
    "df_cr[\"loan_type\"].value_counts().plot(kind='barh')"
   ]
  },
  {
   "cell_type": "markdown",
   "id": "2af57e6c",
   "metadata": {},
   "source": [
    "### loan_purpose \n",
    "1. Home Purchase\n",
    "2. Home Improvement \n",
    "3. Refinancing \n",
    "4. Other Purpose "
   ]
  },
  {
   "cell_type": "code",
   "execution_count": 124,
   "id": "61909c5d",
   "metadata": {},
   "outputs": [
    {
     "data": {
      "text/plain": [
       "array(['Home Purchase', 'Refinancing', 'Home Improvement',\n",
       "       'Other Purpose'], dtype=object)"
      ]
     },
     "execution_count": 124,
     "metadata": {},
     "output_type": "execute_result"
    }
   ],
   "source": [
    "pd.unique(df_cr['loan_purpose'])"
   ]
  },
  {
   "cell_type": "code",
   "execution_count": 125,
   "id": "64e8d33c",
   "metadata": {},
   "outputs": [],
   "source": [
    "df_cr['loan_purpose'].mask((df_cr['loan_purpose'] == \"Home Purchase\"), 1, inplace=True)\n",
    "df_cr['loan_purpose'].mask((df_cr['loan_purpose'] == \"Home Improvement\"), 2, inplace=True)\n",
    "df_cr['loan_purpose'].mask((df_cr['loan_purpose'] == \"Refinancing\"), 3, inplace=True)\n",
    "df_cr['loan_purpose'].mask((df_cr['loan_purpose'] == \"Other Purpose\"), 4, inplace=True)"
   ]
  },
  {
   "cell_type": "code",
   "execution_count": 126,
   "id": "db1346c0",
   "metadata": {},
   "outputs": [
    {
     "data": {
      "text/plain": [
       "<AxesSubplot:>"
      ]
     },
     "execution_count": 126,
     "metadata": {},
     "output_type": "execute_result"
    },
    {
     "data": {
      "image/png": "[encoded data removed]",
      "text/plain": [
       "<Figure size 432x288 with 1 Axes>"
      ]
     },
     "metadata": {
      "needs_background": "light"
     },
     "output_type": "display_data"
    }
   ],
   "source": [
    "# explore loan_purpose category\n",
    "df_cr[\"loan_purpose\"].value_counts().plot(kind='barh')"
   ]
  },
  {
   "cell_type": "markdown",
   "id": "0b1b7717",
   "metadata": {},
   "source": [
    "### interest_only_payment \n",
    "1. Interest-only Payments\n",
    "2. No Interest-only Payments\n"
   ]
  },
  {
   "cell_type": "code",
   "execution_count": 127,
   "id": "fb648fed",
   "metadata": {},
   "outputs": [
    {
     "data": {
      "text/plain": [
       "array(['No Interest-only Payments', 'Interest-only Payments'],\n",
       "      dtype=object)"
      ]
     },
     "execution_count": 127,
     "metadata": {},
     "output_type": "execute_result"
    }
   ],
   "source": [
    "pd.unique(df_cr['interest_only_payment'])"
   ]
  },
  {
   "cell_type": "code",
   "execution_count": 128,
   "id": "a2e6dd74",
   "metadata": {},
   "outputs": [],
   "source": [
    "df_cr['interest_only_payment'].mask((df_cr['interest_only_payment'] == \"Interest-only Payments\"), 1, inplace=True)\n",
    "df_cr['interest_only_payment'].mask((df_cr['interest_only_payment'] == \"No Interest-only Payments\"), 2, inplace=True)"
   ]
  },
  {
   "cell_type": "code",
   "execution_count": 129,
   "id": "83fd3eb2",
   "metadata": {},
   "outputs": [
    {
     "data": {
      "text/plain": [
       "<AxesSubplot:>"
      ]
     },
     "execution_count": 129,
     "metadata": {},
     "output_type": "execute_result"
    },
    {
     "data": {
      "image/png": "[encoded data removed]",
      "text/plain": [
       "<Figure size 432x288 with 1 Axes>"
      ]
     },
     "metadata": {
      "needs_background": "light"
     },
     "output_type": "display_data"
    }
   ],
   "source": [
    "# explore interest_only_payment category\n",
    "df_cr[\"interest_only_payment\"].value_counts().plot(kind='barh')"
   ]
  },
  {
   "cell_type": "markdown",
   "id": "5256d561",
   "metadata": {},
   "source": [
    "### balloon_payment \n",
    "1. Balloon Payment\n",
    "2. No Balloon Payment "
   ]
  },
  {
   "cell_type": "code",
   "execution_count": 130,
   "id": "63ee719f",
   "metadata": {},
   "outputs": [
    {
     "data": {
      "text/plain": [
       "array(['No Balloon Payment', 'Balloon Payment'], dtype=object)"
      ]
     },
     "execution_count": 130,
     "metadata": {},
     "output_type": "execute_result"
    }
   ],
   "source": [
    "pd.unique(df_cr['balloon_payment'])"
   ]
  },
  {
   "cell_type": "code",
   "execution_count": 131,
   "id": "da983e99",
   "metadata": {},
   "outputs": [],
   "source": [
    "df_cr['balloon_payment'].mask((df_cr['balloon_payment'] == \"Balloon Payment\"), 1, inplace=True)\n",
    "df_cr['balloon_payment'].mask((df_cr['balloon_payment'] == \"No Balloon Payment\"), 2, inplace=True)"
   ]
  },
  {
   "cell_type": "code",
   "execution_count": 132,
   "id": "6e7d6781",
   "metadata": {},
   "outputs": [
    {
     "data": {
      "text/plain": [
       "<AxesSubplot:>"
      ]
     },
     "execution_count": 132,
     "metadata": {},
     "output_type": "execute_result"
    },
    {
     "data": {
      "image/png": "[encoded data removed]",
      "text/plain": [
       "<Figure size 432x288 with 1 Axes>"
      ]
     },
     "metadata": {
      "needs_background": "light"
     },
     "output_type": "display_data"
    }
   ],
   "source": [
    "# explore balloon_payment category\n",
    "df_cr[\"balloon_payment\"].value_counts().plot(kind='barh')"
   ]
  },
  {
   "cell_type": "markdown",
   "id": "f4425ba8",
   "metadata": {},
   "source": [
    "### debt_to_income_ratio \n",
    "Description: The ratio, as a percentage, of the applicant’s or borrower’s total monthly debt to the total monthly income relied on in making the credit decision\n",
    "1. <20%\n",
    "2. 20%-<30%\n",
    "3. 30%-<36%\n",
    "4. 36%-<50%\n",
    "5. 50%-60% \n",
    "6. ->60%"
   ]
  },
  {
   "cell_type": "code",
   "execution_count": 133,
   "id": "e7a74dfb",
   "metadata": {},
   "outputs": [
    {
     "data": {
      "text/plain": [
       "array(['30%-<36%', '36%-<50%', '20%-<30%', '50%-60%', '>60%', '<20%'],\n",
       "      dtype=object)"
      ]
     },
     "execution_count": 133,
     "metadata": {},
     "output_type": "execute_result"
    }
   ],
   "source": [
    "pd.unique(df_cr['debt_to_income_ratio'])"
   ]
  },
  {
   "cell_type": "code",
   "execution_count": 134,
   "id": "45705763",
   "metadata": {},
   "outputs": [],
   "source": [
    "df_cr['debt_to_income_ratio'].mask((df_cr['debt_to_income_ratio'] == \"<20%\"), 1, inplace=True)\n",
    "df_cr['debt_to_income_ratio'].mask((df_cr['debt_to_income_ratio'] == \"20%-<30%\"), 2, inplace=True)\n",
    "df_cr['debt_to_income_ratio'].mask((df_cr['debt_to_income_ratio'] == \"30%-<36%\"), 3, inplace=True)\n",
    "df_cr['debt_to_income_ratio'].mask((df_cr['debt_to_income_ratio'] == \"36%-<50%\"), 4, inplace=True)\n",
    "df_cr['debt_to_income_ratio'].mask((df_cr['debt_to_income_ratio'] == \"50%-60%\"), 5, inplace=True)\n",
    "df_cr['debt_to_income_ratio'].mask((df_cr['debt_to_income_ratio'] == \">60%\"), 6, inplace=True)"
   ]
  },
  {
   "cell_type": "code",
   "execution_count": 135,
   "id": "989cf1cc",
   "metadata": {},
   "outputs": [],
   "source": [
    "# reset index\n",
    "df_cr = df_cr.reset_index(drop = True)"
   ]
  },
  {
   "cell_type": "code",
   "execution_count": 136,
   "id": "f63a8f4c",
   "metadata": {},
   "outputs": [
    {
     "data": {
      "text/plain": [
       "<AxesSubplot:>"
      ]
     },
     "execution_count": 136,
     "metadata": {},
     "output_type": "execute_result"
    },
    {
     "data": {
      "image/png": "[encoded data removed]",
      "text/plain": [
       "<Figure size 432x288 with 1 Axes>"
      ]
     },
     "metadata": {
      "needs_background": "light"
     },
     "output_type": "display_data"
    }
   ],
   "source": [
    "# explore debt_to_income_ratio category\n",
    "df_cr[\"debt_to_income_ratio\"].value_counts().plot(kind='barh')"
   ]
  },
  {
   "cell_type": "markdown",
   "id": "f7a3bef4",
   "metadata": {},
   "source": [
    "### loan_to_value_ratio \n",
    "1. Conventional Bar - 80% or less\n",
    "2. FHA Bar - 96.5% or less\n",
    "3. VA Bar - 100% or less\n",
    "4. Not Eligible - 100% (resource: https://www.forbes.com/advisor/mortgages/loan-to-value-ratio/)"
   ]
  },
  {
   "cell_type": "code",
   "execution_count": 137,
   "id": "a36d2968",
   "metadata": {},
   "outputs": [
    {
     "data": {
      "text/plain": [
       "array(['< Conventional Bar', '> Conventional Bar and < FHA Bar',\n",
       "       '> FHA Bar and < VA Bar', 'Not Eligible'], dtype=object)"
      ]
     },
     "execution_count": 137,
     "metadata": {},
     "output_type": "execute_result"
    }
   ],
   "source": [
    "pd.unique(df_cr[\"loan_to_value_ratio\"])"
   ]
  },
  {
   "cell_type": "code",
   "execution_count": 138,
   "id": "3f434852",
   "metadata": {},
   "outputs": [],
   "source": [
    "df_cr['loan_to_value_ratio'].mask((df_cr['loan_to_value_ratio'] == \"< Conventional Bar\"), 1, inplace=True)\n",
    "df_cr['loan_to_value_ratio'].mask((df_cr['loan_to_value_ratio'] == \"> FHA Bar and < VA Bar\"), 2, inplace=True)\n",
    "df_cr['loan_to_value_ratio'].mask((df_cr['loan_to_value_ratio'] == \"> Conventional Bar and < FHA Bar\"), 3, inplace=True)\n",
    "df_cr['loan_to_value_ratio'].mask((df_cr['loan_to_value_ratio'] == \"Not Eligible\"), 4, inplace=True)"
   ]
  },
  {
   "cell_type": "code",
   "execution_count": 139,
   "id": "124217f3",
   "metadata": {},
   "outputs": [],
   "source": [
    "# reset index\n",
    "df_cr = df_cr.reset_index(drop = True)"
   ]
  },
  {
   "cell_type": "code",
   "execution_count": 140,
   "id": "cb1b332f",
   "metadata": {},
   "outputs": [
    {
     "data": {
      "text/plain": [
       "<AxesSubplot:>"
      ]
     },
     "execution_count": 140,
     "metadata": {},
     "output_type": "execute_result"
    },
    {
     "data": {
      "image/png": "[encoded data removed]",
      "text/plain": [
       "<Figure size 432x288 with 1 Axes>"
      ]
     },
     "metadata": {
      "needs_background": "light"
     },
     "output_type": "display_data"
    }
   ],
   "source": [
    "# explore loan_to_value_ratio category\n",
    "df_cr[\"loan_to_value_ratio\"].value_counts().plot(kind='barh')"
   ]
  },
  {
   "cell_type": "markdown",
   "id": "0b8c5b9f",
   "metadata": {},
   "source": [
    "### income \n",
    "1. Rich\n",
    "2. Upper-Middle Class\n",
    "3. Middle Class\n",
    "4. Lower-Middle Class\n",
    "5. Poor and Near Poor"
   ]
  },
  {
   "cell_type": "code",
   "execution_count": 141,
   "id": "6a801d0f",
   "metadata": {},
   "outputs": [
    {
     "data": {
      "text/plain": [
       "array(['Rich', 'Upper-Middle Class', 'Middle Class', 'Lower-Middle Class',\n",
       "       'Poor and Near Poor'], dtype=object)"
      ]
     },
     "execution_count": 141,
     "metadata": {},
     "output_type": "execute_result"
    }
   ],
   "source": [
    "pd.unique(df_cr[\"income\"])"
   ]
  },
  {
   "cell_type": "code",
   "execution_count": 142,
   "id": "ca4ebbdd",
   "metadata": {},
   "outputs": [],
   "source": [
    "df_cr['income'].mask((df_cr['income'] == \"Rich\"), 1, inplace=True)\n",
    "df_cr['income'].mask((df_cr['income'] == \"Upper-Middle Class\"), 2, inplace=True)\n",
    "df_cr['income'].mask((df_cr['income'] == \"Middle Class\"), 3, inplace=True)\n",
    "df_cr['income'].mask((df_cr['income'] == \"Lower-Middle Class\"), 4, inplace=True)\n",
    "df_cr['income'].mask((df_cr['income'] == \"Poor and Near Poor\"), 5, inplace=True)"
   ]
  },
  {
   "cell_type": "code",
   "execution_count": 143,
   "id": "79af86aa",
   "metadata": {},
   "outputs": [],
   "source": [
    "# reset index\n",
    "df_cr = df_cr.reset_index(drop = True)"
   ]
  },
  {
   "cell_type": "code",
   "execution_count": 144,
   "id": "9415ad34",
   "metadata": {},
   "outputs": [
    {
     "data": {
      "text/plain": [
       "<AxesSubplot:>"
      ]
     },
     "execution_count": 144,
     "metadata": {},
     "output_type": "execute_result"
    },
    {
     "data": {
      "image/png": "[encoded data removed]",
      "text/plain": [
       "<Figure size 432x288 with 1 Axes>"
      ]
     },
     "metadata": {
      "needs_background": "light"
     },
     "output_type": "display_data"
    }
   ],
   "source": [
    "# explore income category\n",
    "df_cr[\"income\"].value_counts().plot(kind='barh')"
   ]
  },
  {
   "cell_type": "code",
   "execution_count": 145,
   "id": "0d7252d0",
   "metadata": {},
   "outputs": [
    {
     "data": {
      "text/html": [
       "<div>\n",
       "<style scoped>\n",
       "    .dataframe tbody tr th:only-of-type {\n",
       "        vertical-align: middle;\n",
       "    }\n",
       "\n",
       "    .dataframe tbody tr th {\n",
       "        vertical-align: top;\n",
       "    }\n",
       "\n",
       "    .dataframe thead th {\n",
       "        text-align: right;\n",
       "    }\n",
       "</style>\n",
       "<table border=\"1\" class=\"dataframe\">\n",
       "  <thead>\n",
       "    <tr style=\"text-align: right;\">\n",
       "      <th></th>\n",
       "      <th>ethnicity</th>\n",
       "      <th>race</th>\n",
       "      <th>gender</th>\n",
       "      <th>action_taken</th>\n",
       "      <th>preapproval_requested</th>\n",
       "      <th>loan_type</th>\n",
       "      <th>loan_purpose</th>\n",
       "      <th>interest_only_payment</th>\n",
       "      <th>balloon_payment</th>\n",
       "      <th>debt_to_income_ratio</th>\n",
       "      <th>age</th>\n",
       "      <th>income</th>\n",
       "      <th>loan_to_value_ratio</th>\n",
       "    </tr>\n",
       "  </thead>\n",
       "  <tbody>\n",
       "    <tr>\n",
       "      <th>0</th>\n",
       "      <td>0</td>\n",
       "      <td>1</td>\n",
       "      <td>1</td>\n",
       "      <td>1</td>\n",
       "      <td>0</td>\n",
       "      <td>1</td>\n",
       "      <td>1</td>\n",
       "      <td>2</td>\n",
       "      <td>2</td>\n",
       "      <td>3</td>\n",
       "      <td>3</td>\n",
       "      <td>1</td>\n",
       "      <td>1</td>\n",
       "    </tr>\n",
       "    <tr>\n",
       "      <th>1</th>\n",
       "      <td>0</td>\n",
       "      <td>1</td>\n",
       "      <td>1</td>\n",
       "      <td>1</td>\n",
       "      <td>0</td>\n",
       "      <td>1</td>\n",
       "      <td>1</td>\n",
       "      <td>2</td>\n",
       "      <td>2</td>\n",
       "      <td>4</td>\n",
       "      <td>2</td>\n",
       "      <td>2</td>\n",
       "      <td>3</td>\n",
       "    </tr>\n",
       "    <tr>\n",
       "      <th>2</th>\n",
       "      <td>0</td>\n",
       "      <td>1</td>\n",
       "      <td>0</td>\n",
       "      <td>1</td>\n",
       "      <td>0</td>\n",
       "      <td>1</td>\n",
       "      <td>1</td>\n",
       "      <td>2</td>\n",
       "      <td>2</td>\n",
       "      <td>4</td>\n",
       "      <td>2</td>\n",
       "      <td>3</td>\n",
       "      <td>1</td>\n",
       "    </tr>\n",
       "    <tr>\n",
       "      <th>3</th>\n",
       "      <td>0</td>\n",
       "      <td>1</td>\n",
       "      <td>0</td>\n",
       "      <td>1</td>\n",
       "      <td>0</td>\n",
       "      <td>1</td>\n",
       "      <td>3</td>\n",
       "      <td>2</td>\n",
       "      <td>2</td>\n",
       "      <td>2</td>\n",
       "      <td>2</td>\n",
       "      <td>3</td>\n",
       "      <td>1</td>\n",
       "    </tr>\n",
       "    <tr>\n",
       "      <th>4</th>\n",
       "      <td>0</td>\n",
       "      <td>1</td>\n",
       "      <td>0</td>\n",
       "      <td>1</td>\n",
       "      <td>0</td>\n",
       "      <td>1</td>\n",
       "      <td>1</td>\n",
       "      <td>2</td>\n",
       "      <td>2</td>\n",
       "      <td>2</td>\n",
       "      <td>3</td>\n",
       "      <td>2</td>\n",
       "      <td>1</td>\n",
       "    </tr>\n",
       "  </tbody>\n",
       "</table>\n",
       "</div>"
      ],
      "text/plain": [
       "  ethnicity race gender  action_taken preapproval_requested loan_type  \\\n",
       "0         0    1      1             1                     0         1   \n",
       "1         0    1      1             1                     0         1   \n",
       "2         0    1      0             1                     0         1   \n",
       "3         0    1      0             1                     0         1   \n",
       "4         0    1      0             1                     0         1   \n",
       "\n",
       "  loan_purpose interest_only_payment balloon_payment debt_to_income_ratio age  \\\n",
       "0            1                     2               2                    3   3   \n",
       "1            1                     2               2                    4   2   \n",
       "2            1                     2               2                    4   2   \n",
       "3            3                     2               2                    2   2   \n",
       "4            1                     2               2                    2   3   \n",
       "\n",
       "  income loan_to_value_ratio  \n",
       "0      1                   1  \n",
       "1      2                   3  \n",
       "2      3                   1  \n",
       "3      3                   1  \n",
       "4      2                   1  "
      ]
     },
     "execution_count": 145,
     "metadata": {},
     "output_type": "execute_result"
    }
   ],
   "source": [
    "df_cr.head()"
   ]
  },
  {
   "cell_type": "code",
   "execution_count": 146,
   "id": "fb8d6135",
   "metadata": {},
   "outputs": [
    {
     "data": {
      "text/html": [
       "<div>\n",
       "<style scoped>\n",
       "    .dataframe tbody tr th:only-of-type {\n",
       "        vertical-align: middle;\n",
       "    }\n",
       "\n",
       "    .dataframe tbody tr th {\n",
       "        vertical-align: top;\n",
       "    }\n",
       "\n",
       "    .dataframe thead th {\n",
       "        text-align: right;\n",
       "    }\n",
       "</style>\n",
       "<table border=\"1\" class=\"dataframe\">\n",
       "  <thead>\n",
       "    <tr style=\"text-align: right;\">\n",
       "      <th></th>\n",
       "      <th>ethnicity</th>\n",
       "      <th>race</th>\n",
       "      <th>gender</th>\n",
       "      <th>action_taken</th>\n",
       "      <th>preapproval_requested</th>\n",
       "      <th>loan_type</th>\n",
       "      <th>loan_purpose</th>\n",
       "      <th>interest_only_payment</th>\n",
       "      <th>balloon_payment</th>\n",
       "      <th>debt_to_income_ratio</th>\n",
       "      <th>age</th>\n",
       "      <th>income</th>\n",
       "      <th>loan_to_value_ratio</th>\n",
       "    </tr>\n",
       "  </thead>\n",
       "  <tbody>\n",
       "    <tr>\n",
       "      <th>10601</th>\n",
       "      <td>0</td>\n",
       "      <td>2</td>\n",
       "      <td>1</td>\n",
       "      <td>0</td>\n",
       "      <td>0</td>\n",
       "      <td>1</td>\n",
       "      <td>1</td>\n",
       "      <td>2</td>\n",
       "      <td>2</td>\n",
       "      <td>5</td>\n",
       "      <td>2</td>\n",
       "      <td>2</td>\n",
       "      <td>3</td>\n",
       "    </tr>\n",
       "    <tr>\n",
       "      <th>10602</th>\n",
       "      <td>0</td>\n",
       "      <td>1</td>\n",
       "      <td>1</td>\n",
       "      <td>1</td>\n",
       "      <td>0</td>\n",
       "      <td>1</td>\n",
       "      <td>1</td>\n",
       "      <td>2</td>\n",
       "      <td>2</td>\n",
       "      <td>2</td>\n",
       "      <td>2</td>\n",
       "      <td>2</td>\n",
       "      <td>1</td>\n",
       "    </tr>\n",
       "    <tr>\n",
       "      <th>10603</th>\n",
       "      <td>0</td>\n",
       "      <td>1</td>\n",
       "      <td>1</td>\n",
       "      <td>0</td>\n",
       "      <td>0</td>\n",
       "      <td>3</td>\n",
       "      <td>1</td>\n",
       "      <td>2</td>\n",
       "      <td>2</td>\n",
       "      <td>6</td>\n",
       "      <td>2</td>\n",
       "      <td>3</td>\n",
       "      <td>4</td>\n",
       "    </tr>\n",
       "    <tr>\n",
       "      <th>10604</th>\n",
       "      <td>0</td>\n",
       "      <td>1</td>\n",
       "      <td>0</td>\n",
       "      <td>1</td>\n",
       "      <td>0</td>\n",
       "      <td>1</td>\n",
       "      <td>3</td>\n",
       "      <td>2</td>\n",
       "      <td>2</td>\n",
       "      <td>2</td>\n",
       "      <td>2</td>\n",
       "      <td>3</td>\n",
       "      <td>1</td>\n",
       "    </tr>\n",
       "    <tr>\n",
       "      <th>10605</th>\n",
       "      <td>0</td>\n",
       "      <td>1</td>\n",
       "      <td>1</td>\n",
       "      <td>1</td>\n",
       "      <td>0</td>\n",
       "      <td>1</td>\n",
       "      <td>3</td>\n",
       "      <td>2</td>\n",
       "      <td>2</td>\n",
       "      <td>2</td>\n",
       "      <td>3</td>\n",
       "      <td>2</td>\n",
       "      <td>3</td>\n",
       "    </tr>\n",
       "  </tbody>\n",
       "</table>\n",
       "</div>"
      ],
      "text/plain": [
       "      ethnicity race gender  action_taken preapproval_requested loan_type  \\\n",
       "10601         0    2      1             0                     0         1   \n",
       "10602         0    1      1             1                     0         1   \n",
       "10603         0    1      1             0                     0         3   \n",
       "10604         0    1      0             1                     0         1   \n",
       "10605         0    1      1             1                     0         1   \n",
       "\n",
       "      loan_purpose interest_only_payment balloon_payment debt_to_income_ratio  \\\n",
       "10601            1                     2               2                    5   \n",
       "10602            1                     2               2                    2   \n",
       "10603            1                     2               2                    6   \n",
       "10604            3                     2               2                    2   \n",
       "10605            3                     2               2                    2   \n",
       "\n",
       "      age income loan_to_value_ratio  \n",
       "10601   2      2                   3  \n",
       "10602   2      2                   1  \n",
       "10603   2      3                   4  \n",
       "10604   2      3                   1  \n",
       "10605   3      2                   3  "
      ]
     },
     "execution_count": 146,
     "metadata": {},
     "output_type": "execute_result"
    }
   ],
   "source": [
    "df_cr.tail()"
   ]
  },
  {
   "cell_type": "code",
   "execution_count": 147,
   "id": "60c7bd7c",
   "metadata": {},
   "outputs": [],
   "source": [
    "df_cr.to_csv('data/Fairlearn_FL_PortSL.csv', index = False)"
   ]
  },
  {
   "cell_type": "code",
   "execution_count": null,
   "id": "3ece27fc",
   "metadata": {},
   "outputs": [],
   "source": []
  }
 ],
 "metadata": {
  "kernelspec": {
   "display_name": "Python 3 (ipykernel)",
   "language": "python",
   "name": "python3"
  },
  "language_info": {
   "codemirror_mode": {
    "name": "ipython",
    "version": 3
   },
   "file_extension": ".py",
   "mimetype": "text/x-python",
   "name": "python",
   "nbconvert_exporter": "python",
   "pygments_lexer": "ipython3",
   "version": "3.9.12"
  }
 },
 "nbformat": 4,
 "nbformat_minor": 5
}
