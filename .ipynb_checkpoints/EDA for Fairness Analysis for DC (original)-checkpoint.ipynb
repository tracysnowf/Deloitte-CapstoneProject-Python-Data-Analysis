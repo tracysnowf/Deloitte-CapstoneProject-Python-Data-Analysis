{
 "cells": [
  {
   "cell_type": "markdown",
   "id": "87662e00",
   "metadata": {},
   "source": [
    "# Part 1: Exploratory Data Analysis"
   ]
  },
  {
   "cell_type": "markdown",
   "id": "b142b097",
   "metadata": {},
   "source": [
    "## Part 1.1: Understand the Raw Dataset"
   ]
  },
  {
   "cell_type": "code",
   "execution_count": 8,
   "id": "564b97cb",
   "metadata": {},
   "outputs": [],
   "source": [
    "import numpy as np\n",
    "import pandas as pd\n",
    "import matplotlib.pyplot as plt\n",
    "import seaborn as sns\n",
    "import math"
   ]
  },
  {
   "cell_type": "code",
   "execution_count": 9,
   "id": "e10f8c00",
   "metadata": {},
   "outputs": [],
   "source": [
    "credit_risk = 'https://raw.githubusercontent.com/tracysnowf/Deloitte-CapstoneProject/main/data/Mortgage%20Lending_raw.csv'\n",
    "df_cr = pd.read_csv(credit_risk, sep = ',')"
   ]
  },
  {
   "cell_type": "markdown",
   "id": "d637271f",
   "metadata": {},
   "source": []
  },
  {
   "cell_type": "code",
   "execution_count": 10,
   "id": "e6f61669",
   "metadata": {
    "scrolled": false
   },
   "outputs": [
    {
     "data": {
      "text/html": [
       "<div>\n",
       "<style scoped>\n",
       "    .dataframe tbody tr th:only-of-type {\n",
       "        vertical-align: middle;\n",
       "    }\n",
       "\n",
       "    .dataframe tbody tr th {\n",
       "        vertical-align: top;\n",
       "    }\n",
       "\n",
       "    .dataframe thead th {\n",
       "        text-align: right;\n",
       "    }\n",
       "</style>\n",
       "<table border=\"1\" class=\"dataframe\">\n",
       "  <thead>\n",
       "    <tr style=\"text-align: right;\">\n",
       "      <th></th>\n",
       "      <th>Unnamed: 0</th>\n",
       "      <th>derived_ethnicity</th>\n",
       "      <th>derived_race</th>\n",
       "      <th>derived_sex</th>\n",
       "      <th>action_taken</th>\n",
       "      <th>preapproval</th>\n",
       "      <th>loan_type</th>\n",
       "      <th>loan_purpose</th>\n",
       "      <th>loan_amount</th>\n",
       "      <th>loan_to_value_ratio</th>\n",
       "      <th>interest_only_payment</th>\n",
       "      <th>balloon_payment</th>\n",
       "      <th>income</th>\n",
       "      <th>debt_to_income_ratio</th>\n",
       "      <th>applicant_age</th>\n",
       "    </tr>\n",
       "  </thead>\n",
       "  <tbody>\n",
       "    <tr>\n",
       "      <th>0</th>\n",
       "      <td>0</td>\n",
       "      <td>Not Hispanic or Latino</td>\n",
       "      <td>Black or African American</td>\n",
       "      <td>Female</td>\n",
       "      <td>1</td>\n",
       "      <td>2</td>\n",
       "      <td>1</td>\n",
       "      <td>32</td>\n",
       "      <td>105000.0</td>\n",
       "      <td>75.0</td>\n",
       "      <td>2</td>\n",
       "      <td>2</td>\n",
       "      <td>91.0</td>\n",
       "      <td>48</td>\n",
       "      <td>35-44</td>\n",
       "    </tr>\n",
       "    <tr>\n",
       "      <th>1</th>\n",
       "      <td>1</td>\n",
       "      <td>Not Hispanic or Latino</td>\n",
       "      <td>Black or African American</td>\n",
       "      <td>Female</td>\n",
       "      <td>3</td>\n",
       "      <td>2</td>\n",
       "      <td>1</td>\n",
       "      <td>31</td>\n",
       "      <td>275000.0</td>\n",
       "      <td>52.38</td>\n",
       "      <td>2</td>\n",
       "      <td>2</td>\n",
       "      <td>142.0</td>\n",
       "      <td>44</td>\n",
       "      <td>&gt;74</td>\n",
       "    </tr>\n",
       "    <tr>\n",
       "      <th>2</th>\n",
       "      <td>2</td>\n",
       "      <td>Hispanic or Latino</td>\n",
       "      <td>White</td>\n",
       "      <td>Male</td>\n",
       "      <td>3</td>\n",
       "      <td>2</td>\n",
       "      <td>1</td>\n",
       "      <td>1</td>\n",
       "      <td>235000.0</td>\n",
       "      <td>80.0</td>\n",
       "      <td>2</td>\n",
       "      <td>2</td>\n",
       "      <td>60.0</td>\n",
       "      <td>38</td>\n",
       "      <td>35-44</td>\n",
       "    </tr>\n",
       "    <tr>\n",
       "      <th>3</th>\n",
       "      <td>3</td>\n",
       "      <td>Not Hispanic or Latino</td>\n",
       "      <td>White</td>\n",
       "      <td>Male</td>\n",
       "      <td>1</td>\n",
       "      <td>2</td>\n",
       "      <td>1</td>\n",
       "      <td>1</td>\n",
       "      <td>465000.0</td>\n",
       "      <td>94.69</td>\n",
       "      <td>2</td>\n",
       "      <td>2</td>\n",
       "      <td>112.0</td>\n",
       "      <td>42</td>\n",
       "      <td>35-44</td>\n",
       "    </tr>\n",
       "    <tr>\n",
       "      <th>4</th>\n",
       "      <td>4</td>\n",
       "      <td>Not Hispanic or Latino</td>\n",
       "      <td>Black or African American</td>\n",
       "      <td>Male</td>\n",
       "      <td>1</td>\n",
       "      <td>1</td>\n",
       "      <td>3</td>\n",
       "      <td>1</td>\n",
       "      <td>415000.0</td>\n",
       "      <td>100.0</td>\n",
       "      <td>2</td>\n",
       "      <td>2</td>\n",
       "      <td>83.0</td>\n",
       "      <td>50%-60%</td>\n",
       "      <td>25-34</td>\n",
       "    </tr>\n",
       "  </tbody>\n",
       "</table>\n",
       "</div>"
      ],
      "text/plain": [
       "   Unnamed: 0       derived_ethnicity               derived_race derived_sex  \\\n",
       "0           0  Not Hispanic or Latino  Black or African American      Female   \n",
       "1           1  Not Hispanic or Latino  Black or African American      Female   \n",
       "2           2      Hispanic or Latino                      White        Male   \n",
       "3           3  Not Hispanic or Latino                      White        Male   \n",
       "4           4  Not Hispanic or Latino  Black or African American        Male   \n",
       "\n",
       "   action_taken  preapproval  loan_type  loan_purpose  loan_amount  \\\n",
       "0             1            2          1            32     105000.0   \n",
       "1             3            2          1            31     275000.0   \n",
       "2             3            2          1             1     235000.0   \n",
       "3             1            2          1             1     465000.0   \n",
       "4             1            1          3             1     415000.0   \n",
       "\n",
       "  loan_to_value_ratio  interest_only_payment  balloon_payment  income  \\\n",
       "0                75.0                      2                2    91.0   \n",
       "1               52.38                      2                2   142.0   \n",
       "2                80.0                      2                2    60.0   \n",
       "3               94.69                      2                2   112.0   \n",
       "4               100.0                      2                2    83.0   \n",
       "\n",
       "  debt_to_income_ratio applicant_age  \n",
       "0                   48         35-44  \n",
       "1                   44           >74  \n",
       "2                   38         35-44  \n",
       "3                   42         35-44  \n",
       "4              50%-60%         25-34  "
      ]
     },
     "execution_count": 10,
     "metadata": {},
     "output_type": "execute_result"
    }
   ],
   "source": [
    "df_cr.head() # column 0 is redundant"
   ]
  },
  {
   "cell_type": "code",
   "execution_count": 11,
   "id": "3bbd805c",
   "metadata": {},
   "outputs": [
    {
     "name": "stdout",
     "output_type": "stream",
     "text": [
      "<class 'pandas.core.frame.DataFrame'>\n",
      "RangeIndex: 14509 entries, 0 to 14508\n",
      "Data columns (total 15 columns):\n",
      " #   Column                 Non-Null Count  Dtype  \n",
      "---  ------                 --------------  -----  \n",
      " 0   Unnamed: 0             14509 non-null  int64  \n",
      " 1   derived_ethnicity      14509 non-null  object \n",
      " 2   derived_race           14509 non-null  object \n",
      " 3   derived_sex            14509 non-null  object \n",
      " 4   action_taken           14509 non-null  int64  \n",
      " 5   preapproval            14509 non-null  int64  \n",
      " 6   loan_type              14509 non-null  int64  \n",
      " 7   loan_purpose           14509 non-null  int64  \n",
      " 8   loan_amount            14509 non-null  float64\n",
      " 9   loan_to_value_ratio    13902 non-null  object \n",
      " 10  interest_only_payment  14509 non-null  int64  \n",
      " 11  balloon_payment        14509 non-null  int64  \n",
      " 12  income                 14027 non-null  float64\n",
      " 13  debt_to_income_ratio   13787 non-null  object \n",
      " 14  applicant_age          14509 non-null  object \n",
      "dtypes: float64(2), int64(7), object(6)\n",
      "memory usage: 1.7+ MB\n"
     ]
    }
   ],
   "source": [
    "# check data info\n",
    "df_cr.info()"
   ]
  },
  {
   "cell_type": "code",
   "execution_count": 12,
   "id": "678b8385",
   "metadata": {
    "scrolled": false
   },
   "outputs": [
    {
     "data": {
      "text/plain": [
       "Unnamed: 0               14509\n",
       "derived_ethnicity            5\n",
       "derived_race                 9\n",
       "derived_sex                  2\n",
       "action_taken                 2\n",
       "preapproval                  2\n",
       "loan_type                    4\n",
       "loan_purpose                 6\n",
       "loan_amount                237\n",
       "loan_to_value_ratio       7074\n",
       "interest_only_payment        3\n",
       "balloon_payment              3\n",
       "income                     778\n",
       "debt_to_income_ratio        20\n",
       "applicant_age                8\n",
       "dtype: int64"
      ]
     },
     "execution_count": 12,
     "metadata": {},
     "output_type": "execute_result"
    }
   ],
   "source": [
    "# check the unique values for each column\n",
    "df_cr.nunique()"
   ]
  },
  {
   "cell_type": "code",
   "execution_count": 13,
   "id": "a6926495",
   "metadata": {},
   "outputs": [
    {
     "name": "stderr",
     "output_type": "stream",
     "text": [
      "C:\\Users\\Xue Feng\\AppData\\Local\\Temp\\ipykernel_2712\\378486231.py:1: FutureWarning: In a future version of pandas all arguments of DataFrame.drop except for the argument 'labels' will be keyword-only.\n",
      "  df_cr = df_cr.drop('Unnamed: 0', 1) # delete index column from csv\n"
     ]
    }
   ],
   "source": [
    "df_cr = df_cr.drop('Unnamed: 0', 1) # delete index column from csv"
   ]
  },
  {
   "cell_type": "markdown",
   "id": "09520e45",
   "metadata": {},
   "source": [
    "##### action_taken - Y variable\n",
    "1 -- Loan originated (the qualification and verification process that begins a new loan.) <br>\n",
    "2 -- Application approved but not accepted (If the loan was approved before closing but the applicant either failed to respond or the loan was not otherwise closed, then the action taken would be reported as approved but not accepted.) <br>\n",
    "3 -- Application denied by financial institution <br>\n",
    "\n",
    "Comments: <br>\n",
    "category 1 (a typo) might actually be 2(Approved) in the codebook, and 3 stays the same(Disapproved)"
   ]
  },
  {
   "cell_type": "code",
   "execution_count": 14,
   "id": "36bb0854",
   "metadata": {
    "scrolled": true
   },
   "outputs": [
    {
     "data": {
      "text/plain": [
       "array([1, 3], dtype=int64)"
      ]
     },
     "execution_count": 14,
     "metadata": {},
     "output_type": "execute_result"
    }
   ],
   "source": [
    "pd.unique(df_cr['action_taken'])"
   ]
  },
  {
   "cell_type": "code",
   "execution_count": 15,
   "id": "960e2679",
   "metadata": {},
   "outputs": [],
   "source": [
    "# new codebook: 1 - Approved; 0 - Disapproved\n",
    "# so change all the vlaues of 3 to 0\n",
    "df_cr['action_taken'].mask((df_cr['action_taken'] == 3), 0, inplace=True)"
   ]
  },
  {
   "cell_type": "code",
   "execution_count": 16,
   "id": "7782980c",
   "metadata": {},
   "outputs": [
    {
     "data": {
      "text/plain": [
       "1    10871\n",
       "0     3638\n",
       "Name: action_taken, dtype: int64"
      ]
     },
     "execution_count": 16,
     "metadata": {},
     "output_type": "execute_result"
    }
   ],
   "source": [
    "# check the distribution of target variable action_taken\n",
    "df_cr.loc[:,'action_taken'].value_counts()"
   ]
  },
  {
   "cell_type": "code",
   "execution_count": null,
   "id": "89efbb7d",
   "metadata": {},
   "outputs": [],
   "source": []
  },
  {
   "cell_type": "markdown",
   "id": "8bc5acdd",
   "metadata": {},
   "source": [
    "## Part 1.2: Understand the Features"
   ]
  },
  {
   "cell_type": "code",
   "execution_count": 17,
   "id": "0302d276",
   "metadata": {
    "scrolled": false
   },
   "outputs": [
    {
     "data": {
      "text/html": [
       "<div>\n",
       "<style scoped>\n",
       "    .dataframe tbody tr th:only-of-type {\n",
       "        vertical-align: middle;\n",
       "    }\n",
       "\n",
       "    .dataframe tbody tr th {\n",
       "        vertical-align: top;\n",
       "    }\n",
       "\n",
       "    .dataframe thead th {\n",
       "        text-align: right;\n",
       "    }\n",
       "</style>\n",
       "<table border=\"1\" class=\"dataframe\">\n",
       "  <thead>\n",
       "    <tr style=\"text-align: right;\">\n",
       "      <th></th>\n",
       "      <th>action_taken</th>\n",
       "      <th>preapproval</th>\n",
       "      <th>loan_type</th>\n",
       "      <th>loan_purpose</th>\n",
       "      <th>loan_amount</th>\n",
       "      <th>interest_only_payment</th>\n",
       "      <th>balloon_payment</th>\n",
       "      <th>income</th>\n",
       "    </tr>\n",
       "  </thead>\n",
       "  <tbody>\n",
       "    <tr>\n",
       "      <th>count</th>\n",
       "      <td>14509.000000</td>\n",
       "      <td>14509.000000</td>\n",
       "      <td>14509.000000</td>\n",
       "      <td>14509.000000</td>\n",
       "      <td>1.450900e+04</td>\n",
       "      <td>14509.000000</td>\n",
       "      <td>14509.000000</td>\n",
       "      <td>14027.000000</td>\n",
       "    </tr>\n",
       "    <tr>\n",
       "      <th>mean</th>\n",
       "      <td>0.749259</td>\n",
       "      <td>1.978979</td>\n",
       "      <td>1.147081</td>\n",
       "      <td>14.755669</td>\n",
       "      <td>3.924981e+05</td>\n",
       "      <td>14.098973</td>\n",
       "      <td>14.135295</td>\n",
       "      <td>160.826335</td>\n",
       "    </tr>\n",
       "    <tr>\n",
       "      <th>std</th>\n",
       "      <td>0.433455</td>\n",
       "      <td>0.143461</td>\n",
       "      <td>0.459418</td>\n",
       "      <td>14.860877</td>\n",
       "      <td>3.340678e+05</td>\n",
       "      <td>115.466461</td>\n",
       "      <td>115.462492</td>\n",
       "      <td>297.351109</td>\n",
       "    </tr>\n",
       "    <tr>\n",
       "      <th>min</th>\n",
       "      <td>0.000000</td>\n",
       "      <td>1.000000</td>\n",
       "      <td>1.000000</td>\n",
       "      <td>1.000000</td>\n",
       "      <td>5.000000e+03</td>\n",
       "      <td>1.000000</td>\n",
       "      <td>1.000000</td>\n",
       "      <td>-123.000000</td>\n",
       "    </tr>\n",
       "    <tr>\n",
       "      <th>25%</th>\n",
       "      <td>0.000000</td>\n",
       "      <td>2.000000</td>\n",
       "      <td>1.000000</td>\n",
       "      <td>1.000000</td>\n",
       "      <td>1.950000e+05</td>\n",
       "      <td>2.000000</td>\n",
       "      <td>2.000000</td>\n",
       "      <td>79.000000</td>\n",
       "    </tr>\n",
       "    <tr>\n",
       "      <th>50%</th>\n",
       "      <td>1.000000</td>\n",
       "      <td>2.000000</td>\n",
       "      <td>1.000000</td>\n",
       "      <td>4.000000</td>\n",
       "      <td>3.450000e+05</td>\n",
       "      <td>2.000000</td>\n",
       "      <td>2.000000</td>\n",
       "      <td>116.000000</td>\n",
       "    </tr>\n",
       "    <tr>\n",
       "      <th>75%</th>\n",
       "      <td>1.000000</td>\n",
       "      <td>2.000000</td>\n",
       "      <td>1.000000</td>\n",
       "      <td>31.000000</td>\n",
       "      <td>5.050000e+05</td>\n",
       "      <td>2.000000</td>\n",
       "      <td>2.000000</td>\n",
       "      <td>170.000000</td>\n",
       "    </tr>\n",
       "    <tr>\n",
       "      <th>max</th>\n",
       "      <td>1.000000</td>\n",
       "      <td>2.000000</td>\n",
       "      <td>4.000000</td>\n",
       "      <td>32.000000</td>\n",
       "      <td>7.505000e+06</td>\n",
       "      <td>1111.000000</td>\n",
       "      <td>1111.000000</td>\n",
       "      <td>20000.000000</td>\n",
       "    </tr>\n",
       "  </tbody>\n",
       "</table>\n",
       "</div>"
      ],
      "text/plain": [
       "       action_taken   preapproval     loan_type  loan_purpose   loan_amount  \\\n",
       "count  14509.000000  14509.000000  14509.000000  14509.000000  1.450900e+04   \n",
       "mean       0.749259      1.978979      1.147081     14.755669  3.924981e+05   \n",
       "std        0.433455      0.143461      0.459418     14.860877  3.340678e+05   \n",
       "min        0.000000      1.000000      1.000000      1.000000  5.000000e+03   \n",
       "25%        0.000000      2.000000      1.000000      1.000000  1.950000e+05   \n",
       "50%        1.000000      2.000000      1.000000      4.000000  3.450000e+05   \n",
       "75%        1.000000      2.000000      1.000000     31.000000  5.050000e+05   \n",
       "max        1.000000      2.000000      4.000000     32.000000  7.505000e+06   \n",
       "\n",
       "       interest_only_payment  balloon_payment        income  \n",
       "count           14509.000000     14509.000000  14027.000000  \n",
       "mean               14.098973        14.135295    160.826335  \n",
       "std               115.466461       115.462492    297.351109  \n",
       "min                 1.000000         1.000000   -123.000000  \n",
       "25%                 2.000000         2.000000     79.000000  \n",
       "50%                 2.000000         2.000000    116.000000  \n",
       "75%                 2.000000         2.000000    170.000000  \n",
       "max              1111.000000      1111.000000  20000.000000  "
      ]
     },
     "execution_count": 17,
     "metadata": {},
     "output_type": "execute_result"
    }
   ],
   "source": [
    "# understand overall features\n",
    "df_cr.describe()\n",
    "# Action Taken:\n",
    "# 1 -- Loan originated\n",
    "# 2 -- Application approved but not accepted\n",
    "# 3 -- Application denied by financial institution\n",
    "\n",
    "# Preapproval:\n",
    "# 1 -- Preapproval was requested\n",
    "# 2 -- Preapproval was not requested\n",
    "\n",
    "# Loan Type: **75% IQR = 1\n",
    "# 1 -- Conventional (any loan other than FHA, VA, FSA, or RHS loans)\n",
    "# 2 -- FHA-insured (Federal Housing Administration)\n",
    "# 3 -- VA-guaranteed (Veterans Administration)\n",
    "# 4 -- FSA/RHS (Farm Service Agency or Rural Housing Service)\n",
    "\n",
    "# Loan Purpose: **error data,\n",
    "# 1 -- Home purchase\n",
    "# 2 -- Home improvement\n",
    "# 3 -- Refinancing\n",
    "\n",
    "# Loan Amount: in thousands of dollars\n",
    "\n",
    "# interest_only_payment **not in the codebook, 1111？\n",
    "\n",
    "# balloon_payment **not in the codebook, 1111？\n",
    "\n",
    "# income: Gross Annual Income: in thousands of dollars **negative/ error data"
   ]
  },
  {
   "cell_type": "markdown",
   "id": "dfce8f2a",
   "metadata": {},
   "source": [
    "### Numerical Features Data Cleaning "
   ]
  },
  {
   "cell_type": "code",
   "execution_count": 18,
   "id": "e9fb6643",
   "metadata": {
    "scrolled": true
   },
   "outputs": [
    {
     "data": {
      "text/html": [
       "<div>\n",
       "<style scoped>\n",
       "    .dataframe tbody tr th:only-of-type {\n",
       "        vertical-align: middle;\n",
       "    }\n",
       "\n",
       "    .dataframe tbody tr th {\n",
       "        vertical-align: top;\n",
       "    }\n",
       "\n",
       "    .dataframe thead th {\n",
       "        text-align: right;\n",
       "    }\n",
       "</style>\n",
       "<table border=\"1\" class=\"dataframe\">\n",
       "  <thead>\n",
       "    <tr style=\"text-align: right;\">\n",
       "      <th></th>\n",
       "      <th>loan_amount</th>\n",
       "      <th>income</th>\n",
       "    </tr>\n",
       "  </thead>\n",
       "  <tbody>\n",
       "    <tr>\n",
       "      <th>count</th>\n",
       "      <td>1.450900e+04</td>\n",
       "      <td>14027.000000</td>\n",
       "    </tr>\n",
       "    <tr>\n",
       "      <th>mean</th>\n",
       "      <td>3.924981e+05</td>\n",
       "      <td>160.826335</td>\n",
       "    </tr>\n",
       "    <tr>\n",
       "      <th>std</th>\n",
       "      <td>3.340678e+05</td>\n",
       "      <td>297.351109</td>\n",
       "    </tr>\n",
       "    <tr>\n",
       "      <th>min</th>\n",
       "      <td>5.000000e+03</td>\n",
       "      <td>-123.000000</td>\n",
       "    </tr>\n",
       "    <tr>\n",
       "      <th>25%</th>\n",
       "      <td>1.950000e+05</td>\n",
       "      <td>79.000000</td>\n",
       "    </tr>\n",
       "    <tr>\n",
       "      <th>50%</th>\n",
       "      <td>3.450000e+05</td>\n",
       "      <td>116.000000</td>\n",
       "    </tr>\n",
       "    <tr>\n",
       "      <th>75%</th>\n",
       "      <td>5.050000e+05</td>\n",
       "      <td>170.000000</td>\n",
       "    </tr>\n",
       "    <tr>\n",
       "      <th>max</th>\n",
       "      <td>7.505000e+06</td>\n",
       "      <td>20000.000000</td>\n",
       "    </tr>\n",
       "  </tbody>\n",
       "</table>\n",
       "</div>"
      ],
      "text/plain": [
       "        loan_amount        income\n",
       "count  1.450900e+04  14027.000000\n",
       "mean   3.924981e+05    160.826335\n",
       "std    3.340678e+05    297.351109\n",
       "min    5.000000e+03   -123.000000\n",
       "25%    1.950000e+05     79.000000\n",
       "50%    3.450000e+05    116.000000\n",
       "75%    5.050000e+05    170.000000\n",
       "max    7.505000e+06  20000.000000"
      ]
     },
     "execution_count": 18,
     "metadata": {},
     "output_type": "execute_result"
    }
   ],
   "source": [
    "# understand numerical features\n",
    "# loan_amount look normal, need to clean column loan_to_value_ratio, income\n",
    "df_cr[[\"loan_amount\", \"loan_to_value_ratio\", \"income\"]].describe()"
   ]
  },
  {
   "cell_type": "markdown",
   "id": "30f6fa35",
   "metadata": {},
   "source": [
    "##### loan_to_value_ratio \n",
    "Description: The ratio of the total amount of debt secured by the property to the value of the property relied on in making the credit decisiontio. The ratio value should range from 0 - 1."
   ]
  },
  {
   "cell_type": "code",
   "execution_count": 19,
   "id": "145cde97",
   "metadata": {
    "scrolled": false
   },
   "outputs": [
    {
     "data": {
      "text/plain": [
       "array(['75.0', '52.38', '80.0', ..., '68.883', '87.03', '52.45'],\n",
       "      dtype=object)"
      ]
     },
     "execution_count": 19,
     "metadata": {},
     "output_type": "execute_result"
    }
   ],
   "source": [
    "pd.unique(df_cr['loan_to_value_ratio'])"
   ]
  },
  {
   "cell_type": "code",
   "execution_count": 20,
   "id": "a2c52632",
   "metadata": {},
   "outputs": [
    {
     "data": {
      "text/plain": [
       "<class 'str'>      13902\n",
       "<class 'float'>      607\n",
       "Name: loan_to_value_ratio, dtype: int64"
      ]
     },
     "execution_count": 20,
     "metadata": {},
     "output_type": "execute_result"
    }
   ],
   "source": [
    "df_cr['loan_to_value_ratio'].map(type).value_counts()"
   ]
  },
  {
   "cell_type": "code",
   "execution_count": 21,
   "id": "9e5377bd",
   "metadata": {},
   "outputs": [
    {
     "data": {
      "text/plain": [
       "607"
      ]
     },
     "execution_count": 21,
     "metadata": {},
     "output_type": "execute_result"
    }
   ],
   "source": [
    "# 607 null values\n",
    "len(df_cr[pd.to_numeric(df_cr['loan_to_value_ratio'].isnull(),errors='coerce')])"
   ]
  },
  {
   "cell_type": "code",
   "execution_count": 22,
   "id": "bc3f3ccd",
   "metadata": {},
   "outputs": [
    {
     "data": {
      "text/plain": [
       "159"
      ]
     },
     "execution_count": 22,
     "metadata": {},
     "output_type": "execute_result"
    }
   ],
   "source": [
    "# 159 Exempt values\n",
    "len(df_cr[(df_cr['loan_to_value_ratio'] == \"Exempt\")])"
   ]
  },
  {
   "cell_type": "code",
   "execution_count": 23,
   "id": "8b5676ca",
   "metadata": {},
   "outputs": [],
   "source": [
    "# drop 607 null values and 159 Exempt values\n",
    "df_cr = df_cr[pd.to_numeric(df_cr['loan_to_value_ratio'].notnull(),errors='coerce')]\n",
    "df_cr = df_cr[(df_cr['loan_to_value_ratio'] != \"Exempt\")]\n",
    "# reset index\n",
    "df_cr = df_cr.reset_index(drop = True)\n",
    "# cast string types of values to numeric type\n",
    "df_cr['loan_to_value_ratio'] = pd.to_numeric(df_cr['loan_to_value_ratio'], errors='coerce')"
   ]
  },
  {
   "cell_type": "code",
   "execution_count": 24,
   "id": "55ecdb2e",
   "metadata": {},
   "outputs": [
    {
     "data": {
      "text/plain": [
       "13739"
      ]
     },
     "execution_count": 24,
     "metadata": {},
     "output_type": "execute_result"
    }
   ],
   "source": [
    "len(df_cr[(df_cr['loan_to_value_ratio'] > 1)])"
   ]
  },
  {
   "cell_type": "code",
   "execution_count": 25,
   "id": "0b7b2ca8",
   "metadata": {
    "scrolled": false
   },
   "outputs": [
    {
     "data": {
      "text/plain": [
       "<class 'float'>    13743\n",
       "Name: loan_to_value_ratio, dtype: int64"
      ]
     },
     "execution_count": 25,
     "metadata": {},
     "output_type": "execute_result"
    }
   ],
   "source": [
    "# check the result\n",
    "df_cr['loan_to_value_ratio'].map(type).value_counts()"
   ]
  },
  {
   "cell_type": "code",
   "execution_count": 26,
   "id": "6fce8ae8",
   "metadata": {},
   "outputs": [],
   "source": [
    "plt.rcParams['figure.dpi'] = 100"
   ]
  },
  {
   "cell_type": "markdown",
   "id": "9bec2f7d",
   "metadata": {},
   "source": [
    "##### log_loan_to_value_ratio (NEW column for log reg)\n",
    "Description: The log of the ratio of the total amount of debt secured by the property to the value of the property relied on in making the credit decisiontio."
   ]
  },
  {
   "cell_type": "code",
   "execution_count": 27,
   "id": "e541ee9e",
   "metadata": {},
   "outputs": [
    {
     "data": {
      "image/png": "[encoded data removed]",
      "text/plain": [
       "<Figure size 600x400 with 1 Axes>"
      ]
     },
     "metadata": {},
     "output_type": "display_data"
    }
   ],
   "source": [
    "# boxplot shows loan_to_value_ratio (without outliers) is a little left-skewed, so perform the log transformation\n",
    "sns.set_theme(style=\"whitegrid\")\n",
    "ax = sns.boxplot(x=df_cr[\"loan_to_value_ratio\"], data = df_cr, showfliers = False)"
   ]
  },
  {
   "cell_type": "code",
   "execution_count": 28,
   "id": "92c36cf1",
   "metadata": {},
   "outputs": [],
   "source": [
    "df_cr['log_loan_to_value_ratio'] = np.log2(df_cr['loan_to_value_ratio'])"
   ]
  },
  {
   "cell_type": "markdown",
   "id": "6288ac04",
   "metadata": {},
   "source": [
    "##### income (in thousands of dollars)"
   ]
  },
  {
   "cell_type": "code",
   "execution_count": 29,
   "id": "c7ca52df",
   "metadata": {},
   "outputs": [
    {
     "data": {
      "text/plain": [
       "252"
      ]
     },
     "execution_count": 29,
     "metadata": {},
     "output_type": "execute_result"
    }
   ],
   "source": [
    "# 252 null values\n",
    "len(df_cr[pd.to_numeric(df_cr['income'].isnull(),errors='coerce')])"
   ]
  },
  {
   "cell_type": "code",
   "execution_count": 30,
   "id": "89320b1b",
   "metadata": {},
   "outputs": [
    {
     "data": {
      "text/plain": [
       "10"
      ]
     },
     "execution_count": 30,
     "metadata": {},
     "output_type": "execute_result"
    }
   ],
   "source": [
    "# 10 negative/ error values, will keep them in the data\n",
    "len(df_cr[(df_cr['income'] < 0)])"
   ]
  },
  {
   "cell_type": "code",
   "execution_count": 31,
   "id": "bfd319b0",
   "metadata": {},
   "outputs": [],
   "source": [
    "# drop 252 null values\n",
    "df_cr = df_cr[pd.to_numeric(df_cr['income'].notnull(),errors='coerce')]\n",
    "# reset index\n",
    "df_cr = df_cr.reset_index(drop = True)"
   ]
  },
  {
   "cell_type": "code",
   "execution_count": 32,
   "id": "cb8b187b",
   "metadata": {
    "scrolled": true
   },
   "outputs": [
    {
     "data": {
      "text/plain": [
       "<class 'float'>    13491\n",
       "Name: loan_to_value_ratio, dtype: int64"
      ]
     },
     "execution_count": 32,
     "metadata": {},
     "output_type": "execute_result"
    }
   ],
   "source": [
    "# check the result\n",
    "df_cr['loan_to_value_ratio'].map(type).value_counts()"
   ]
  },
  {
   "cell_type": "markdown",
   "id": "e59b6620",
   "metadata": {},
   "source": [
    "#### Cleaned Numeric Features Summary"
   ]
  },
  {
   "cell_type": "code",
   "execution_count": 33,
   "id": "d6e637e2",
   "metadata": {
    "scrolled": true
   },
   "outputs": [
    {
     "data": {
      "text/html": [
       "<div>\n",
       "<style scoped>\n",
       "    .dataframe tbody tr th:only-of-type {\n",
       "        vertical-align: middle;\n",
       "    }\n",
       "\n",
       "    .dataframe tbody tr th {\n",
       "        vertical-align: top;\n",
       "    }\n",
       "\n",
       "    .dataframe thead th {\n",
       "        text-align: right;\n",
       "    }\n",
       "</style>\n",
       "<table border=\"1\" class=\"dataframe\">\n",
       "  <thead>\n",
       "    <tr style=\"text-align: right;\">\n",
       "      <th></th>\n",
       "      <th>loan_amount</th>\n",
       "      <th>loan_to_value_ratio</th>\n",
       "      <th>income</th>\n",
       "    </tr>\n",
       "  </thead>\n",
       "  <tbody>\n",
       "    <tr>\n",
       "      <th>count</th>\n",
       "      <td>1.349100e+04</td>\n",
       "      <td>13491.000000</td>\n",
       "      <td>13491.000000</td>\n",
       "    </tr>\n",
       "    <tr>\n",
       "      <th>mean</th>\n",
       "      <td>3.937288e+05</td>\n",
       "      <td>71.587950</td>\n",
       "      <td>162.098732</td>\n",
       "    </tr>\n",
       "    <tr>\n",
       "      <th>std</th>\n",
       "      <td>3.268893e+05</td>\n",
       "      <td>27.608336</td>\n",
       "      <td>295.949162</td>\n",
       "    </tr>\n",
       "    <tr>\n",
       "      <th>min</th>\n",
       "      <td>5.000000e+03</td>\n",
       "      <td>0.541000</td>\n",
       "      <td>-123.000000</td>\n",
       "    </tr>\n",
       "    <tr>\n",
       "      <th>25%</th>\n",
       "      <td>1.950000e+05</td>\n",
       "      <td>59.090000</td>\n",
       "      <td>80.000000</td>\n",
       "    </tr>\n",
       "    <tr>\n",
       "      <th>50%</th>\n",
       "      <td>3.450000e+05</td>\n",
       "      <td>75.000000</td>\n",
       "      <td>118.000000</td>\n",
       "    </tr>\n",
       "    <tr>\n",
       "      <th>75%</th>\n",
       "      <td>5.050000e+05</td>\n",
       "      <td>88.317000</td>\n",
       "      <td>172.000000</td>\n",
       "    </tr>\n",
       "    <tr>\n",
       "      <th>max</th>\n",
       "      <td>7.505000e+06</td>\n",
       "      <td>999.999000</td>\n",
       "      <td>20000.000000</td>\n",
       "    </tr>\n",
       "  </tbody>\n",
       "</table>\n",
       "</div>"
      ],
      "text/plain": [
       "        loan_amount  loan_to_value_ratio        income\n",
       "count  1.349100e+04         13491.000000  13491.000000\n",
       "mean   3.937288e+05            71.587950    162.098732\n",
       "std    3.268893e+05            27.608336    295.949162\n",
       "min    5.000000e+03             0.541000   -123.000000\n",
       "25%    1.950000e+05            59.090000     80.000000\n",
       "50%    3.450000e+05            75.000000    118.000000\n",
       "75%    5.050000e+05            88.317000    172.000000\n",
       "max    7.505000e+06           999.999000  20000.000000"
      ]
     },
     "execution_count": 33,
     "metadata": {},
     "output_type": "execute_result"
    }
   ],
   "source": [
    "# understand numeric features\n",
    "df_cr[[\"loan_amount\", \"loan_to_value_ratio\", \"income\"]].describe()"
   ]
  },
  {
   "cell_type": "markdown",
   "id": "41c2b351",
   "metadata": {},
   "source": [
    "#### Correlation of Numeric Features"
   ]
  },
  {
   "cell_type": "code",
   "execution_count": 34,
   "id": "c22d3190",
   "metadata": {},
   "outputs": [],
   "source": [
    "# correlation heat map of numerical features\n",
    "sns.set()\n",
    "\n",
    "numCol = []\n",
    "for col in df_cr:\n",
    "  if df_cr[col].dtype == np.float64:\n",
    "    numCol.append(col)\n",
    "corr = df_cr[numCol].corr()"
   ]
  },
  {
   "cell_type": "code",
   "execution_count": 35,
   "id": "0db34c0f",
   "metadata": {
    "scrolled": true
   },
   "outputs": [
    {
     "data": {
      "text/plain": [
       "[Text(0.5, 0, 'loan_amount'),\n",
       " Text(1.5, 0, 'loan_to_value_ratio'),\n",
       " Text(2.5, 0, 'income'),\n",
       " Text(3.5, 0, 'log_loan_to_value_ratio')]"
      ]
     },
     "execution_count": 35,
     "metadata": {},
     "output_type": "execute_result"
    },
    {
     "data": {
      "image/png": "[encoded data removed]",
      "text/plain": [
       "<Figure size 600x400 with 2 Axes>"
      ]
     },
     "metadata": {},
     "output_type": "display_data"
    }
   ],
   "source": [
    "ax = sns.heatmap(\n",
    "    corr, \n",
    "    vmin=-1, vmax=1, center=0,\n",
    "    cmap=sns.diverging_palette(20, 220, n=200),\n",
    "    square=True\n",
    ")\n",
    "ax.set_xticklabels(\n",
    "    ax.get_xticklabels(),\n",
    "    rotation=45,\n",
    "    horizontalalignment='right')"
   ]
  },
  {
   "cell_type": "code",
   "execution_count": 36,
   "id": "d882ae30",
   "metadata": {
    "scrolled": false
   },
   "outputs": [
    {
     "data": {
      "text/html": [
       "<div>\n",
       "<style scoped>\n",
       "    .dataframe tbody tr th:only-of-type {\n",
       "        vertical-align: middle;\n",
       "    }\n",
       "\n",
       "    .dataframe tbody tr th {\n",
       "        vertical-align: top;\n",
       "    }\n",
       "\n",
       "    .dataframe thead th {\n",
       "        text-align: right;\n",
       "    }\n",
       "</style>\n",
       "<table border=\"1\" class=\"dataframe\">\n",
       "  <thead>\n",
       "    <tr style=\"text-align: right;\">\n",
       "      <th></th>\n",
       "      <th>loan_amount</th>\n",
       "      <th>loan_to_value_ratio</th>\n",
       "      <th>income</th>\n",
       "      <th>log_loan_to_value_ratio</th>\n",
       "    </tr>\n",
       "  </thead>\n",
       "  <tbody>\n",
       "    <tr>\n",
       "      <th>loan_amount</th>\n",
       "      <td>1.000000</td>\n",
       "      <td>0.145522</td>\n",
       "      <td>0.400237</td>\n",
       "      <td>0.208116</td>\n",
       "    </tr>\n",
       "    <tr>\n",
       "      <th>loan_to_value_ratio</th>\n",
       "      <td>0.145522</td>\n",
       "      <td>1.000000</td>\n",
       "      <td>-0.003318</td>\n",
       "      <td>0.806731</td>\n",
       "    </tr>\n",
       "    <tr>\n",
       "      <th>income</th>\n",
       "      <td>0.400237</td>\n",
       "      <td>-0.003318</td>\n",
       "      <td>1.000000</td>\n",
       "      <td>0.013264</td>\n",
       "    </tr>\n",
       "    <tr>\n",
       "      <th>log_loan_to_value_ratio</th>\n",
       "      <td>0.208116</td>\n",
       "      <td>0.806731</td>\n",
       "      <td>0.013264</td>\n",
       "      <td>1.000000</td>\n",
       "    </tr>\n",
       "  </tbody>\n",
       "</table>\n",
       "</div>"
      ],
      "text/plain": [
       "                         loan_amount  loan_to_value_ratio    income  \\\n",
       "loan_amount                 1.000000             0.145522  0.400237   \n",
       "loan_to_value_ratio         0.145522             1.000000 -0.003318   \n",
       "income                      0.400237            -0.003318  1.000000   \n",
       "log_loan_to_value_ratio     0.208116             0.806731  0.013264   \n",
       "\n",
       "                         log_loan_to_value_ratio  \n",
       "loan_amount                             0.208116  \n",
       "loan_to_value_ratio                     0.806731  \n",
       "income                                  0.013264  \n",
       "log_loan_to_value_ratio                 1.000000  "
      ]
     },
     "execution_count": 36,
     "metadata": {},
     "output_type": "execute_result"
    }
   ],
   "source": [
    "# check the actual values of correlations\n",
    "corr_score = df_cr[numCol].corr()\n",
    "corr_score\n",
    "# heatmap conclusion: all good, no column needs to be dropped.\n",
    "# ***but keep in mind that loan_amount and loan_to_value_ratio are not dependent - might need to drop one of them when using linear/ logistic regression"
   ]
  },
  {
   "cell_type": "markdown",
   "id": "efdf0bc1",
   "metadata": {},
   "source": [
    "### Cleaned Numerical Features -> Categorical Features"
   ]
  },
  {
   "cell_type": "markdown",
   "id": "4ac3f92f",
   "metadata": {},
   "source": [
    "##### derived_income (NEW column for income)\n",
    "INCOME GROUP - INCOME  <br>\n",
    "Poor or near-poor - \\\\$32,048 or less <br>\n",
    "Lower-middle class - \\\\$32,048 - \\\\$53,413 <br>\n",
    "Middle class - \\\\$53,413 - \\\\$106,827 <br>\n",
    "Upper-middle class - \\\\$106,827 - \\\\$373,894 <br>\n",
    "Rich - \\\\$373,894 and up <br>\n",
    "(resource: https://money.usnews.com/money/personal-finance/family-finance/articles/where-do-i-fall-in-the-american-economic-class-system)"
   ]
  },
  {
   "cell_type": "code",
   "execution_count": 37,
   "id": "1d026e37",
   "metadata": {},
   "outputs": [],
   "source": [
    "# bin income into the 5 categories above\n",
    "# create a list of our conditions\n",
    "income_conditions = [\n",
    "    (df_cr['income']*1000 <= 32048),\n",
    "    (df_cr['income']*1000 > 32048) & (df_cr['income']*1000 <= 53413),\n",
    "    (df_cr['income']*1000 > 53413) & (df_cr['income']*1000 <= 106827),\n",
    "    (df_cr['income']*1000 > 106827) & (df_cr['income']*1000 <= 373894),\n",
    "    (df_cr['income']*1000 > 373894)\n",
    "    ]\n",
    "\n",
    "# create a list of the values we want to assign for each condition\n",
    "income_values = ['Poor and Near Poor', 'Lower-Middle Class', 'Middle Class', 'Upper-Middle Class', 'Rich']\n",
    "\n",
    "# create a new column and use np.select to assign values to it using our lists as arguments\n",
    "df_cr['derived_income'] = np.select(income_conditions, income_values)"
   ]
  },
  {
   "cell_type": "code",
   "execution_count": 38,
   "id": "170d74ba",
   "metadata": {
    "scrolled": false
   },
   "outputs": [
    {
     "data": {
      "text/plain": [
       "<AxesSubplot:>"
      ]
     },
     "execution_count": 38,
     "metadata": {},
     "output_type": "execute_result"
    },
    {
     "data": {
      "image/png": "[encoded data removed]",
      "text/plain": [
       "<Figure size 600x400 with 1 Axes>"
      ]
     },
     "metadata": {},
     "output_type": "display_data"
    }
   ],
   "source": [
    "# explore derived_income category\n",
    "df_cr[\"derived_income\"].value_counts().plot(kind='barh')"
   ]
  },
  {
   "cell_type": "markdown",
   "id": "295af5b7",
   "metadata": {},
   "source": [
    "##### derived_loan_to_value_ratio (NEW column for loan_to_value_ratio)\n",
    "Conventional bar - 80% or less <br>\n",
    "FHA bar -\t96.5% or less <br>\n",
    "VA bar - 100% or less <br>\n",
    "Not eligible - > 100%\n",
    "(resource: https://www.forbes.com/advisor/mortgages/loan-to-value-ratio/)"
   ]
  },
  {
   "cell_type": "code",
   "execution_count": 39,
   "id": "70c0e22e",
   "metadata": {},
   "outputs": [],
   "source": [
    "# bin loan_to_value_ratio into the 4 categories above\n",
    "# create a list of our conditions\n",
    "loan_to_value_ratio_conditions = [\n",
    "    (df_cr['loan_to_value_ratio'] <= 80),\n",
    "    (df_cr['loan_to_value_ratio'] > 80) & (df_cr['loan_to_value_ratio'] <= 96.5),\n",
    "    (df_cr['loan_to_value_ratio'] > 96.5) & (df_cr['loan_to_value_ratio'] <= 100),\n",
    "    (df_cr['loan_to_value_ratio'] > 100)\n",
    "    ]\n",
    "\n",
    "# create a list of the values we want to assign for each condition\n",
    "loan_to_value_ratio_values = ['< Conventional Bar', '> Conventional Bar and < FHA Bar', '> FHA Bar and < VA Bar', 'Not Eligible']\n",
    "\n",
    "# create a new column and use np.select to assign values to it using our lists as arguments\n",
    "df_cr['derived_loan_to_value_ratio'] = np.select(loan_to_value_ratio_conditions, loan_to_value_ratio_values)"
   ]
  },
  {
   "cell_type": "code",
   "execution_count": 40,
   "id": "b4c6baab",
   "metadata": {},
   "outputs": [
    {
     "data": {
      "text/plain": [
       "<AxesSubplot:>"
      ]
     },
     "execution_count": 40,
     "metadata": {},
     "output_type": "execute_result"
    },
    {
     "data": {
      "image/png": "[encoded data removed]",
      "text/plain": [
       "<Figure size 600x400 with 1 Axes>"
      ]
     },
     "metadata": {},
     "output_type": "display_data"
    }
   ],
   "source": [
    "# explore derived_loan_to_value_ratio category\n",
    "df_cr[\"derived_loan_to_value_ratio\"].value_counts().plot(kind='barh')"
   ]
  },
  {
   "cell_type": "markdown",
   "id": "011f0e23",
   "metadata": {},
   "source": [
    "### Categorical Features Data Cleaning "
   ]
  },
  {
   "cell_type": "markdown",
   "id": "2973975e",
   "metadata": {},
   "source": [
    "##### interest_only_payment\n",
    "Description: Whether the contractual terms include, or would have included, interest-only payments\n",
    "Values: <br>\n",
    "1 - Interest-only payments <br>\n",
    "2 - No interest-only payments <br>\n",
    "1111 - Exempt <br>\n",
    "\n",
    "NEW: <br>\n",
    "1 -> Interest-only Payments <br>\n",
    "2 -> No Interest-only Payments"
   ]
  },
  {
   "cell_type": "code",
   "execution_count": 41,
   "id": "d3236b0f",
   "metadata": {},
   "outputs": [],
   "source": [
    "# replace \"Exempt\" with NAs\n",
    "df_cr['interest_only_payment'].mask((df_cr['interest_only_payment'] == 'Exempt'), None, inplace=True)"
   ]
  },
  {
   "cell_type": "code",
   "execution_count": 42,
   "id": "ea10d927",
   "metadata": {},
   "outputs": [],
   "source": [
    "# drop null values\n",
    "df_cr = df_cr[pd.to_numeric(df_cr['interest_only_payment'].notnull(),errors='coerce')]"
   ]
  },
  {
   "cell_type": "code",
   "execution_count": 43,
   "id": "50cd520e",
   "metadata": {},
   "outputs": [],
   "source": [
    "# reset index\n",
    "df_cr = df_cr.reset_index(drop = True)"
   ]
  },
  {
   "cell_type": "code",
   "execution_count": 44,
   "id": "c174db5f",
   "metadata": {},
   "outputs": [],
   "source": [
    "# rename\n",
    "df_cr['interest_only_payment'].mask((df_cr['interest_only_payment'] == 1), 'Interest-only Payments', inplace=True)\n",
    "df_cr['interest_only_payment'].mask((df_cr['interest_only_payment'] == 2), 'No Interest-only Payments', inplace=True)"
   ]
  },
  {
   "cell_type": "code",
   "execution_count": 45,
   "id": "4dc827dc",
   "metadata": {},
   "outputs": [
    {
     "data": {
      "text/plain": [
       "<AxesSubplot:>"
      ]
     },
     "execution_count": 45,
     "metadata": {},
     "output_type": "execute_result"
    },
    {
     "data": {
      "image/png": "[encoded data removed]",
      "text/plain": [
       "<Figure size 600x400 with 1 Axes>"
      ]
     },
     "metadata": {},
     "output_type": "display_data"
    }
   ],
   "source": [
    "# explore interest_only_payment category\n",
    "df_cr[\"interest_only_payment\"].value_counts().plot(kind='barh')"
   ]
  },
  {
   "cell_type": "markdown",
   "id": "b2073c43",
   "metadata": {},
   "source": [
    "##### balloon_payment\n",
    "Description: Whether the contractual terms include, or would have included, a balloon payment\n",
    "Values: <br>\n",
    "1 - Balloon payment <br>\n",
    "2 - No balloon payment <br>\n",
    "1111 - Exempt <br>\n",
    "\n",
    "NEW: <br>\n",
    "1 -> Balloon Payment <br>\n",
    "2 -> No Balloon Payment"
   ]
  },
  {
   "cell_type": "code",
   "execution_count": 46,
   "id": "6ff408ad",
   "metadata": {},
   "outputs": [],
   "source": [
    "# replace \"Exempt\" with NAs\n",
    "df_cr['balloon_payment'].mask((df_cr['balloon_payment'] == 'Exempt'), None, inplace=True)"
   ]
  },
  {
   "cell_type": "code",
   "execution_count": 47,
   "id": "d636104d",
   "metadata": {},
   "outputs": [],
   "source": [
    "# drop null values\n",
    "df_cr = df_cr[pd.to_numeric(df_cr['balloon_payment'].notnull(),errors='coerce')]"
   ]
  },
  {
   "cell_type": "code",
   "execution_count": 48,
   "id": "3a3b73c4",
   "metadata": {},
   "outputs": [],
   "source": [
    "# reset index\n",
    "df_cr = df_cr.reset_index(drop = True)"
   ]
  },
  {
   "cell_type": "code",
   "execution_count": 49,
   "id": "3f63f82e",
   "metadata": {},
   "outputs": [],
   "source": [
    "# rename\n",
    "df_cr['balloon_payment'].mask((df_cr['balloon_payment'] == 1), 'Balloon Payment', inplace=True)\n",
    "df_cr['balloon_payment'].mask((df_cr['balloon_payment'] == 2), 'No Balloon Payment', inplace=True)"
   ]
  },
  {
   "cell_type": "code",
   "execution_count": 50,
   "id": "d2e59d57",
   "metadata": {},
   "outputs": [
    {
     "data": {
      "text/plain": [
       "<AxesSubplot:>"
      ]
     },
     "execution_count": 50,
     "metadata": {},
     "output_type": "execute_result"
    },
    {
     "data": {
      "image/png": "[encoded data removed]",
      "text/plain": [
       "<Figure size 600x400 with 1 Axes>"
      ]
     },
     "metadata": {},
     "output_type": "display_data"
    }
   ],
   "source": [
    "# explore balloon_payment category\n",
    "df_cr[\"balloon_payment\"].value_counts().plot(kind='barh')"
   ]
  },
  {
   "cell_type": "markdown",
   "id": "ebdbe9ba",
   "metadata": {},
   "source": [
    "##### preapproval_requested (old: preapproval)\n",
    "1 -- Preapproval was requested <br>\n",
    "2 -- Preapproval was not requested <br>\n",
    "\n",
    "NEW: <br>\n",
    "Preapprove Requested - Preapproval was requested <br>\n",
    "No Preapprove Requested - Preapproval was not requested <br>\n",
    "\n",
    "rename column: preapproval -> preapproval_requested"
   ]
  },
  {
   "cell_type": "code",
   "execution_count": 51,
   "id": "903824c8",
   "metadata": {},
   "outputs": [],
   "source": [
    "df_cr['preapproval'].mask((df_cr['preapproval'] == 1), \"Preapproval Requested\", inplace=True)\n",
    "df_cr['preapproval'].mask((df_cr['preapproval'] == 2), \"No Preapproval Requested\", inplace=True)"
   ]
  },
  {
   "cell_type": "code",
   "execution_count": 52,
   "id": "522dd727",
   "metadata": {},
   "outputs": [],
   "source": [
    "# change column name 'preapproval' -> 'preapproval_requested'\n",
    "df_cr.rename(columns={'preapproval': 'preapproval_requested'}, inplace=True)"
   ]
  },
  {
   "cell_type": "code",
   "execution_count": 53,
   "id": "21fea2e0",
   "metadata": {
    "scrolled": false
   },
   "outputs": [
    {
     "data": {
      "text/plain": [
       "<AxesSubplot:>"
      ]
     },
     "execution_count": 53,
     "metadata": {},
     "output_type": "execute_result"
    },
    {
     "data": {
      "image/png": "[encoded data removed]",
      "text/plain": [
       "<Figure size 600x400 with 1 Axes>"
      ]
     },
     "metadata": {},
     "output_type": "display_data"
    }
   ],
   "source": [
    "# explore loan_type category\n",
    "df_cr[\"preapproval_requested\"].value_counts().plot(kind='barh')"
   ]
  },
  {
   "cell_type": "markdown",
   "id": "fb907da4",
   "metadata": {},
   "source": [
    "##### loan_type\n",
    "1 -- Conventional (any loan other than FHA, VA, FSA, or RHS loans) <br>\n",
    "2 -- FHA-insured (Federal Housing Administration) <br>\n",
    "3 -- VA-guaranteed (Veterans Administration) <br>\n",
    "4 -- FSA/RHS (Farm Service Agency or Rural Housing Service) <br>\n",
    "\n",
    "Comments: <br>\n",
    "75% IQR = 1 <br>\n",
    "About 90% of the whole loan type is type 1 - Conventional among the 4 types. <br>\n",
    "Is this data representative to the whole population? <br>\n",
    "possible research directions: if people with a Conventional loan type have an obviously higher/lower chance to get approved for the loan compared to people with a NON Conventional loan type?"
   ]
  },
  {
   "cell_type": "code",
   "execution_count": 54,
   "id": "3890c5db",
   "metadata": {},
   "outputs": [],
   "source": [
    "# changed 1, 2, 3, 4 to their corresponding categorical names\n",
    "df_cr['loan_type'].mask((df_cr['loan_type'] == 1), 'Converntional', inplace=True)\n",
    "df_cr['loan_type'].mask((df_cr['loan_type'] == 2), 'FHA-insured', inplace=True)\n",
    "df_cr['loan_type'].mask((df_cr['loan_type'] == 3), 'VA-guaranteed', inplace=True)\n",
    "df_cr['loan_type'].mask((df_cr['loan_type'] == 4), 'FSA/RHS', inplace=True)"
   ]
  },
  {
   "cell_type": "code",
   "execution_count": 55,
   "id": "b8f04377",
   "metadata": {
    "scrolled": false
   },
   "outputs": [
    {
     "data": {
      "text/plain": [
       "0.9175746794159069"
      ]
     },
     "execution_count": 55,
     "metadata": {},
     "output_type": "execute_result"
    }
   ],
   "source": [
    "len(df_cr[df_cr['loan_type'] == 'Converntional']) / len(df_cr['loan_type'])"
   ]
  },
  {
   "cell_type": "code",
   "execution_count": 56,
   "id": "5b105fff",
   "metadata": {},
   "outputs": [
    {
     "data": {
      "text/plain": [
       "2"
      ]
     },
     "execution_count": 56,
     "metadata": {},
     "output_type": "execute_result"
    }
   ],
   "source": [
    "# number of 'FSA/RHS' is only 2, not representative, so drop this category\n",
    "len(df_cr[df_cr['loan_type'] == 'FSA/RHS'])"
   ]
  },
  {
   "cell_type": "code",
   "execution_count": 57,
   "id": "1ea91c73",
   "metadata": {},
   "outputs": [],
   "source": [
    "# drop 'FSA/RHS' column\n",
    "df_cr.drop(df_cr[df_cr['loan_type'] == 'FSA/RHS'].index, inplace = True)"
   ]
  },
  {
   "cell_type": "code",
   "execution_count": 58,
   "id": "50e566ab",
   "metadata": {},
   "outputs": [],
   "source": [
    "# reset index\n",
    "df_cr = df_cr.reset_index(drop = True)"
   ]
  },
  {
   "cell_type": "code",
   "execution_count": 59,
   "id": "94179f3e",
   "metadata": {},
   "outputs": [
    {
     "data": {
      "text/plain": [
       "<AxesSubplot:>"
      ]
     },
     "execution_count": 59,
     "metadata": {},
     "output_type": "execute_result"
    },
    {
     "data": {
      "image/png": "[encoded data removed]",
      "text/plain": [
       "<Figure size 600x400 with 1 Axes>"
      ]
     },
     "metadata": {},
     "output_type": "display_data"
    }
   ],
   "source": [
    "# explore loan_type category\n",
    "df_cr[\"loan_type\"].value_counts().plot(kind='barh')"
   ]
  },
  {
   "cell_type": "markdown",
   "id": "e01e842d",
   "metadata": {},
   "source": [
    "##### loan_purpose \n",
    "Description: The purpose of covered loan or application\n",
    "Values: <br>\n",
    "1 - Home purchase <br>\n",
    "2 - Home improvement <br>\n",
    "31 - Refinancing <br>\n",
    "32 - Cash-out refinancing <br>\n",
    "4 - Other purpose <br>\n",
    "5 - Not applicable \n",
    "\n",
    "CHANGE - 31, 32 -> 3 - Refinancing; dropped 19 values of \"not applicable\" "
   ]
  },
  {
   "cell_type": "code",
   "execution_count": 60,
   "id": "7f972a35",
   "metadata": {},
   "outputs": [],
   "source": [
    "df_cr[\"loan_purpose\"].replace([31, 32], 3, regex=False, inplace=True)"
   ]
  },
  {
   "cell_type": "code",
   "execution_count": 61,
   "id": "e9187177",
   "metadata": {
    "scrolled": true
   },
   "outputs": [
    {
     "data": {
      "text/plain": [
       "17"
      ]
     },
     "execution_count": 61,
     "metadata": {},
     "output_type": "execute_result"
    }
   ],
   "source": [
    "# 19 values of \"not applicable\" \n",
    "len(df_cr[df_cr['loan_purpose'] == 5])"
   ]
  },
  {
   "cell_type": "code",
   "execution_count": 62,
   "id": "c4dea90b",
   "metadata": {},
   "outputs": [],
   "source": [
    "# 5 -> NAs\n",
    "df_cr['loan_purpose'].mask((df_cr['loan_purpose'] == 5), None, inplace=True)"
   ]
  },
  {
   "cell_type": "code",
   "execution_count": 63,
   "id": "5b4aa8ed",
   "metadata": {},
   "outputs": [],
   "source": [
    "# drop 19 values\n",
    "df_cr = df_cr[pd.to_numeric(df_cr['loan_purpose'].notnull(),errors='coerce')]"
   ]
  },
  {
   "cell_type": "code",
   "execution_count": 64,
   "id": "406f73bd",
   "metadata": {},
   "outputs": [],
   "source": [
    "# changed 1, 2, 3, 4, 5 to their corresponding categorical names\n",
    "df_cr['loan_purpose'].mask((df_cr['loan_purpose'] == 1), 'Home Purchase', inplace=True)\n",
    "df_cr['loan_purpose'].mask((df_cr['loan_purpose'] == 2), 'Home Improvement', inplace=True)\n",
    "df_cr['loan_purpose'].mask((df_cr['loan_purpose'] == 3), 'Refinancing', inplace=True)\n",
    "df_cr['loan_purpose'].mask((df_cr['loan_purpose'] == 4), 'Other Purpose', inplace=True)"
   ]
  },
  {
   "cell_type": "code",
   "execution_count": 65,
   "id": "017a50c3",
   "metadata": {},
   "outputs": [],
   "source": [
    "# reset index\n",
    "df_cr = df_cr.reset_index(drop = True)"
   ]
  },
  {
   "cell_type": "code",
   "execution_count": 66,
   "id": "51c25d24",
   "metadata": {},
   "outputs": [
    {
     "data": {
      "text/plain": [
       "<AxesSubplot:>"
      ]
     },
     "execution_count": 66,
     "metadata": {},
     "output_type": "execute_result"
    },
    {
     "data": {
      "image/png": "[encoded data removed]",
      "text/plain": [
       "<Figure size 600x400 with 1 Axes>"
      ]
     },
     "metadata": {},
     "output_type": "display_data"
    }
   ],
   "source": [
    "# explore loan_purpose category\n",
    "df_cr[\"loan_purpose\"].value_counts().plot(kind='barh')"
   ]
  },
  {
   "cell_type": "markdown",
   "id": "6eb13a6b",
   "metadata": {},
   "source": [
    "##### is_not_hispanic (old: derived_ethnicity)"
   ]
  },
  {
   "cell_type": "code",
   "execution_count": 67,
   "id": "3f7df01f",
   "metadata": {
    "scrolled": false
   },
   "outputs": [
    {
     "data": {
      "text/plain": [
       "array(['Not Hispanic or Latino', 'Hispanic or Latino', 'Joint',\n",
       "       'Ethnicity Not Available', 'Free Form Text Only'], dtype=object)"
      ]
     },
     "execution_count": 67,
     "metadata": {},
     "output_type": "execute_result"
    }
   ],
   "source": [
    "pd.unique(df_cr['derived_ethnicity'])"
   ]
  },
  {
   "cell_type": "code",
   "execution_count": 68,
   "id": "a5a1c216",
   "metadata": {},
   "outputs": [],
   "source": [
    "# Convert 'Joint', 'Ethnicity Not Available', 'Free Form Text Only' to NAs\n",
    "df_cr['derived_ethnicity'].mask((df_cr['derived_ethnicity'] == 'Joint') |\n",
    "                                (df_cr['derived_ethnicity'] == 'Ethnicity Not Available') |\n",
    "                                (df_cr['derived_ethnicity'] == 'Free Form Text Only'), None, inplace=True)"
   ]
  },
  {
   "cell_type": "code",
   "execution_count": 69,
   "id": "c2067302",
   "metadata": {},
   "outputs": [
    {
     "data": {
      "text/plain": [
       "<class 'str'>         11743\n",
       "<class 'NoneType'>     1729\n",
       "Name: derived_ethnicity, dtype: int64"
      ]
     },
     "execution_count": 69,
     "metadata": {},
     "output_type": "execute_result"
    }
   ],
   "source": [
    "df_cr['derived_ethnicity'].map(type).value_counts()"
   ]
  },
  {
   "cell_type": "code",
   "execution_count": 70,
   "id": "eaafa52e",
   "metadata": {},
   "outputs": [],
   "source": [
    "# drop 1878 null values\n",
    "df_cr = df_cr[pd.to_numeric(df_cr['derived_ethnicity'].notnull(),errors='coerce')]"
   ]
  },
  {
   "cell_type": "code",
   "execution_count": 71,
   "id": "de90a115",
   "metadata": {},
   "outputs": [
    {
     "data": {
      "text/plain": [
       "<class 'str'>    11743\n",
       "Name: derived_ethnicity, dtype: int64"
      ]
     },
     "execution_count": 71,
     "metadata": {},
     "output_type": "execute_result"
    }
   ],
   "source": [
    "df_cr['derived_ethnicity'].map(type).value_counts()"
   ]
  },
  {
   "cell_type": "code",
   "execution_count": 72,
   "id": "29f160a2",
   "metadata": {},
   "outputs": [],
   "source": [
    "# reset index\n",
    "df_cr = df_cr.reset_index(drop = True)"
   ]
  },
  {
   "cell_type": "code",
   "execution_count": 73,
   "id": "b22f5373",
   "metadata": {},
   "outputs": [],
   "source": [
    "# change column name 'derived_ethnicity' -> 'is_not_hispanic'\n",
    "df_cr.rename(columns={'derived_ethnicity': 'is_not_hispanic'}, inplace=True)"
   ]
  },
  {
   "cell_type": "code",
   "execution_count": 74,
   "id": "a4642e52",
   "metadata": {},
   "outputs": [
    {
     "data": {
      "text/plain": [
       "<AxesSubplot:>"
      ]
     },
     "execution_count": 74,
     "metadata": {},
     "output_type": "execute_result"
    },
    {
     "data": {
      "image/png": "[encoded data removed]",
      "text/plain": [
       "<Figure size 600x400 with 1 Axes>"
      ]
     },
     "metadata": {},
     "output_type": "display_data"
    }
   ],
   "source": [
    "# explore is_not_hispanic category\n",
    "df_cr[\"is_not_hispanic\"].value_counts().plot(kind='barh')"
   ]
  },
  {
   "cell_type": "markdown",
   "id": "5fe0fdba",
   "metadata": {},
   "source": [
    "##### derived_race"
   ]
  },
  {
   "cell_type": "code",
   "execution_count": 75,
   "id": "aa0c7e96",
   "metadata": {
    "scrolled": false
   },
   "outputs": [
    {
     "data": {
      "text/plain": [
       "array(['Black or African American', 'White', 'Asian',\n",
       "       '2 or more minority races', 'Race Not Available', 'Joint',\n",
       "       'Native Hawaiian or Other Pacific Islander',\n",
       "       'American Indian or Alaska Native', 'Free Form Text Only'],\n",
       "      dtype=object)"
      ]
     },
     "execution_count": 75,
     "metadata": {},
     "output_type": "execute_result"
    }
   ],
   "source": [
    "pd.unique(df_cr['derived_race'])"
   ]
  },
  {
   "cell_type": "code",
   "execution_count": 76,
   "id": "1d37738d",
   "metadata": {},
   "outputs": [],
   "source": [
    "# Convert '2 or more minority races', 'Race Not Available','American Indian or Alaska Native', \n",
    "# 'Joint', 'Native Hawaiian or Other Pacific Islander' to 'Minority Race/(s/)'\n",
    "df_cr['derived_race'].mask((df_cr['derived_race'] == '2 or more minority races') |\n",
    "                            (df_cr['derived_race'] == 'American Indian or Alaska Native') |\n",
    "                            (df_cr['derived_race'] == 'Joint') |\n",
    "                            (df_cr['derived_race'] == 'Native Hawaiian or Other Pacific Islander'), \"Minority Races\", inplace=True)"
   ]
  },
  {
   "cell_type": "code",
   "execution_count": 77,
   "id": "57888bba",
   "metadata": {},
   "outputs": [],
   "source": [
    "df_cr['derived_race'].mask((df_cr['derived_race'] == 'Free Form Text Only') |\n",
    "                           (df_cr['derived_race'] == 'Race Not Available'), None, inplace=True)"
   ]
  },
  {
   "cell_type": "code",
   "execution_count": 78,
   "id": "0b4c90ba",
   "metadata": {
    "scrolled": false
   },
   "outputs": [
    {
     "data": {
      "text/plain": [
       "<class 'str'>         11246\n",
       "<class 'NoneType'>      497\n",
       "Name: derived_race, dtype: int64"
      ]
     },
     "execution_count": 78,
     "metadata": {},
     "output_type": "execute_result"
    }
   ],
   "source": [
    "df_cr['derived_race'].map(type).value_counts()"
   ]
  },
  {
   "cell_type": "code",
   "execution_count": 79,
   "id": "beedf00b",
   "metadata": {
    "scrolled": true
   },
   "outputs": [
    {
     "data": {
      "text/plain": [
       "array(['Black or African American', 'White', 'Asian', 'Minority Races',\n",
       "       None], dtype=object)"
      ]
     },
     "execution_count": 79,
     "metadata": {},
     "output_type": "execute_result"
    }
   ],
   "source": [
    "pd.unique(df_cr['derived_race'])"
   ]
  },
  {
   "cell_type": "code",
   "execution_count": 80,
   "id": "091e3309",
   "metadata": {},
   "outputs": [],
   "source": [
    "# drop 526 null values\n",
    "df_cr = df_cr[pd.to_numeric(df_cr['derived_race'].notnull(),errors='coerce')]"
   ]
  },
  {
   "cell_type": "code",
   "execution_count": 81,
   "id": "b480a35a",
   "metadata": {
    "scrolled": false
   },
   "outputs": [
    {
     "data": {
      "text/plain": [
       "array(['Black or African American', 'White', 'Asian', 'Minority Races'],\n",
       "      dtype=object)"
      ]
     },
     "execution_count": 81,
     "metadata": {},
     "output_type": "execute_result"
    }
   ],
   "source": [
    "pd.unique(df_cr['derived_race'])"
   ]
  },
  {
   "cell_type": "code",
   "execution_count": 82,
   "id": "2b9e1619",
   "metadata": {},
   "outputs": [],
   "source": [
    "# reset index\n",
    "df_cr = df_cr.reset_index(drop = True)"
   ]
  },
  {
   "cell_type": "code",
   "execution_count": 83,
   "id": "ed70b09e",
   "metadata": {},
   "outputs": [
    {
     "data": {
      "text/plain": [
       "<AxesSubplot:>"
      ]
     },
     "execution_count": 83,
     "metadata": {},
     "output_type": "execute_result"
    },
    {
     "data": {
      "image/png": "[encoded data removed]",
      "text/plain": [
       "<Figure size 600x400 with 1 Axes>"
      ]
     },
     "metadata": {},
     "output_type": "display_data"
    }
   ],
   "source": [
    "# explore derived_race category\n",
    "df_cr[\"derived_race\"].value_counts().plot(kind='barh')"
   ]
  },
  {
   "cell_type": "markdown",
   "id": "2a9d950b",
   "metadata": {},
   "source": [
    "##### is_male (old: derived_sex)"
   ]
  },
  {
   "cell_type": "code",
   "execution_count": 84,
   "id": "90e98210",
   "metadata": {
    "scrolled": true
   },
   "outputs": [
    {
     "data": {
      "text/plain": [
       "array(['Female', 'Male'], dtype=object)"
      ]
     },
     "execution_count": 84,
     "metadata": {},
     "output_type": "execute_result"
    }
   ],
   "source": [
    "pd.unique(df_cr['derived_sex']) # OK"
   ]
  },
  {
   "cell_type": "code",
   "execution_count": 85,
   "id": "7ca5ba57",
   "metadata": {},
   "outputs": [],
   "source": [
    "# change column name 'derived_sex' -> 'is_male'\n",
    "df_cr.rename(columns={'derived_sex': 'is_male'}, inplace=True)"
   ]
  },
  {
   "cell_type": "code",
   "execution_count": 86,
   "id": "014a85a1",
   "metadata": {},
   "outputs": [
    {
     "data": {
      "text/plain": [
       "<AxesSubplot:>"
      ]
     },
     "execution_count": 86,
     "metadata": {},
     "output_type": "execute_result"
    },
    {
     "data": {
      "image/png": "[encoded data removed]",
      "text/plain": [
       "<Figure size 600x400 with 1 Axes>"
      ]
     },
     "metadata": {},
     "output_type": "display_data"
    }
   ],
   "source": [
    "# explore is_male category\n",
    "df_cr[\"is_male\"].value_counts().plot(kind='barh')"
   ]
  },
  {
   "cell_type": "markdown",
   "id": "ce305b4d",
   "metadata": {},
   "source": [
    "##### debt_to_income_ratio \n",
    "Description: The ratio, as a percentage, of the applicant’s or borrower’s total monthly debt to the total monthly income relied on in making the credit decision"
   ]
  },
  {
   "cell_type": "code",
   "execution_count": 87,
   "id": "8e5035b9",
   "metadata": {
    "scrolled": false
   },
   "outputs": [
    {
     "data": {
      "text/plain": [
       "array(['48', '44', '38', '42', '50%-60%', '>60%', '30%-<36%', '40', '36',\n",
       "       '20%-<30%', '49', '<20%', '43', '41', '47', '46', '37', '39', '45',\n",
       "       nan], dtype=object)"
      ]
     },
     "execution_count": 87,
     "metadata": {},
     "output_type": "execute_result"
    }
   ],
   "source": [
    "pd.unique(df_cr['debt_to_income_ratio']) # should create a new column: 36% - 49%, Exempt = NaN?"
   ]
  },
  {
   "cell_type": "code",
   "execution_count": 88,
   "id": "eeadeab5",
   "metadata": {},
   "outputs": [],
   "source": [
    "df_cr[\"debt_to_income_ratio\"].replace(['48', '44', '38', '42', '40', '36', '49', '47', '43', '41', '39', '46', '37', '45'], '36%-<50%', regex=False, inplace=True)"
   ]
  },
  {
   "cell_type": "code",
   "execution_count": 89,
   "id": "cf8f868a",
   "metadata": {},
   "outputs": [],
   "source": [
    "# replace \"Exempt\" with NAs\n",
    "df_cr['debt_to_income_ratio'].mask((df_cr['debt_to_income_ratio'] == 'Exempt'), None, inplace=True)"
   ]
  },
  {
   "cell_type": "code",
   "execution_count": 90,
   "id": "1f5b5279",
   "metadata": {},
   "outputs": [],
   "source": [
    "# drop null values\n",
    "df_cr = df_cr[pd.to_numeric(df_cr['debt_to_income_ratio'].notnull(),errors='coerce')]"
   ]
  },
  {
   "cell_type": "code",
   "execution_count": 91,
   "id": "1d6e4d04",
   "metadata": {
    "scrolled": false
   },
   "outputs": [
    {
     "data": {
      "text/plain": [
       "array(['36%-<50%', '50%-60%', '>60%', '30%-<36%', '20%-<30%', '<20%'],\n",
       "      dtype=object)"
      ]
     },
     "execution_count": 91,
     "metadata": {},
     "output_type": "execute_result"
    }
   ],
   "source": [
    "pd.unique(df_cr['debt_to_income_ratio'])"
   ]
  },
  {
   "cell_type": "code",
   "execution_count": 92,
   "id": "e161ee48",
   "metadata": {},
   "outputs": [],
   "source": [
    "# reset index\n",
    "df_cr = df_cr.reset_index(drop = True)"
   ]
  },
  {
   "cell_type": "code",
   "execution_count": 93,
   "id": "4fee57db",
   "metadata": {
    "scrolled": false
   },
   "outputs": [
    {
     "data": {
      "text/plain": [
       "<AxesSubplot:>"
      ]
     },
     "execution_count": 93,
     "metadata": {},
     "output_type": "execute_result"
    },
    {
     "data": {
      "image/png": "[encoded data removed]",
      "text/plain": [
       "<Figure size 600x400 with 1 Axes>"
      ]
     },
     "metadata": {},
     "output_type": "display_data"
    }
   ],
   "source": [
    "# explore debt_to_income_ratio category\n",
    "df_cr[\"debt_to_income_ratio\"].value_counts().plot(kind='barh')"
   ]
  },
  {
   "cell_type": "markdown",
   "id": "3338a246",
   "metadata": {},
   "source": [
    "##### mid_debt_to_income_ratio  (NEW column for log reg)\n",
    "Description: Mid values (it's neither median nor average because of lack of info) of the categorical variable debt_to_income_ratio"
   ]
  },
  {
   "cell_type": "code",
   "execution_count": 94,
   "id": "5282358c",
   "metadata": {},
   "outputs": [],
   "source": [
    "r_conditions = [\n",
    "    df_cr['debt_to_income_ratio'] == '<20%',\n",
    "    df_cr['debt_to_income_ratio'] == '20%-<30%',\n",
    "    df_cr['debt_to_income_ratio'] == '30%-<36%',\n",
    "    df_cr['debt_to_income_ratio'] == '36%-<50%',\n",
    "    df_cr['debt_to_income_ratio'] == '50%-60%',\n",
    "    df_cr['debt_to_income_ratio'] == '>60%'\n",
    "]\n",
    "\n",
    "r_choices = [0.15, 0.25, 0.33, 0.38, 0.55, 0.65]\n",
    "\n",
    "df_cr['mid_debt_to_income_ratio'] = np.select(r_conditions, r_choices, default=0)"
   ]
  },
  {
   "cell_type": "code",
   "execution_count": 95,
   "id": "65d6b6e3",
   "metadata": {
    "scrolled": true
   },
   "outputs": [
    {
     "data": {
      "text/plain": [
       "<AxesSubplot:>"
      ]
     },
     "execution_count": 95,
     "metadata": {},
     "output_type": "execute_result"
    },
    {
     "data": {
      "image/png": "[encoded data removed]",
      "text/plain": [
       "<Figure size 600x400 with 1 Axes>"
      ]
     },
     "metadata": {},
     "output_type": "display_data"
    }
   ],
   "source": [
    "# explore mid_debt_to_income_ratio category\n",
    "df_cr[\"mid_debt_to_income_ratio\"].value_counts().plot(kind='barh')"
   ]
  },
  {
   "cell_type": "markdown",
   "id": "d6531934",
   "metadata": {},
   "source": [
    "##### debt  (NEW column for log reg)\n",
    "Description: debt = mid_debt_to_income_ratio * income"
   ]
  },
  {
   "cell_type": "code",
   "execution_count": 96,
   "id": "abcf4928",
   "metadata": {},
   "outputs": [],
   "source": [
    "df_cr['debt'] = np.multiply(df_cr['mid_debt_to_income_ratio'], df_cr['income'])"
   ]
  },
  {
   "cell_type": "markdown",
   "id": "7be7b76b",
   "metadata": {},
   "source": [
    "##### applicant_age\n",
    "Young Adult - 18 - 34 <br>\n",
    "Middle-Aged Adult - 35-54 <br>\n",
    "Older Adult - > 55 <br>\n",
    "(resource: https://academic.oup.com/gerontologist/article/42/1/92/641498)"
   ]
  },
  {
   "cell_type": "code",
   "execution_count": 97,
   "id": "71bb546f",
   "metadata": {
    "scrolled": true
   },
   "outputs": [
    {
     "data": {
      "text/plain": [
       "array(['35-44', '>74', '25-34', '55-64', '45-54', '65-74', '<25', '8888'],\n",
       "      dtype=object)"
      ]
     },
     "execution_count": 97,
     "metadata": {},
     "output_type": "execute_result"
    }
   ],
   "source": [
    "pd.unique(df_cr['applicant_age']) # 8888\n",
    "# df_cr[(df_cr['applicant_age'] == '8888')] # print 4 rows with age = 8888"
   ]
  },
  {
   "cell_type": "code",
   "execution_count": 98,
   "id": "1fcded44",
   "metadata": {},
   "outputs": [],
   "source": [
    "# drop rows with 8888\n",
    "df_cr.drop(df_cr.index[df_cr['applicant_age'] == '8888'], inplace=True)"
   ]
  },
  {
   "cell_type": "code",
   "execution_count": 99,
   "id": "1a7c4991",
   "metadata": {},
   "outputs": [
    {
     "data": {
      "text/plain": [
       "array(['35-44', '>74', '25-34', '55-64', '45-54', '65-74', '<25'],\n",
       "      dtype=object)"
      ]
     },
     "execution_count": 99,
     "metadata": {},
     "output_type": "execute_result"
    }
   ],
   "source": [
    "pd.unique(df_cr['applicant_age'])"
   ]
  },
  {
   "cell_type": "code",
   "execution_count": 100,
   "id": "3f588378",
   "metadata": {},
   "outputs": [],
   "source": [
    "# reset index\n",
    "df_cr = df_cr.reset_index(drop = True)"
   ]
  },
  {
   "cell_type": "code",
   "execution_count": 101,
   "id": "c2e8e3df",
   "metadata": {},
   "outputs": [],
   "source": [
    "age_conditions = [\n",
    "    (df_cr['applicant_age'] == '<25') | (df_cr['applicant_age'] == '25-34'),\n",
    "    (df_cr['applicant_age'] == '35-44') | (df_cr['applicant_age'] == '45-54'),\n",
    "    (df_cr['applicant_age'] == '55-64') | (df_cr['applicant_age'] == '65-74') | (df_cr['applicant_age'] == '>74')\n",
    "]\n",
    "\n",
    "age_choices = ['Young', 'Middle-Aged', 'Older']\n",
    "\n",
    "df_cr['applicant_age'] = np.select(age_conditions, age_choices, default=0)"
   ]
  },
  {
   "cell_type": "code",
   "execution_count": 102,
   "id": "809d474c",
   "metadata": {
    "scrolled": true
   },
   "outputs": [
    {
     "data": {
      "text/plain": [
       "<AxesSubplot:>"
      ]
     },
     "execution_count": 102,
     "metadata": {},
     "output_type": "execute_result"
    },
    {
     "data": {
      "image/png": "[encoded data removed]",
      "text/plain": [
       "<Figure size 600x400 with 1 Axes>"
      ]
     },
     "metadata": {},
     "output_type": "display_data"
    }
   ],
   "source": [
    "# explore applicant_age category\n",
    "df_cr[\"applicant_age\"].value_counts().plot(kind='barh')"
   ]
  },
  {
   "cell_type": "code",
   "execution_count": 103,
   "id": "b5800b58",
   "metadata": {
    "scrolled": true
   },
   "outputs": [
    {
     "name": "stdout",
     "output_type": "stream",
     "text": [
      "<class 'pandas.core.frame.DataFrame'>\n",
      "RangeIndex: 11148 entries, 0 to 11147\n",
      "Data columns (total 19 columns):\n",
      " #   Column                       Non-Null Count  Dtype  \n",
      "---  ------                       --------------  -----  \n",
      " 0   is_not_hispanic              11148 non-null  object \n",
      " 1   derived_race                 11148 non-null  object \n",
      " 2   is_male                      11148 non-null  object \n",
      " 3   action_taken                 11148 non-null  int64  \n",
      " 4   preapproval_requested        11148 non-null  object \n",
      " 5   loan_type                    11148 non-null  object \n",
      " 6   loan_purpose                 11148 non-null  object \n",
      " 7   loan_amount                  11148 non-null  float64\n",
      " 8   loan_to_value_ratio          11148 non-null  float64\n",
      " 9   interest_only_payment        11148 non-null  object \n",
      " 10  balloon_payment              11148 non-null  object \n",
      " 11  income                       11148 non-null  float64\n",
      " 12  debt_to_income_ratio         11148 non-null  object \n",
      " 13  applicant_age                11148 non-null  object \n",
      " 14  log_loan_to_value_ratio      11148 non-null  float64\n",
      " 15  derived_income               11148 non-null  object \n",
      " 16  derived_loan_to_value_ratio  11148 non-null  object \n",
      " 17  mid_debt_to_income_ratio     11148 non-null  float64\n",
      " 18  debt                         11148 non-null  float64\n",
      "dtypes: float64(6), int64(1), object(12)\n",
      "memory usage: 1.6+ MB\n"
     ]
    }
   ],
   "source": [
    "# cleaned dataset info\n",
    "df_cr.info()"
   ]
  },
  {
   "cell_type": "code",
   "execution_count": 104,
   "id": "3bd68269",
   "metadata": {},
   "outputs": [
    {
     "data": {
      "text/html": [
       "<div>\n",
       "<style scoped>\n",
       "    .dataframe tbody tr th:only-of-type {\n",
       "        vertical-align: middle;\n",
       "    }\n",
       "\n",
       "    .dataframe tbody tr th {\n",
       "        vertical-align: top;\n",
       "    }\n",
       "\n",
       "    .dataframe thead th {\n",
       "        text-align: right;\n",
       "    }\n",
       "</style>\n",
       "<table border=\"1\" class=\"dataframe\">\n",
       "  <thead>\n",
       "    <tr style=\"text-align: right;\">\n",
       "      <th></th>\n",
       "      <th>is_not_hispanic</th>\n",
       "      <th>derived_race</th>\n",
       "      <th>is_male</th>\n",
       "      <th>action_taken</th>\n",
       "      <th>preapproval_requested</th>\n",
       "      <th>loan_type</th>\n",
       "      <th>loan_purpose</th>\n",
       "      <th>loan_amount</th>\n",
       "      <th>loan_to_value_ratio</th>\n",
       "      <th>interest_only_payment</th>\n",
       "      <th>balloon_payment</th>\n",
       "      <th>income</th>\n",
       "      <th>debt_to_income_ratio</th>\n",
       "      <th>applicant_age</th>\n",
       "      <th>log_loan_to_value_ratio</th>\n",
       "      <th>derived_income</th>\n",
       "      <th>derived_loan_to_value_ratio</th>\n",
       "      <th>mid_debt_to_income_ratio</th>\n",
       "      <th>debt</th>\n",
       "    </tr>\n",
       "  </thead>\n",
       "  <tbody>\n",
       "    <tr>\n",
       "      <th>0</th>\n",
       "      <td>Not Hispanic or Latino</td>\n",
       "      <td>Black or African American</td>\n",
       "      <td>Female</td>\n",
       "      <td>1</td>\n",
       "      <td>No Preapproval Requested</td>\n",
       "      <td>Converntional</td>\n",
       "      <td>Refinancing</td>\n",
       "      <td>105000.0</td>\n",
       "      <td>75.00</td>\n",
       "      <td>No Interest-only Payments</td>\n",
       "      <td>No Balloon Payment</td>\n",
       "      <td>91.0</td>\n",
       "      <td>36%-&lt;50%</td>\n",
       "      <td>Middle-Aged</td>\n",
       "      <td>6.228819</td>\n",
       "      <td>Middle Class</td>\n",
       "      <td>&lt; Conventional Bar</td>\n",
       "      <td>0.38</td>\n",
       "      <td>34.58</td>\n",
       "    </tr>\n",
       "    <tr>\n",
       "      <th>1</th>\n",
       "      <td>Not Hispanic or Latino</td>\n",
       "      <td>Black or African American</td>\n",
       "      <td>Female</td>\n",
       "      <td>0</td>\n",
       "      <td>No Preapproval Requested</td>\n",
       "      <td>Converntional</td>\n",
       "      <td>Refinancing</td>\n",
       "      <td>275000.0</td>\n",
       "      <td>52.38</td>\n",
       "      <td>No Interest-only Payments</td>\n",
       "      <td>No Balloon Payment</td>\n",
       "      <td>142.0</td>\n",
       "      <td>36%-&lt;50%</td>\n",
       "      <td>Older</td>\n",
       "      <td>5.710944</td>\n",
       "      <td>Upper-Middle Class</td>\n",
       "      <td>&lt; Conventional Bar</td>\n",
       "      <td>0.38</td>\n",
       "      <td>53.96</td>\n",
       "    </tr>\n",
       "    <tr>\n",
       "      <th>2</th>\n",
       "      <td>Hispanic or Latino</td>\n",
       "      <td>White</td>\n",
       "      <td>Male</td>\n",
       "      <td>0</td>\n",
       "      <td>No Preapproval Requested</td>\n",
       "      <td>Converntional</td>\n",
       "      <td>Home Purchase</td>\n",
       "      <td>235000.0</td>\n",
       "      <td>80.00</td>\n",
       "      <td>No Interest-only Payments</td>\n",
       "      <td>No Balloon Payment</td>\n",
       "      <td>60.0</td>\n",
       "      <td>36%-&lt;50%</td>\n",
       "      <td>Middle-Aged</td>\n",
       "      <td>6.321928</td>\n",
       "      <td>Middle Class</td>\n",
       "      <td>&lt; Conventional Bar</td>\n",
       "      <td>0.38</td>\n",
       "      <td>22.80</td>\n",
       "    </tr>\n",
       "    <tr>\n",
       "      <th>3</th>\n",
       "      <td>Not Hispanic or Latino</td>\n",
       "      <td>White</td>\n",
       "      <td>Male</td>\n",
       "      <td>1</td>\n",
       "      <td>No Preapproval Requested</td>\n",
       "      <td>Converntional</td>\n",
       "      <td>Home Purchase</td>\n",
       "      <td>465000.0</td>\n",
       "      <td>94.69</td>\n",
       "      <td>No Interest-only Payments</td>\n",
       "      <td>No Balloon Payment</td>\n",
       "      <td>112.0</td>\n",
       "      <td>36%-&lt;50%</td>\n",
       "      <td>Middle-Aged</td>\n",
       "      <td>6.565140</td>\n",
       "      <td>Upper-Middle Class</td>\n",
       "      <td>&gt; Conventional Bar and &lt; FHA Bar</td>\n",
       "      <td>0.38</td>\n",
       "      <td>42.56</td>\n",
       "    </tr>\n",
       "    <tr>\n",
       "      <th>4</th>\n",
       "      <td>Not Hispanic or Latino</td>\n",
       "      <td>Black or African American</td>\n",
       "      <td>Male</td>\n",
       "      <td>1</td>\n",
       "      <td>Preapproval Requested</td>\n",
       "      <td>VA-guaranteed</td>\n",
       "      <td>Home Purchase</td>\n",
       "      <td>415000.0</td>\n",
       "      <td>100.00</td>\n",
       "      <td>No Interest-only Payments</td>\n",
       "      <td>No Balloon Payment</td>\n",
       "      <td>83.0</td>\n",
       "      <td>50%-60%</td>\n",
       "      <td>Young</td>\n",
       "      <td>6.643856</td>\n",
       "      <td>Middle Class</td>\n",
       "      <td>&gt; FHA Bar and &lt; VA Bar</td>\n",
       "      <td>0.55</td>\n",
       "      <td>45.65</td>\n",
       "    </tr>\n",
       "    <tr>\n",
       "      <th>...</th>\n",
       "      <td>...</td>\n",
       "      <td>...</td>\n",
       "      <td>...</td>\n",
       "      <td>...</td>\n",
       "      <td>...</td>\n",
       "      <td>...</td>\n",
       "      <td>...</td>\n",
       "      <td>...</td>\n",
       "      <td>...</td>\n",
       "      <td>...</td>\n",
       "      <td>...</td>\n",
       "      <td>...</td>\n",
       "      <td>...</td>\n",
       "      <td>...</td>\n",
       "      <td>...</td>\n",
       "      <td>...</td>\n",
       "      <td>...</td>\n",
       "      <td>...</td>\n",
       "      <td>...</td>\n",
       "    </tr>\n",
       "    <tr>\n",
       "      <th>11143</th>\n",
       "      <td>Hispanic or Latino</td>\n",
       "      <td>White</td>\n",
       "      <td>Male</td>\n",
       "      <td>0</td>\n",
       "      <td>No Preapproval Requested</td>\n",
       "      <td>Converntional</td>\n",
       "      <td>Refinancing</td>\n",
       "      <td>225000.0</td>\n",
       "      <td>75.00</td>\n",
       "      <td>No Interest-only Payments</td>\n",
       "      <td>No Balloon Payment</td>\n",
       "      <td>76.0</td>\n",
       "      <td>&gt;60%</td>\n",
       "      <td>Older</td>\n",
       "      <td>6.228819</td>\n",
       "      <td>Middle Class</td>\n",
       "      <td>&lt; Conventional Bar</td>\n",
       "      <td>0.65</td>\n",
       "      <td>49.40</td>\n",
       "    </tr>\n",
       "    <tr>\n",
       "      <th>11144</th>\n",
       "      <td>Not Hispanic or Latino</td>\n",
       "      <td>Black or African American</td>\n",
       "      <td>Male</td>\n",
       "      <td>1</td>\n",
       "      <td>No Preapproval Requested</td>\n",
       "      <td>Converntional</td>\n",
       "      <td>Home Purchase</td>\n",
       "      <td>345000.0</td>\n",
       "      <td>80.00</td>\n",
       "      <td>No Interest-only Payments</td>\n",
       "      <td>No Balloon Payment</td>\n",
       "      <td>168.0</td>\n",
       "      <td>36%-&lt;50%</td>\n",
       "      <td>Young</td>\n",
       "      <td>6.321928</td>\n",
       "      <td>Upper-Middle Class</td>\n",
       "      <td>&lt; Conventional Bar</td>\n",
       "      <td>0.38</td>\n",
       "      <td>63.84</td>\n",
       "    </tr>\n",
       "    <tr>\n",
       "      <th>11145</th>\n",
       "      <td>Not Hispanic or Latino</td>\n",
       "      <td>Black or African American</td>\n",
       "      <td>Male</td>\n",
       "      <td>0</td>\n",
       "      <td>No Preapproval Requested</td>\n",
       "      <td>Converntional</td>\n",
       "      <td>Refinancing</td>\n",
       "      <td>385000.0</td>\n",
       "      <td>75.00</td>\n",
       "      <td>No Interest-only Payments</td>\n",
       "      <td>No Balloon Payment</td>\n",
       "      <td>160.0</td>\n",
       "      <td>36%-&lt;50%</td>\n",
       "      <td>Young</td>\n",
       "      <td>6.228819</td>\n",
       "      <td>Upper-Middle Class</td>\n",
       "      <td>&lt; Conventional Bar</td>\n",
       "      <td>0.38</td>\n",
       "      <td>60.80</td>\n",
       "    </tr>\n",
       "    <tr>\n",
       "      <th>11146</th>\n",
       "      <td>Not Hispanic or Latino</td>\n",
       "      <td>White</td>\n",
       "      <td>Male</td>\n",
       "      <td>1</td>\n",
       "      <td>No Preapproval Requested</td>\n",
       "      <td>Converntional</td>\n",
       "      <td>Refinancing</td>\n",
       "      <td>655000.0</td>\n",
       "      <td>77.00</td>\n",
       "      <td>No Interest-only Payments</td>\n",
       "      <td>No Balloon Payment</td>\n",
       "      <td>150.0</td>\n",
       "      <td>36%-&lt;50%</td>\n",
       "      <td>Older</td>\n",
       "      <td>6.266787</td>\n",
       "      <td>Upper-Middle Class</td>\n",
       "      <td>&lt; Conventional Bar</td>\n",
       "      <td>0.38</td>\n",
       "      <td>57.00</td>\n",
       "    </tr>\n",
       "    <tr>\n",
       "      <th>11147</th>\n",
       "      <td>Not Hispanic or Latino</td>\n",
       "      <td>Black or African American</td>\n",
       "      <td>Male</td>\n",
       "      <td>1</td>\n",
       "      <td>No Preapproval Requested</td>\n",
       "      <td>Converntional</td>\n",
       "      <td>Refinancing</td>\n",
       "      <td>475000.0</td>\n",
       "      <td>65.00</td>\n",
       "      <td>No Interest-only Payments</td>\n",
       "      <td>No Balloon Payment</td>\n",
       "      <td>173.0</td>\n",
       "      <td>36%-&lt;50%</td>\n",
       "      <td>Young</td>\n",
       "      <td>6.022368</td>\n",
       "      <td>Upper-Middle Class</td>\n",
       "      <td>&lt; Conventional Bar</td>\n",
       "      <td>0.38</td>\n",
       "      <td>65.74</td>\n",
       "    </tr>\n",
       "  </tbody>\n",
       "</table>\n",
       "<p>11148 rows × 19 columns</p>\n",
       "</div>"
      ],
      "text/plain": [
       "              is_not_hispanic               derived_race is_male  \\\n",
       "0      Not Hispanic or Latino  Black or African American  Female   \n",
       "1      Not Hispanic or Latino  Black or African American  Female   \n",
       "2          Hispanic or Latino                      White    Male   \n",
       "3      Not Hispanic or Latino                      White    Male   \n",
       "4      Not Hispanic or Latino  Black or African American    Male   \n",
       "...                       ...                        ...     ...   \n",
       "11143      Hispanic or Latino                      White    Male   \n",
       "11144  Not Hispanic or Latino  Black or African American    Male   \n",
       "11145  Not Hispanic or Latino  Black or African American    Male   \n",
       "11146  Not Hispanic or Latino                      White    Male   \n",
       "11147  Not Hispanic or Latino  Black or African American    Male   \n",
       "\n",
       "       action_taken     preapproval_requested      loan_type   loan_purpose  \\\n",
       "0                 1  No Preapproval Requested  Converntional    Refinancing   \n",
       "1                 0  No Preapproval Requested  Converntional    Refinancing   \n",
       "2                 0  No Preapproval Requested  Converntional  Home Purchase   \n",
       "3                 1  No Preapproval Requested  Converntional  Home Purchase   \n",
       "4                 1     Preapproval Requested  VA-guaranteed  Home Purchase   \n",
       "...             ...                       ...            ...            ...   \n",
       "11143             0  No Preapproval Requested  Converntional    Refinancing   \n",
       "11144             1  No Preapproval Requested  Converntional  Home Purchase   \n",
       "11145             0  No Preapproval Requested  Converntional    Refinancing   \n",
       "11146             1  No Preapproval Requested  Converntional    Refinancing   \n",
       "11147             1  No Preapproval Requested  Converntional    Refinancing   \n",
       "\n",
       "       loan_amount  loan_to_value_ratio      interest_only_payment  \\\n",
       "0         105000.0                75.00  No Interest-only Payments   \n",
       "1         275000.0                52.38  No Interest-only Payments   \n",
       "2         235000.0                80.00  No Interest-only Payments   \n",
       "3         465000.0                94.69  No Interest-only Payments   \n",
       "4         415000.0               100.00  No Interest-only Payments   \n",
       "...            ...                  ...                        ...   \n",
       "11143     225000.0                75.00  No Interest-only Payments   \n",
       "11144     345000.0                80.00  No Interest-only Payments   \n",
       "11145     385000.0                75.00  No Interest-only Payments   \n",
       "11146     655000.0                77.00  No Interest-only Payments   \n",
       "11147     475000.0                65.00  No Interest-only Payments   \n",
       "\n",
       "          balloon_payment  income debt_to_income_ratio applicant_age  \\\n",
       "0      No Balloon Payment    91.0             36%-<50%   Middle-Aged   \n",
       "1      No Balloon Payment   142.0             36%-<50%         Older   \n",
       "2      No Balloon Payment    60.0             36%-<50%   Middle-Aged   \n",
       "3      No Balloon Payment   112.0             36%-<50%   Middle-Aged   \n",
       "4      No Balloon Payment    83.0              50%-60%         Young   \n",
       "...                   ...     ...                  ...           ...   \n",
       "11143  No Balloon Payment    76.0                 >60%         Older   \n",
       "11144  No Balloon Payment   168.0             36%-<50%         Young   \n",
       "11145  No Balloon Payment   160.0             36%-<50%         Young   \n",
       "11146  No Balloon Payment   150.0             36%-<50%         Older   \n",
       "11147  No Balloon Payment   173.0             36%-<50%         Young   \n",
       "\n",
       "       log_loan_to_value_ratio      derived_income  \\\n",
       "0                     6.228819        Middle Class   \n",
       "1                     5.710944  Upper-Middle Class   \n",
       "2                     6.321928        Middle Class   \n",
       "3                     6.565140  Upper-Middle Class   \n",
       "4                     6.643856        Middle Class   \n",
       "...                        ...                 ...   \n",
       "11143                 6.228819        Middle Class   \n",
       "11144                 6.321928  Upper-Middle Class   \n",
       "11145                 6.228819  Upper-Middle Class   \n",
       "11146                 6.266787  Upper-Middle Class   \n",
       "11147                 6.022368  Upper-Middle Class   \n",
       "\n",
       "            derived_loan_to_value_ratio  mid_debt_to_income_ratio   debt  \n",
       "0                    < Conventional Bar                      0.38  34.58  \n",
       "1                    < Conventional Bar                      0.38  53.96  \n",
       "2                    < Conventional Bar                      0.38  22.80  \n",
       "3      > Conventional Bar and < FHA Bar                      0.38  42.56  \n",
       "4                > FHA Bar and < VA Bar                      0.55  45.65  \n",
       "...                                 ...                       ...    ...  \n",
       "11143                < Conventional Bar                      0.65  49.40  \n",
       "11144                < Conventional Bar                      0.38  63.84  \n",
       "11145                < Conventional Bar                      0.38  60.80  \n",
       "11146                < Conventional Bar                      0.38  57.00  \n",
       "11147                < Conventional Bar                      0.38  65.74  \n",
       "\n",
       "[11148 rows x 19 columns]"
      ]
     },
     "execution_count": 104,
     "metadata": {},
     "output_type": "execute_result"
    }
   ],
   "source": [
    "df_cr"
   ]
  },
  {
   "cell_type": "markdown",
   "id": "3ac48b8d",
   "metadata": {},
   "source": [
    "#### Understand Numerical Feature Distribution\n",
    "##### loan_amount, loan_to_value_ratio, income"
   ]
  },
  {
   "cell_type": "code",
   "execution_count": 105,
   "id": "e609c87e",
   "metadata": {
    "scrolled": true
   },
   "outputs": [
    {
     "data": {
      "text/plain": [
       "<AxesSubplot:xlabel='action_taken', ylabel='loan_to_value_ratio'>"
      ]
     },
     "execution_count": 105,
     "metadata": {},
     "output_type": "execute_result"
    },
    {
     "data": {
      "image/png": "[encoded data removed]",
      "text/plain": [
       "<Figure size 1200x600 with 2 Axes>"
      ]
     },
     "metadata": {},
     "output_type": "display_data"
    }
   ],
   "source": [
    "_,axs = plt.subplots(1,2, figsize=[12,6])\n",
    "_.title = \"title\"\n",
    "sns.boxplot(x='action_taken', y='loan_amount', data=df_cr, ax=axs[0])\n",
    "sns.boxplot(x='action_taken', y='loan_to_value_ratio', data=df_cr, ax=axs[1])"
   ]
  },
  {
   "cell_type": "code",
   "execution_count": 106,
   "id": "1996fe40",
   "metadata": {},
   "outputs": [
    {
     "data": {
      "text/plain": [
       "<AxesSubplot:xlabel='action_taken', ylabel='debt'>"
      ]
     },
     "execution_count": 106,
     "metadata": {},
     "output_type": "execute_result"
    },
    {
     "data": {
      "image/png": "[encoded data removed]",
      "text/plain": [
       "<Figure size 1200x600 with 2 Axes>"
      ]
     },
     "metadata": {},
     "output_type": "display_data"
    }
   ],
   "source": [
    " _,axs = plt.subplots(1,2, figsize=[12,6])\n",
    "sns.boxplot(x='action_taken', y='income', data=df_cr, ax=axs[0])\n",
    "sns.boxplot(x='action_taken', y='debt', data=df_cr, ax=axs[1])"
   ]
  },
  {
   "cell_type": "markdown",
   "id": "3108fde1",
   "metadata": {},
   "source": [
    "#### Understand Categorical Feature Distribution\n",
    "##### derived_income, derived_loan_to_value_ratio, debt, derived_ethnicity, derived_race, interest_only_payment, balloon_payment, derived_sex, preapproval, loan_type,  loan_purpose"
   ]
  },
  {
   "cell_type": "code",
   "execution_count": 107,
   "id": "0c48ea2a",
   "metadata": {
    "scrolled": true
   },
   "outputs": [
    {
     "data": {
      "text/plain": [
       "<AxesSubplot:xlabel='action_taken', ylabel='count'>"
      ]
     },
     "execution_count": 107,
     "metadata": {},
     "output_type": "execute_result"
    },
    {
     "data": {
      "image/png": "[encoded data removed]",
      "text/plain": [
       "<Figure size 1200x600 with 2 Axes>"
      ]
     },
     "metadata": {},
     "output_type": "display_data"
    }
   ],
   "source": [
    " _,axss = plt.subplots(1,2, figsize=[12,6])\n",
    "sns.countplot(x='action_taken', hue='derived_income', data=df_cr, ax=axss[0])\n",
    "sns.countplot(x='action_taken', hue='derived_loan_to_value_ratio', data=df_cr, ax=axss[1])"
   ]
  },
  {
   "cell_type": "code",
   "execution_count": 108,
   "id": "ea040280",
   "metadata": {
    "scrolled": true
   },
   "outputs": [
    {
     "data": {
      "text/plain": [
       "<AxesSubplot:xlabel='action_taken', ylabel='count'>"
      ]
     },
     "execution_count": 108,
     "metadata": {},
     "output_type": "execute_result"
    },
    {
     "data": {
      "image/png": "[encoded data removed]",
      "text/plain": [
       "<Figure size 1200x600 with 2 Axes>"
      ]
     },
     "metadata": {},
     "output_type": "display_data"
    }
   ],
   "source": [
    " _,axss = plt.subplots(1,2, figsize=[12,6])\n",
    "sns.countplot(x='action_taken', hue='is_not_hispanic', data=df_cr, ax=axss[0])\n",
    "sns.countplot(x='action_taken', hue='derived_race', data=df_cr, ax=axss[1])"
   ]
  },
  {
   "cell_type": "code",
   "execution_count": 109,
   "id": "ea3f535e",
   "metadata": {},
   "outputs": [
    {
     "data": {
      "text/plain": [
       "<AxesSubplot:xlabel='action_taken', ylabel='count'>"
      ]
     },
     "execution_count": 109,
     "metadata": {},
     "output_type": "execute_result"
    },
    {
     "data": {
      "image/png": "[encoded data removed]",
      "text/plain": [
       "<Figure size 1200x600 with 2 Axes>"
      ]
     },
     "metadata": {},
     "output_type": "display_data"
    }
   ],
   "source": [
    "_,axss = plt.subplots(1,2, figsize=[12,6])\n",
    "sns.countplot(x='action_taken', hue='interest_only_payment', data=df_cr, ax=axss[0])\n",
    "sns.countplot(x='action_taken', hue='balloon_payment', data=df_cr, ax=axss[1])"
   ]
  },
  {
   "cell_type": "code",
   "execution_count": 110,
   "id": "ae94c541",
   "metadata": {},
   "outputs": [
    {
     "data": {
      "text/plain": [
       "<AxesSubplot:xlabel='action_taken', ylabel='count'>"
      ]
     },
     "execution_count": 110,
     "metadata": {},
     "output_type": "execute_result"
    },
    {
     "data": {
      "image/png": "[encoded data removed]",
      "text/plain": [
       "<Figure size 1200x600 with 2 Axes>"
      ]
     },
     "metadata": {},
     "output_type": "display_data"
    }
   ],
   "source": [
    "_,axss = plt.subplots(1,2, figsize=[12,6])\n",
    "sns.countplot(x='action_taken', hue='is_male', data=df_cr, ax=axss[0])\n",
    "sns.countplot(x='action_taken', hue='preapproval_requested', data=df_cr, ax=axss[1])"
   ]
  },
  {
   "cell_type": "code",
   "execution_count": 111,
   "id": "454a7916",
   "metadata": {},
   "outputs": [
    {
     "data": {
      "text/plain": [
       "<AxesSubplot:xlabel='action_taken', ylabel='count'>"
      ]
     },
     "execution_count": 111,
     "metadata": {},
     "output_type": "execute_result"
    },
    {
     "data": {
      "image/png": "[encoded data removed]",
      "text/plain": [
       "<Figure size 1200x600 with 2 Axes>"
      ]
     },
     "metadata": {},
     "output_type": "display_data"
    }
   ],
   "source": [
    "_,axss = plt.subplots(1,2, figsize=[12,6])\n",
    "sns.countplot(x='action_taken', hue='loan_type', data=df_cr, ax=axss[0])\n",
    "sns.countplot(x='action_taken', hue='loan_purpose', data=df_cr, ax=axss[1])"
   ]
  },
  {
   "cell_type": "code",
   "execution_count": 112,
   "id": "53e0b785",
   "metadata": {
    "scrolled": true
   },
   "outputs": [
    {
     "data": {
      "text/plain": [
       "<AxesSubplot:xlabel='action_taken', ylabel='count'>"
      ]
     },
     "execution_count": 112,
     "metadata": {},
     "output_type": "execute_result"
    },
    {
     "data": {
      "image/png": "[encoded data removed]",
      "text/plain": [
       "<Figure size 1200x600 with 2 Axes>"
      ]
     },
     "metadata": {},
     "output_type": "display_data"
    }
   ],
   "source": [
    "_,axss = plt.subplots(1,2, figsize=[12,6])\n",
    "sns.countplot(x='action_taken', hue='debt_to_income_ratio', data=df_cr, ax=axss[0])\n",
    "sns.countplot(x='action_taken', hue='applicant_age', data=df_cr, ax=axss[1])"
   ]
  },
  {
   "cell_type": "code",
   "execution_count": 113,
   "id": "05d2d6ea",
   "metadata": {
    "scrolled": true
   },
   "outputs": [
    {
     "data": {
      "text/html": [
       "<div>\n",
       "<style scoped>\n",
       "    .dataframe tbody tr th:only-of-type {\n",
       "        vertical-align: middle;\n",
       "    }\n",
       "\n",
       "    .dataframe tbody tr th {\n",
       "        vertical-align: top;\n",
       "    }\n",
       "\n",
       "    .dataframe thead th {\n",
       "        text-align: right;\n",
       "    }\n",
       "</style>\n",
       "<table border=\"1\" class=\"dataframe\">\n",
       "  <thead>\n",
       "    <tr style=\"text-align: right;\">\n",
       "      <th></th>\n",
       "      <th>is_not_hispanic</th>\n",
       "      <th>derived_race</th>\n",
       "      <th>is_male</th>\n",
       "      <th>action_taken</th>\n",
       "      <th>preapproval_requested</th>\n",
       "      <th>loan_type</th>\n",
       "      <th>loan_purpose</th>\n",
       "      <th>loan_amount</th>\n",
       "      <th>loan_to_value_ratio</th>\n",
       "      <th>interest_only_payment</th>\n",
       "      <th>balloon_payment</th>\n",
       "      <th>income</th>\n",
       "      <th>debt_to_income_ratio</th>\n",
       "      <th>applicant_age</th>\n",
       "      <th>log_loan_to_value_ratio</th>\n",
       "      <th>derived_income</th>\n",
       "      <th>derived_loan_to_value_ratio</th>\n",
       "      <th>mid_debt_to_income_ratio</th>\n",
       "      <th>debt</th>\n",
       "    </tr>\n",
       "  </thead>\n",
       "  <tbody>\n",
       "    <tr>\n",
       "      <th>0</th>\n",
       "      <td>Not Hispanic or Latino</td>\n",
       "      <td>Black or African American</td>\n",
       "      <td>Female</td>\n",
       "      <td>1</td>\n",
       "      <td>No Preapproval Requested</td>\n",
       "      <td>Converntional</td>\n",
       "      <td>Refinancing</td>\n",
       "      <td>105000.0</td>\n",
       "      <td>75.00</td>\n",
       "      <td>No Interest-only Payments</td>\n",
       "      <td>No Balloon Payment</td>\n",
       "      <td>91.0</td>\n",
       "      <td>36%-&lt;50%</td>\n",
       "      <td>Middle-Aged</td>\n",
       "      <td>6.228819</td>\n",
       "      <td>Middle Class</td>\n",
       "      <td>&lt; Conventional Bar</td>\n",
       "      <td>0.38</td>\n",
       "      <td>34.58</td>\n",
       "    </tr>\n",
       "    <tr>\n",
       "      <th>1</th>\n",
       "      <td>Not Hispanic or Latino</td>\n",
       "      <td>Black or African American</td>\n",
       "      <td>Female</td>\n",
       "      <td>0</td>\n",
       "      <td>No Preapproval Requested</td>\n",
       "      <td>Converntional</td>\n",
       "      <td>Refinancing</td>\n",
       "      <td>275000.0</td>\n",
       "      <td>52.38</td>\n",
       "      <td>No Interest-only Payments</td>\n",
       "      <td>No Balloon Payment</td>\n",
       "      <td>142.0</td>\n",
       "      <td>36%-&lt;50%</td>\n",
       "      <td>Older</td>\n",
       "      <td>5.710944</td>\n",
       "      <td>Upper-Middle Class</td>\n",
       "      <td>&lt; Conventional Bar</td>\n",
       "      <td>0.38</td>\n",
       "      <td>53.96</td>\n",
       "    </tr>\n",
       "    <tr>\n",
       "      <th>2</th>\n",
       "      <td>Hispanic or Latino</td>\n",
       "      <td>White</td>\n",
       "      <td>Male</td>\n",
       "      <td>0</td>\n",
       "      <td>No Preapproval Requested</td>\n",
       "      <td>Converntional</td>\n",
       "      <td>Home Purchase</td>\n",
       "      <td>235000.0</td>\n",
       "      <td>80.00</td>\n",
       "      <td>No Interest-only Payments</td>\n",
       "      <td>No Balloon Payment</td>\n",
       "      <td>60.0</td>\n",
       "      <td>36%-&lt;50%</td>\n",
       "      <td>Middle-Aged</td>\n",
       "      <td>6.321928</td>\n",
       "      <td>Middle Class</td>\n",
       "      <td>&lt; Conventional Bar</td>\n",
       "      <td>0.38</td>\n",
       "      <td>22.80</td>\n",
       "    </tr>\n",
       "    <tr>\n",
       "      <th>3</th>\n",
       "      <td>Not Hispanic or Latino</td>\n",
       "      <td>White</td>\n",
       "      <td>Male</td>\n",
       "      <td>1</td>\n",
       "      <td>No Preapproval Requested</td>\n",
       "      <td>Converntional</td>\n",
       "      <td>Home Purchase</td>\n",
       "      <td>465000.0</td>\n",
       "      <td>94.69</td>\n",
       "      <td>No Interest-only Payments</td>\n",
       "      <td>No Balloon Payment</td>\n",
       "      <td>112.0</td>\n",
       "      <td>36%-&lt;50%</td>\n",
       "      <td>Middle-Aged</td>\n",
       "      <td>6.565140</td>\n",
       "      <td>Upper-Middle Class</td>\n",
       "      <td>&gt; Conventional Bar and &lt; FHA Bar</td>\n",
       "      <td>0.38</td>\n",
       "      <td>42.56</td>\n",
       "    </tr>\n",
       "    <tr>\n",
       "      <th>4</th>\n",
       "      <td>Not Hispanic or Latino</td>\n",
       "      <td>Black or African American</td>\n",
       "      <td>Male</td>\n",
       "      <td>1</td>\n",
       "      <td>Preapproval Requested</td>\n",
       "      <td>VA-guaranteed</td>\n",
       "      <td>Home Purchase</td>\n",
       "      <td>415000.0</td>\n",
       "      <td>100.00</td>\n",
       "      <td>No Interest-only Payments</td>\n",
       "      <td>No Balloon Payment</td>\n",
       "      <td>83.0</td>\n",
       "      <td>50%-60%</td>\n",
       "      <td>Young</td>\n",
       "      <td>6.643856</td>\n",
       "      <td>Middle Class</td>\n",
       "      <td>&gt; FHA Bar and &lt; VA Bar</td>\n",
       "      <td>0.55</td>\n",
       "      <td>45.65</td>\n",
       "    </tr>\n",
       "    <tr>\n",
       "      <th>...</th>\n",
       "      <td>...</td>\n",
       "      <td>...</td>\n",
       "      <td>...</td>\n",
       "      <td>...</td>\n",
       "      <td>...</td>\n",
       "      <td>...</td>\n",
       "      <td>...</td>\n",
       "      <td>...</td>\n",
       "      <td>...</td>\n",
       "      <td>...</td>\n",
       "      <td>...</td>\n",
       "      <td>...</td>\n",
       "      <td>...</td>\n",
       "      <td>...</td>\n",
       "      <td>...</td>\n",
       "      <td>...</td>\n",
       "      <td>...</td>\n",
       "      <td>...</td>\n",
       "      <td>...</td>\n",
       "    </tr>\n",
       "    <tr>\n",
       "      <th>11143</th>\n",
       "      <td>Hispanic or Latino</td>\n",
       "      <td>White</td>\n",
       "      <td>Male</td>\n",
       "      <td>0</td>\n",
       "      <td>No Preapproval Requested</td>\n",
       "      <td>Converntional</td>\n",
       "      <td>Refinancing</td>\n",
       "      <td>225000.0</td>\n",
       "      <td>75.00</td>\n",
       "      <td>No Interest-only Payments</td>\n",
       "      <td>No Balloon Payment</td>\n",
       "      <td>76.0</td>\n",
       "      <td>&gt;60%</td>\n",
       "      <td>Older</td>\n",
       "      <td>6.228819</td>\n",
       "      <td>Middle Class</td>\n",
       "      <td>&lt; Conventional Bar</td>\n",
       "      <td>0.65</td>\n",
       "      <td>49.40</td>\n",
       "    </tr>\n",
       "    <tr>\n",
       "      <th>11144</th>\n",
       "      <td>Not Hispanic or Latino</td>\n",
       "      <td>Black or African American</td>\n",
       "      <td>Male</td>\n",
       "      <td>1</td>\n",
       "      <td>No Preapproval Requested</td>\n",
       "      <td>Converntional</td>\n",
       "      <td>Home Purchase</td>\n",
       "      <td>345000.0</td>\n",
       "      <td>80.00</td>\n",
       "      <td>No Interest-only Payments</td>\n",
       "      <td>No Balloon Payment</td>\n",
       "      <td>168.0</td>\n",
       "      <td>36%-&lt;50%</td>\n",
       "      <td>Young</td>\n",
       "      <td>6.321928</td>\n",
       "      <td>Upper-Middle Class</td>\n",
       "      <td>&lt; Conventional Bar</td>\n",
       "      <td>0.38</td>\n",
       "      <td>63.84</td>\n",
       "    </tr>\n",
       "    <tr>\n",
       "      <th>11145</th>\n",
       "      <td>Not Hispanic or Latino</td>\n",
       "      <td>Black or African American</td>\n",
       "      <td>Male</td>\n",
       "      <td>0</td>\n",
       "      <td>No Preapproval Requested</td>\n",
       "      <td>Converntional</td>\n",
       "      <td>Refinancing</td>\n",
       "      <td>385000.0</td>\n",
       "      <td>75.00</td>\n",
       "      <td>No Interest-only Payments</td>\n",
       "      <td>No Balloon Payment</td>\n",
       "      <td>160.0</td>\n",
       "      <td>36%-&lt;50%</td>\n",
       "      <td>Young</td>\n",
       "      <td>6.228819</td>\n",
       "      <td>Upper-Middle Class</td>\n",
       "      <td>&lt; Conventional Bar</td>\n",
       "      <td>0.38</td>\n",
       "      <td>60.80</td>\n",
       "    </tr>\n",
       "    <tr>\n",
       "      <th>11146</th>\n",
       "      <td>Not Hispanic or Latino</td>\n",
       "      <td>White</td>\n",
       "      <td>Male</td>\n",
       "      <td>1</td>\n",
       "      <td>No Preapproval Requested</td>\n",
       "      <td>Converntional</td>\n",
       "      <td>Refinancing</td>\n",
       "      <td>655000.0</td>\n",
       "      <td>77.00</td>\n",
       "      <td>No Interest-only Payments</td>\n",
       "      <td>No Balloon Payment</td>\n",
       "      <td>150.0</td>\n",
       "      <td>36%-&lt;50%</td>\n",
       "      <td>Older</td>\n",
       "      <td>6.266787</td>\n",
       "      <td>Upper-Middle Class</td>\n",
       "      <td>&lt; Conventional Bar</td>\n",
       "      <td>0.38</td>\n",
       "      <td>57.00</td>\n",
       "    </tr>\n",
       "    <tr>\n",
       "      <th>11147</th>\n",
       "      <td>Not Hispanic or Latino</td>\n",
       "      <td>Black or African American</td>\n",
       "      <td>Male</td>\n",
       "      <td>1</td>\n",
       "      <td>No Preapproval Requested</td>\n",
       "      <td>Converntional</td>\n",
       "      <td>Refinancing</td>\n",
       "      <td>475000.0</td>\n",
       "      <td>65.00</td>\n",
       "      <td>No Interest-only Payments</td>\n",
       "      <td>No Balloon Payment</td>\n",
       "      <td>173.0</td>\n",
       "      <td>36%-&lt;50%</td>\n",
       "      <td>Young</td>\n",
       "      <td>6.022368</td>\n",
       "      <td>Upper-Middle Class</td>\n",
       "      <td>&lt; Conventional Bar</td>\n",
       "      <td>0.38</td>\n",
       "      <td>65.74</td>\n",
       "    </tr>\n",
       "  </tbody>\n",
       "</table>\n",
       "<p>11148 rows × 19 columns</p>\n",
       "</div>"
      ],
      "text/plain": [
       "              is_not_hispanic               derived_race is_male  \\\n",
       "0      Not Hispanic or Latino  Black or African American  Female   \n",
       "1      Not Hispanic or Latino  Black or African American  Female   \n",
       "2          Hispanic or Latino                      White    Male   \n",
       "3      Not Hispanic or Latino                      White    Male   \n",
       "4      Not Hispanic or Latino  Black or African American    Male   \n",
       "...                       ...                        ...     ...   \n",
       "11143      Hispanic or Latino                      White    Male   \n",
       "11144  Not Hispanic or Latino  Black or African American    Male   \n",
       "11145  Not Hispanic or Latino  Black or African American    Male   \n",
       "11146  Not Hispanic or Latino                      White    Male   \n",
       "11147  Not Hispanic or Latino  Black or African American    Male   \n",
       "\n",
       "       action_taken     preapproval_requested      loan_type   loan_purpose  \\\n",
       "0                 1  No Preapproval Requested  Converntional    Refinancing   \n",
       "1                 0  No Preapproval Requested  Converntional    Refinancing   \n",
       "2                 0  No Preapproval Requested  Converntional  Home Purchase   \n",
       "3                 1  No Preapproval Requested  Converntional  Home Purchase   \n",
       "4                 1     Preapproval Requested  VA-guaranteed  Home Purchase   \n",
       "...             ...                       ...            ...            ...   \n",
       "11143             0  No Preapproval Requested  Converntional    Refinancing   \n",
       "11144             1  No Preapproval Requested  Converntional  Home Purchase   \n",
       "11145             0  No Preapproval Requested  Converntional    Refinancing   \n",
       "11146             1  No Preapproval Requested  Converntional    Refinancing   \n",
       "11147             1  No Preapproval Requested  Converntional    Refinancing   \n",
       "\n",
       "       loan_amount  loan_to_value_ratio      interest_only_payment  \\\n",
       "0         105000.0                75.00  No Interest-only Payments   \n",
       "1         275000.0                52.38  No Interest-only Payments   \n",
       "2         235000.0                80.00  No Interest-only Payments   \n",
       "3         465000.0                94.69  No Interest-only Payments   \n",
       "4         415000.0               100.00  No Interest-only Payments   \n",
       "...            ...                  ...                        ...   \n",
       "11143     225000.0                75.00  No Interest-only Payments   \n",
       "11144     345000.0                80.00  No Interest-only Payments   \n",
       "11145     385000.0                75.00  No Interest-only Payments   \n",
       "11146     655000.0                77.00  No Interest-only Payments   \n",
       "11147     475000.0                65.00  No Interest-only Payments   \n",
       "\n",
       "          balloon_payment  income debt_to_income_ratio applicant_age  \\\n",
       "0      No Balloon Payment    91.0             36%-<50%   Middle-Aged   \n",
       "1      No Balloon Payment   142.0             36%-<50%         Older   \n",
       "2      No Balloon Payment    60.0             36%-<50%   Middle-Aged   \n",
       "3      No Balloon Payment   112.0             36%-<50%   Middle-Aged   \n",
       "4      No Balloon Payment    83.0              50%-60%         Young   \n",
       "...                   ...     ...                  ...           ...   \n",
       "11143  No Balloon Payment    76.0                 >60%         Older   \n",
       "11144  No Balloon Payment   168.0             36%-<50%         Young   \n",
       "11145  No Balloon Payment   160.0             36%-<50%         Young   \n",
       "11146  No Balloon Payment   150.0             36%-<50%         Older   \n",
       "11147  No Balloon Payment   173.0             36%-<50%         Young   \n",
       "\n",
       "       log_loan_to_value_ratio      derived_income  \\\n",
       "0                     6.228819        Middle Class   \n",
       "1                     5.710944  Upper-Middle Class   \n",
       "2                     6.321928        Middle Class   \n",
       "3                     6.565140  Upper-Middle Class   \n",
       "4                     6.643856        Middle Class   \n",
       "...                        ...                 ...   \n",
       "11143                 6.228819        Middle Class   \n",
       "11144                 6.321928  Upper-Middle Class   \n",
       "11145                 6.228819  Upper-Middle Class   \n",
       "11146                 6.266787  Upper-Middle Class   \n",
       "11147                 6.022368  Upper-Middle Class   \n",
       "\n",
       "            derived_loan_to_value_ratio  mid_debt_to_income_ratio   debt  \n",
       "0                    < Conventional Bar                      0.38  34.58  \n",
       "1                    < Conventional Bar                      0.38  53.96  \n",
       "2                    < Conventional Bar                      0.38  22.80  \n",
       "3      > Conventional Bar and < FHA Bar                      0.38  42.56  \n",
       "4                > FHA Bar and < VA Bar                      0.55  45.65  \n",
       "...                                 ...                       ...    ...  \n",
       "11143                < Conventional Bar                      0.65  49.40  \n",
       "11144                < Conventional Bar                      0.38  63.84  \n",
       "11145                < Conventional Bar                      0.38  60.80  \n",
       "11146                < Conventional Bar                      0.38  57.00  \n",
       "11147                < Conventional Bar                      0.38  65.74  \n",
       "\n",
       "[11148 rows x 19 columns]"
      ]
     },
     "execution_count": 113,
     "metadata": {},
     "output_type": "execute_result"
    }
   ],
   "source": [
    "df_cr"
   ]
  },
  {
   "cell_type": "code",
   "execution_count": 114,
   "id": "bb67e407",
   "metadata": {
    "scrolled": true
   },
   "outputs": [
    {
     "name": "stdout",
     "output_type": "stream",
     "text": [
      "<class 'pandas.core.frame.DataFrame'>\n",
      "RangeIndex: 11148 entries, 0 to 11147\n",
      "Data columns (total 19 columns):\n",
      " #   Column                       Non-Null Count  Dtype  \n",
      "---  ------                       --------------  -----  \n",
      " 0   is_not_hispanic              11148 non-null  object \n",
      " 1   derived_race                 11148 non-null  object \n",
      " 2   is_male                      11148 non-null  object \n",
      " 3   action_taken                 11148 non-null  int64  \n",
      " 4   preapproval_requested        11148 non-null  object \n",
      " 5   loan_type                    11148 non-null  object \n",
      " 6   loan_purpose                 11148 non-null  object \n",
      " 7   loan_amount                  11148 non-null  float64\n",
      " 8   loan_to_value_ratio          11148 non-null  float64\n",
      " 9   interest_only_payment        11148 non-null  object \n",
      " 10  balloon_payment              11148 non-null  object \n",
      " 11  income                       11148 non-null  float64\n",
      " 12  debt_to_income_ratio         11148 non-null  object \n",
      " 13  applicant_age                11148 non-null  object \n",
      " 14  log_loan_to_value_ratio      11148 non-null  float64\n",
      " 15  derived_income               11148 non-null  object \n",
      " 16  derived_loan_to_value_ratio  11148 non-null  object \n",
      " 17  mid_debt_to_income_ratio     11148 non-null  float64\n",
      " 18  debt                         11148 non-null  float64\n",
      "dtypes: float64(6), int64(1), object(12)\n",
      "memory usage: 1.6+ MB\n"
     ]
    }
   ],
   "source": [
    "df_cr.info()"
   ]
  },
  {
   "cell_type": "code",
   "execution_count": 115,
   "id": "a0ba58c0",
   "metadata": {},
   "outputs": [],
   "source": [
    "df_cr = df_cr.drop(columns=['loan_amount', 'loan_to_value_ratio', 'income', 'log_loan_to_value_ratio', 'mid_debt_to_income_ratio', 'debt'])"
   ]
  },
  {
   "cell_type": "code",
   "execution_count": 116,
   "id": "bde69025",
   "metadata": {},
   "outputs": [],
   "source": [
    "df_cr.rename(columns={'derived_loan_to_value_ratio': 'loan_to_value_ratio'}, inplace=True)\n",
    "df_cr.rename(columns={'derived_income': 'income'}, inplace=True)\n",
    "df_cr.rename(columns={'derived_race': 'race'}, inplace=True)\n",
    "df_cr.rename(columns={'is_not_hispanic': 'ethnicity'}, inplace=True)\n",
    "df_cr.rename(columns={'is_male': 'gender'}, inplace=True)\n",
    "df_cr.rename(columns={'applicant_age': 'age'}, inplace=True)"
   ]
  },
  {
   "cell_type": "code",
   "execution_count": 117,
   "id": "520c5b43",
   "metadata": {
    "scrolled": true
   },
   "outputs": [
    {
     "name": "stdout",
     "output_type": "stream",
     "text": [
      "<class 'pandas.core.frame.DataFrame'>\n",
      "RangeIndex: 11148 entries, 0 to 11147\n",
      "Data columns (total 13 columns):\n",
      " #   Column                 Non-Null Count  Dtype \n",
      "---  ------                 --------------  ----- \n",
      " 0   ethnicity              11148 non-null  object\n",
      " 1   race                   11148 non-null  object\n",
      " 2   gender                 11148 non-null  object\n",
      " 3   action_taken           11148 non-null  int64 \n",
      " 4   preapproval_requested  11148 non-null  object\n",
      " 5   loan_type              11148 non-null  object\n",
      " 6   loan_purpose           11148 non-null  object\n",
      " 7   interest_only_payment  11148 non-null  object\n",
      " 8   balloon_payment        11148 non-null  object\n",
      " 9   debt_to_income_ratio   11148 non-null  object\n",
      " 10  age                    11148 non-null  object\n",
      " 11  income                 11148 non-null  object\n",
      " 12  loan_to_value_ratio    11148 non-null  object\n",
      "dtypes: int64(1), object(12)\n",
      "memory usage: 1.1+ MB\n"
     ]
    }
   ],
   "source": [
    "df_cr.info()"
   ]
  },
  {
   "cell_type": "code",
   "execution_count": 118,
   "id": "1ba5c22d",
   "metadata": {},
   "outputs": [],
   "source": [
    "df_cr.to_csv('data/Clean_Mortgage_Lending.csv', index = False)"
   ]
  },
  {
   "cell_type": "code",
   "execution_count": null,
   "id": "0f9d459f",
   "metadata": {},
   "outputs": [],
   "source": []
  }
 ],
 "metadata": {
  "kernelspec": {
   "display_name": "Python 3 (ipykernel)",
   "language": "python",
   "name": "python3"
  },
  "language_info": {
   "codemirror_mode": {
    "name": "ipython",
    "version": 3
   },
   "file_extension": ".py",
   "mimetype": "text/x-python",
   "name": "python",
   "nbconvert_exporter": "python",
   "pygments_lexer": "ipython3",
   "version": "3.9.12"
  }
 },
 "nbformat": 4,
 "nbformat_minor": 5
}
