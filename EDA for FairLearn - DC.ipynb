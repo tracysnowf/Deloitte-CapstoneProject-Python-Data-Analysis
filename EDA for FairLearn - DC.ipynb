{
 "cells": [
  {
   "cell_type": "markdown",
   "id": "87662e00",
   "metadata": {},
   "source": [
    "# Part 1: Exploratory Data Analysis"
   ]
  },
  {
   "cell_type": "markdown",
   "id": "b142b097",
   "metadata": {},
   "source": [
    "## Part 1.1: Understand the Raw Dataset"
   ]
  },
  {
   "cell_type": "code",
   "execution_count": 66,
   "id": "564b97cb",
   "metadata": {},
   "outputs": [],
   "source": [
    "import numpy as np\n",
    "import pandas as pd\n",
    "import matplotlib.pyplot as plt\n",
    "import seaborn as sns\n",
    "import math"
   ]
  },
  {
   "cell_type": "code",
   "execution_count": 67,
   "id": "e10f8c00",
   "metadata": {},
   "outputs": [
    {
     "name": "stderr",
     "output_type": "stream",
     "text": [
      "C:\\Users\\Xue Feng\\AppData\\Local\\Temp\\ipykernel_4484\\2166013620.py:2: DtypeWarning: Columns (10) have mixed types. Specify dtype option on import or set low_memory=False.\n",
      "  df_cr = pd.read_csv(credit_risk, sep = ',')\n"
     ]
    }
   ],
   "source": [
    "credit_risk = 'https://raw.githubusercontent.com/tracysnowf/Deloitte-CapstoneProject/main/data/states_added_data_raw.csv'\n",
    "df_cr = pd.read_csv(credit_risk, sep = ',')"
   ]
  },
  {
   "cell_type": "markdown",
   "id": "d637271f",
   "metadata": {},
   "source": []
  },
  {
   "cell_type": "code",
   "execution_count": 68,
   "id": "e6f61669",
   "metadata": {
    "scrolled": false
   },
   "outputs": [
    {
     "data": {
      "text/html": [
       "<div>\n",
       "<style scoped>\n",
       "    .dataframe tbody tr th:only-of-type {\n",
       "        vertical-align: middle;\n",
       "    }\n",
       "\n",
       "    .dataframe tbody tr th {\n",
       "        vertical-align: top;\n",
       "    }\n",
       "\n",
       "    .dataframe thead th {\n",
       "        text-align: right;\n",
       "    }\n",
       "</style>\n",
       "<table border=\"1\" class=\"dataframe\">\n",
       "  <thead>\n",
       "    <tr style=\"text-align: right;\">\n",
       "      <th></th>\n",
       "      <th>derived_msa-md</th>\n",
       "      <th>state_code</th>\n",
       "      <th>derived_ethnicity</th>\n",
       "      <th>derived_race</th>\n",
       "      <th>derived_sex</th>\n",
       "      <th>action_taken</th>\n",
       "      <th>preapproval</th>\n",
       "      <th>loan_type</th>\n",
       "      <th>loan_purpose</th>\n",
       "      <th>loan_amount</th>\n",
       "      <th>...</th>\n",
       "      <th>tract_population</th>\n",
       "      <th>tract_minority_population_percent</th>\n",
       "      <th>ffiec_msa_md_median_family_income</th>\n",
       "      <th>tract_to_msa_income_percentage</th>\n",
       "      <th>tract_owner_occupied_units</th>\n",
       "      <th>tract_one_to_four_family_homes</th>\n",
       "      <th>tract_median_age_of_housing_units</th>\n",
       "      <th>washington_dc</th>\n",
       "      <th>waco_tx</th>\n",
       "      <th>chicago_il</th>\n",
       "    </tr>\n",
       "  </thead>\n",
       "  <tbody>\n",
       "    <tr>\n",
       "      <th>0</th>\n",
       "      <td>47894</td>\n",
       "      <td>VA</td>\n",
       "      <td>Not Hispanic or Latino</td>\n",
       "      <td>White</td>\n",
       "      <td>Joint</td>\n",
       "      <td>1</td>\n",
       "      <td>2</td>\n",
       "      <td>1</td>\n",
       "      <td>32</td>\n",
       "      <td>515000.0</td>\n",
       "      <td>...</td>\n",
       "      <td>1828</td>\n",
       "      <td>17.51</td>\n",
       "      <td>114700</td>\n",
       "      <td>100</td>\n",
       "      <td>513</td>\n",
       "      <td>732</td>\n",
       "      <td>29</td>\n",
       "      <td>1</td>\n",
       "      <td>0</td>\n",
       "      <td>0</td>\n",
       "    </tr>\n",
       "    <tr>\n",
       "      <th>1</th>\n",
       "      <td>16984</td>\n",
       "      <td>IL</td>\n",
       "      <td>Not Hispanic or Latino</td>\n",
       "      <td>White</td>\n",
       "      <td>Joint</td>\n",
       "      <td>1</td>\n",
       "      <td>2</td>\n",
       "      <td>1</td>\n",
       "      <td>31</td>\n",
       "      <td>405000.0</td>\n",
       "      <td>...</td>\n",
       "      <td>4834</td>\n",
       "      <td>30.10</td>\n",
       "      <td>82000</td>\n",
       "      <td>162</td>\n",
       "      <td>1260</td>\n",
       "      <td>1430</td>\n",
       "      <td>76</td>\n",
       "      <td>0</td>\n",
       "      <td>0</td>\n",
       "      <td>1</td>\n",
       "    </tr>\n",
       "    <tr>\n",
       "      <th>2</th>\n",
       "      <td>16984</td>\n",
       "      <td>IL</td>\n",
       "      <td>Not Hispanic or Latino</td>\n",
       "      <td>White</td>\n",
       "      <td>Joint</td>\n",
       "      <td>1</td>\n",
       "      <td>2</td>\n",
       "      <td>1</td>\n",
       "      <td>31</td>\n",
       "      <td>645000.0</td>\n",
       "      <td>...</td>\n",
       "      <td>1625</td>\n",
       "      <td>56.25</td>\n",
       "      <td>82000</td>\n",
       "      <td>81</td>\n",
       "      <td>236</td>\n",
       "      <td>456</td>\n",
       "      <td>76</td>\n",
       "      <td>0</td>\n",
       "      <td>0</td>\n",
       "      <td>1</td>\n",
       "    </tr>\n",
       "    <tr>\n",
       "      <th>3</th>\n",
       "      <td>38940</td>\n",
       "      <td>FL</td>\n",
       "      <td>Not Hispanic or Latino</td>\n",
       "      <td>White</td>\n",
       "      <td>Male</td>\n",
       "      <td>1</td>\n",
       "      <td>2</td>\n",
       "      <td>1</td>\n",
       "      <td>1</td>\n",
       "      <td>805000.0</td>\n",
       "      <td>...</td>\n",
       "      <td>1165</td>\n",
       "      <td>13.05</td>\n",
       "      <td>59500</td>\n",
       "      <td>263</td>\n",
       "      <td>401</td>\n",
       "      <td>488</td>\n",
       "      <td>20</td>\n",
       "      <td>0</td>\n",
       "      <td>0</td>\n",
       "      <td>0</td>\n",
       "    </tr>\n",
       "    <tr>\n",
       "      <th>4</th>\n",
       "      <td>16984</td>\n",
       "      <td>IL</td>\n",
       "      <td>Not Hispanic or Latino</td>\n",
       "      <td>White</td>\n",
       "      <td>Female</td>\n",
       "      <td>1</td>\n",
       "      <td>2</td>\n",
       "      <td>1</td>\n",
       "      <td>31</td>\n",
       "      <td>925000.0</td>\n",
       "      <td>...</td>\n",
       "      <td>5429</td>\n",
       "      <td>6.56</td>\n",
       "      <td>82000</td>\n",
       "      <td>239</td>\n",
       "      <td>1611</td>\n",
       "      <td>1807</td>\n",
       "      <td>64</td>\n",
       "      <td>0</td>\n",
       "      <td>0</td>\n",
       "      <td>1</td>\n",
       "    </tr>\n",
       "  </tbody>\n",
       "</table>\n",
       "<p>5 rows × 46 columns</p>\n",
       "</div>"
      ],
      "text/plain": [
       "   derived_msa-md state_code       derived_ethnicity derived_race derived_sex  \\\n",
       "0           47894         VA  Not Hispanic or Latino        White       Joint   \n",
       "1           16984         IL  Not Hispanic or Latino        White       Joint   \n",
       "2           16984         IL  Not Hispanic or Latino        White       Joint   \n",
       "3           38940         FL  Not Hispanic or Latino        White        Male   \n",
       "4           16984         IL  Not Hispanic or Latino        White      Female   \n",
       "\n",
       "   action_taken  preapproval  loan_type  loan_purpose  loan_amount  ...  \\\n",
       "0             1            2          1            32     515000.0  ...   \n",
       "1             1            2          1            31     405000.0  ...   \n",
       "2             1            2          1            31     645000.0  ...   \n",
       "3             1            2          1             1     805000.0  ...   \n",
       "4             1            2          1            31     925000.0  ...   \n",
       "\n",
       "  tract_population  tract_minority_population_percent  \\\n",
       "0             1828                              17.51   \n",
       "1             4834                              30.10   \n",
       "2             1625                              56.25   \n",
       "3             1165                              13.05   \n",
       "4             5429                               6.56   \n",
       "\n",
       "   ffiec_msa_md_median_family_income  tract_to_msa_income_percentage  \\\n",
       "0                             114700                             100   \n",
       "1                              82000                             162   \n",
       "2                              82000                              81   \n",
       "3                              59500                             263   \n",
       "4                              82000                             239   \n",
       "\n",
       "  tract_owner_occupied_units  tract_one_to_four_family_homes  \\\n",
       "0                        513                             732   \n",
       "1                       1260                            1430   \n",
       "2                        236                             456   \n",
       "3                        401                             488   \n",
       "4                       1611                            1807   \n",
       "\n",
       "   tract_median_age_of_housing_units  washington_dc  waco_tx  chicago_il  \n",
       "0                                 29              1        0           0  \n",
       "1                                 76              0        0           1  \n",
       "2                                 76              0        0           1  \n",
       "3                                 20              0        0           0  \n",
       "4                                 64              0        0           1  \n",
       "\n",
       "[5 rows x 46 columns]"
      ]
     },
     "execution_count": 68,
     "metadata": {},
     "output_type": "execute_result"
    }
   ],
   "source": [
    "df_cr.head() # column 0 is redundant"
   ]
  },
  {
   "cell_type": "code",
   "execution_count": 69,
   "id": "3bbd805c",
   "metadata": {
    "scrolled": true
   },
   "outputs": [
    {
     "name": "stdout",
     "output_type": "stream",
     "text": [
      "<class 'pandas.core.frame.DataFrame'>\n",
      "RangeIndex: 490944 entries, 0 to 490943\n",
      "Data columns (total 46 columns):\n",
      " #   Column                             Non-Null Count   Dtype  \n",
      "---  ------                             --------------   -----  \n",
      " 0   derived_msa-md                     490944 non-null  int64  \n",
      " 1   state_code                         490408 non-null  object \n",
      " 2   derived_ethnicity                  490944 non-null  object \n",
      " 3   derived_race                       490944 non-null  object \n",
      " 4   derived_sex                        490944 non-null  object \n",
      " 5   action_taken                       490944 non-null  int64  \n",
      " 6   preapproval                        490944 non-null  int64  \n",
      " 7   loan_type                          490944 non-null  int64  \n",
      " 8   loan_purpose                       490944 non-null  int64  \n",
      " 9   loan_amount                        490944 non-null  float64\n",
      " 10  loan_to_value_ratio                465127 non-null  object \n",
      " 11  interest_only_payment              490944 non-null  int64  \n",
      " 12  balloon_payment                    490944 non-null  int64  \n",
      " 13  income                             456983 non-null  float64\n",
      " 14  debt_to_income_ratio               452666 non-null  object \n",
      " 15  applicant_race_observed            490944 non-null  int64  \n",
      " 16  co-applicant_race_observed         490944 non-null  int64  \n",
      " 17  applicant_sex                      490944 non-null  int64  \n",
      " 18  co-applicant_sex                   490944 non-null  int64  \n",
      " 19  applicant_sex_observed             490944 non-null  int64  \n",
      " 20  co-applicant_sex_observed          490944 non-null  int64  \n",
      " 21  applicant_age                      490944 non-null  object \n",
      " 22  co-applicant_age                   490944 non-null  object \n",
      " 23  applicant_age_above_62             482876 non-null  object \n",
      " 24  co-applicant_age_above_62          196184 non-null  object \n",
      " 25  submission_of_application          490944 non-null  int64  \n",
      " 26  initially_payable_to_institution   490944 non-null  int64  \n",
      " 27  aus-1                              490944 non-null  int64  \n",
      " 28  aus-2                              36513 non-null   float64\n",
      " 29  aus-3                              10949 non-null   float64\n",
      " 30  aus-4                              4781 non-null    float64\n",
      " 31  aus-5                              3862 non-null    float64\n",
      " 32  denial_reason-1                    490944 non-null  int64  \n",
      " 33  denial_reason-2                    20220 non-null   float64\n",
      " 34  denial_reason-3                    3463 non-null    float64\n",
      " 35  denial_reason-4                    342 non-null     float64\n",
      " 36  tract_population                   490944 non-null  int64  \n",
      " 37  tract_minority_population_percent  490944 non-null  float64\n",
      " 38  ffiec_msa_md_median_family_income  490944 non-null  int64  \n",
      " 39  tract_to_msa_income_percentage     490944 non-null  int64  \n",
      " 40  tract_owner_occupied_units         490944 non-null  int64  \n",
      " 41  tract_one_to_four_family_homes     490944 non-null  int64  \n",
      " 42  tract_median_age_of_housing_units  490944 non-null  int64  \n",
      " 43  washington_dc                      490944 non-null  int64  \n",
      " 44  waco_tx                            490944 non-null  int64  \n",
      " 45  chicago_il                         490944 non-null  int64  \n",
      "dtypes: float64(10), int64(26), object(10)\n",
      "memory usage: 172.3+ MB\n"
     ]
    }
   ],
   "source": [
    "# check data info\n",
    "df_cr.info()"
   ]
  },
  {
   "cell_type": "code",
   "execution_count": 70,
   "id": "d8584201",
   "metadata": {},
   "outputs": [],
   "source": [
    "new = df_cr[['derived_ethnicity', 'derived_race', 'derived_sex', \"action_taken\", \"preapproval\", \"loan_type\", \"loan_purpose\",\n",
    "            \"loan_amount\", \"loan_to_value_ratio\", \"interest_only_payment\", \"balloon_payment\", \"income\", \"debt_to_income_ratio\",\n",
    "            \"applicant_age\", \"washington_dc\", \"waco_tx\", \"chicago_il\"]].copy()\n",
    "df_cr = new"
   ]
  },
  {
   "cell_type": "code",
   "execution_count": 72,
   "id": "678b8385",
   "metadata": {
    "scrolled": true
   },
   "outputs": [
    {
     "data": {
      "text/plain": [
       "derived_ethnicity            5\n",
       "derived_race                 9\n",
       "derived_sex                  4\n",
       "action_taken                 3\n",
       "preapproval                  2\n",
       "loan_type                    4\n",
       "loan_purpose                 6\n",
       "loan_amount                748\n",
       "loan_to_value_ratio      67812\n",
       "interest_only_payment        3\n",
       "balloon_payment              3\n",
       "income                    2134\n",
       "debt_to_income_ratio        20\n",
       "applicant_age                9\n",
       "washington_dc                2\n",
       "waco_tx                      2\n",
       "chicago_il                   2\n",
       "dtype: int64"
      ]
     },
     "execution_count": 72,
     "metadata": {},
     "output_type": "execute_result"
    }
   ],
   "source": [
    "# check the unique values for each column\n",
    "df_cr.nunique()"
   ]
  },
  {
   "cell_type": "markdown",
   "id": "09520e45",
   "metadata": {},
   "source": [
    "##### action_taken - Y variable\n",
    "1 -- Loan originated (the qualification and verification process that begins a new loan.) <br>\n",
    "2 -- Application approved but not accepted (If the loan was approved before closing but the applicant either failed to respond or the loan was not otherwise closed, then the action taken would be reported as approved but not accepted.) <br>\n",
    "3 -- Application denied by financial institution <br>\n",
    "\n",
    "Comments: <br>\n",
    "category 1 (a typo) might actually be 2(Approved) in the codebook, and 3 stays the same(Disapproved)"
   ]
  },
  {
   "cell_type": "code",
   "execution_count": 73,
   "id": "36bb0854",
   "metadata": {
    "scrolled": true
   },
   "outputs": [
    {
     "data": {
      "text/plain": [
       "array([1, 3, 2], dtype=int64)"
      ]
     },
     "execution_count": 73,
     "metadata": {},
     "output_type": "execute_result"
    }
   ],
   "source": [
    "pd.unique(df_cr['action_taken'])"
   ]
  },
  {
   "cell_type": "code",
   "execution_count": 74,
   "id": "960e2679",
   "metadata": {},
   "outputs": [],
   "source": [
    "# new codebook: 1 - Approved; 0 - Disapproved\n",
    "# so change all the vlaues of 3 to 0\n",
    "df_cr['action_taken'].mask((df_cr['action_taken'] == 3), 0, inplace=True)"
   ]
  },
  {
   "cell_type": "code",
   "execution_count": 75,
   "id": "7782980c",
   "metadata": {},
   "outputs": [],
   "source": [
    "# drop '2' column\n",
    "df_cr.drop(df_cr[df_cr['action_taken'] == 2].index, inplace = True)"
   ]
  },
  {
   "cell_type": "code",
   "execution_count": 76,
   "id": "89efbb7d",
   "metadata": {},
   "outputs": [
    {
     "data": {
      "text/plain": [
       "1    376626\n",
       "0    101157\n",
       "Name: action_taken, dtype: int64"
      ]
     },
     "execution_count": 76,
     "metadata": {},
     "output_type": "execute_result"
    }
   ],
   "source": [
    "# check the distribution of target variable action_taken\n",
    "df_cr.loc[:,'action_taken'].value_counts()"
   ]
  },
  {
   "cell_type": "markdown",
   "id": "8bc5acdd",
   "metadata": {},
   "source": [
    "## Part 1.2: Understand the Features"
   ]
  },
  {
   "cell_type": "code",
   "execution_count": 77,
   "id": "0302d276",
   "metadata": {
    "scrolled": false
   },
   "outputs": [
    {
     "data": {
      "text/html": [
       "<div>\n",
       "<style scoped>\n",
       "    .dataframe tbody tr th:only-of-type {\n",
       "        vertical-align: middle;\n",
       "    }\n",
       "\n",
       "    .dataframe tbody tr th {\n",
       "        vertical-align: top;\n",
       "    }\n",
       "\n",
       "    .dataframe thead th {\n",
       "        text-align: right;\n",
       "    }\n",
       "</style>\n",
       "<table border=\"1\" class=\"dataframe\">\n",
       "  <thead>\n",
       "    <tr style=\"text-align: right;\">\n",
       "      <th></th>\n",
       "      <th>action_taken</th>\n",
       "      <th>preapproval</th>\n",
       "      <th>loan_type</th>\n",
       "      <th>loan_purpose</th>\n",
       "      <th>loan_amount</th>\n",
       "      <th>interest_only_payment</th>\n",
       "      <th>balloon_payment</th>\n",
       "      <th>income</th>\n",
       "      <th>washington_dc</th>\n",
       "      <th>waco_tx</th>\n",
       "      <th>chicago_il</th>\n",
       "    </tr>\n",
       "  </thead>\n",
       "  <tbody>\n",
       "    <tr>\n",
       "      <th>count</th>\n",
       "      <td>477783.000000</td>\n",
       "      <td>477783.000000</td>\n",
       "      <td>477783.000000</td>\n",
       "      <td>477783.000000</td>\n",
       "      <td>4.777830e+05</td>\n",
       "      <td>477783.000000</td>\n",
       "      <td>477783.000000</td>\n",
       "      <td>445303.000000</td>\n",
       "      <td>477783.000000</td>\n",
       "      <td>477783.000000</td>\n",
       "      <td>477783.000000</td>\n",
       "    </tr>\n",
       "    <tr>\n",
       "      <th>mean</th>\n",
       "      <td>0.788278</td>\n",
       "      <td>1.978685</td>\n",
       "      <td>1.306139</td>\n",
       "      <td>14.510648</td>\n",
       "      <td>3.173176e+05</td>\n",
       "      <td>24.386094</td>\n",
       "      <td>24.431715</td>\n",
       "      <td>139.239338</td>\n",
       "      <td>0.443988</td>\n",
       "      <td>0.014793</td>\n",
       "      <td>0.492899</td>\n",
       "    </tr>\n",
       "    <tr>\n",
       "      <th>std</th>\n",
       "      <td>0.408529</td>\n",
       "      <td>0.144433</td>\n",
       "      <td>0.630813</td>\n",
       "      <td>14.805230</td>\n",
       "      <td>1.357526e+06</td>\n",
       "      <td>156.208919</td>\n",
       "      <td>156.202228</td>\n",
       "      <td>1081.834242</td>\n",
       "      <td>0.496853</td>\n",
       "      <td>0.120725</td>\n",
       "      <td>0.499950</td>\n",
       "    </tr>\n",
       "    <tr>\n",
       "      <th>min</th>\n",
       "      <td>0.000000</td>\n",
       "      <td>1.000000</td>\n",
       "      <td>1.000000</td>\n",
       "      <td>1.000000</td>\n",
       "      <td>5.000000e+03</td>\n",
       "      <td>1.000000</td>\n",
       "      <td>1.000000</td>\n",
       "      <td>-9126.000000</td>\n",
       "      <td>0.000000</td>\n",
       "      <td>0.000000</td>\n",
       "      <td>0.000000</td>\n",
       "    </tr>\n",
       "    <tr>\n",
       "      <th>25%</th>\n",
       "      <td>1.000000</td>\n",
       "      <td>2.000000</td>\n",
       "      <td>1.000000</td>\n",
       "      <td>1.000000</td>\n",
       "      <td>1.350000e+05</td>\n",
       "      <td>2.000000</td>\n",
       "      <td>2.000000</td>\n",
       "      <td>66.000000</td>\n",
       "      <td>0.000000</td>\n",
       "      <td>0.000000</td>\n",
       "      <td>0.000000</td>\n",
       "    </tr>\n",
       "    <tr>\n",
       "      <th>50%</th>\n",
       "      <td>1.000000</td>\n",
       "      <td>2.000000</td>\n",
       "      <td>1.000000</td>\n",
       "      <td>4.000000</td>\n",
       "      <td>2.450000e+05</td>\n",
       "      <td>2.000000</td>\n",
       "      <td>2.000000</td>\n",
       "      <td>102.000000</td>\n",
       "      <td>0.000000</td>\n",
       "      <td>0.000000</td>\n",
       "      <td>0.000000</td>\n",
       "    </tr>\n",
       "    <tr>\n",
       "      <th>75%</th>\n",
       "      <td>1.000000</td>\n",
       "      <td>2.000000</td>\n",
       "      <td>1.000000</td>\n",
       "      <td>31.000000</td>\n",
       "      <td>3.850000e+05</td>\n",
       "      <td>2.000000</td>\n",
       "      <td>2.000000</td>\n",
       "      <td>160.000000</td>\n",
       "      <td>1.000000</td>\n",
       "      <td>0.000000</td>\n",
       "      <td>1.000000</td>\n",
       "    </tr>\n",
       "    <tr>\n",
       "      <th>max</th>\n",
       "      <td>1.000000</td>\n",
       "      <td>2.000000</td>\n",
       "      <td>4.000000</td>\n",
       "      <td>32.000000</td>\n",
       "      <td>3.275050e+08</td>\n",
       "      <td>1111.000000</td>\n",
       "      <td>1111.000000</td>\n",
       "      <td>520300.000000</td>\n",
       "      <td>1.000000</td>\n",
       "      <td>1.000000</td>\n",
       "      <td>1.000000</td>\n",
       "    </tr>\n",
       "  </tbody>\n",
       "</table>\n",
       "</div>"
      ],
      "text/plain": [
       "        action_taken    preapproval      loan_type   loan_purpose  \\\n",
       "count  477783.000000  477783.000000  477783.000000  477783.000000   \n",
       "mean        0.788278       1.978685       1.306139      14.510648   \n",
       "std         0.408529       0.144433       0.630813      14.805230   \n",
       "min         0.000000       1.000000       1.000000       1.000000   \n",
       "25%         1.000000       2.000000       1.000000       1.000000   \n",
       "50%         1.000000       2.000000       1.000000       4.000000   \n",
       "75%         1.000000       2.000000       1.000000      31.000000   \n",
       "max         1.000000       2.000000       4.000000      32.000000   \n",
       "\n",
       "        loan_amount  interest_only_payment  balloon_payment         income  \\\n",
       "count  4.777830e+05          477783.000000    477783.000000  445303.000000   \n",
       "mean   3.173176e+05              24.386094        24.431715     139.239338   \n",
       "std    1.357526e+06             156.208919       156.202228    1081.834242   \n",
       "min    5.000000e+03               1.000000         1.000000   -9126.000000   \n",
       "25%    1.350000e+05               2.000000         2.000000      66.000000   \n",
       "50%    2.450000e+05               2.000000         2.000000     102.000000   \n",
       "75%    3.850000e+05               2.000000         2.000000     160.000000   \n",
       "max    3.275050e+08            1111.000000      1111.000000  520300.000000   \n",
       "\n",
       "       washington_dc        waco_tx     chicago_il  \n",
       "count  477783.000000  477783.000000  477783.000000  \n",
       "mean        0.443988       0.014793       0.492899  \n",
       "std         0.496853       0.120725       0.499950  \n",
       "min         0.000000       0.000000       0.000000  \n",
       "25%         0.000000       0.000000       0.000000  \n",
       "50%         0.000000       0.000000       0.000000  \n",
       "75%         1.000000       0.000000       1.000000  \n",
       "max         1.000000       1.000000       1.000000  "
      ]
     },
     "execution_count": 77,
     "metadata": {},
     "output_type": "execute_result"
    }
   ],
   "source": [
    "# understand overall features\n",
    "df_cr.describe()\n",
    "# Action Taken:\n",
    "# 1 -- Loan originated\n",
    "# 2 -- Application approved but not accepted\n",
    "# 3 -- Application denied by financial institution\n",
    "\n",
    "# Preapproval:\n",
    "# 1 -- Preapproval was requested\n",
    "# 2 -- Preapproval was not requested\n",
    "\n",
    "# Loan Type: **75% IQR = 1\n",
    "# 1 -- Conventional (any loan other than FHA, VA, FSA, or RHS loans)\n",
    "# 2 -- FHA-insured (Federal Housing Administration)\n",
    "# 3 -- VA-guaranteed (Veterans Administration)\n",
    "# 4 -- FSA/RHS (Farm Service Agency or Rural Housing Service)\n",
    "\n",
    "# Loan Purpose: **error data,\n",
    "# 1 -- Home purchase\n",
    "# 2 -- Home improvement\n",
    "# 3 -- Refinancing\n",
    "\n",
    "# Loan Amount: in thousands of dollars\n",
    "\n",
    "# interest_only_payment **not in the codebook, 1111？\n",
    "\n",
    "# balloon_payment **not in the codebook, 1111？\n",
    "\n",
    "# income: Gross Annual Income: in thousands of dollars **negative/ error data"
   ]
  },
  {
   "cell_type": "markdown",
   "id": "dfce8f2a",
   "metadata": {},
   "source": [
    "### Numerical Features Data Cleaning "
   ]
  },
  {
   "cell_type": "code",
   "execution_count": 78,
   "id": "e9fb6643",
   "metadata": {
    "scrolled": true
   },
   "outputs": [
    {
     "data": {
      "text/html": [
       "<div>\n",
       "<style scoped>\n",
       "    .dataframe tbody tr th:only-of-type {\n",
       "        vertical-align: middle;\n",
       "    }\n",
       "\n",
       "    .dataframe tbody tr th {\n",
       "        vertical-align: top;\n",
       "    }\n",
       "\n",
       "    .dataframe thead th {\n",
       "        text-align: right;\n",
       "    }\n",
       "</style>\n",
       "<table border=\"1\" class=\"dataframe\">\n",
       "  <thead>\n",
       "    <tr style=\"text-align: right;\">\n",
       "      <th></th>\n",
       "      <th>loan_amount</th>\n",
       "      <th>income</th>\n",
       "    </tr>\n",
       "  </thead>\n",
       "  <tbody>\n",
       "    <tr>\n",
       "      <th>count</th>\n",
       "      <td>4.777830e+05</td>\n",
       "      <td>445303.000000</td>\n",
       "    </tr>\n",
       "    <tr>\n",
       "      <th>mean</th>\n",
       "      <td>3.173176e+05</td>\n",
       "      <td>139.239338</td>\n",
       "    </tr>\n",
       "    <tr>\n",
       "      <th>std</th>\n",
       "      <td>1.357526e+06</td>\n",
       "      <td>1081.834242</td>\n",
       "    </tr>\n",
       "    <tr>\n",
       "      <th>min</th>\n",
       "      <td>5.000000e+03</td>\n",
       "      <td>-9126.000000</td>\n",
       "    </tr>\n",
       "    <tr>\n",
       "      <th>25%</th>\n",
       "      <td>1.350000e+05</td>\n",
       "      <td>66.000000</td>\n",
       "    </tr>\n",
       "    <tr>\n",
       "      <th>50%</th>\n",
       "      <td>2.450000e+05</td>\n",
       "      <td>102.000000</td>\n",
       "    </tr>\n",
       "    <tr>\n",
       "      <th>75%</th>\n",
       "      <td>3.850000e+05</td>\n",
       "      <td>160.000000</td>\n",
       "    </tr>\n",
       "    <tr>\n",
       "      <th>max</th>\n",
       "      <td>3.275050e+08</td>\n",
       "      <td>520300.000000</td>\n",
       "    </tr>\n",
       "  </tbody>\n",
       "</table>\n",
       "</div>"
      ],
      "text/plain": [
       "        loan_amount         income\n",
       "count  4.777830e+05  445303.000000\n",
       "mean   3.173176e+05     139.239338\n",
       "std    1.357526e+06    1081.834242\n",
       "min    5.000000e+03   -9126.000000\n",
       "25%    1.350000e+05      66.000000\n",
       "50%    2.450000e+05     102.000000\n",
       "75%    3.850000e+05     160.000000\n",
       "max    3.275050e+08  520300.000000"
      ]
     },
     "execution_count": 78,
     "metadata": {},
     "output_type": "execute_result"
    }
   ],
   "source": [
    "# understand numerical features\n",
    "# loan_amount look normal, need to clean column loan_to_value_ratio, income\n",
    "df_cr[[\"loan_amount\", \"loan_to_value_ratio\", \"income\"]].describe()"
   ]
  },
  {
   "cell_type": "markdown",
   "id": "30f6fa35",
   "metadata": {},
   "source": [
    "##### loan_to_value_ratio \n",
    "Description: The ratio of the total amount of debt secured by the property to the value of the property relied on in making the credit decisiontio. The ratio value should range from 0 - 1."
   ]
  },
  {
   "cell_type": "code",
   "execution_count": 79,
   "id": "145cde97",
   "metadata": {
    "scrolled": false
   },
   "outputs": [
    {
     "data": {
      "text/plain": [
       "array(['73.0', '88.0', '61.0', ..., '11.854', '6.774', '7.595'],\n",
       "      dtype=object)"
      ]
     },
     "execution_count": 79,
     "metadata": {},
     "output_type": "execute_result"
    }
   ],
   "source": [
    "pd.unique(df_cr['loan_to_value_ratio'])"
   ]
  },
  {
   "cell_type": "code",
   "execution_count": 80,
   "id": "a2c52632",
   "metadata": {},
   "outputs": [
    {
     "data": {
      "text/plain": [
       "<class 'str'>      420656\n",
       "<class 'float'>     57127\n",
       "Name: loan_to_value_ratio, dtype: int64"
      ]
     },
     "execution_count": 80,
     "metadata": {},
     "output_type": "execute_result"
    }
   ],
   "source": [
    "df_cr['loan_to_value_ratio'].map(type).value_counts()"
   ]
  },
  {
   "cell_type": "code",
   "execution_count": 81,
   "id": "9e5377bd",
   "metadata": {},
   "outputs": [
    {
     "data": {
      "text/plain": [
       "24841"
      ]
     },
     "execution_count": 81,
     "metadata": {},
     "output_type": "execute_result"
    }
   ],
   "source": [
    "# 607 null values\n",
    "len(df_cr[pd.to_numeric(df_cr['loan_to_value_ratio'].isnull(),errors='coerce')])"
   ]
  },
  {
   "cell_type": "code",
   "execution_count": 82,
   "id": "bc3f3ccd",
   "metadata": {},
   "outputs": [
    {
     "data": {
      "text/plain": [
       "9606"
      ]
     },
     "execution_count": 82,
     "metadata": {},
     "output_type": "execute_result"
    }
   ],
   "source": [
    "# 159 Exempt values\n",
    "len(df_cr[(df_cr['loan_to_value_ratio'] == \"Exempt\")])"
   ]
  },
  {
   "cell_type": "code",
   "execution_count": 83,
   "id": "8b5676ca",
   "metadata": {},
   "outputs": [],
   "source": [
    "# drop 607 null values and 159 Exempt values\n",
    "df_cr = df_cr[pd.to_numeric(df_cr['loan_to_value_ratio'].notnull(),errors='coerce')]\n",
    "df_cr = df_cr[(df_cr['loan_to_value_ratio'] != \"Exempt\")]\n",
    "# reset index\n",
    "df_cr = df_cr.reset_index(drop = True)\n",
    "# cast string types of values to numeric type\n",
    "df_cr['loan_to_value_ratio'] = pd.to_numeric(df_cr['loan_to_value_ratio'], errors='coerce')"
   ]
  },
  {
   "cell_type": "code",
   "execution_count": 84,
   "id": "55ecdb2e",
   "metadata": {},
   "outputs": [
    {
     "data": {
      "text/plain": [
       "442792"
      ]
     },
     "execution_count": 84,
     "metadata": {},
     "output_type": "execute_result"
    }
   ],
   "source": [
    "len(df_cr[(df_cr['loan_to_value_ratio'] > 1)])"
   ]
  },
  {
   "cell_type": "code",
   "execution_count": 85,
   "id": "0b7b2ca8",
   "metadata": {
    "scrolled": false
   },
   "outputs": [
    {
     "data": {
      "text/plain": [
       "<class 'float'>    443336\n",
       "Name: loan_to_value_ratio, dtype: int64"
      ]
     },
     "execution_count": 85,
     "metadata": {},
     "output_type": "execute_result"
    }
   ],
   "source": [
    "# check the result\n",
    "df_cr['loan_to_value_ratio'].map(type).value_counts()"
   ]
  },
  {
   "cell_type": "code",
   "execution_count": 86,
   "id": "6fce8ae8",
   "metadata": {},
   "outputs": [],
   "source": [
    "plt.rcParams['figure.dpi'] = 100"
   ]
  },
  {
   "cell_type": "markdown",
   "id": "9bec2f7d",
   "metadata": {},
   "source": [
    "##### log_loan_to_value_ratio (NEW column for log reg)\n",
    "Description: The log of the ratio of the total amount of debt secured by the property to the value of the property relied on in making the credit decisiontio."
   ]
  },
  {
   "cell_type": "code",
   "execution_count": 87,
   "id": "e541ee9e",
   "metadata": {},
   "outputs": [
    {
     "data": {
      "image/png": "[encoded data removed]",
      "text/plain": [
       "<Figure size 600x400 with 1 Axes>"
      ]
     },
     "metadata": {},
     "output_type": "display_data"
    }
   ],
   "source": [
    "# boxplot shows loan_to_value_ratio (without outliers) is a little left-skewed, so perform the log transformation\n",
    "sns.set_theme(style=\"whitegrid\")\n",
    "ax = sns.boxplot(x=df_cr[\"loan_to_value_ratio\"], data = df_cr, showfliers = False)"
   ]
  },
  {
   "cell_type": "code",
   "execution_count": 88,
   "id": "92c36cf1",
   "metadata": {},
   "outputs": [],
   "source": [
    "df_cr['log_loan_to_value_ratio'] = np.log2(df_cr['loan_to_value_ratio'])"
   ]
  },
  {
   "cell_type": "markdown",
   "id": "6288ac04",
   "metadata": {},
   "source": [
    "##### income (in thousands of dollars)"
   ]
  },
  {
   "cell_type": "code",
   "execution_count": 89,
   "id": "c7ca52df",
   "metadata": {},
   "outputs": [
    {
     "data": {
      "text/plain": [
       "18673"
      ]
     },
     "execution_count": 89,
     "metadata": {},
     "output_type": "execute_result"
    }
   ],
   "source": [
    "# 252 null values\n",
    "len(df_cr[pd.to_numeric(df_cr['income'].isnull(),errors='coerce')])"
   ]
  },
  {
   "cell_type": "code",
   "execution_count": 90,
   "id": "89320b1b",
   "metadata": {},
   "outputs": [
    {
     "data": {
      "text/plain": [
       "212"
      ]
     },
     "execution_count": 90,
     "metadata": {},
     "output_type": "execute_result"
    }
   ],
   "source": [
    "# 10 negative/ error values, will keep them in the data\n",
    "len(df_cr[(df_cr['income'] < 0)])"
   ]
  },
  {
   "cell_type": "code",
   "execution_count": 91,
   "id": "bfd319b0",
   "metadata": {},
   "outputs": [],
   "source": [
    "# drop 252 null values\n",
    "df_cr = df_cr[pd.to_numeric(df_cr['income'].notnull(),errors='coerce')]\n",
    "# reset index\n",
    "df_cr = df_cr.reset_index(drop = True)"
   ]
  },
  {
   "cell_type": "code",
   "execution_count": 92,
   "id": "cb8b187b",
   "metadata": {
    "scrolled": true
   },
   "outputs": [
    {
     "data": {
      "text/plain": [
       "<class 'float'>    424663\n",
       "Name: loan_to_value_ratio, dtype: int64"
      ]
     },
     "execution_count": 92,
     "metadata": {},
     "output_type": "execute_result"
    }
   ],
   "source": [
    "# check the result\n",
    "df_cr['loan_to_value_ratio'].map(type).value_counts()"
   ]
  },
  {
   "cell_type": "markdown",
   "id": "e59b6620",
   "metadata": {},
   "source": [
    "#### Cleaned Numeric Features Summary"
   ]
  },
  {
   "cell_type": "code",
   "execution_count": 93,
   "id": "d6e637e2",
   "metadata": {
    "scrolled": true
   },
   "outputs": [
    {
     "data": {
      "text/html": [
       "<div>\n",
       "<style scoped>\n",
       "    .dataframe tbody tr th:only-of-type {\n",
       "        vertical-align: middle;\n",
       "    }\n",
       "\n",
       "    .dataframe tbody tr th {\n",
       "        vertical-align: top;\n",
       "    }\n",
       "\n",
       "    .dataframe thead th {\n",
       "        text-align: right;\n",
       "    }\n",
       "</style>\n",
       "<table border=\"1\" class=\"dataframe\">\n",
       "  <thead>\n",
       "    <tr style=\"text-align: right;\">\n",
       "      <th></th>\n",
       "      <th>loan_amount</th>\n",
       "      <th>loan_to_value_ratio</th>\n",
       "      <th>income</th>\n",
       "    </tr>\n",
       "  </thead>\n",
       "  <tbody>\n",
       "    <tr>\n",
       "      <th>count</th>\n",
       "      <td>4.246630e+05</td>\n",
       "      <td>4.246630e+05</td>\n",
       "      <td>424663.000000</td>\n",
       "    </tr>\n",
       "    <tr>\n",
       "      <th>mean</th>\n",
       "      <td>2.893564e+05</td>\n",
       "      <td>3.647046e+03</td>\n",
       "      <td>139.748824</td>\n",
       "    </tr>\n",
       "    <tr>\n",
       "      <th>std</th>\n",
       "      <td>2.386163e+05</td>\n",
       "      <td>2.324826e+06</td>\n",
       "      <td>1078.633569</td>\n",
       "    </tr>\n",
       "    <tr>\n",
       "      <th>min</th>\n",
       "      <td>5.000000e+03</td>\n",
       "      <td>1.300000e-02</td>\n",
       "      <td>-9126.000000</td>\n",
       "    </tr>\n",
       "    <tr>\n",
       "      <th>25%</th>\n",
       "      <td>1.350000e+05</td>\n",
       "      <td>6.949000e+01</td>\n",
       "      <td>67.000000</td>\n",
       "    </tr>\n",
       "    <tr>\n",
       "      <th>50%</th>\n",
       "      <td>2.450000e+05</td>\n",
       "      <td>8.000000e+01</td>\n",
       "      <td>103.000000</td>\n",
       "    </tr>\n",
       "    <tr>\n",
       "      <th>75%</th>\n",
       "      <td>3.750000e+05</td>\n",
       "      <td>9.473000e+01</td>\n",
       "      <td>160.000000</td>\n",
       "    </tr>\n",
       "    <tr>\n",
       "      <th>max</th>\n",
       "      <td>1.200500e+07</td>\n",
       "      <td>1.515000e+09</td>\n",
       "      <td>520300.000000</td>\n",
       "    </tr>\n",
       "  </tbody>\n",
       "</table>\n",
       "</div>"
      ],
      "text/plain": [
       "        loan_amount  loan_to_value_ratio         income\n",
       "count  4.246630e+05         4.246630e+05  424663.000000\n",
       "mean   2.893564e+05         3.647046e+03     139.748824\n",
       "std    2.386163e+05         2.324826e+06    1078.633569\n",
       "min    5.000000e+03         1.300000e-02   -9126.000000\n",
       "25%    1.350000e+05         6.949000e+01      67.000000\n",
       "50%    2.450000e+05         8.000000e+01     103.000000\n",
       "75%    3.750000e+05         9.473000e+01     160.000000\n",
       "max    1.200500e+07         1.515000e+09  520300.000000"
      ]
     },
     "execution_count": 93,
     "metadata": {},
     "output_type": "execute_result"
    }
   ],
   "source": [
    "# understand numeric features\n",
    "df_cr[[\"loan_amount\", \"loan_to_value_ratio\", \"income\"]].describe()"
   ]
  },
  {
   "cell_type": "markdown",
   "id": "41c2b351",
   "metadata": {},
   "source": [
    "#### Correlation of Numeric Features"
   ]
  },
  {
   "cell_type": "code",
   "execution_count": 94,
   "id": "c22d3190",
   "metadata": {},
   "outputs": [],
   "source": [
    "# correlation heat map of numerical features\n",
    "sns.set()\n",
    "\n",
    "numCol = []\n",
    "for col in df_cr:\n",
    "  if df_cr[col].dtype == np.float64:\n",
    "    numCol.append(col)\n",
    "corr = df_cr[numCol].corr()"
   ]
  },
  {
   "cell_type": "code",
   "execution_count": 95,
   "id": "0db34c0f",
   "metadata": {
    "scrolled": true
   },
   "outputs": [
    {
     "data": {
      "text/plain": [
       "[Text(0.5, 0, 'loan_amount'),\n",
       " Text(1.5, 0, 'loan_to_value_ratio'),\n",
       " Text(2.5, 0, 'income'),\n",
       " Text(3.5, 0, 'log_loan_to_value_ratio')]"
      ]
     },
     "execution_count": 95,
     "metadata": {},
     "output_type": "execute_result"
    },
    {
     "data": {
      "image/png": "[encoded data removed]",
      "text/plain": [
       "<Figure size 600x400 with 2 Axes>"
      ]
     },
     "metadata": {},
     "output_type": "display_data"
    }
   ],
   "source": [
    "ax = sns.heatmap(\n",
    "    corr, \n",
    "    vmin=-1, vmax=1, center=0,\n",
    "    cmap=sns.diverging_palette(20, 220, n=200),\n",
    "    square=True\n",
    ")\n",
    "ax.set_xticklabels(\n",
    "    ax.get_xticklabels(),\n",
    "    rotation=45,\n",
    "    horizontalalignment='right')"
   ]
  },
  {
   "cell_type": "code",
   "execution_count": 96,
   "id": "d882ae30",
   "metadata": {
    "scrolled": false
   },
   "outputs": [
    {
     "data": {
      "text/html": [
       "<div>\n",
       "<style scoped>\n",
       "    .dataframe tbody tr th:only-of-type {\n",
       "        vertical-align: middle;\n",
       "    }\n",
       "\n",
       "    .dataframe tbody tr th {\n",
       "        vertical-align: top;\n",
       "    }\n",
       "\n",
       "    .dataframe thead th {\n",
       "        text-align: right;\n",
       "    }\n",
       "</style>\n",
       "<table border=\"1\" class=\"dataframe\">\n",
       "  <thead>\n",
       "    <tr style=\"text-align: right;\">\n",
       "      <th></th>\n",
       "      <th>loan_amount</th>\n",
       "      <th>loan_to_value_ratio</th>\n",
       "      <th>income</th>\n",
       "      <th>log_loan_to_value_ratio</th>\n",
       "    </tr>\n",
       "  </thead>\n",
       "  <tbody>\n",
       "    <tr>\n",
       "      <th>loan_amount</th>\n",
       "      <td>1.000000</td>\n",
       "      <td>-0.001828</td>\n",
       "      <td>0.086368</td>\n",
       "      <td>0.159350</td>\n",
       "    </tr>\n",
       "    <tr>\n",
       "      <th>loan_to_value_ratio</th>\n",
       "      <td>-0.001828</td>\n",
       "      <td>1.000000</td>\n",
       "      <td>-0.000093</td>\n",
       "      <td>0.067019</td>\n",
       "    </tr>\n",
       "    <tr>\n",
       "      <th>income</th>\n",
       "      <td>0.086368</td>\n",
       "      <td>-0.000093</td>\n",
       "      <td>1.000000</td>\n",
       "      <td>0.017985</td>\n",
       "    </tr>\n",
       "    <tr>\n",
       "      <th>log_loan_to_value_ratio</th>\n",
       "      <td>0.159350</td>\n",
       "      <td>0.067019</td>\n",
       "      <td>0.017985</td>\n",
       "      <td>1.000000</td>\n",
       "    </tr>\n",
       "  </tbody>\n",
       "</table>\n",
       "</div>"
      ],
      "text/plain": [
       "                         loan_amount  loan_to_value_ratio    income  \\\n",
       "loan_amount                 1.000000            -0.001828  0.086368   \n",
       "loan_to_value_ratio        -0.001828             1.000000 -0.000093   \n",
       "income                      0.086368            -0.000093  1.000000   \n",
       "log_loan_to_value_ratio     0.159350             0.067019  0.017985   \n",
       "\n",
       "                         log_loan_to_value_ratio  \n",
       "loan_amount                             0.159350  \n",
       "loan_to_value_ratio                     0.067019  \n",
       "income                                  0.017985  \n",
       "log_loan_to_value_ratio                 1.000000  "
      ]
     },
     "execution_count": 96,
     "metadata": {},
     "output_type": "execute_result"
    }
   ],
   "source": [
    "# check the actual values of correlations\n",
    "corr_score = df_cr[numCol].corr()\n",
    "corr_score\n",
    "# heatmap conclusion: all good, no column needs to be dropped.\n",
    "# ***but keep in mind that loan_amount and loan_to_value_ratio are not dependent - might need to drop one of them when using linear/ logistic regression"
   ]
  },
  {
   "cell_type": "markdown",
   "id": "efdf0bc1",
   "metadata": {},
   "source": [
    "### Cleaned Numerical Features -> Categorical Features"
   ]
  },
  {
   "cell_type": "markdown",
   "id": "4ac3f92f",
   "metadata": {},
   "source": [
    "##### derived_income (NEW column for income)\n",
    "INCOME GROUP - INCOME  <br>\n",
    "Poor or near-poor - \\\\$32,048 or less <br>\n",
    "Lower-middle class - \\\\$32,048 - \\\\$53,413 <br>\n",
    "Middle class - \\\\$53,413 - \\\\$106,827 <br>\n",
    "Upper-middle class - \\\\$106,827 - \\\\$373,894 <br>\n",
    "Rich - \\\\$373,894 and up <br>\n",
    "(resource: https://money.usnews.com/money/personal-finance/family-finance/articles/where-do-i-fall-in-the-american-economic-class-system)"
   ]
  },
  {
   "cell_type": "code",
   "execution_count": 97,
   "id": "1d026e37",
   "metadata": {},
   "outputs": [],
   "source": [
    "# bin income into the 5 categories above\n",
    "# create a list of our conditions\n",
    "income_conditions = [\n",
    "    (df_cr['income']*1000 <= 32048),\n",
    "    (df_cr['income']*1000 > 32048) & (df_cr['income']*1000 <= 53413),\n",
    "    (df_cr['income']*1000 > 53413) & (df_cr['income']*1000 <= 106827),\n",
    "    (df_cr['income']*1000 > 106827) & (df_cr['income']*1000 <= 373894),\n",
    "    (df_cr['income']*1000 > 373894)\n",
    "    ]\n",
    "\n",
    "# create a list of the values we want to assign for each condition\n",
    "# ***income_values = ['Poor and Near Poor', 'Lower-Middle Class', 'Middle Class', 'Upper-Middle Class', 'Rich']\n",
    "income_values = [1, 2, 3, 4, 5]\n",
    "\n",
    "# create a new column and use np.select to assign values to it using our lists as arguments\n",
    "df_cr['derived_income'] = np.select(income_conditions, income_values)"
   ]
  },
  {
   "cell_type": "code",
   "execution_count": 98,
   "id": "170d74ba",
   "metadata": {
    "scrolled": false
   },
   "outputs": [
    {
     "data": {
      "text/plain": [
       "<AxesSubplot:>"
      ]
     },
     "execution_count": 98,
     "metadata": {},
     "output_type": "execute_result"
    },
    {
     "data": {
      "image/png": "[encoded data removed]",
      "text/plain": [
       "<Figure size 600x400 with 1 Axes>"
      ]
     },
     "metadata": {},
     "output_type": "display_data"
    }
   ],
   "source": [
    "# explore derived_income category\n",
    "df_cr[\"derived_income\"].value_counts().plot(kind='barh')"
   ]
  },
  {
   "cell_type": "markdown",
   "id": "295af5b7",
   "metadata": {},
   "source": [
    "##### derived_loan_to_value_ratio (NEW column for loan_to_value_ratio)\n",
    "Conventional bar - 80% or less <br>\n",
    "FHA bar -\t96.5% or less <br>\n",
    "VA bar - 100% or less <br>\n",
    "Not eligible - > 100%\n",
    "(resource: https://www.forbes.com/advisor/mortgages/loan-to-value-ratio/)"
   ]
  },
  {
   "cell_type": "code",
   "execution_count": 99,
   "id": "70c0e22e",
   "metadata": {},
   "outputs": [],
   "source": [
    "# bin loan_to_value_ratio into the 4 categories above\n",
    "# create a list of our conditions\n",
    "loan_to_value_ratio_conditions = [\n",
    "    (df_cr['loan_to_value_ratio'] <= 80),\n",
    "    (df_cr['loan_to_value_ratio'] > 80) & (df_cr['loan_to_value_ratio'] <= 96.5),\n",
    "    (df_cr['loan_to_value_ratio'] > 96.5) & (df_cr['loan_to_value_ratio'] <= 100),\n",
    "    (df_cr['loan_to_value_ratio'] > 100)\n",
    "    ]\n",
    "\n",
    "# create a list of the values we want to assign for each condition\n",
    "# *** loan_to_value_ratio_values = ['< Conventional Bar', '> Conventional Bar and < FHA Bar', '> FHA Bar and < VA Bar', 'Not Eligible']\n",
    "loan_to_value_ratio_values = [2, 3, 4, 1]\n",
    "# create a new column and use np.select to assign values to it using our lists as arguments\n",
    "df_cr['derived_loan_to_value_ratio'] = np.select(loan_to_value_ratio_conditions, loan_to_value_ratio_values)"
   ]
  },
  {
   "cell_type": "code",
   "execution_count": 100,
   "id": "b4c6baab",
   "metadata": {},
   "outputs": [
    {
     "data": {
      "text/plain": [
       "<AxesSubplot:>"
      ]
     },
     "execution_count": 100,
     "metadata": {},
     "output_type": "execute_result"
    },
    {
     "data": {
      "image/png": "[encoded data removed]",
      "text/plain": [
       "<Figure size 600x400 with 1 Axes>"
      ]
     },
     "metadata": {},
     "output_type": "display_data"
    }
   ],
   "source": [
    "# explore derived_loan_to_value_ratio category\n",
    "df_cr[\"derived_loan_to_value_ratio\"].value_counts().plot(kind='barh')"
   ]
  },
  {
   "cell_type": "markdown",
   "id": "011f0e23",
   "metadata": {},
   "source": [
    "### Categorical Features Data Cleaning "
   ]
  },
  {
   "cell_type": "markdown",
   "id": "2973975e",
   "metadata": {},
   "source": [
    "##### interest_only_payment\n",
    "Description: Whether the contractual terms include, or would have included, interest-only payments\n",
    "Values: <br>\n",
    "1 - Interest-only payments <br>\n",
    "2 - No interest-only payments <br>\n",
    "1111 - Exempt <br>\n",
    "\n",
    "NEW: <br>\n",
    "1 -> Interest-only Payments <br>\n",
    "2 -> No Interest-only Payments"
   ]
  },
  {
   "cell_type": "code",
   "execution_count": 106,
   "id": "d3236b0f",
   "metadata": {},
   "outputs": [],
   "source": [
    "# replace \"Exempt\" with NAs\n",
    "df_cr['interest_only_payment'].mask((df_cr['interest_only_payment'] == 1111), None, inplace=True)"
   ]
  },
  {
   "cell_type": "code",
   "execution_count": 107,
   "id": "ea10d927",
   "metadata": {},
   "outputs": [],
   "source": [
    "# drop null values\n",
    "df_cr = df_cr[pd.to_numeric(df_cr['interest_only_payment'].notnull(),errors='coerce')]"
   ]
  },
  {
   "cell_type": "code",
   "execution_count": 108,
   "id": "50cd520e",
   "metadata": {},
   "outputs": [],
   "source": [
    "# reset index\n",
    "df_cr = df_cr.reset_index(drop = True)"
   ]
  },
  {
   "cell_type": "code",
   "execution_count": 109,
   "id": "c174db5f",
   "metadata": {},
   "outputs": [],
   "source": [
    "# *** # rename\n",
    "# df_cr['interest_only_payment'].mask((df_cr['interest_only_payment'] == 1), 'Interest-only Payments', inplace=True)\n",
    "# df_cr['interest_only_payment'].mask((df_cr['interest_only_payment'] == 2), 'No Interest-only Payments', inplace=True)\n",
    "\n",
    "# rename\n",
    "df_cr['interest_only_payment'].mask((df_cr['interest_only_payment'] == 1), 1, inplace=True)\n",
    "df_cr['interest_only_payment'].mask((df_cr['interest_only_payment'] == 2), 0, inplace=True)\n"
   ]
  },
  {
   "cell_type": "code",
   "execution_count": 110,
   "id": "4dc827dc",
   "metadata": {},
   "outputs": [
    {
     "data": {
      "text/plain": [
       "<AxesSubplot:>"
      ]
     },
     "execution_count": 110,
     "metadata": {},
     "output_type": "execute_result"
    },
    {
     "data": {
      "image/png": "[encoded data removed]",
      "text/plain": [
       "<Figure size 600x400 with 1 Axes>"
      ]
     },
     "metadata": {},
     "output_type": "display_data"
    }
   ],
   "source": [
    "# explore interest_only_payment category\n",
    "df_cr[\"interest_only_payment\"].value_counts().plot(kind='barh')"
   ]
  },
  {
   "cell_type": "markdown",
   "id": "b2073c43",
   "metadata": {},
   "source": [
    "##### balloon_payment\n",
    "Description: Whether the contractual terms include, or would have included, a balloon payment\n",
    "Values: <br>\n",
    "1 - Balloon payment <br>\n",
    "2 - No balloon payment <br>\n",
    "1111 - Exempt <br>\n",
    "\n",
    "NEW: <br>\n",
    "1 -> Balloon Payment <br>\n",
    "2 -> No Balloon Payment"
   ]
  },
  {
   "cell_type": "code",
   "execution_count": 111,
   "id": "6ff408ad",
   "metadata": {},
   "outputs": [],
   "source": [
    "# replace \"Exempt\" with NAs\n",
    "df_cr['balloon_payment'].mask((df_cr['balloon_payment'] == 'Exempt'), None, inplace=True)"
   ]
  },
  {
   "cell_type": "code",
   "execution_count": 112,
   "id": "d636104d",
   "metadata": {},
   "outputs": [],
   "source": [
    "# drop null values\n",
    "df_cr = df_cr[pd.to_numeric(df_cr['balloon_payment'].notnull(),errors='coerce')]"
   ]
  },
  {
   "cell_type": "code",
   "execution_count": 113,
   "id": "3a3b73c4",
   "metadata": {},
   "outputs": [],
   "source": [
    "# reset index\n",
    "df_cr = df_cr.reset_index(drop = True)"
   ]
  },
  {
   "cell_type": "code",
   "execution_count": 114,
   "id": "3f63f82e",
   "metadata": {},
   "outputs": [],
   "source": [
    "# ***# rename\n",
    "# df_cr['balloon_payment'].mask((df_cr['balloon_payment'] == 1), 'Balloon Payment', inplace=True)\n",
    "# df_cr['balloon_payment'].mask((df_cr['balloon_payment'] == 2), 'No Balloon Payment', inplace=True)\n",
    "\n",
    "# rename\n",
    "df_cr['balloon_payment'].mask((df_cr['balloon_payment'] == 1), 1, inplace=True)\n",
    "df_cr['balloon_payment'].mask((df_cr['balloon_payment'] == 2), 0, inplace=True)"
   ]
  },
  {
   "cell_type": "code",
   "execution_count": 115,
   "id": "d2e59d57",
   "metadata": {},
   "outputs": [
    {
     "data": {
      "text/plain": [
       "<AxesSubplot:>"
      ]
     },
     "execution_count": 115,
     "metadata": {},
     "output_type": "execute_result"
    },
    {
     "data": {
      "image/png": "[encoded data removed]",
      "text/plain": [
       "<Figure size 600x400 with 1 Axes>"
      ]
     },
     "metadata": {},
     "output_type": "display_data"
    }
   ],
   "source": [
    "# explore balloon_payment category\n",
    "df_cr[\"balloon_payment\"].value_counts().plot(kind='barh')"
   ]
  },
  {
   "cell_type": "markdown",
   "id": "ebdbe9ba",
   "metadata": {},
   "source": [
    "##### preapproval_requested (old: preapproval)\n",
    "1 -- Preapproval was requested <br>\n",
    "2 -- Preapproval was not requested <br>\n",
    "\n",
    "NEW: <br>\n",
    "Preapprove Requested - Preapproval was requested <br>\n",
    "No Preapprove Requested - Preapproval was not requested <br>\n",
    "\n",
    "rename column: preapproval -> preapproval_requested"
   ]
  },
  {
   "cell_type": "code",
   "execution_count": 116,
   "id": "903824c8",
   "metadata": {},
   "outputs": [],
   "source": [
    "# *** rename\n",
    "# df_cr['preapproval'].mask((df_cr['preapproval'] == 1), \"Preapproval Requested\", inplace=True)\n",
    "# df_cr['preapproval'].mask((df_cr['preapproval'] == 2), \"No Preapproval Requested\", inplace=True)\n",
    "\n",
    "# rename\n",
    "df_cr['preapproval'].mask((df_cr['preapproval'] == 1), 1, inplace=True)\n",
    "df_cr['preapproval'].mask((df_cr['preapproval'] == 2), 0, inplace=True)"
   ]
  },
  {
   "cell_type": "code",
   "execution_count": 117,
   "id": "522dd727",
   "metadata": {},
   "outputs": [],
   "source": [
    "# change column name 'preapproval' -> 'preapproval_requested'\n",
    "df_cr.rename(columns={'preapproval': 'preapproval_requested'}, inplace=True)"
   ]
  },
  {
   "cell_type": "code",
   "execution_count": 118,
   "id": "21fea2e0",
   "metadata": {
    "scrolled": false
   },
   "outputs": [
    {
     "data": {
      "text/plain": [
       "<AxesSubplot:>"
      ]
     },
     "execution_count": 118,
     "metadata": {},
     "output_type": "execute_result"
    },
    {
     "data": {
      "image/png": "[encoded data removed]",
      "text/plain": [
       "<Figure size 600x400 with 1 Axes>"
      ]
     },
     "metadata": {},
     "output_type": "display_data"
    }
   ],
   "source": [
    "# explore loan_type category\n",
    "df_cr[\"preapproval_requested\"].value_counts().plot(kind='barh')"
   ]
  },
  {
   "cell_type": "markdown",
   "id": "fb907da4",
   "metadata": {},
   "source": [
    "##### loan_type\n",
    "1 -- Conventional (any loan other than FHA, VA, FSA, or RHS loans) <br>\n",
    "2 -- FHA-insured (Federal Housing Administration) <br>\n",
    "3 -- VA-guaranteed (Veterans Administration) <br>\n",
    "4 -- FSA/RHS (Farm Service Agency or Rural Housing Service) <br>\n",
    "\n",
    "Comments: <br>\n",
    "75% IQR = 1 <br>\n",
    "About 90% of the whole loan type is type 1 - Conventional among the 4 types. <br>\n",
    "Is this data representative to the whole population? <br>\n",
    "possible research directions: if people with a Conventional loan type have an obviously higher/lower chance to get approved for the loan compared to people with a NON Conventional loan type?"
   ]
  },
  {
   "cell_type": "code",
   "execution_count": 119,
   "id": "3890c5db",
   "metadata": {},
   "outputs": [],
   "source": [
    "# changed 1, 2, 3, 4 to their corresponding categorical names\n",
    "# df_cr['loan_type'].mask((df_cr['loan_type'] == 1), 'Converntional', inplace=True)\n",
    "# df_cr['loan_type'].mask((df_cr['loan_type'] == 2), 'FHA-insured', inplace=True)\n",
    "# df_cr['loan_type'].mask((df_cr['loan_type'] == 3), 'VA-guaranteed', inplace=True)\n",
    "# df_cr['loan_type'].mask((df_cr['loan_type'] == 4), 'FSA/RHS', inplace=True)"
   ]
  },
  {
   "cell_type": "code",
   "execution_count": 120,
   "id": "b8f04377",
   "metadata": {
    "scrolled": false
   },
   "outputs": [],
   "source": [
    "# len(df_cr[df_cr['loan_type'] == 'Converntional']) / len(df_cr['loan_type'])"
   ]
  },
  {
   "cell_type": "code",
   "execution_count": 121,
   "id": "5b105fff",
   "metadata": {},
   "outputs": [
    {
     "data": {
      "text/plain": [
       "1217"
      ]
     },
     "execution_count": 121,
     "metadata": {},
     "output_type": "execute_result"
    }
   ],
   "source": [
    "# *** number of 'FSA/RHS' is only 2, not representative, so drop this category\n",
    "# len(df_cr[df_cr['loan_type'] == 'FSA/RHS'])\n",
    "\n",
    "# number of 'FSA/RHS' is only 2, not representative, so drop this category\n",
    "len(df_cr[df_cr['loan_type'] == 4])"
   ]
  },
  {
   "cell_type": "code",
   "execution_count": 122,
   "id": "1ea91c73",
   "metadata": {},
   "outputs": [],
   "source": [
    "# *** drop 'FSA/RHS' column\n",
    "# df_cr.drop(df_cr[df_cr['loan_type'] == 'FSA/RHS'].index, inplace = True)\n",
    "\n",
    "# drop 'FSA/RHS' column\n",
    "df_cr.drop(df_cr[df_cr['loan_type'] == 2].index, inplace = True)"
   ]
  },
  {
   "cell_type": "code",
   "execution_count": 123,
   "id": "50e566ab",
   "metadata": {},
   "outputs": [],
   "source": [
    "# reset index\n",
    "df_cr = df_cr.reset_index(drop = True)"
   ]
  },
  {
   "cell_type": "code",
   "execution_count": 124,
   "id": "94179f3e",
   "metadata": {},
   "outputs": [
    {
     "data": {
      "text/plain": [
       "<AxesSubplot:>"
      ]
     },
     "execution_count": 124,
     "metadata": {},
     "output_type": "execute_result"
    },
    {
     "data": {
      "image/png": "[encoded data removed]",
      "text/plain": [
       "<Figure size 600x400 with 1 Axes>"
      ]
     },
     "metadata": {},
     "output_type": "display_data"
    }
   ],
   "source": [
    "# 3, 4 -> 2,3 \n",
    "df_cr['loan_type'].mask((df_cr['loan_type'] == 3), 2, inplace=True)\n",
    "df_cr['loan_type'].mask((df_cr['loan_type'] == 4), 3, inplace=True)\n",
    "\n",
    "# explore loan_type category\n",
    "df_cr[\"loan_type\"].value_counts().plot(kind='barh')"
   ]
  },
  {
   "cell_type": "markdown",
   "id": "e01e842d",
   "metadata": {},
   "source": [
    "##### loan_purpose \n",
    "Description: The purpose of covered loan or application\n",
    "Values: <br>\n",
    "1 - Home purchase <br>\n",
    "2 - Home improvement <br>\n",
    "31 - Refinancing <br>\n",
    "32 - Cash-out refinancing <br>\n",
    "4 - Other purpose <br>\n",
    "5 - Not applicable \n",
    "\n",
    "CHANGE - 31, 32 -> 3 - Refinancing; dropped 19 values of \"not applicable\" "
   ]
  },
  {
   "cell_type": "code",
   "execution_count": 125,
   "id": "7f972a35",
   "metadata": {},
   "outputs": [],
   "source": [
    "df_cr[\"loan_purpose\"].replace([31, 32], 3, regex=False, inplace=True)"
   ]
  },
  {
   "cell_type": "code",
   "execution_count": 126,
   "id": "e9187177",
   "metadata": {
    "scrolled": true
   },
   "outputs": [
    {
     "data": {
      "text/plain": [
       "205"
      ]
     },
     "execution_count": 126,
     "metadata": {},
     "output_type": "execute_result"
    }
   ],
   "source": [
    "# 19 values of \"not applicable\" \n",
    "len(df_cr[df_cr['loan_purpose'] == 5])"
   ]
  },
  {
   "cell_type": "code",
   "execution_count": 127,
   "id": "c4dea90b",
   "metadata": {},
   "outputs": [],
   "source": [
    "# 5 -> NAs\n",
    "df_cr['loan_purpose'].mask((df_cr['loan_purpose'] == 5), None, inplace=True)"
   ]
  },
  {
   "cell_type": "code",
   "execution_count": 128,
   "id": "5b4aa8ed",
   "metadata": {},
   "outputs": [],
   "source": [
    "# drop 19 values\n",
    "df_cr = df_cr[pd.to_numeric(df_cr['loan_purpose'].notnull(),errors='coerce')]"
   ]
  },
  {
   "cell_type": "code",
   "execution_count": 129,
   "id": "406f73bd",
   "metadata": {},
   "outputs": [],
   "source": [
    "# changed 1, 2, 3, 4, 5 to their corresponding categorical names\n",
    "# df_cr['loan_purpose'].mask((df_cr['loan_purpose'] == 1), 'Home Purchase', inplace=True)\n",
    "# df_cr['loan_purpose'].mask((df_cr['loan_purpose'] == 2), 'Home Improvement', inplace=True)\n",
    "# df_cr['loan_purpose'].mask((df_cr['loan_purpose'] == 3), 'Refinancing', inplace=True)\n",
    "# df_cr['loan_purpose'].mask((df_cr['loan_purpose'] == 4), 'Other Purpose', inplace=True)"
   ]
  },
  {
   "cell_type": "code",
   "execution_count": 130,
   "id": "017a50c3",
   "metadata": {},
   "outputs": [],
   "source": [
    "# reset index\n",
    "df_cr = df_cr.reset_index(drop = True)"
   ]
  },
  {
   "cell_type": "code",
   "execution_count": 131,
   "id": "51c25d24",
   "metadata": {},
   "outputs": [
    {
     "data": {
      "text/plain": [
       "<AxesSubplot:>"
      ]
     },
     "execution_count": 131,
     "metadata": {},
     "output_type": "execute_result"
    },
    {
     "data": {
      "image/png": "[encoded data removed]",
      "text/plain": [
       "<Figure size 600x400 with 1 Axes>"
      ]
     },
     "metadata": {},
     "output_type": "display_data"
    }
   ],
   "source": [
    "# explore loan_purpose category\n",
    "df_cr[\"loan_purpose\"].value_counts().plot(kind='barh')"
   ]
  },
  {
   "cell_type": "markdown",
   "id": "6eb13a6b",
   "metadata": {},
   "source": [
    "##### is_not_hispanic (old: derived_ethnicity)"
   ]
  },
  {
   "cell_type": "code",
   "execution_count": 132,
   "id": "3f7df01f",
   "metadata": {
    "scrolled": false
   },
   "outputs": [
    {
     "data": {
      "text/plain": [
       "array(['Not Hispanic or Latino', 'Joint', 'Hispanic or Latino',\n",
       "       'Ethnicity Not Available', 'Free Form Text Only'], dtype=object)"
      ]
     },
     "execution_count": 132,
     "metadata": {},
     "output_type": "execute_result"
    }
   ],
   "source": [
    "pd.unique(df_cr['derived_ethnicity'])"
   ]
  },
  {
   "cell_type": "code",
   "execution_count": 133,
   "id": "a5a1c216",
   "metadata": {},
   "outputs": [],
   "source": [
    "# Convert 'Joint', 'Ethnicity Not Available', 'Free Form Text Only' to NAs\n",
    "df_cr['derived_ethnicity'].mask((df_cr['derived_ethnicity'] == 'Joint') |\n",
    "                                (df_cr['derived_ethnicity'] == 'Ethnicity Not Available') |\n",
    "                                (df_cr['derived_ethnicity'] == 'Free Form Text Only'), None, inplace=True)"
   ]
  },
  {
   "cell_type": "code",
   "execution_count": 134,
   "id": "c2067302",
   "metadata": {},
   "outputs": [
    {
     "data": {
      "text/plain": [
       "<class 'str'>         310731\n",
       "<class 'NoneType'>     62670\n",
       "Name: derived_ethnicity, dtype: int64"
      ]
     },
     "execution_count": 134,
     "metadata": {},
     "output_type": "execute_result"
    }
   ],
   "source": [
    "df_cr['derived_ethnicity'].map(type).value_counts()"
   ]
  },
  {
   "cell_type": "code",
   "execution_count": 135,
   "id": "eaafa52e",
   "metadata": {},
   "outputs": [],
   "source": [
    "# drop 1878 null values\n",
    "df_cr = df_cr[pd.to_numeric(df_cr['derived_ethnicity'].notnull(),errors='coerce')]"
   ]
  },
  {
   "cell_type": "code",
   "execution_count": 136,
   "id": "de90a115",
   "metadata": {},
   "outputs": [
    {
     "data": {
      "text/plain": [
       "<class 'str'>    310731\n",
       "Name: derived_ethnicity, dtype: int64"
      ]
     },
     "execution_count": 136,
     "metadata": {},
     "output_type": "execute_result"
    }
   ],
   "source": [
    "df_cr['derived_ethnicity'].map(type).value_counts()"
   ]
  },
  {
   "cell_type": "code",
   "execution_count": null,
   "id": "29f160a2",
   "metadata": {},
   "outputs": [],
   "source": []
  },
  {
   "cell_type": "code",
   "execution_count": 137,
   "id": "b22f5373",
   "metadata": {},
   "outputs": [],
   "source": [
    "# change column name 'derived_ethnicity' -> 'is_not_hispanic'\n",
    "df_cr.rename(columns={'derived_ethnicity': 'is_not_hispanic'}, inplace=True)"
   ]
  },
  {
   "cell_type": "code",
   "execution_count": 138,
   "id": "5b99d3ad",
   "metadata": {},
   "outputs": [],
   "source": [
    "df_cr['is_not_hispanic'].mask((df_cr['is_not_hispanic'] == \"Hispanic or Latino\"), 1, inplace=True)\n",
    "df_cr['is_not_hispanic'].mask((df_cr['is_not_hispanic'] == \"Not Hispanic or Latino\"), 0, inplace=True)"
   ]
  },
  {
   "cell_type": "code",
   "execution_count": 139,
   "id": "305a1113",
   "metadata": {},
   "outputs": [],
   "source": [
    "# reset index\n",
    "df_cr = df_cr.reset_index(drop = True)"
   ]
  },
  {
   "cell_type": "code",
   "execution_count": 140,
   "id": "a4642e52",
   "metadata": {},
   "outputs": [
    {
     "data": {
      "text/plain": [
       "<AxesSubplot:>"
      ]
     },
     "execution_count": 140,
     "metadata": {},
     "output_type": "execute_result"
    },
    {
     "data": {
      "image/png": "[encoded data removed]",
      "text/plain": [
       "<Figure size 600x400 with 1 Axes>"
      ]
     },
     "metadata": {},
     "output_type": "display_data"
    }
   ],
   "source": [
    "# explore is_not_hispanic category\n",
    "df_cr[\"is_not_hispanic\"].value_counts().plot(kind='barh')"
   ]
  },
  {
   "cell_type": "markdown",
   "id": "5fe0fdba",
   "metadata": {},
   "source": [
    "##### derived_race"
   ]
  },
  {
   "cell_type": "code",
   "execution_count": 141,
   "id": "aa0c7e96",
   "metadata": {
    "scrolled": false
   },
   "outputs": [
    {
     "data": {
      "text/plain": [
       "array(['White', 'Joint', 'Asian', 'Black or African American',\n",
       "       'Race Not Available', '2 or more minority races',\n",
       "       'American Indian or Alaska Native',\n",
       "       'Native Hawaiian or Other Pacific Islander', 'Free Form Text Only'],\n",
       "      dtype=object)"
      ]
     },
     "execution_count": 141,
     "metadata": {},
     "output_type": "execute_result"
    }
   ],
   "source": [
    "pd.unique(df_cr['derived_race'])"
   ]
  },
  {
   "cell_type": "code",
   "execution_count": 142,
   "id": "1d37738d",
   "metadata": {},
   "outputs": [],
   "source": [
    "# Convert '2 or more minority races', 'Race Not Available','American Indian or Alaska Native', \n",
    "# 'Joint', 'Native Hawaiian or Other Pacific Islander' to 'Minority Race/(s/)'\n",
    "df_cr['derived_race'].mask((df_cr['derived_race'] == '2 or more minority races') |\n",
    "                            (df_cr['derived_race'] == 'American Indian or Alaska Native') |\n",
    "                            (df_cr['derived_race'] == 'Joint') |\n",
    "                            (df_cr['derived_race'] == 'Native Hawaiian or Other Pacific Islander'), \"Minority Races\", inplace=True)"
   ]
  },
  {
   "cell_type": "code",
   "execution_count": 143,
   "id": "57888bba",
   "metadata": {},
   "outputs": [],
   "source": [
    "df_cr['derived_race'].mask((df_cr['derived_race'] == 'Free Form Text Only') |\n",
    "                           (df_cr['derived_race'] == 'Race Not Available'), None, inplace=True)"
   ]
  },
  {
   "cell_type": "code",
   "execution_count": 144,
   "id": "0b4c90ba",
   "metadata": {
    "scrolled": false
   },
   "outputs": [
    {
     "data": {
      "text/plain": [
       "<class 'str'>         300863\n",
       "<class 'NoneType'>      9868\n",
       "Name: derived_race, dtype: int64"
      ]
     },
     "execution_count": 144,
     "metadata": {},
     "output_type": "execute_result"
    }
   ],
   "source": [
    "df_cr['derived_race'].map(type).value_counts()"
   ]
  },
  {
   "cell_type": "code",
   "execution_count": 145,
   "id": "beedf00b",
   "metadata": {
    "scrolled": true
   },
   "outputs": [
    {
     "data": {
      "text/plain": [
       "array(['White', 'Minority Races', 'Asian', 'Black or African American',\n",
       "       None], dtype=object)"
      ]
     },
     "execution_count": 145,
     "metadata": {},
     "output_type": "execute_result"
    }
   ],
   "source": [
    "pd.unique(df_cr['derived_race'])"
   ]
  },
  {
   "cell_type": "code",
   "execution_count": 146,
   "id": "091e3309",
   "metadata": {},
   "outputs": [],
   "source": [
    "# drop 526 null values\n",
    "df_cr = df_cr[pd.to_numeric(df_cr['derived_race'].notnull(),errors='coerce')]"
   ]
  },
  {
   "cell_type": "code",
   "execution_count": 147,
   "id": "b480a35a",
   "metadata": {
    "scrolled": true
   },
   "outputs": [
    {
     "data": {
      "text/plain": [
       "array(['White', 'Minority Races', 'Asian', 'Black or African American'],\n",
       "      dtype=object)"
      ]
     },
     "execution_count": 147,
     "metadata": {},
     "output_type": "execute_result"
    }
   ],
   "source": [
    "pd.unique(df_cr['derived_race'])"
   ]
  },
  {
   "cell_type": "code",
   "execution_count": 148,
   "id": "43511079",
   "metadata": {},
   "outputs": [],
   "source": [
    "df_cr['derived_race'].mask((df_cr['derived_race'] == \"White\"), 1, inplace=True)\n",
    "df_cr['derived_race'].mask((df_cr['derived_race'] == \"Asian\"), 2, inplace=True)\n",
    "df_cr['derived_race'].mask((df_cr['derived_race'] == \"Black or African American\"), 3, inplace=True)\n",
    "df_cr['derived_race'].mask((df_cr['derived_race'] == \"Minority Races\"), 4, inplace=True)"
   ]
  },
  {
   "cell_type": "code",
   "execution_count": 149,
   "id": "2b9e1619",
   "metadata": {},
   "outputs": [],
   "source": [
    "# reset index\n",
    "df_cr = df_cr.reset_index(drop = True)"
   ]
  },
  {
   "cell_type": "code",
   "execution_count": 150,
   "id": "ed70b09e",
   "metadata": {},
   "outputs": [
    {
     "data": {
      "text/plain": [
       "<AxesSubplot:>"
      ]
     },
     "execution_count": 150,
     "metadata": {},
     "output_type": "execute_result"
    },
    {
     "data": {
      "image/png": "[encoded data removed]",
      "text/plain": [
       "<Figure size 600x400 with 1 Axes>"
      ]
     },
     "metadata": {},
     "output_type": "display_data"
    }
   ],
   "source": [
    "# explore derived_race category\n",
    "df_cr[\"derived_race\"].value_counts().plot(kind='barh')"
   ]
  },
  {
   "cell_type": "markdown",
   "id": "2a9d950b",
   "metadata": {},
   "source": [
    "##### is_male (old: derived_sex)"
   ]
  },
  {
   "cell_type": "code",
   "execution_count": 151,
   "id": "90e98210",
   "metadata": {
    "scrolled": true
   },
   "outputs": [
    {
     "data": {
      "text/plain": [
       "array(['Joint', 'Male', 'Female', 'Sex Not Available'], dtype=object)"
      ]
     },
     "execution_count": 151,
     "metadata": {},
     "output_type": "execute_result"
    }
   ],
   "source": [
    "pd.unique(df_cr['derived_sex']) # OK"
   ]
  },
  {
   "cell_type": "code",
   "execution_count": 152,
   "id": "7ca5ba57",
   "metadata": {},
   "outputs": [],
   "source": [
    "# change column name 'derived_sex' -> 'is_male'\n",
    "df_cr.rename(columns={'derived_sex': 'is_male'}, inplace=True)"
   ]
  },
  {
   "cell_type": "code",
   "execution_count": 153,
   "id": "dabd694d",
   "metadata": {},
   "outputs": [],
   "source": [
    "df_cr['is_male'].mask((df_cr['is_male'] == \"Male\"), 1, inplace=True)\n",
    "df_cr['is_male'].mask((df_cr['is_male'] == \"Female\"), 0, inplace=True)"
   ]
  },
  {
   "cell_type": "code",
   "execution_count": 157,
   "id": "35f3bc8e",
   "metadata": {},
   "outputs": [],
   "source": [
    "# drop 'Sex Not Available' column\n",
    "df_cr.drop(df_cr[df_cr['is_male'] == \"Sex Not Available\"].index, inplace = True)\n",
    "# drop 'Joint' column\n",
    "df_cr.drop(df_cr[df_cr['is_male'] == \"Joint\"].index, inplace = True)"
   ]
  },
  {
   "cell_type": "code",
   "execution_count": 158,
   "id": "014a85a1",
   "metadata": {},
   "outputs": [
    {
     "data": {
      "text/plain": [
       "<AxesSubplot:>"
      ]
     },
     "execution_count": 158,
     "metadata": {},
     "output_type": "execute_result"
    },
    {
     "data": {
      "image/png": "[encoded data removed]",
      "text/plain": [
       "<Figure size 600x400 with 1 Axes>"
      ]
     },
     "metadata": {},
     "output_type": "display_data"
    }
   ],
   "source": [
    "# explore is_male category\n",
    "df_cr[\"is_male\"].value_counts().plot(kind='barh')"
   ]
  },
  {
   "cell_type": "markdown",
   "id": "ce305b4d",
   "metadata": {},
   "source": [
    "##### debt_to_income_ratio \n",
    "Description: The ratio, as a percentage, of the applicant’s or borrower’s total monthly debt to the total monthly income relied on in making the credit decision"
   ]
  },
  {
   "cell_type": "code",
   "execution_count": 159,
   "id": "8e5035b9",
   "metadata": {
    "scrolled": false
   },
   "outputs": [
    {
     "data": {
      "text/plain": [
       "array(['30%-<36%', '36%-<50%', '20%-<30%', '>60%', '<20%', '50%-60%', nan,\n",
       "       'Exempt'], dtype=object)"
      ]
     },
     "execution_count": 159,
     "metadata": {},
     "output_type": "execute_result"
    }
   ],
   "source": [
    "pd.unique(df_cr['debt_to_income_ratio']) # should create a new column: 36% - 49%, Exempt = NaN?"
   ]
  },
  {
   "cell_type": "code",
   "execution_count": 160,
   "id": "eeadeab5",
   "metadata": {},
   "outputs": [],
   "source": [
    "df_cr[\"debt_to_income_ratio\"].replace(['48', '44', '38', '42', '40', '36', '49', '47', '43', '41', '39', '46', '37', '45'], '36%-<50%', regex=False, inplace=True)"
   ]
  },
  {
   "cell_type": "code",
   "execution_count": 161,
   "id": "cf8f868a",
   "metadata": {},
   "outputs": [],
   "source": [
    "# replace \"Exempt\" with NAs\n",
    "df_cr['debt_to_income_ratio'].mask((df_cr['debt_to_income_ratio'] == 'Exempt'), None, inplace=True)"
   ]
  },
  {
   "cell_type": "code",
   "execution_count": 162,
   "id": "1f5b5279",
   "metadata": {},
   "outputs": [],
   "source": [
    "# drop null values\n",
    "df_cr = df_cr[pd.to_numeric(df_cr['debt_to_income_ratio'].notnull(),errors='coerce')]"
   ]
  },
  {
   "cell_type": "code",
   "execution_count": 163,
   "id": "1d6e4d04",
   "metadata": {
    "scrolled": true
   },
   "outputs": [
    {
     "data": {
      "text/plain": [
       "array(['30%-<36%', '36%-<50%', '20%-<30%', '>60%', '<20%', '50%-60%'],\n",
       "      dtype=object)"
      ]
     },
     "execution_count": 163,
     "metadata": {},
     "output_type": "execute_result"
    }
   ],
   "source": [
    "pd.unique(df_cr['debt_to_income_ratio'])"
   ]
  },
  {
   "cell_type": "code",
   "execution_count": 164,
   "id": "b6692afd",
   "metadata": {},
   "outputs": [],
   "source": [
    "df_cr['debt_to_income_ratio'].mask((df_cr['debt_to_income_ratio'] == \"<20%\"), 1, inplace=True)\n",
    "df_cr['debt_to_income_ratio'].mask((df_cr['debt_to_income_ratio'] == \"20%-<30%\"), 2, inplace=True)\n",
    "df_cr['debt_to_income_ratio'].mask((df_cr['debt_to_income_ratio'] == \"30%-<36%\"), 3, inplace=True)\n",
    "df_cr['debt_to_income_ratio'].mask((df_cr['debt_to_income_ratio'] == \"36%-<50%\"), 4, inplace=True)\n",
    "df_cr['debt_to_income_ratio'].mask((df_cr['debt_to_income_ratio'] == \"50%-60%\"), 5, inplace=True)\n",
    "df_cr['debt_to_income_ratio'].mask((df_cr['debt_to_income_ratio'] == \">60%\"), 6, inplace=True)"
   ]
  },
  {
   "cell_type": "code",
   "execution_count": 165,
   "id": "e161ee48",
   "metadata": {},
   "outputs": [],
   "source": [
    "# reset index\n",
    "df_cr = df_cr.reset_index(drop = True)"
   ]
  },
  {
   "cell_type": "code",
   "execution_count": 166,
   "id": "4fee57db",
   "metadata": {
    "scrolled": false
   },
   "outputs": [
    {
     "data": {
      "text/plain": [
       "<AxesSubplot:>"
      ]
     },
     "execution_count": 166,
     "metadata": {},
     "output_type": "execute_result"
    },
    {
     "data": {
      "image/png": "[encoded data removed]",
      "text/plain": [
       "<Figure size 600x400 with 1 Axes>"
      ]
     },
     "metadata": {},
     "output_type": "display_data"
    }
   ],
   "source": [
    "# explore debt_to_income_ratio category\n",
    "df_cr[\"debt_to_income_ratio\"].value_counts().plot(kind='barh')"
   ]
  },
  {
   "cell_type": "markdown",
   "id": "3338a246",
   "metadata": {},
   "source": [
    "##### mid_debt_to_income_ratio  (NEW column for log reg)\n",
    "Description: Mid values (it's neither median nor average because of lack of info) of the categorical variable debt_to_income_ratio"
   ]
  },
  {
   "cell_type": "code",
   "execution_count": 167,
   "id": "7585f62a",
   "metadata": {},
   "outputs": [],
   "source": [
    "r_conditions = [\n",
    "    df_cr['debt_to_income_ratio'] == '<20%',\n",
    "    df_cr['debt_to_income_ratio'] == '20%-<30%',\n",
    "    df_cr['debt_to_income_ratio'] == '30%-<36%',\n",
    "    df_cr['debt_to_income_ratio'] == '36%-<50%',\n",
    "    df_cr['debt_to_income_ratio'] == '50%-60%',\n",
    "    df_cr['debt_to_income_ratio'] == '>60%'\n",
    "]\n",
    "\n",
    "r_choices = [0.15, 0.25, 0.33, 0.38, 0.55, 0.65]\n",
    "\n",
    "df_cr['mid_debt_to_income_ratio'] = np.select(r_conditions, r_choices, default=0)"
   ]
  },
  {
   "cell_type": "code",
   "execution_count": 168,
   "id": "6fb1b0c0",
   "metadata": {},
   "outputs": [],
   "source": [
    "# # explore mid_debt_to_income_ratio category\n",
    "# df_cr[\"mid_debt_to_income_ratio\"].value_counts().plot(kind='barh')"
   ]
  },
  {
   "cell_type": "markdown",
   "id": "d6531934",
   "metadata": {},
   "source": [
    "##### debt  (NEW column for log reg)\n",
    "Description: debt = mid_debt_to_income_ratio * income"
   ]
  },
  {
   "cell_type": "code",
   "execution_count": 169,
   "id": "abcf4928",
   "metadata": {},
   "outputs": [],
   "source": [
    "df_cr['debt'] = np.multiply(df_cr['mid_debt_to_income_ratio'], df_cr['income'])"
   ]
  },
  {
   "cell_type": "markdown",
   "id": "7be7b76b",
   "metadata": {},
   "source": [
    "##### applicant_age\n",
    "Young Adult - 18 - 34 <br>\n",
    "Middle-Aged Adult - 35-54 <br>\n",
    "Older Adult - > 55 <br>\n",
    "(resource: https://academic.oup.com/gerontologist/article/42/1/92/641498)"
   ]
  },
  {
   "cell_type": "code",
   "execution_count": 170,
   "id": "71bb546f",
   "metadata": {
    "scrolled": true
   },
   "outputs": [
    {
     "data": {
      "text/plain": [
       "array(['55-64', '35-44', '65-74', '>74', '45-54', '25-34', '<25', '8888'],\n",
       "      dtype=object)"
      ]
     },
     "execution_count": 170,
     "metadata": {},
     "output_type": "execute_result"
    }
   ],
   "source": [
    "pd.unique(df_cr['applicant_age']) # 8888\n",
    "# df_cr[(df_cr['applicant_age'] == '8888')] # print 4 rows with age = 8888"
   ]
  },
  {
   "cell_type": "code",
   "execution_count": 171,
   "id": "1fcded44",
   "metadata": {},
   "outputs": [],
   "source": [
    "# drop rows with 8888\n",
    "df_cr.drop(df_cr.index[df_cr['applicant_age'] == '8888'], inplace=True)"
   ]
  },
  {
   "cell_type": "code",
   "execution_count": 172,
   "id": "1a7c4991",
   "metadata": {},
   "outputs": [
    {
     "data": {
      "text/plain": [
       "array(['55-64', '35-44', '65-74', '>74', '45-54', '25-34', '<25'],\n",
       "      dtype=object)"
      ]
     },
     "execution_count": 172,
     "metadata": {},
     "output_type": "execute_result"
    }
   ],
   "source": [
    "pd.unique(df_cr['applicant_age'])"
   ]
  },
  {
   "cell_type": "code",
   "execution_count": 173,
   "id": "3f588378",
   "metadata": {},
   "outputs": [],
   "source": [
    "# reset index\n",
    "df_cr = df_cr.reset_index(drop = True)"
   ]
  },
  {
   "cell_type": "code",
   "execution_count": 174,
   "id": "c2e8e3df",
   "metadata": {},
   "outputs": [],
   "source": [
    "age_conditions = [\n",
    "    (df_cr['applicant_age'] == '<25') | (df_cr['applicant_age'] == '25-34'),\n",
    "    (df_cr['applicant_age'] == '35-44') | (df_cr['applicant_age'] == '45-54'),\n",
    "    (df_cr['applicant_age'] == '55-64') | (df_cr['applicant_age'] == '65-74') | (df_cr['applicant_age'] == '>74')\n",
    "]\n",
    "\n",
    "# *** age_choices = ['Young', 'Middle-Aged', 'Older']\n",
    "age_choices = [1, 2, 3]\n",
    "\n",
    "df_cr['applicant_age'] = np.select(age_conditions, age_choices, default=0)"
   ]
  },
  {
   "cell_type": "code",
   "execution_count": 175,
   "id": "809d474c",
   "metadata": {
    "scrolled": true
   },
   "outputs": [
    {
     "data": {
      "text/plain": [
       "<AxesSubplot:>"
      ]
     },
     "execution_count": 175,
     "metadata": {},
     "output_type": "execute_result"
    },
    {
     "data": {
      "image/png": "[encoded data removed]",
      "text/plain": [
       "<Figure size 600x400 with 1 Axes>"
      ]
     },
     "metadata": {},
     "output_type": "display_data"
    }
   ],
   "source": [
    "# explore applicant_age category\n",
    "df_cr[\"applicant_age\"].value_counts().plot(kind='barh')"
   ]
  },
  {
   "cell_type": "code",
   "execution_count": 178,
   "id": "b5800b58",
   "metadata": {
    "scrolled": true
   },
   "outputs": [
    {
     "name": "stdout",
     "output_type": "stream",
     "text": [
      "<class 'pandas.core.frame.DataFrame'>\n",
      "RangeIndex: 184209 entries, 0 to 184208\n",
      "Data columns (total 22 columns):\n",
      " #   Column                       Non-Null Count   Dtype  \n",
      "---  ------                       --------------   -----  \n",
      " 0   is_not_hispanic              184209 non-null  object \n",
      " 1   derived_race                 184209 non-null  object \n",
      " 2   is_male                      184209 non-null  object \n",
      " 3   action_taken                 184209 non-null  int64  \n",
      " 4   preapproval_requested        184209 non-null  int64  \n",
      " 5   loan_type                    184209 non-null  int64  \n",
      " 6   loan_purpose                 184209 non-null  float64\n",
      " 7   loan_amount                  184209 non-null  float64\n",
      " 8   loan_to_value_ratio          184209 non-null  float64\n",
      " 9   interest_only_payment        184209 non-null  float64\n",
      " 10  balloon_payment              184209 non-null  int64  \n",
      " 11  income                       184209 non-null  float64\n",
      " 12  debt_to_income_ratio         184209 non-null  object \n",
      " 13  applicant_age                184209 non-null  int32  \n",
      " 14  washington_dc                184209 non-null  int64  \n",
      " 15  waco_tx                      184209 non-null  int64  \n",
      " 16  chicago_il                   184209 non-null  int64  \n",
      " 17  log_loan_to_value_ratio      184209 non-null  float64\n",
      " 18  derived_income               184209 non-null  int32  \n",
      " 19  derived_loan_to_value_ratio  184209 non-null  int32  \n",
      " 20  mid_debt_to_income_ratio     184209 non-null  float64\n",
      " 21  debt                         184209 non-null  float64\n",
      "dtypes: float64(8), int32(3), int64(7), object(4)\n",
      "memory usage: 28.8+ MB\n"
     ]
    }
   ],
   "source": [
    "# cleaned dataset info\n",
    "df_cr.info()"
   ]
  },
  {
   "cell_type": "code",
   "execution_count": 179,
   "id": "3bd68269",
   "metadata": {},
   "outputs": [
    {
     "data": {
      "text/html": [
       "<div>\n",
       "<style scoped>\n",
       "    .dataframe tbody tr th:only-of-type {\n",
       "        vertical-align: middle;\n",
       "    }\n",
       "\n",
       "    .dataframe tbody tr th {\n",
       "        vertical-align: top;\n",
       "    }\n",
       "\n",
       "    .dataframe thead th {\n",
       "        text-align: right;\n",
       "    }\n",
       "</style>\n",
       "<table border=\"1\" class=\"dataframe\">\n",
       "  <thead>\n",
       "    <tr style=\"text-align: right;\">\n",
       "      <th></th>\n",
       "      <th>is_not_hispanic</th>\n",
       "      <th>derived_race</th>\n",
       "      <th>is_male</th>\n",
       "      <th>action_taken</th>\n",
       "      <th>preapproval_requested</th>\n",
       "      <th>loan_type</th>\n",
       "      <th>loan_purpose</th>\n",
       "      <th>loan_amount</th>\n",
       "      <th>loan_to_value_ratio</th>\n",
       "      <th>interest_only_payment</th>\n",
       "      <th>...</th>\n",
       "      <th>debt_to_income_ratio</th>\n",
       "      <th>applicant_age</th>\n",
       "      <th>washington_dc</th>\n",
       "      <th>waco_tx</th>\n",
       "      <th>chicago_il</th>\n",
       "      <th>log_loan_to_value_ratio</th>\n",
       "      <th>derived_income</th>\n",
       "      <th>derived_loan_to_value_ratio</th>\n",
       "      <th>mid_debt_to_income_ratio</th>\n",
       "      <th>debt</th>\n",
       "    </tr>\n",
       "  </thead>\n",
       "  <tbody>\n",
       "    <tr>\n",
       "      <th>0</th>\n",
       "      <td>0</td>\n",
       "      <td>1</td>\n",
       "      <td>1</td>\n",
       "      <td>1</td>\n",
       "      <td>0</td>\n",
       "      <td>1</td>\n",
       "      <td>1.0</td>\n",
       "      <td>805000.0</td>\n",
       "      <td>61.000</td>\n",
       "      <td>0.0</td>\n",
       "      <td>...</td>\n",
       "      <td>3</td>\n",
       "      <td>3</td>\n",
       "      <td>0</td>\n",
       "      <td>0</td>\n",
       "      <td>0</td>\n",
       "      <td>5.930737</td>\n",
       "      <td>5</td>\n",
       "      <td>2</td>\n",
       "      <td>0.0</td>\n",
       "      <td>0.0</td>\n",
       "    </tr>\n",
       "    <tr>\n",
       "      <th>1</th>\n",
       "      <td>0</td>\n",
       "      <td>1</td>\n",
       "      <td>0</td>\n",
       "      <td>1</td>\n",
       "      <td>0</td>\n",
       "      <td>1</td>\n",
       "      <td>3.0</td>\n",
       "      <td>925000.0</td>\n",
       "      <td>78.000</td>\n",
       "      <td>0.0</td>\n",
       "      <td>...</td>\n",
       "      <td>3</td>\n",
       "      <td>2</td>\n",
       "      <td>0</td>\n",
       "      <td>0</td>\n",
       "      <td>1</td>\n",
       "      <td>6.285402</td>\n",
       "      <td>4</td>\n",
       "      <td>2</td>\n",
       "      <td>0.0</td>\n",
       "      <td>0.0</td>\n",
       "    </tr>\n",
       "    <tr>\n",
       "      <th>2</th>\n",
       "      <td>0</td>\n",
       "      <td>1</td>\n",
       "      <td>0</td>\n",
       "      <td>1</td>\n",
       "      <td>0</td>\n",
       "      <td>1</td>\n",
       "      <td>1.0</td>\n",
       "      <td>1235000.0</td>\n",
       "      <td>80.000</td>\n",
       "      <td>0.0</td>\n",
       "      <td>...</td>\n",
       "      <td>3</td>\n",
       "      <td>3</td>\n",
       "      <td>1</td>\n",
       "      <td>0</td>\n",
       "      <td>0</td>\n",
       "      <td>6.321928</td>\n",
       "      <td>5</td>\n",
       "      <td>2</td>\n",
       "      <td>0.0</td>\n",
       "      <td>0.0</td>\n",
       "    </tr>\n",
       "    <tr>\n",
       "      <th>3</th>\n",
       "      <td>0</td>\n",
       "      <td>1</td>\n",
       "      <td>1</td>\n",
       "      <td>1</td>\n",
       "      <td>0</td>\n",
       "      <td>2</td>\n",
       "      <td>3.0</td>\n",
       "      <td>205000.0</td>\n",
       "      <td>35.548</td>\n",
       "      <td>0.0</td>\n",
       "      <td>...</td>\n",
       "      <td>4</td>\n",
       "      <td>3</td>\n",
       "      <td>1</td>\n",
       "      <td>0</td>\n",
       "      <td>0</td>\n",
       "      <td>5.151696</td>\n",
       "      <td>3</td>\n",
       "      <td>2</td>\n",
       "      <td>0.0</td>\n",
       "      <td>0.0</td>\n",
       "    </tr>\n",
       "    <tr>\n",
       "      <th>4</th>\n",
       "      <td>0</td>\n",
       "      <td>1</td>\n",
       "      <td>1</td>\n",
       "      <td>1</td>\n",
       "      <td>0</td>\n",
       "      <td>1</td>\n",
       "      <td>1.0</td>\n",
       "      <td>305000.0</td>\n",
       "      <td>95.000</td>\n",
       "      <td>0.0</td>\n",
       "      <td>...</td>\n",
       "      <td>4</td>\n",
       "      <td>2</td>\n",
       "      <td>0</td>\n",
       "      <td>0</td>\n",
       "      <td>0</td>\n",
       "      <td>6.569856</td>\n",
       "      <td>4</td>\n",
       "      <td>3</td>\n",
       "      <td>0.0</td>\n",
       "      <td>0.0</td>\n",
       "    </tr>\n",
       "    <tr>\n",
       "      <th>...</th>\n",
       "      <td>...</td>\n",
       "      <td>...</td>\n",
       "      <td>...</td>\n",
       "      <td>...</td>\n",
       "      <td>...</td>\n",
       "      <td>...</td>\n",
       "      <td>...</td>\n",
       "      <td>...</td>\n",
       "      <td>...</td>\n",
       "      <td>...</td>\n",
       "      <td>...</td>\n",
       "      <td>...</td>\n",
       "      <td>...</td>\n",
       "      <td>...</td>\n",
       "      <td>...</td>\n",
       "      <td>...</td>\n",
       "      <td>...</td>\n",
       "      <td>...</td>\n",
       "      <td>...</td>\n",
       "      <td>...</td>\n",
       "      <td>...</td>\n",
       "    </tr>\n",
       "    <tr>\n",
       "      <th>184204</th>\n",
       "      <td>1</td>\n",
       "      <td>1</td>\n",
       "      <td>1</td>\n",
       "      <td>1</td>\n",
       "      <td>0</td>\n",
       "      <td>1</td>\n",
       "      <td>1.0</td>\n",
       "      <td>245000.0</td>\n",
       "      <td>97.000</td>\n",
       "      <td>0.0</td>\n",
       "      <td>...</td>\n",
       "      <td>4</td>\n",
       "      <td>2</td>\n",
       "      <td>1</td>\n",
       "      <td>0</td>\n",
       "      <td>0</td>\n",
       "      <td>6.599913</td>\n",
       "      <td>2</td>\n",
       "      <td>4</td>\n",
       "      <td>0.0</td>\n",
       "      <td>0.0</td>\n",
       "    </tr>\n",
       "    <tr>\n",
       "      <th>184205</th>\n",
       "      <td>0</td>\n",
       "      <td>4</td>\n",
       "      <td>1</td>\n",
       "      <td>1</td>\n",
       "      <td>0</td>\n",
       "      <td>1</td>\n",
       "      <td>3.0</td>\n",
       "      <td>755000.0</td>\n",
       "      <td>80.000</td>\n",
       "      <td>0.0</td>\n",
       "      <td>...</td>\n",
       "      <td>2</td>\n",
       "      <td>3</td>\n",
       "      <td>1</td>\n",
       "      <td>0</td>\n",
       "      <td>0</td>\n",
       "      <td>6.321928</td>\n",
       "      <td>4</td>\n",
       "      <td>2</td>\n",
       "      <td>0.0</td>\n",
       "      <td>0.0</td>\n",
       "    </tr>\n",
       "    <tr>\n",
       "      <th>184206</th>\n",
       "      <td>0</td>\n",
       "      <td>1</td>\n",
       "      <td>0</td>\n",
       "      <td>1</td>\n",
       "      <td>0</td>\n",
       "      <td>1</td>\n",
       "      <td>1.0</td>\n",
       "      <td>895000.0</td>\n",
       "      <td>85.000</td>\n",
       "      <td>0.0</td>\n",
       "      <td>...</td>\n",
       "      <td>4</td>\n",
       "      <td>1</td>\n",
       "      <td>1</td>\n",
       "      <td>0</td>\n",
       "      <td>0</td>\n",
       "      <td>6.409391</td>\n",
       "      <td>4</td>\n",
       "      <td>3</td>\n",
       "      <td>0.0</td>\n",
       "      <td>0.0</td>\n",
       "    </tr>\n",
       "    <tr>\n",
       "      <th>184207</th>\n",
       "      <td>0</td>\n",
       "      <td>1</td>\n",
       "      <td>0</td>\n",
       "      <td>1</td>\n",
       "      <td>0</td>\n",
       "      <td>1</td>\n",
       "      <td>3.0</td>\n",
       "      <td>1315000.0</td>\n",
       "      <td>70.000</td>\n",
       "      <td>0.0</td>\n",
       "      <td>...</td>\n",
       "      <td>4</td>\n",
       "      <td>2</td>\n",
       "      <td>0</td>\n",
       "      <td>0</td>\n",
       "      <td>1</td>\n",
       "      <td>6.129283</td>\n",
       "      <td>5</td>\n",
       "      <td>2</td>\n",
       "      <td>0.0</td>\n",
       "      <td>0.0</td>\n",
       "    </tr>\n",
       "    <tr>\n",
       "      <th>184208</th>\n",
       "      <td>0</td>\n",
       "      <td>1</td>\n",
       "      <td>1</td>\n",
       "      <td>1</td>\n",
       "      <td>0</td>\n",
       "      <td>1</td>\n",
       "      <td>3.0</td>\n",
       "      <td>485000.0</td>\n",
       "      <td>84.000</td>\n",
       "      <td>0.0</td>\n",
       "      <td>...</td>\n",
       "      <td>3</td>\n",
       "      <td>2</td>\n",
       "      <td>0</td>\n",
       "      <td>0</td>\n",
       "      <td>1</td>\n",
       "      <td>6.392317</td>\n",
       "      <td>4</td>\n",
       "      <td>3</td>\n",
       "      <td>0.0</td>\n",
       "      <td>0.0</td>\n",
       "    </tr>\n",
       "  </tbody>\n",
       "</table>\n",
       "<p>184209 rows × 22 columns</p>\n",
       "</div>"
      ],
      "text/plain": [
       "       is_not_hispanic derived_race is_male  action_taken  \\\n",
       "0                    0            1       1             1   \n",
       "1                    0            1       0             1   \n",
       "2                    0            1       0             1   \n",
       "3                    0            1       1             1   \n",
       "4                    0            1       1             1   \n",
       "...                ...          ...     ...           ...   \n",
       "184204               1            1       1             1   \n",
       "184205               0            4       1             1   \n",
       "184206               0            1       0             1   \n",
       "184207               0            1       0             1   \n",
       "184208               0            1       1             1   \n",
       "\n",
       "        preapproval_requested  loan_type  loan_purpose  loan_amount  \\\n",
       "0                           0          1           1.0     805000.0   \n",
       "1                           0          1           3.0     925000.0   \n",
       "2                           0          1           1.0    1235000.0   \n",
       "3                           0          2           3.0     205000.0   \n",
       "4                           0          1           1.0     305000.0   \n",
       "...                       ...        ...           ...          ...   \n",
       "184204                      0          1           1.0     245000.0   \n",
       "184205                      0          1           3.0     755000.0   \n",
       "184206                      0          1           1.0     895000.0   \n",
       "184207                      0          1           3.0    1315000.0   \n",
       "184208                      0          1           3.0     485000.0   \n",
       "\n",
       "        loan_to_value_ratio  interest_only_payment  ...  debt_to_income_ratio  \\\n",
       "0                    61.000                    0.0  ...                     3   \n",
       "1                    78.000                    0.0  ...                     3   \n",
       "2                    80.000                    0.0  ...                     3   \n",
       "3                    35.548                    0.0  ...                     4   \n",
       "4                    95.000                    0.0  ...                     4   \n",
       "...                     ...                    ...  ...                   ...   \n",
       "184204               97.000                    0.0  ...                     4   \n",
       "184205               80.000                    0.0  ...                     2   \n",
       "184206               85.000                    0.0  ...                     4   \n",
       "184207               70.000                    0.0  ...                     4   \n",
       "184208               84.000                    0.0  ...                     3   \n",
       "\n",
       "        applicant_age washington_dc  waco_tx  chicago_il  \\\n",
       "0                   3             0        0           0   \n",
       "1                   2             0        0           1   \n",
       "2                   3             1        0           0   \n",
       "3                   3             1        0           0   \n",
       "4                   2             0        0           0   \n",
       "...               ...           ...      ...         ...   \n",
       "184204              2             1        0           0   \n",
       "184205              3             1        0           0   \n",
       "184206              1             1        0           0   \n",
       "184207              2             0        0           1   \n",
       "184208              2             0        0           1   \n",
       "\n",
       "        log_loan_to_value_ratio  derived_income  derived_loan_to_value_ratio  \\\n",
       "0                      5.930737               5                            2   \n",
       "1                      6.285402               4                            2   \n",
       "2                      6.321928               5                            2   \n",
       "3                      5.151696               3                            2   \n",
       "4                      6.569856               4                            3   \n",
       "...                         ...             ...                          ...   \n",
       "184204                 6.599913               2                            4   \n",
       "184205                 6.321928               4                            2   \n",
       "184206                 6.409391               4                            3   \n",
       "184207                 6.129283               5                            2   \n",
       "184208                 6.392317               4                            3   \n",
       "\n",
       "        mid_debt_to_income_ratio  debt  \n",
       "0                            0.0   0.0  \n",
       "1                            0.0   0.0  \n",
       "2                            0.0   0.0  \n",
       "3                            0.0   0.0  \n",
       "4                            0.0   0.0  \n",
       "...                          ...   ...  \n",
       "184204                       0.0   0.0  \n",
       "184205                       0.0   0.0  \n",
       "184206                       0.0   0.0  \n",
       "184207                       0.0   0.0  \n",
       "184208                       0.0   0.0  \n",
       "\n",
       "[184209 rows x 22 columns]"
      ]
     },
     "execution_count": 179,
     "metadata": {},
     "output_type": "execute_result"
    }
   ],
   "source": [
    "df_cr"
   ]
  },
  {
   "cell_type": "markdown",
   "id": "3ac48b8d",
   "metadata": {},
   "source": [
    "#### Understand Numerical Feature Distribution\n",
    "##### loan_amount, loan_to_value_ratio, income"
   ]
  },
  {
   "cell_type": "code",
   "execution_count": 180,
   "id": "e609c87e",
   "metadata": {
    "scrolled": true
   },
   "outputs": [
    {
     "data": {
      "text/plain": [
       "<AxesSubplot:xlabel='action_taken', ylabel='loan_to_value_ratio'>"
      ]
     },
     "execution_count": 180,
     "metadata": {},
     "output_type": "execute_result"
    },
    {
     "data": {
      "image/png": "[encoded data removed]",
      "text/plain": [
       "<Figure size 1200x600 with 2 Axes>"
      ]
     },
     "metadata": {},
     "output_type": "display_data"
    }
   ],
   "source": [
    "_,axs = plt.subplots(1,2, figsize=[12,6])\n",
    "_.title = \"title\"\n",
    "sns.boxplot(x='action_taken', y='loan_amount', data=df_cr, ax=axs[0])\n",
    "sns.boxplot(x='action_taken', y='loan_to_value_ratio', data=df_cr, ax=axs[1])"
   ]
  },
  {
   "cell_type": "code",
   "execution_count": 181,
   "id": "1996fe40",
   "metadata": {},
   "outputs": [
    {
     "data": {
      "text/plain": [
       "<AxesSubplot:xlabel='action_taken', ylabel='debt'>"
      ]
     },
     "execution_count": 181,
     "metadata": {},
     "output_type": "execute_result"
    },
    {
     "data": {
      "image/png": "[encoded data removed]",
      "text/plain": [
       "<Figure size 1200x600 with 2 Axes>"
      ]
     },
     "metadata": {},
     "output_type": "display_data"
    }
   ],
   "source": [
    " _,axs = plt.subplots(1,2, figsize=[12,6])\n",
    "sns.boxplot(x='action_taken', y='income', data=df_cr, ax=axs[0])\n",
    "sns.boxplot(x='action_taken', y='debt', data=df_cr, ax=axs[1])"
   ]
  },
  {
   "cell_type": "markdown",
   "id": "3108fde1",
   "metadata": {},
   "source": [
    "#### Understand Categorical Feature Distribution\n",
    "##### derived_income, derived_loan_to_value_ratio, debt, derived_ethnicity, derived_race, interest_only_payment, balloon_payment, derived_sex, preapproval, loan_type,  loan_purpose"
   ]
  },
  {
   "cell_type": "code",
   "execution_count": 182,
   "id": "0c48ea2a",
   "metadata": {
    "scrolled": true
   },
   "outputs": [
    {
     "data": {
      "text/plain": [
       "<AxesSubplot:xlabel='action_taken', ylabel='count'>"
      ]
     },
     "execution_count": 182,
     "metadata": {},
     "output_type": "execute_result"
    },
    {
     "data": {
      "image/png": "[encoded data removed]",
      "text/plain": [
       "<Figure size 1200x600 with 2 Axes>"
      ]
     },
     "metadata": {},
     "output_type": "display_data"
    }
   ],
   "source": [
    " _,axss = plt.subplots(1,2, figsize=[12,6])\n",
    "sns.countplot(x='action_taken', hue='derived_income', data=df_cr, ax=axss[0])\n",
    "sns.countplot(x='action_taken', hue='derived_loan_to_value_ratio', data=df_cr, ax=axss[1])"
   ]
  },
  {
   "cell_type": "code",
   "execution_count": 183,
   "id": "ea040280",
   "metadata": {
    "scrolled": true
   },
   "outputs": [
    {
     "data": {
      "text/plain": [
       "<AxesSubplot:xlabel='action_taken', ylabel='count'>"
      ]
     },
     "execution_count": 183,
     "metadata": {},
     "output_type": "execute_result"
    },
    {
     "data": {
      "image/png": "[encoded data removed]",
      "text/plain": [
       "<Figure size 1200x600 with 2 Axes>"
      ]
     },
     "metadata": {},
     "output_type": "display_data"
    }
   ],
   "source": [
    " _,axss = plt.subplots(1,2, figsize=[12,6])\n",
    "sns.countplot(x='action_taken', hue='is_not_hispanic', data=df_cr, ax=axss[0])\n",
    "sns.countplot(x='action_taken', hue='derived_race', data=df_cr, ax=axss[1])"
   ]
  },
  {
   "cell_type": "code",
   "execution_count": 184,
   "id": "ea3f535e",
   "metadata": {},
   "outputs": [
    {
     "data": {
      "text/plain": [
       "<AxesSubplot:xlabel='action_taken', ylabel='count'>"
      ]
     },
     "execution_count": 184,
     "metadata": {},
     "output_type": "execute_result"
    },
    {
     "data": {
      "image/png": "[encoded data removed]",
      "text/plain": [
       "<Figure size 1200x600 with 2 Axes>"
      ]
     },
     "metadata": {},
     "output_type": "display_data"
    }
   ],
   "source": [
    "_,axss = plt.subplots(1,2, figsize=[12,6])\n",
    "sns.countplot(x='action_taken', hue='interest_only_payment', data=df_cr, ax=axss[0])\n",
    "sns.countplot(x='action_taken', hue='balloon_payment', data=df_cr, ax=axss[1])"
   ]
  },
  {
   "cell_type": "code",
   "execution_count": 185,
   "id": "ae94c541",
   "metadata": {},
   "outputs": [
    {
     "data": {
      "text/plain": [
       "<AxesSubplot:xlabel='action_taken', ylabel='count'>"
      ]
     },
     "execution_count": 185,
     "metadata": {},
     "output_type": "execute_result"
    },
    {
     "data": {
      "image/png": "[encoded data removed]",
      "text/plain": [
       "<Figure size 1200x600 with 2 Axes>"
      ]
     },
     "metadata": {},
     "output_type": "display_data"
    }
   ],
   "source": [
    "_,axss = plt.subplots(1,2, figsize=[12,6])\n",
    "sns.countplot(x='action_taken', hue='is_male', data=df_cr, ax=axss[0])\n",
    "sns.countplot(x='action_taken', hue='preapproval_requested', data=df_cr, ax=axss[1])"
   ]
  },
  {
   "cell_type": "code",
   "execution_count": 186,
   "id": "454a7916",
   "metadata": {},
   "outputs": [
    {
     "data": {
      "text/plain": [
       "<AxesSubplot:xlabel='action_taken', ylabel='count'>"
      ]
     },
     "execution_count": 186,
     "metadata": {},
     "output_type": "execute_result"
    },
    {
     "data": {
      "image/png": "[encoded data removed]",
      "text/plain": [
       "<Figure size 1200x600 with 2 Axes>"
      ]
     },
     "metadata": {},
     "output_type": "display_data"
    }
   ],
   "source": [
    "_,axss = plt.subplots(1,2, figsize=[12,6])\n",
    "sns.countplot(x='action_taken', hue='loan_type', data=df_cr, ax=axss[0])\n",
    "sns.countplot(x='action_taken', hue='loan_purpose', data=df_cr, ax=axss[1])"
   ]
  },
  {
   "cell_type": "code",
   "execution_count": 187,
   "id": "53e0b785",
   "metadata": {
    "scrolled": true
   },
   "outputs": [
    {
     "data": {
      "text/plain": [
       "<AxesSubplot:xlabel='action_taken', ylabel='count'>"
      ]
     },
     "execution_count": 187,
     "metadata": {},
     "output_type": "execute_result"
    },
    {
     "data": {
      "image/png": "[encoded data removed]",
      "text/plain": [
       "<Figure size 1200x600 with 2 Axes>"
      ]
     },
     "metadata": {},
     "output_type": "display_data"
    }
   ],
   "source": [
    "_,axss = plt.subplots(1,2, figsize=[12,6])\n",
    "sns.countplot(x='action_taken', hue='debt_to_income_ratio', data=df_cr, ax=axss[0])\n",
    "sns.countplot(x='action_taken', hue='applicant_age', data=df_cr, ax=axss[1])"
   ]
  },
  {
   "cell_type": "code",
   "execution_count": 188,
   "id": "05d2d6ea",
   "metadata": {
    "scrolled": true
   },
   "outputs": [
    {
     "data": {
      "text/html": [
       "<div>\n",
       "<style scoped>\n",
       "    .dataframe tbody tr th:only-of-type {\n",
       "        vertical-align: middle;\n",
       "    }\n",
       "\n",
       "    .dataframe tbody tr th {\n",
       "        vertical-align: top;\n",
       "    }\n",
       "\n",
       "    .dataframe thead th {\n",
       "        text-align: right;\n",
       "    }\n",
       "</style>\n",
       "<table border=\"1\" class=\"dataframe\">\n",
       "  <thead>\n",
       "    <tr style=\"text-align: right;\">\n",
       "      <th></th>\n",
       "      <th>is_not_hispanic</th>\n",
       "      <th>derived_race</th>\n",
       "      <th>is_male</th>\n",
       "      <th>action_taken</th>\n",
       "      <th>preapproval_requested</th>\n",
       "      <th>loan_type</th>\n",
       "      <th>loan_purpose</th>\n",
       "      <th>loan_amount</th>\n",
       "      <th>loan_to_value_ratio</th>\n",
       "      <th>interest_only_payment</th>\n",
       "      <th>...</th>\n",
       "      <th>debt_to_income_ratio</th>\n",
       "      <th>applicant_age</th>\n",
       "      <th>washington_dc</th>\n",
       "      <th>waco_tx</th>\n",
       "      <th>chicago_il</th>\n",
       "      <th>log_loan_to_value_ratio</th>\n",
       "      <th>derived_income</th>\n",
       "      <th>derived_loan_to_value_ratio</th>\n",
       "      <th>mid_debt_to_income_ratio</th>\n",
       "      <th>debt</th>\n",
       "    </tr>\n",
       "  </thead>\n",
       "  <tbody>\n",
       "    <tr>\n",
       "      <th>0</th>\n",
       "      <td>0</td>\n",
       "      <td>1</td>\n",
       "      <td>1</td>\n",
       "      <td>1</td>\n",
       "      <td>0</td>\n",
       "      <td>1</td>\n",
       "      <td>1.0</td>\n",
       "      <td>805000.0</td>\n",
       "      <td>61.000</td>\n",
       "      <td>0.0</td>\n",
       "      <td>...</td>\n",
       "      <td>3</td>\n",
       "      <td>3</td>\n",
       "      <td>0</td>\n",
       "      <td>0</td>\n",
       "      <td>0</td>\n",
       "      <td>5.930737</td>\n",
       "      <td>5</td>\n",
       "      <td>2</td>\n",
       "      <td>0.0</td>\n",
       "      <td>0.0</td>\n",
       "    </tr>\n",
       "    <tr>\n",
       "      <th>1</th>\n",
       "      <td>0</td>\n",
       "      <td>1</td>\n",
       "      <td>0</td>\n",
       "      <td>1</td>\n",
       "      <td>0</td>\n",
       "      <td>1</td>\n",
       "      <td>3.0</td>\n",
       "      <td>925000.0</td>\n",
       "      <td>78.000</td>\n",
       "      <td>0.0</td>\n",
       "      <td>...</td>\n",
       "      <td>3</td>\n",
       "      <td>2</td>\n",
       "      <td>0</td>\n",
       "      <td>0</td>\n",
       "      <td>1</td>\n",
       "      <td>6.285402</td>\n",
       "      <td>4</td>\n",
       "      <td>2</td>\n",
       "      <td>0.0</td>\n",
       "      <td>0.0</td>\n",
       "    </tr>\n",
       "    <tr>\n",
       "      <th>2</th>\n",
       "      <td>0</td>\n",
       "      <td>1</td>\n",
       "      <td>0</td>\n",
       "      <td>1</td>\n",
       "      <td>0</td>\n",
       "      <td>1</td>\n",
       "      <td>1.0</td>\n",
       "      <td>1235000.0</td>\n",
       "      <td>80.000</td>\n",
       "      <td>0.0</td>\n",
       "      <td>...</td>\n",
       "      <td>3</td>\n",
       "      <td>3</td>\n",
       "      <td>1</td>\n",
       "      <td>0</td>\n",
       "      <td>0</td>\n",
       "      <td>6.321928</td>\n",
       "      <td>5</td>\n",
       "      <td>2</td>\n",
       "      <td>0.0</td>\n",
       "      <td>0.0</td>\n",
       "    </tr>\n",
       "    <tr>\n",
       "      <th>3</th>\n",
       "      <td>0</td>\n",
       "      <td>1</td>\n",
       "      <td>1</td>\n",
       "      <td>1</td>\n",
       "      <td>0</td>\n",
       "      <td>2</td>\n",
       "      <td>3.0</td>\n",
       "      <td>205000.0</td>\n",
       "      <td>35.548</td>\n",
       "      <td>0.0</td>\n",
       "      <td>...</td>\n",
       "      <td>4</td>\n",
       "      <td>3</td>\n",
       "      <td>1</td>\n",
       "      <td>0</td>\n",
       "      <td>0</td>\n",
       "      <td>5.151696</td>\n",
       "      <td>3</td>\n",
       "      <td>2</td>\n",
       "      <td>0.0</td>\n",
       "      <td>0.0</td>\n",
       "    </tr>\n",
       "    <tr>\n",
       "      <th>4</th>\n",
       "      <td>0</td>\n",
       "      <td>1</td>\n",
       "      <td>1</td>\n",
       "      <td>1</td>\n",
       "      <td>0</td>\n",
       "      <td>1</td>\n",
       "      <td>1.0</td>\n",
       "      <td>305000.0</td>\n",
       "      <td>95.000</td>\n",
       "      <td>0.0</td>\n",
       "      <td>...</td>\n",
       "      <td>4</td>\n",
       "      <td>2</td>\n",
       "      <td>0</td>\n",
       "      <td>0</td>\n",
       "      <td>0</td>\n",
       "      <td>6.569856</td>\n",
       "      <td>4</td>\n",
       "      <td>3</td>\n",
       "      <td>0.0</td>\n",
       "      <td>0.0</td>\n",
       "    </tr>\n",
       "    <tr>\n",
       "      <th>...</th>\n",
       "      <td>...</td>\n",
       "      <td>...</td>\n",
       "      <td>...</td>\n",
       "      <td>...</td>\n",
       "      <td>...</td>\n",
       "      <td>...</td>\n",
       "      <td>...</td>\n",
       "      <td>...</td>\n",
       "      <td>...</td>\n",
       "      <td>...</td>\n",
       "      <td>...</td>\n",
       "      <td>...</td>\n",
       "      <td>...</td>\n",
       "      <td>...</td>\n",
       "      <td>...</td>\n",
       "      <td>...</td>\n",
       "      <td>...</td>\n",
       "      <td>...</td>\n",
       "      <td>...</td>\n",
       "      <td>...</td>\n",
       "      <td>...</td>\n",
       "    </tr>\n",
       "    <tr>\n",
       "      <th>184204</th>\n",
       "      <td>1</td>\n",
       "      <td>1</td>\n",
       "      <td>1</td>\n",
       "      <td>1</td>\n",
       "      <td>0</td>\n",
       "      <td>1</td>\n",
       "      <td>1.0</td>\n",
       "      <td>245000.0</td>\n",
       "      <td>97.000</td>\n",
       "      <td>0.0</td>\n",
       "      <td>...</td>\n",
       "      <td>4</td>\n",
       "      <td>2</td>\n",
       "      <td>1</td>\n",
       "      <td>0</td>\n",
       "      <td>0</td>\n",
       "      <td>6.599913</td>\n",
       "      <td>2</td>\n",
       "      <td>4</td>\n",
       "      <td>0.0</td>\n",
       "      <td>0.0</td>\n",
       "    </tr>\n",
       "    <tr>\n",
       "      <th>184205</th>\n",
       "      <td>0</td>\n",
       "      <td>4</td>\n",
       "      <td>1</td>\n",
       "      <td>1</td>\n",
       "      <td>0</td>\n",
       "      <td>1</td>\n",
       "      <td>3.0</td>\n",
       "      <td>755000.0</td>\n",
       "      <td>80.000</td>\n",
       "      <td>0.0</td>\n",
       "      <td>...</td>\n",
       "      <td>2</td>\n",
       "      <td>3</td>\n",
       "      <td>1</td>\n",
       "      <td>0</td>\n",
       "      <td>0</td>\n",
       "      <td>6.321928</td>\n",
       "      <td>4</td>\n",
       "      <td>2</td>\n",
       "      <td>0.0</td>\n",
       "      <td>0.0</td>\n",
       "    </tr>\n",
       "    <tr>\n",
       "      <th>184206</th>\n",
       "      <td>0</td>\n",
       "      <td>1</td>\n",
       "      <td>0</td>\n",
       "      <td>1</td>\n",
       "      <td>0</td>\n",
       "      <td>1</td>\n",
       "      <td>1.0</td>\n",
       "      <td>895000.0</td>\n",
       "      <td>85.000</td>\n",
       "      <td>0.0</td>\n",
       "      <td>...</td>\n",
       "      <td>4</td>\n",
       "      <td>1</td>\n",
       "      <td>1</td>\n",
       "      <td>0</td>\n",
       "      <td>0</td>\n",
       "      <td>6.409391</td>\n",
       "      <td>4</td>\n",
       "      <td>3</td>\n",
       "      <td>0.0</td>\n",
       "      <td>0.0</td>\n",
       "    </tr>\n",
       "    <tr>\n",
       "      <th>184207</th>\n",
       "      <td>0</td>\n",
       "      <td>1</td>\n",
       "      <td>0</td>\n",
       "      <td>1</td>\n",
       "      <td>0</td>\n",
       "      <td>1</td>\n",
       "      <td>3.0</td>\n",
       "      <td>1315000.0</td>\n",
       "      <td>70.000</td>\n",
       "      <td>0.0</td>\n",
       "      <td>...</td>\n",
       "      <td>4</td>\n",
       "      <td>2</td>\n",
       "      <td>0</td>\n",
       "      <td>0</td>\n",
       "      <td>1</td>\n",
       "      <td>6.129283</td>\n",
       "      <td>5</td>\n",
       "      <td>2</td>\n",
       "      <td>0.0</td>\n",
       "      <td>0.0</td>\n",
       "    </tr>\n",
       "    <tr>\n",
       "      <th>184208</th>\n",
       "      <td>0</td>\n",
       "      <td>1</td>\n",
       "      <td>1</td>\n",
       "      <td>1</td>\n",
       "      <td>0</td>\n",
       "      <td>1</td>\n",
       "      <td>3.0</td>\n",
       "      <td>485000.0</td>\n",
       "      <td>84.000</td>\n",
       "      <td>0.0</td>\n",
       "      <td>...</td>\n",
       "      <td>3</td>\n",
       "      <td>2</td>\n",
       "      <td>0</td>\n",
       "      <td>0</td>\n",
       "      <td>1</td>\n",
       "      <td>6.392317</td>\n",
       "      <td>4</td>\n",
       "      <td>3</td>\n",
       "      <td>0.0</td>\n",
       "      <td>0.0</td>\n",
       "    </tr>\n",
       "  </tbody>\n",
       "</table>\n",
       "<p>184209 rows × 22 columns</p>\n",
       "</div>"
      ],
      "text/plain": [
       "       is_not_hispanic derived_race is_male  action_taken  \\\n",
       "0                    0            1       1             1   \n",
       "1                    0            1       0             1   \n",
       "2                    0            1       0             1   \n",
       "3                    0            1       1             1   \n",
       "4                    0            1       1             1   \n",
       "...                ...          ...     ...           ...   \n",
       "184204               1            1       1             1   \n",
       "184205               0            4       1             1   \n",
       "184206               0            1       0             1   \n",
       "184207               0            1       0             1   \n",
       "184208               0            1       1             1   \n",
       "\n",
       "        preapproval_requested  loan_type  loan_purpose  loan_amount  \\\n",
       "0                           0          1           1.0     805000.0   \n",
       "1                           0          1           3.0     925000.0   \n",
       "2                           0          1           1.0    1235000.0   \n",
       "3                           0          2           3.0     205000.0   \n",
       "4                           0          1           1.0     305000.0   \n",
       "...                       ...        ...           ...          ...   \n",
       "184204                      0          1           1.0     245000.0   \n",
       "184205                      0          1           3.0     755000.0   \n",
       "184206                      0          1           1.0     895000.0   \n",
       "184207                      0          1           3.0    1315000.0   \n",
       "184208                      0          1           3.0     485000.0   \n",
       "\n",
       "        loan_to_value_ratio  interest_only_payment  ...  debt_to_income_ratio  \\\n",
       "0                    61.000                    0.0  ...                     3   \n",
       "1                    78.000                    0.0  ...                     3   \n",
       "2                    80.000                    0.0  ...                     3   \n",
       "3                    35.548                    0.0  ...                     4   \n",
       "4                    95.000                    0.0  ...                     4   \n",
       "...                     ...                    ...  ...                   ...   \n",
       "184204               97.000                    0.0  ...                     4   \n",
       "184205               80.000                    0.0  ...                     2   \n",
       "184206               85.000                    0.0  ...                     4   \n",
       "184207               70.000                    0.0  ...                     4   \n",
       "184208               84.000                    0.0  ...                     3   \n",
       "\n",
       "        applicant_age washington_dc  waco_tx  chicago_il  \\\n",
       "0                   3             0        0           0   \n",
       "1                   2             0        0           1   \n",
       "2                   3             1        0           0   \n",
       "3                   3             1        0           0   \n",
       "4                   2             0        0           0   \n",
       "...               ...           ...      ...         ...   \n",
       "184204              2             1        0           0   \n",
       "184205              3             1        0           0   \n",
       "184206              1             1        0           0   \n",
       "184207              2             0        0           1   \n",
       "184208              2             0        0           1   \n",
       "\n",
       "        log_loan_to_value_ratio  derived_income  derived_loan_to_value_ratio  \\\n",
       "0                      5.930737               5                            2   \n",
       "1                      6.285402               4                            2   \n",
       "2                      6.321928               5                            2   \n",
       "3                      5.151696               3                            2   \n",
       "4                      6.569856               4                            3   \n",
       "...                         ...             ...                          ...   \n",
       "184204                 6.599913               2                            4   \n",
       "184205                 6.321928               4                            2   \n",
       "184206                 6.409391               4                            3   \n",
       "184207                 6.129283               5                            2   \n",
       "184208                 6.392317               4                            3   \n",
       "\n",
       "        mid_debt_to_income_ratio  debt  \n",
       "0                            0.0   0.0  \n",
       "1                            0.0   0.0  \n",
       "2                            0.0   0.0  \n",
       "3                            0.0   0.0  \n",
       "4                            0.0   0.0  \n",
       "...                          ...   ...  \n",
       "184204                       0.0   0.0  \n",
       "184205                       0.0   0.0  \n",
       "184206                       0.0   0.0  \n",
       "184207                       0.0   0.0  \n",
       "184208                       0.0   0.0  \n",
       "\n",
       "[184209 rows x 22 columns]"
      ]
     },
     "execution_count": 188,
     "metadata": {},
     "output_type": "execute_result"
    }
   ],
   "source": [
    "df_cr"
   ]
  },
  {
   "cell_type": "code",
   "execution_count": 189,
   "id": "bb67e407",
   "metadata": {
    "scrolled": true
   },
   "outputs": [
    {
     "name": "stdout",
     "output_type": "stream",
     "text": [
      "<class 'pandas.core.frame.DataFrame'>\n",
      "RangeIndex: 184209 entries, 0 to 184208\n",
      "Data columns (total 22 columns):\n",
      " #   Column                       Non-Null Count   Dtype  \n",
      "---  ------                       --------------   -----  \n",
      " 0   is_not_hispanic              184209 non-null  object \n",
      " 1   derived_race                 184209 non-null  object \n",
      " 2   is_male                      184209 non-null  object \n",
      " 3   action_taken                 184209 non-null  int64  \n",
      " 4   preapproval_requested        184209 non-null  int64  \n",
      " 5   loan_type                    184209 non-null  int64  \n",
      " 6   loan_purpose                 184209 non-null  float64\n",
      " 7   loan_amount                  184209 non-null  float64\n",
      " 8   loan_to_value_ratio          184209 non-null  float64\n",
      " 9   interest_only_payment        184209 non-null  float64\n",
      " 10  balloon_payment              184209 non-null  int64  \n",
      " 11  income                       184209 non-null  float64\n",
      " 12  debt_to_income_ratio         184209 non-null  object \n",
      " 13  applicant_age                184209 non-null  int32  \n",
      " 14  washington_dc                184209 non-null  int64  \n",
      " 15  waco_tx                      184209 non-null  int64  \n",
      " 16  chicago_il                   184209 non-null  int64  \n",
      " 17  log_loan_to_value_ratio      184209 non-null  float64\n",
      " 18  derived_income               184209 non-null  int32  \n",
      " 19  derived_loan_to_value_ratio  184209 non-null  int32  \n",
      " 20  mid_debt_to_income_ratio     184209 non-null  float64\n",
      " 21  debt                         184209 non-null  float64\n",
      "dtypes: float64(8), int32(3), int64(7), object(4)\n",
      "memory usage: 28.8+ MB\n"
     ]
    }
   ],
   "source": [
    "df_cr.info()"
   ]
  },
  {
   "cell_type": "code",
   "execution_count": 191,
   "id": "28f1437f",
   "metadata": {},
   "outputs": [
    {
     "ename": "KeyError",
     "evalue": "\"['income', 'log_loan_to_value_ratio', 'mid_debt_to_income_ratio', 'debt', 'loan_amount'] not found in axis\"",
     "output_type": "error",
     "traceback": [
      "\u001b[1;31m---------------------------------------------------------------------------\u001b[0m",
      "\u001b[1;31mKeyError\u001b[0m                                  Traceback (most recent call last)",
      "Input \u001b[1;32mIn [191]\u001b[0m, in \u001b[0;36m<cell line: 1>\u001b[1;34m()\u001b[0m\n\u001b[1;32m----> 1\u001b[0m df_cr \u001b[38;5;241m=\u001b[39m \u001b[43mdf_cr\u001b[49m\u001b[38;5;241;43m.\u001b[39;49m\u001b[43mdrop\u001b[49m\u001b[43m(\u001b[49m\u001b[43mcolumns\u001b[49m\u001b[38;5;241;43m=\u001b[39;49m\u001b[43m[\u001b[49m\u001b[38;5;124;43m'\u001b[39;49m\u001b[38;5;124;43mincome\u001b[39;49m\u001b[38;5;124;43m'\u001b[39;49m\u001b[43m,\u001b[49m\u001b[38;5;124;43m'\u001b[39;49m\u001b[38;5;124;43mlog_loan_to_value_ratio\u001b[39;49m\u001b[38;5;124;43m'\u001b[39;49m\u001b[43m,\u001b[49m\u001b[43m \u001b[49m\u001b[38;5;124;43m'\u001b[39;49m\u001b[38;5;124;43mmid_debt_to_income_ratio\u001b[39;49m\u001b[38;5;124;43m'\u001b[39;49m\u001b[43m,\u001b[49m\u001b[43m \u001b[49m\u001b[38;5;124;43m'\u001b[39;49m\u001b[38;5;124;43mdebt\u001b[39;49m\u001b[38;5;124;43m'\u001b[39;49m\u001b[43m,\u001b[49m\u001b[43m \u001b[49m\u001b[38;5;124;43m'\u001b[39;49m\u001b[38;5;124;43mloan_amount\u001b[39;49m\u001b[38;5;124;43m'\u001b[39;49m\u001b[43m]\u001b[49m\u001b[43m)\u001b[49m\n",
      "File \u001b[1;32m~\\anaconda3\\lib\\site-packages\\pandas\\util\\_decorators.py:311\u001b[0m, in \u001b[0;36mdeprecate_nonkeyword_arguments.<locals>.decorate.<locals>.wrapper\u001b[1;34m(*args, **kwargs)\u001b[0m\n\u001b[0;32m    305\u001b[0m \u001b[38;5;28;01mif\u001b[39;00m \u001b[38;5;28mlen\u001b[39m(args) \u001b[38;5;241m>\u001b[39m num_allow_args:\n\u001b[0;32m    306\u001b[0m     warnings\u001b[38;5;241m.\u001b[39mwarn(\n\u001b[0;32m    307\u001b[0m         msg\u001b[38;5;241m.\u001b[39mformat(arguments\u001b[38;5;241m=\u001b[39marguments),\n\u001b[0;32m    308\u001b[0m         \u001b[38;5;167;01mFutureWarning\u001b[39;00m,\n\u001b[0;32m    309\u001b[0m         stacklevel\u001b[38;5;241m=\u001b[39mstacklevel,\n\u001b[0;32m    310\u001b[0m     )\n\u001b[1;32m--> 311\u001b[0m \u001b[38;5;28;01mreturn\u001b[39;00m func(\u001b[38;5;241m*\u001b[39margs, \u001b[38;5;241m*\u001b[39m\u001b[38;5;241m*\u001b[39mkwargs)\n",
      "File \u001b[1;32m~\\anaconda3\\lib\\site-packages\\pandas\\core\\frame.py:4954\u001b[0m, in \u001b[0;36mDataFrame.drop\u001b[1;34m(self, labels, axis, index, columns, level, inplace, errors)\u001b[0m\n\u001b[0;32m   4806\u001b[0m \u001b[38;5;129m@deprecate_nonkeyword_arguments\u001b[39m(version\u001b[38;5;241m=\u001b[39m\u001b[38;5;28;01mNone\u001b[39;00m, allowed_args\u001b[38;5;241m=\u001b[39m[\u001b[38;5;124m\"\u001b[39m\u001b[38;5;124mself\u001b[39m\u001b[38;5;124m\"\u001b[39m, \u001b[38;5;124m\"\u001b[39m\u001b[38;5;124mlabels\u001b[39m\u001b[38;5;124m\"\u001b[39m])\n\u001b[0;32m   4807\u001b[0m \u001b[38;5;28;01mdef\u001b[39;00m \u001b[38;5;21mdrop\u001b[39m(\n\u001b[0;32m   4808\u001b[0m     \u001b[38;5;28mself\u001b[39m,\n\u001b[1;32m   (...)\u001b[0m\n\u001b[0;32m   4815\u001b[0m     errors: \u001b[38;5;28mstr\u001b[39m \u001b[38;5;241m=\u001b[39m \u001b[38;5;124m\"\u001b[39m\u001b[38;5;124mraise\u001b[39m\u001b[38;5;124m\"\u001b[39m,\n\u001b[0;32m   4816\u001b[0m ):\n\u001b[0;32m   4817\u001b[0m     \u001b[38;5;124;03m\"\"\"\u001b[39;00m\n\u001b[0;32m   4818\u001b[0m \u001b[38;5;124;03m    Drop specified labels from rows or columns.\u001b[39;00m\n\u001b[0;32m   4819\u001b[0m \n\u001b[1;32m   (...)\u001b[0m\n\u001b[0;32m   4952\u001b[0m \u001b[38;5;124;03m            weight  1.0     0.8\u001b[39;00m\n\u001b[0;32m   4953\u001b[0m \u001b[38;5;124;03m    \"\"\"\u001b[39;00m\n\u001b[1;32m-> 4954\u001b[0m     \u001b[38;5;28;01mreturn\u001b[39;00m \u001b[38;5;28;43msuper\u001b[39;49m\u001b[43m(\u001b[49m\u001b[43m)\u001b[49m\u001b[38;5;241;43m.\u001b[39;49m\u001b[43mdrop\u001b[49m\u001b[43m(\u001b[49m\n\u001b[0;32m   4955\u001b[0m \u001b[43m        \u001b[49m\u001b[43mlabels\u001b[49m\u001b[38;5;241;43m=\u001b[39;49m\u001b[43mlabels\u001b[49m\u001b[43m,\u001b[49m\n\u001b[0;32m   4956\u001b[0m \u001b[43m        \u001b[49m\u001b[43maxis\u001b[49m\u001b[38;5;241;43m=\u001b[39;49m\u001b[43maxis\u001b[49m\u001b[43m,\u001b[49m\n\u001b[0;32m   4957\u001b[0m \u001b[43m        \u001b[49m\u001b[43mindex\u001b[49m\u001b[38;5;241;43m=\u001b[39;49m\u001b[43mindex\u001b[49m\u001b[43m,\u001b[49m\n\u001b[0;32m   4958\u001b[0m \u001b[43m        \u001b[49m\u001b[43mcolumns\u001b[49m\u001b[38;5;241;43m=\u001b[39;49m\u001b[43mcolumns\u001b[49m\u001b[43m,\u001b[49m\n\u001b[0;32m   4959\u001b[0m \u001b[43m        \u001b[49m\u001b[43mlevel\u001b[49m\u001b[38;5;241;43m=\u001b[39;49m\u001b[43mlevel\u001b[49m\u001b[43m,\u001b[49m\n\u001b[0;32m   4960\u001b[0m \u001b[43m        \u001b[49m\u001b[43minplace\u001b[49m\u001b[38;5;241;43m=\u001b[39;49m\u001b[43minplace\u001b[49m\u001b[43m,\u001b[49m\n\u001b[0;32m   4961\u001b[0m \u001b[43m        \u001b[49m\u001b[43merrors\u001b[49m\u001b[38;5;241;43m=\u001b[39;49m\u001b[43merrors\u001b[49m\u001b[43m,\u001b[49m\n\u001b[0;32m   4962\u001b[0m \u001b[43m    \u001b[49m\u001b[43m)\u001b[49m\n",
      "File \u001b[1;32m~\\anaconda3\\lib\\site-packages\\pandas\\core\\generic.py:4267\u001b[0m, in \u001b[0;36mNDFrame.drop\u001b[1;34m(self, labels, axis, index, columns, level, inplace, errors)\u001b[0m\n\u001b[0;32m   4265\u001b[0m \u001b[38;5;28;01mfor\u001b[39;00m axis, labels \u001b[38;5;129;01min\u001b[39;00m axes\u001b[38;5;241m.\u001b[39mitems():\n\u001b[0;32m   4266\u001b[0m     \u001b[38;5;28;01mif\u001b[39;00m labels \u001b[38;5;129;01mis\u001b[39;00m \u001b[38;5;129;01mnot\u001b[39;00m \u001b[38;5;28;01mNone\u001b[39;00m:\n\u001b[1;32m-> 4267\u001b[0m         obj \u001b[38;5;241m=\u001b[39m \u001b[43mobj\u001b[49m\u001b[38;5;241;43m.\u001b[39;49m\u001b[43m_drop_axis\u001b[49m\u001b[43m(\u001b[49m\u001b[43mlabels\u001b[49m\u001b[43m,\u001b[49m\u001b[43m \u001b[49m\u001b[43maxis\u001b[49m\u001b[43m,\u001b[49m\u001b[43m \u001b[49m\u001b[43mlevel\u001b[49m\u001b[38;5;241;43m=\u001b[39;49m\u001b[43mlevel\u001b[49m\u001b[43m,\u001b[49m\u001b[43m \u001b[49m\u001b[43merrors\u001b[49m\u001b[38;5;241;43m=\u001b[39;49m\u001b[43merrors\u001b[49m\u001b[43m)\u001b[49m\n\u001b[0;32m   4269\u001b[0m \u001b[38;5;28;01mif\u001b[39;00m inplace:\n\u001b[0;32m   4270\u001b[0m     \u001b[38;5;28mself\u001b[39m\u001b[38;5;241m.\u001b[39m_update_inplace(obj)\n",
      "File \u001b[1;32m~\\anaconda3\\lib\\site-packages\\pandas\\core\\generic.py:4311\u001b[0m, in \u001b[0;36mNDFrame._drop_axis\u001b[1;34m(self, labels, axis, level, errors, consolidate, only_slice)\u001b[0m\n\u001b[0;32m   4309\u001b[0m         new_axis \u001b[38;5;241m=\u001b[39m axis\u001b[38;5;241m.\u001b[39mdrop(labels, level\u001b[38;5;241m=\u001b[39mlevel, errors\u001b[38;5;241m=\u001b[39merrors)\n\u001b[0;32m   4310\u001b[0m     \u001b[38;5;28;01melse\u001b[39;00m:\n\u001b[1;32m-> 4311\u001b[0m         new_axis \u001b[38;5;241m=\u001b[39m \u001b[43maxis\u001b[49m\u001b[38;5;241;43m.\u001b[39;49m\u001b[43mdrop\u001b[49m\u001b[43m(\u001b[49m\u001b[43mlabels\u001b[49m\u001b[43m,\u001b[49m\u001b[43m \u001b[49m\u001b[43merrors\u001b[49m\u001b[38;5;241;43m=\u001b[39;49m\u001b[43merrors\u001b[49m\u001b[43m)\u001b[49m\n\u001b[0;32m   4312\u001b[0m     indexer \u001b[38;5;241m=\u001b[39m axis\u001b[38;5;241m.\u001b[39mget_indexer(new_axis)\n\u001b[0;32m   4314\u001b[0m \u001b[38;5;66;03m# Case for non-unique axis\u001b[39;00m\n\u001b[0;32m   4315\u001b[0m \u001b[38;5;28;01melse\u001b[39;00m:\n",
      "File \u001b[1;32m~\\anaconda3\\lib\\site-packages\\pandas\\core\\indexes\\base.py:6644\u001b[0m, in \u001b[0;36mIndex.drop\u001b[1;34m(self, labels, errors)\u001b[0m\n\u001b[0;32m   6642\u001b[0m \u001b[38;5;28;01mif\u001b[39;00m mask\u001b[38;5;241m.\u001b[39many():\n\u001b[0;32m   6643\u001b[0m     \u001b[38;5;28;01mif\u001b[39;00m errors \u001b[38;5;241m!=\u001b[39m \u001b[38;5;124m\"\u001b[39m\u001b[38;5;124mignore\u001b[39m\u001b[38;5;124m\"\u001b[39m:\n\u001b[1;32m-> 6644\u001b[0m         \u001b[38;5;28;01mraise\u001b[39;00m \u001b[38;5;167;01mKeyError\u001b[39;00m(\u001b[38;5;124mf\u001b[39m\u001b[38;5;124m\"\u001b[39m\u001b[38;5;132;01m{\u001b[39;00m\u001b[38;5;28mlist\u001b[39m(labels[mask])\u001b[38;5;132;01m}\u001b[39;00m\u001b[38;5;124m not found in axis\u001b[39m\u001b[38;5;124m\"\u001b[39m)\n\u001b[0;32m   6645\u001b[0m     indexer \u001b[38;5;241m=\u001b[39m indexer[\u001b[38;5;241m~\u001b[39mmask]\n\u001b[0;32m   6646\u001b[0m \u001b[38;5;28;01mreturn\u001b[39;00m \u001b[38;5;28mself\u001b[39m\u001b[38;5;241m.\u001b[39mdelete(indexer)\n",
      "\u001b[1;31mKeyError\u001b[0m: \"['income', 'log_loan_to_value_ratio', 'mid_debt_to_income_ratio', 'debt', 'loan_amount'] not found in axis\""
     ]
    }
   ],
   "source": [
    "df_cr = df_cr.drop(columns=['income','log_loan_to_value_ratio', 'mid_debt_to_income_ratio', 'debt', 'loan_amount'])"
   ]
  },
  {
   "cell_type": "code",
   "execution_count": 192,
   "id": "c52b842c",
   "metadata": {},
   "outputs": [],
   "source": [
    "df_cr.rename(columns={'derived_income': 'income'}, inplace=True)\n",
    "df_cr.rename(columns={'derived_race': 'race'}, inplace=True)\n",
    "df_cr.rename(columns={'is_not_hispanic': 'ethnicity'}, inplace=True)\n",
    "df_cr.rename(columns={'is_male': 'gender'}, inplace=True)\n",
    "df_cr.rename(columns={'applicant_age': 'age'}, inplace=True)"
   ]
  },
  {
   "cell_type": "code",
   "execution_count": 193,
   "id": "5178bc6c",
   "metadata": {
    "scrolled": true
   },
   "outputs": [
    {
     "name": "stdout",
     "output_type": "stream",
     "text": [
      "<class 'pandas.core.frame.DataFrame'>\n",
      "RangeIndex: 184209 entries, 0 to 184208\n",
      "Data columns (total 17 columns):\n",
      " #   Column                       Non-Null Count   Dtype  \n",
      "---  ------                       --------------   -----  \n",
      " 0   ethnicity                    184209 non-null  object \n",
      " 1   race                         184209 non-null  object \n",
      " 2   gender                       184209 non-null  object \n",
      " 3   action_taken                 184209 non-null  int64  \n",
      " 4   preapproval_requested        184209 non-null  int64  \n",
      " 5   loan_type                    184209 non-null  int64  \n",
      " 6   loan_purpose                 184209 non-null  float64\n",
      " 7   loan_to_value_ratio          184209 non-null  float64\n",
      " 8   interest_only_payment        184209 non-null  float64\n",
      " 9   balloon_payment              184209 non-null  int64  \n",
      " 10  debt_to_income_ratio         184209 non-null  object \n",
      " 11  age                          184209 non-null  int32  \n",
      " 12  washington_dc                184209 non-null  int64  \n",
      " 13  waco_tx                      184209 non-null  int64  \n",
      " 14  chicago_il                   184209 non-null  int64  \n",
      " 15  income                       184209 non-null  int32  \n",
      " 16  derived_loan_to_value_ratio  184209 non-null  int32  \n",
      "dtypes: float64(3), int32(3), int64(7), object(4)\n",
      "memory usage: 21.8+ MB\n"
     ]
    }
   ],
   "source": [
    "df_cr.info()"
   ]
  },
  {
   "cell_type": "code",
   "execution_count": null,
   "id": "c9aeba37",
   "metadata": {},
   "outputs": [],
   "source": [
    "# df_cr.to_csv('data/Fairlearn.csv', index = False)"
   ]
  },
  {
   "cell_type": "code",
   "execution_count": 194,
   "id": "0f9d459f",
   "metadata": {},
   "outputs": [
    {
     "name": "stdout",
     "output_type": "stream",
     "text": [
      "<class 'pandas.core.frame.DataFrame'>\n",
      "Int64Index: 78154 entries, 2 to 184206\n",
      "Data columns (total 14 columns):\n",
      " #   Column                       Non-Null Count  Dtype  \n",
      "---  ------                       --------------  -----  \n",
      " 0   ethnicity                    78154 non-null  object \n",
      " 1   race                         78154 non-null  object \n",
      " 2   gender                       78154 non-null  object \n",
      " 3   action_taken                 78154 non-null  int64  \n",
      " 4   preapproval_requested        78154 non-null  int64  \n",
      " 5   loan_type                    78154 non-null  int64  \n",
      " 6   loan_purpose                 78154 non-null  float64\n",
      " 7   loan_to_value_ratio          78154 non-null  float64\n",
      " 8   interest_only_payment        78154 non-null  float64\n",
      " 9   balloon_payment              78154 non-null  int64  \n",
      " 10  debt_to_income_ratio         78154 non-null  object \n",
      " 11  age                          78154 non-null  int32  \n",
      " 12  income                       78154 non-null  int32  \n",
      " 13  derived_loan_to_value_ratio  78154 non-null  int32  \n",
      "dtypes: float64(3), int32(3), int64(4), object(4)\n",
      "memory usage: 8.0+ MB\n"
     ]
    },
    {
     "name": "stderr",
     "output_type": "stream",
     "text": [
      "C:\\Users\\Xue Feng\\AppData\\Local\\Temp\\ipykernel_4484\\2916860739.py:2: SettingWithCopyWarning: \n",
      "A value is trying to be set on a copy of a slice from a DataFrame\n",
      "\n",
      "See the caveats in the documentation: https://pandas.pydata.org/pandas-docs/stable/user_guide/indexing.html#returning-a-view-versus-a-copy\n",
      "  df_dc.drop(['washington_dc', 'waco_tx', 'chicago_il'], axis=1, inplace=True)\n"
     ]
    }
   ],
   "source": [
    "df_dc = df_cr[df_cr['washington_dc'] == 1]\n",
    "df_dc.drop(['washington_dc', 'waco_tx', 'chicago_il'], axis=1, inplace=True)\n",
    "df_dc.info()"
   ]
  },
  {
   "cell_type": "code",
   "execution_count": 195,
   "id": "77fed528",
   "metadata": {},
   "outputs": [
    {
     "name": "stdout",
     "output_type": "stream",
     "text": [
      "<class 'pandas.core.frame.DataFrame'>\n",
      "Int64Index: 1749 entries, 28 to 180387\n",
      "Data columns (total 14 columns):\n",
      " #   Column                       Non-Null Count  Dtype  \n",
      "---  ------                       --------------  -----  \n",
      " 0   ethnicity                    1749 non-null   object \n",
      " 1   race                         1749 non-null   object \n",
      " 2   gender                       1749 non-null   object \n",
      " 3   action_taken                 1749 non-null   int64  \n",
      " 4   preapproval_requested        1749 non-null   int64  \n",
      " 5   loan_type                    1749 non-null   int64  \n",
      " 6   loan_purpose                 1749 non-null   float64\n",
      " 7   loan_to_value_ratio          1749 non-null   float64\n",
      " 8   interest_only_payment        1749 non-null   float64\n",
      " 9   balloon_payment              1749 non-null   int64  \n",
      " 10  debt_to_income_ratio         1749 non-null   object \n",
      " 11  age                          1749 non-null   int32  \n",
      " 12  income                       1749 non-null   int32  \n",
      " 13  derived_loan_to_value_ratio  1749 non-null   int32  \n",
      "dtypes: float64(3), int32(3), int64(4), object(4)\n",
      "memory usage: 184.5+ KB\n"
     ]
    },
    {
     "name": "stderr",
     "output_type": "stream",
     "text": [
      "C:\\Users\\Xue Feng\\AppData\\Local\\Temp\\ipykernel_4484\\2360310922.py:2: SettingWithCopyWarning: \n",
      "A value is trying to be set on a copy of a slice from a DataFrame\n",
      "\n",
      "See the caveats in the documentation: https://pandas.pydata.org/pandas-docs/stable/user_guide/indexing.html#returning-a-view-versus-a-copy\n",
      "  df_tx.drop(['washington_dc', 'waco_tx', 'chicago_il'], axis=1, inplace=True)\n"
     ]
    }
   ],
   "source": [
    "df_tx = df_cr[df_cr['waco_tx'] == 1]\n",
    "df_tx.drop(['washington_dc', 'waco_tx', 'chicago_il'], axis=1, inplace=True)\n",
    "df_tx.info()"
   ]
  },
  {
   "cell_type": "code",
   "execution_count": 196,
   "id": "37172964",
   "metadata": {},
   "outputs": [
    {
     "name": "stdout",
     "output_type": "stream",
     "text": [
      "<class 'pandas.core.frame.DataFrame'>\n",
      "Int64Index: 95874 entries, 1 to 184208\n",
      "Data columns (total 14 columns):\n",
      " #   Column                       Non-Null Count  Dtype  \n",
      "---  ------                       --------------  -----  \n",
      " 0   ethnicity                    95874 non-null  object \n",
      " 1   race                         95874 non-null  object \n",
      " 2   gender                       95874 non-null  object \n",
      " 3   action_taken                 95874 non-null  int64  \n",
      " 4   preapproval_requested        95874 non-null  int64  \n",
      " 5   loan_type                    95874 non-null  int64  \n",
      " 6   loan_purpose                 95874 non-null  float64\n",
      " 7   loan_to_value_ratio          95874 non-null  float64\n",
      " 8   interest_only_payment        95874 non-null  float64\n",
      " 9   balloon_payment              95874 non-null  int64  \n",
      " 10  debt_to_income_ratio         95874 non-null  object \n",
      " 11  age                          95874 non-null  int32  \n",
      " 12  income                       95874 non-null  int32  \n",
      " 13  derived_loan_to_value_ratio  95874 non-null  int32  \n",
      "dtypes: float64(3), int32(3), int64(4), object(4)\n",
      "memory usage: 9.9+ MB\n"
     ]
    },
    {
     "name": "stderr",
     "output_type": "stream",
     "text": [
      "C:\\Users\\Xue Feng\\AppData\\Local\\Temp\\ipykernel_4484\\4136729589.py:2: SettingWithCopyWarning: \n",
      "A value is trying to be set on a copy of a slice from a DataFrame\n",
      "\n",
      "See the caveats in the documentation: https://pandas.pydata.org/pandas-docs/stable/user_guide/indexing.html#returning-a-view-versus-a-copy\n",
      "  df_il.drop(['washington_dc', 'waco_tx', 'chicago_il'], axis=1, inplace=True)\n"
     ]
    }
   ],
   "source": [
    "df_il = df_cr[df_cr['chicago_il'] == 1]\n",
    "df_il.drop(['washington_dc', 'waco_tx', 'chicago_il'], axis=1, inplace=True)\n",
    "df_il.info()"
   ]
  },
  {
   "cell_type": "code",
   "execution_count": 197,
   "id": "9ace4202",
   "metadata": {},
   "outputs": [
    {
     "name": "stdout",
     "output_type": "stream",
     "text": [
      "<class 'pandas.core.frame.DataFrame'>\n",
      "Int64Index: 8432 entries, 0 to 184201\n",
      "Data columns (total 14 columns):\n",
      " #   Column                       Non-Null Count  Dtype  \n",
      "---  ------                       --------------  -----  \n",
      " 0   ethnicity                    8432 non-null   object \n",
      " 1   race                         8432 non-null   object \n",
      " 2   gender                       8432 non-null   object \n",
      " 3   action_taken                 8432 non-null   int64  \n",
      " 4   preapproval_requested        8432 non-null   int64  \n",
      " 5   loan_type                    8432 non-null   int64  \n",
      " 6   loan_purpose                 8432 non-null   float64\n",
      " 7   loan_to_value_ratio          8432 non-null   float64\n",
      " 8   interest_only_payment        8432 non-null   float64\n",
      " 9   balloon_payment              8432 non-null   int64  \n",
      " 10  debt_to_income_ratio         8432 non-null   object \n",
      " 11  age                          8432 non-null   int32  \n",
      " 12  income                       8432 non-null   int32  \n",
      " 13  derived_loan_to_value_ratio  8432 non-null   int32  \n",
      "dtypes: float64(3), int32(3), int64(4), object(4)\n",
      "memory usage: 889.3+ KB\n"
     ]
    },
    {
     "name": "stderr",
     "output_type": "stream",
     "text": [
      "C:\\Users\\Xue Feng\\AppData\\Local\\Temp\\ipykernel_4484\\4017032567.py:3: SettingWithCopyWarning: \n",
      "A value is trying to be set on a copy of a slice from a DataFrame\n",
      "\n",
      "See the caveats in the documentation: https://pandas.pydata.org/pandas-docs/stable/user_guide/indexing.html#returning-a-view-versus-a-copy\n",
      "  df_fl.drop(['washington_dc', 'waco_tx', 'chicago_il'], axis=1, inplace=True)\n"
     ]
    }
   ],
   "source": [
    "# FL Dataset\n",
    "df_fl = df_cr[(df_cr['chicago_il'] == 0) & (df_cr['waco_tx'] == 0) & (df_cr['washington_dc'] == 0)]\n",
    "df_fl.drop(['washington_dc', 'waco_tx', 'chicago_il'], axis=1, inplace=True)\n",
    "df_fl.info()"
   ]
  },
  {
   "cell_type": "code",
   "execution_count": 198,
   "id": "f1b42a5e",
   "metadata": {},
   "outputs": [],
   "source": [
    "df_dc.to_csv('data/Fairlearn_DC.csv', index = False)\n",
    "df_tx.to_csv('data/Fairlearn_TX_Waco.csv', index = False)\n",
    "df_il.to_csv('data/Fairlearn_IL_Chicago.csv', index = False)\n",
    "df_fl.to_csv('data/Fairlearn_FL_PortSL.csv', index = False)"
   ]
  },
  {
   "cell_type": "code",
   "execution_count": null,
   "id": "5584ef04",
   "metadata": {},
   "outputs": [],
   "source": []
  }
 ],
 "metadata": {
  "kernelspec": {
   "display_name": "Python 3 (ipykernel)",
   "language": "python",
   "name": "python3"
  },
  "language_info": {
   "codemirror_mode": {
    "name": "ipython",
    "version": 3
   },
   "file_extension": ".py",
   "mimetype": "text/x-python",
   "name": "python",
   "nbconvert_exporter": "python",
   "pygments_lexer": "ipython3",
   "version": "3.9.12"
  }
 },
 "nbformat": 4,
 "nbformat_minor": 5
}
